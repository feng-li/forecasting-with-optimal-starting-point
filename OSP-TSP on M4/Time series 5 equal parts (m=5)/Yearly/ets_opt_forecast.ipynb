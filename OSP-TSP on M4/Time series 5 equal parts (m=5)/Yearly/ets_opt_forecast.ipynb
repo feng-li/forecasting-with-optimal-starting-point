{
 "cells": [
  {
   "cell_type": "code",
   "execution_count": 1,
   "id": "b7bfc5e1",
   "metadata": {},
   "outputs": [
    {
     "name": "stderr",
     "output_type": "stream",
     "text": [
      "\n",
      "Attaching package: ‘lightgbm’\n",
      "\n",
      "\n",
      "The following object is masked from ‘package:xgboost’:\n",
      "\n",
      "    slice\n",
      "\n",
      "\n"
     ]
    }
   ],
   "source": [
    "library(\"xgboost\")\n",
    "library(\"Matrix\")\n",
    "library('Ckmeans.1d.dp')\n",
    "library('lightgbm')\n"
   ]
  },
  {
   "cell_type": "markdown",
   "id": "eca8ca4e",
   "metadata": {},
   "source": [
    "## Read data and process data labels"
   ]
  },
  {
   "cell_type": "code",
   "execution_count": 2,
   "id": "f782eac0",
   "metadata": {},
   "outputs": [],
   "source": [
    "time_matrix <- matrix(0,ncol = 3, nrow =4)\n",
    "colnames(time_matrix) <- c(\"user_time\", \"system_time\", \"elapsed_time\")\n",
    "start_time = Sys.time()"
   ]
  },
  {
   "cell_type": "code",
   "execution_count": 3,
   "id": "cf7fc122",
   "metadata": {},
   "outputs": [],
   "source": [
    "data=read.csv('Yearly_features_matrix.csv')\n",
    "data=data[,2:(dim(data)[2]-6)]"
   ]
  },
  {
   "cell_type": "code",
   "execution_count": 4,
   "id": "a1b0c2d2",
   "metadata": {},
   "outputs": [
    {
     "data": {
      "text/html": [
       "<style>\n",
       ".list-inline {list-style: none; margin:0; padding: 0}\n",
       ".list-inline>li {display: inline-block}\n",
       ".list-inline>li:not(:last-child)::after {content: \"\\00b7\"; padding: 0 .5ex}\n",
       "</style>\n",
       "<ol class=list-inline><li>23000</li><li>17</li></ol>\n"
      ],
      "text/latex": [
       "\\begin{enumerate*}\n",
       "\\item 23000\n",
       "\\item 17\n",
       "\\end{enumerate*}\n"
      ],
      "text/markdown": [
       "1. 23000\n",
       "2. 17\n",
       "\n",
       "\n"
      ],
      "text/plain": [
       "[1] 23000    17"
      ]
     },
     "metadata": {},
     "output_type": "display_data"
    }
   ],
   "source": [
    "dim(data)"
   ]
  },
  {
   "cell_type": "code",
   "execution_count": 5,
   "id": "7c8a54a6",
   "metadata": {},
   "outputs": [
    {
     "data": {
      "text/html": [
       "<table class=\"dataframe\">\n",
       "<caption>A data.frame: 6 × 17</caption>\n",
       "<thead>\n",
       "\t<tr><th></th><th scope=col>frequency</th><th scope=col>nperiods</th><th scope=col>seasonal_period</th><th scope=col>trend</th><th scope=col>spike</th><th scope=col>linearity</th><th scope=col>curvature</th><th scope=col>e_acf1</th><th scope=col>e_acf10</th><th scope=col>entropy</th><th scope=col>x_acf1</th><th scope=col>x_acf10</th><th scope=col>diff1_acf1</th><th scope=col>diff1_acf10</th><th scope=col>diff2_acf1</th><th scope=col>diff2_acf10</th><th scope=col>length</th></tr>\n",
       "\t<tr><th></th><th scope=col>&lt;int&gt;</th><th scope=col>&lt;int&gt;</th><th scope=col>&lt;int&gt;</th><th scope=col>&lt;dbl&gt;</th><th scope=col>&lt;dbl&gt;</th><th scope=col>&lt;dbl&gt;</th><th scope=col>&lt;dbl&gt;</th><th scope=col>&lt;dbl&gt;</th><th scope=col>&lt;dbl&gt;</th><th scope=col>&lt;dbl&gt;</th><th scope=col>&lt;dbl&gt;</th><th scope=col>&lt;dbl&gt;</th><th scope=col>&lt;dbl&gt;</th><th scope=col>&lt;dbl&gt;</th><th scope=col>&lt;dbl&gt;</th><th scope=col>&lt;dbl&gt;</th><th scope=col>&lt;int&gt;</th></tr>\n",
       "</thead>\n",
       "<tbody>\n",
       "\t<tr><th scope=row>1</th><td>1</td><td>0</td><td>1</td><td>0.9903832</td><td>1.535759e-07</td><td> 5.174030</td><td>-0.94405361</td><td> 0.47491778</td><td>0.6782989</td><td>0.3751645</td><td>0.9361374</td><td>3.2285135</td><td> 0.39993885</td><td>0.28707837</td><td>-0.1820491</td><td>0.22316867</td><td>31</td></tr>\n",
       "\t<tr><th scope=row>2</th><td>1</td><td>0</td><td>1</td><td>0.7455956</td><td>1.919834e-04</td><td>-2.797630</td><td> 2.13419228</td><td> 0.27486845</td><td>0.4580795</td><td>0.8010614</td><td>0.7084840</td><td>0.8208482</td><td> 0.12753274</td><td>0.22214291</td><td>-0.3185895</td><td>0.37163112</td><td>31</td></tr>\n",
       "\t<tr><th scope=row>3</th><td>1</td><td>0</td><td>1</td><td>0.9993711</td><td>1.038094e-09</td><td> 5.497375</td><td>-0.01972653</td><td> 0.20035534</td><td>0.4491332</td><td>0.3055037</td><td>0.8966488</td><td>2.9734257</td><td>-0.17814744</td><td>0.37277176</td><td>-0.6280637</td><td>1.00110959</td><td>31</td></tr>\n",
       "\t<tr><th scope=row>4</th><td>1</td><td>0</td><td>1</td><td>0.9991043</td><td>5.484677e-09</td><td> 5.514672</td><td>-0.12400209</td><td>-0.18881555</td><td>0.3260450</td><td>0.3087948</td><td>0.8904246</td><td>2.8852573</td><td>-0.45891796</td><td>0.60342537</td><td>-0.7758825</td><td>1.24511944</td><td>31</td></tr>\n",
       "\t<tr><th scope=row>5</th><td>1</td><td>0</td><td>1</td><td>0.9941526</td><td>1.000137e-07</td><td> 5.421624</td><td> 0.72042474</td><td> 0.15921568</td><td>0.4025341</td><td>0.3435267</td><td>0.8685223</td><td>2.4451391</td><td> 0.02494266</td><td>0.16237458</td><td>-0.5492186</td><td>0.61790122</td><td>31</td></tr>\n",
       "\t<tr><th scope=row>6</th><td>1</td><td>0</td><td>1</td><td>0.9642112</td><td>2.683180e-05</td><td> 4.078327</td><td> 0.73445937</td><td> 0.02824047</td><td>0.1412002</td><td>0.5294464</td><td>0.7107351</td><td>1.3317587</td><td> 0.22505892</td><td>0.08313085</td><td> 0.1296658</td><td>0.09734006</td><td>19</td></tr>\n",
       "</tbody>\n",
       "</table>\n"
      ],
      "text/latex": [
       "A data.frame: 6 × 17\n",
       "\\begin{tabular}{r|lllllllllllllllll}\n",
       "  & frequency & nperiods & seasonal\\_period & trend & spike & linearity & curvature & e\\_acf1 & e\\_acf10 & entropy & x\\_acf1 & x\\_acf10 & diff1\\_acf1 & diff1\\_acf10 & diff2\\_acf1 & diff2\\_acf10 & length\\\\\n",
       "  & <int> & <int> & <int> & <dbl> & <dbl> & <dbl> & <dbl> & <dbl> & <dbl> & <dbl> & <dbl> & <dbl> & <dbl> & <dbl> & <dbl> & <dbl> & <int>\\\\\n",
       "\\hline\n",
       "\t1 & 1 & 0 & 1 & 0.9903832 & 1.535759e-07 &  5.174030 & -0.94405361 &  0.47491778 & 0.6782989 & 0.3751645 & 0.9361374 & 3.2285135 &  0.39993885 & 0.28707837 & -0.1820491 & 0.22316867 & 31\\\\\n",
       "\t2 & 1 & 0 & 1 & 0.7455956 & 1.919834e-04 & -2.797630 &  2.13419228 &  0.27486845 & 0.4580795 & 0.8010614 & 0.7084840 & 0.8208482 &  0.12753274 & 0.22214291 & -0.3185895 & 0.37163112 & 31\\\\\n",
       "\t3 & 1 & 0 & 1 & 0.9993711 & 1.038094e-09 &  5.497375 & -0.01972653 &  0.20035534 & 0.4491332 & 0.3055037 & 0.8966488 & 2.9734257 & -0.17814744 & 0.37277176 & -0.6280637 & 1.00110959 & 31\\\\\n",
       "\t4 & 1 & 0 & 1 & 0.9991043 & 5.484677e-09 &  5.514672 & -0.12400209 & -0.18881555 & 0.3260450 & 0.3087948 & 0.8904246 & 2.8852573 & -0.45891796 & 0.60342537 & -0.7758825 & 1.24511944 & 31\\\\\n",
       "\t5 & 1 & 0 & 1 & 0.9941526 & 1.000137e-07 &  5.421624 &  0.72042474 &  0.15921568 & 0.4025341 & 0.3435267 & 0.8685223 & 2.4451391 &  0.02494266 & 0.16237458 & -0.5492186 & 0.61790122 & 31\\\\\n",
       "\t6 & 1 & 0 & 1 & 0.9642112 & 2.683180e-05 &  4.078327 &  0.73445937 &  0.02824047 & 0.1412002 & 0.5294464 & 0.7107351 & 1.3317587 &  0.22505892 & 0.08313085 &  0.1296658 & 0.09734006 & 19\\\\\n",
       "\\end{tabular}\n"
      ],
      "text/markdown": [
       "\n",
       "A data.frame: 6 × 17\n",
       "\n",
       "| <!--/--> | frequency &lt;int&gt; | nperiods &lt;int&gt; | seasonal_period &lt;int&gt; | trend &lt;dbl&gt; | spike &lt;dbl&gt; | linearity &lt;dbl&gt; | curvature &lt;dbl&gt; | e_acf1 &lt;dbl&gt; | e_acf10 &lt;dbl&gt; | entropy &lt;dbl&gt; | x_acf1 &lt;dbl&gt; | x_acf10 &lt;dbl&gt; | diff1_acf1 &lt;dbl&gt; | diff1_acf10 &lt;dbl&gt; | diff2_acf1 &lt;dbl&gt; | diff2_acf10 &lt;dbl&gt; | length &lt;int&gt; |\n",
       "|---|---|---|---|---|---|---|---|---|---|---|---|---|---|---|---|---|---|\n",
       "| 1 | 1 | 0 | 1 | 0.9903832 | 1.535759e-07 |  5.174030 | -0.94405361 |  0.47491778 | 0.6782989 | 0.3751645 | 0.9361374 | 3.2285135 |  0.39993885 | 0.28707837 | -0.1820491 | 0.22316867 | 31 |\n",
       "| 2 | 1 | 0 | 1 | 0.7455956 | 1.919834e-04 | -2.797630 |  2.13419228 |  0.27486845 | 0.4580795 | 0.8010614 | 0.7084840 | 0.8208482 |  0.12753274 | 0.22214291 | -0.3185895 | 0.37163112 | 31 |\n",
       "| 3 | 1 | 0 | 1 | 0.9993711 | 1.038094e-09 |  5.497375 | -0.01972653 |  0.20035534 | 0.4491332 | 0.3055037 | 0.8966488 | 2.9734257 | -0.17814744 | 0.37277176 | -0.6280637 | 1.00110959 | 31 |\n",
       "| 4 | 1 | 0 | 1 | 0.9991043 | 5.484677e-09 |  5.514672 | -0.12400209 | -0.18881555 | 0.3260450 | 0.3087948 | 0.8904246 | 2.8852573 | -0.45891796 | 0.60342537 | -0.7758825 | 1.24511944 | 31 |\n",
       "| 5 | 1 | 0 | 1 | 0.9941526 | 1.000137e-07 |  5.421624 |  0.72042474 |  0.15921568 | 0.4025341 | 0.3435267 | 0.8685223 | 2.4451391 |  0.02494266 | 0.16237458 | -0.5492186 | 0.61790122 | 31 |\n",
       "| 6 | 1 | 0 | 1 | 0.9642112 | 2.683180e-05 |  4.078327 |  0.73445937 |  0.02824047 | 0.1412002 | 0.5294464 | 0.7107351 | 1.3317587 |  0.22505892 | 0.08313085 |  0.1296658 | 0.09734006 | 19 |\n",
       "\n"
      ],
      "text/plain": [
       "  frequency nperiods seasonal_period trend     spike        linearity\n",
       "1 1         0        1               0.9903832 1.535759e-07  5.174030\n",
       "2 1         0        1               0.7455956 1.919834e-04 -2.797630\n",
       "3 1         0        1               0.9993711 1.038094e-09  5.497375\n",
       "4 1         0        1               0.9991043 5.484677e-09  5.514672\n",
       "5 1         0        1               0.9941526 1.000137e-07  5.421624\n",
       "6 1         0        1               0.9642112 2.683180e-05  4.078327\n",
       "  curvature   e_acf1      e_acf10   entropy   x_acf1    x_acf10   diff1_acf1 \n",
       "1 -0.94405361  0.47491778 0.6782989 0.3751645 0.9361374 3.2285135  0.39993885\n",
       "2  2.13419228  0.27486845 0.4580795 0.8010614 0.7084840 0.8208482  0.12753274\n",
       "3 -0.01972653  0.20035534 0.4491332 0.3055037 0.8966488 2.9734257 -0.17814744\n",
       "4 -0.12400209 -0.18881555 0.3260450 0.3087948 0.8904246 2.8852573 -0.45891796\n",
       "5  0.72042474  0.15921568 0.4025341 0.3435267 0.8685223 2.4451391  0.02494266\n",
       "6  0.73445937  0.02824047 0.1412002 0.5294464 0.7107351 1.3317587  0.22505892\n",
       "  diff1_acf10 diff2_acf1 diff2_acf10 length\n",
       "1 0.28707837  -0.1820491 0.22316867  31    \n",
       "2 0.22214291  -0.3185895 0.37163112  31    \n",
       "3 0.37277176  -0.6280637 1.00110959  31    \n",
       "4 0.60342537  -0.7758825 1.24511944  31    \n",
       "5 0.16237458  -0.5492186 0.61790122  31    \n",
       "6 0.08313085   0.1296658 0.09734006  19    "
      ]
     },
     "metadata": {},
     "output_type": "display_data"
    }
   ],
   "source": [
    "head(data)"
   ]
  },
  {
   "cell_type": "code",
   "execution_count": 6,
   "id": "d6503e30",
   "metadata": {},
   "outputs": [],
   "source": [
    "dlist= load('year_ets_datalist.RData')\n",
    "datalist=eval(parse(text = dlist ))\n",
    "res=datalist[[1]]\n",
    "MASE=res[,,,6]\n",
    "m=5"
   ]
  },
  {
   "cell_type": "code",
   "execution_count": 7,
   "id": "b828ed4f",
   "metadata": {},
   "outputs": [
    {
     "data": {
      "text/html": [
       "<style>\n",
       ".list-inline {list-style: none; margin:0; padding: 0}\n",
       ".list-inline>li {display: inline-block}\n",
       ".list-inline>li:not(:last-child)::after {content: \"\\00b7\"; padding: 0 .5ex}\n",
       "</style>\n",
       "<ol class=list-inline><li>23000</li><li>5</li><li>4</li></ol>\n"
      ],
      "text/latex": [
       "\\begin{enumerate*}\n",
       "\\item 23000\n",
       "\\item 5\n",
       "\\item 4\n",
       "\\end{enumerate*}\n"
      ],
      "text/markdown": [
       "1. 23000\n",
       "2. 5\n",
       "3. 4\n",
       "\n",
       "\n"
      ],
      "text/plain": [
       "[1] 23000     5     4"
      ]
     },
     "metadata": {},
     "output_type": "display_data"
    }
   ],
   "source": [
    "dim(MASE)"
   ]
  },
  {
   "cell_type": "code",
   "execution_count": 8,
   "id": "f258dd81",
   "metadata": {},
   "outputs": [],
   "source": [
    "whichmin<-function(x){\n",
    "    minx=min(x[x>0])\n",
    "    loc=which(x==minx)[1]-1\n",
    "    loc\n",
    "}\n",
    "\n",
    "meanunique=function(x)\n",
    "    {\n",
    "    mean(unique(x))\n",
    "}"
   ]
  },
  {
   "cell_type": "code",
   "execution_count": 9,
   "id": "fd7d07b2",
   "metadata": {},
   "outputs": [],
   "source": [
    "nanum=c()\n",
    "for(i in seq(1,dim(MASE)[1]))\n",
    "    {\n",
    "    count=MASE[i,,]\n",
    "    a=apply(count,1,min)\n",
    "    if(sum(is.na(a))>0)\n",
    "        {\n",
    "        nanum=append(nanum,i)\n",
    "    }\n",
    "    }"
   ]
  },
  {
   "cell_type": "code",
   "execution_count": 10,
   "id": "d1b583f8",
   "metadata": {},
   "outputs": [
    {
     "data": {
      "text/plain": [
       "NULL"
      ]
     },
     "metadata": {},
     "output_type": "display_data"
    }
   ],
   "source": [
    "nanum"
   ]
  },
  {
   "cell_type": "code",
   "execution_count": 11,
   "id": "38395a71",
   "metadata": {},
   "outputs": [],
   "source": [
    "realbestmin=matrix(0,dim(MASE)[1],1)\n",
    "for(i in seq(1,dim(MASE)[1]))\n",
    "    {\n",
    "    count=MASE[i,,]\n",
    "    min_value=apply(count,1,min)\n",
    "    if (max(min_value,na.rm = TRUE)==0){\n",
    "        realbestmin[i,]=0\n",
    "        }\n",
    "    else\n",
    "        {\n",
    "        min_value[is.na(min_value)]=100 \n",
    "        realbestmin[i,]= whichmin(min_value)\n",
    "    }\n",
    "    }"
   ]
  },
  {
   "cell_type": "code",
   "execution_count": null,
   "id": "1e429868",
   "metadata": {
    "scrolled": true
   },
   "outputs": [],
   "source": []
  },
  {
   "cell_type": "code",
   "execution_count": 12,
   "id": "60f3031b",
   "metadata": {},
   "outputs": [
    {
     "data": {
      "text/plain": [
       "realbestmin\n",
       "    0     1     2     3     4 \n",
       " 3006  2393  2940  4290 10371 "
      ]
     },
     "metadata": {},
     "output_type": "display_data"
    }
   ],
   "source": [
    "table(realbestmin)"
   ]
  },
  {
   "cell_type": "code",
   "execution_count": null,
   "id": "689c70b2",
   "metadata": {},
   "outputs": [],
   "source": []
  },
  {
   "cell_type": "code",
   "execution_count": 13,
   "id": "6ef393b8",
   "metadata": {},
   "outputs": [],
   "source": [
    "realbestmean=matrix(0,dim(MASE)[1],1)\n",
    "for(i in seq(1,dim(MASE)[1]))\n",
    "    {\n",
    "    count=MASE[i,,]\n",
    "    mean_value=apply(count,1,meanunique)\n",
    "    if (max(mean_value,na.rm = TRUE)==0){\n",
    "        realbestmean[i,]=0\n",
    "        }\n",
    "    else\n",
    "        {\n",
    "        mean_value[is.na(mean_value)]=100 \n",
    "        realbestmean[i,]= whichmin(mean_value)\n",
    "    }\n",
    "    }"
   ]
  },
  {
   "cell_type": "code",
   "execution_count": 14,
   "id": "9015e0a2",
   "metadata": {
    "scrolled": true
   },
   "outputs": [
    {
     "data": {
      "text/html": [
       "<table class=\"dataframe\">\n",
       "<caption>A matrix: 23000 × 1 of type dbl</caption>\n",
       "<tbody>\n",
       "\t<tr><td>3</td></tr>\n",
       "\t<tr><td>2</td></tr>\n",
       "\t<tr><td>1</td></tr>\n",
       "\t<tr><td>3</td></tr>\n",
       "\t<tr><td>2</td></tr>\n",
       "\t<tr><td>3</td></tr>\n",
       "\t<tr><td>3</td></tr>\n",
       "\t<tr><td>1</td></tr>\n",
       "\t<tr><td>2</td></tr>\n",
       "\t<tr><td>3</td></tr>\n",
       "\t<tr><td>0</td></tr>\n",
       "\t<tr><td>2</td></tr>\n",
       "\t<tr><td>4</td></tr>\n",
       "\t<tr><td>1</td></tr>\n",
       "\t<tr><td>1</td></tr>\n",
       "\t<tr><td>4</td></tr>\n",
       "\t<tr><td>1</td></tr>\n",
       "\t<tr><td>4</td></tr>\n",
       "\t<tr><td>3</td></tr>\n",
       "\t<tr><td>4</td></tr>\n",
       "\t<tr><td>3</td></tr>\n",
       "\t<tr><td>3</td></tr>\n",
       "\t<tr><td>3</td></tr>\n",
       "\t<tr><td>3</td></tr>\n",
       "\t<tr><td>3</td></tr>\n",
       "\t<tr><td>3</td></tr>\n",
       "\t<tr><td>3</td></tr>\n",
       "\t<tr><td>3</td></tr>\n",
       "\t<tr><td>3</td></tr>\n",
       "\t<tr><td>3</td></tr>\n",
       "\t<tr><td>⋮</td></tr>\n",
       "\t<tr><td>2</td></tr>\n",
       "\t<tr><td>2</td></tr>\n",
       "\t<tr><td>2</td></tr>\n",
       "\t<tr><td>1</td></tr>\n",
       "\t<tr><td>4</td></tr>\n",
       "\t<tr><td>1</td></tr>\n",
       "\t<tr><td>3</td></tr>\n",
       "\t<tr><td>0</td></tr>\n",
       "\t<tr><td>0</td></tr>\n",
       "\t<tr><td>1</td></tr>\n",
       "\t<tr><td>0</td></tr>\n",
       "\t<tr><td>0</td></tr>\n",
       "\t<tr><td>0</td></tr>\n",
       "\t<tr><td>0</td></tr>\n",
       "\t<tr><td>0</td></tr>\n",
       "\t<tr><td>0</td></tr>\n",
       "\t<tr><td>4</td></tr>\n",
       "\t<tr><td>4</td></tr>\n",
       "\t<tr><td>0</td></tr>\n",
       "\t<tr><td>4</td></tr>\n",
       "\t<tr><td>4</td></tr>\n",
       "\t<tr><td>4</td></tr>\n",
       "\t<tr><td>2</td></tr>\n",
       "\t<tr><td>4</td></tr>\n",
       "\t<tr><td>2</td></tr>\n",
       "\t<tr><td>4</td></tr>\n",
       "\t<tr><td>0</td></tr>\n",
       "\t<tr><td>3</td></tr>\n",
       "\t<tr><td>4</td></tr>\n",
       "\t<tr><td>4</td></tr>\n",
       "</tbody>\n",
       "</table>\n"
      ],
      "text/latex": [
       "A matrix: 23000 × 1 of type dbl\n",
       "\\begin{tabular}{l}\n",
       "\t 3\\\\\n",
       "\t 2\\\\\n",
       "\t 1\\\\\n",
       "\t 3\\\\\n",
       "\t 2\\\\\n",
       "\t 3\\\\\n",
       "\t 3\\\\\n",
       "\t 1\\\\\n",
       "\t 2\\\\\n",
       "\t 3\\\\\n",
       "\t 0\\\\\n",
       "\t 2\\\\\n",
       "\t 4\\\\\n",
       "\t 1\\\\\n",
       "\t 1\\\\\n",
       "\t 4\\\\\n",
       "\t 1\\\\\n",
       "\t 4\\\\\n",
       "\t 3\\\\\n",
       "\t 4\\\\\n",
       "\t 3\\\\\n",
       "\t 3\\\\\n",
       "\t 3\\\\\n",
       "\t 3\\\\\n",
       "\t 3\\\\\n",
       "\t 3\\\\\n",
       "\t 3\\\\\n",
       "\t 3\\\\\n",
       "\t 3\\\\\n",
       "\t 3\\\\\n",
       "\t ⋮\\\\\n",
       "\t 2\\\\\n",
       "\t 2\\\\\n",
       "\t 2\\\\\n",
       "\t 1\\\\\n",
       "\t 4\\\\\n",
       "\t 1\\\\\n",
       "\t 3\\\\\n",
       "\t 0\\\\\n",
       "\t 0\\\\\n",
       "\t 1\\\\\n",
       "\t 0\\\\\n",
       "\t 0\\\\\n",
       "\t 0\\\\\n",
       "\t 0\\\\\n",
       "\t 0\\\\\n",
       "\t 0\\\\\n",
       "\t 4\\\\\n",
       "\t 4\\\\\n",
       "\t 0\\\\\n",
       "\t 4\\\\\n",
       "\t 4\\\\\n",
       "\t 4\\\\\n",
       "\t 2\\\\\n",
       "\t 4\\\\\n",
       "\t 2\\\\\n",
       "\t 4\\\\\n",
       "\t 0\\\\\n",
       "\t 3\\\\\n",
       "\t 4\\\\\n",
       "\t 4\\\\\n",
       "\\end{tabular}\n"
      ],
      "text/markdown": [
       "\n",
       "A matrix: 23000 × 1 of type dbl\n",
       "\n",
       "| 3 |\n",
       "| 2 |\n",
       "| 1 |\n",
       "| 3 |\n",
       "| 2 |\n",
       "| 3 |\n",
       "| 3 |\n",
       "| 1 |\n",
       "| 2 |\n",
       "| 3 |\n",
       "| 0 |\n",
       "| 2 |\n",
       "| 4 |\n",
       "| 1 |\n",
       "| 1 |\n",
       "| 4 |\n",
       "| 1 |\n",
       "| 4 |\n",
       "| 3 |\n",
       "| 4 |\n",
       "| 3 |\n",
       "| 3 |\n",
       "| 3 |\n",
       "| 3 |\n",
       "| 3 |\n",
       "| 3 |\n",
       "| 3 |\n",
       "| 3 |\n",
       "| 3 |\n",
       "| 3 |\n",
       "| ⋮ |\n",
       "| 2 |\n",
       "| 2 |\n",
       "| 2 |\n",
       "| 1 |\n",
       "| 4 |\n",
       "| 1 |\n",
       "| 3 |\n",
       "| 0 |\n",
       "| 0 |\n",
       "| 1 |\n",
       "| 0 |\n",
       "| 0 |\n",
       "| 0 |\n",
       "| 0 |\n",
       "| 0 |\n",
       "| 0 |\n",
       "| 4 |\n",
       "| 4 |\n",
       "| 0 |\n",
       "| 4 |\n",
       "| 4 |\n",
       "| 4 |\n",
       "| 2 |\n",
       "| 4 |\n",
       "| 2 |\n",
       "| 4 |\n",
       "| 0 |\n",
       "| 3 |\n",
       "| 4 |\n",
       "| 4 |\n",
       "\n"
      ],
      "text/plain": [
       "      [,1]\n",
       " [1,] 3   \n",
       " [2,] 2   \n",
       " [3,] 1   \n",
       " [4,] 3   \n",
       " [5,] 2   \n",
       " [6,] 3   \n",
       " [7,] 3   \n",
       " [8,] 1   \n",
       " [9,] 2   \n",
       "[10,] 3   \n",
       "[11,] 0   \n",
       "[12,] 2   \n",
       "[13,] 4   \n",
       "[14,] 1   \n",
       "[15,] 1   \n",
       "[16,] 4   \n",
       "[17,] 1   \n",
       "[18,] 4   \n",
       "[19,] 3   \n",
       "[20,] 4   \n",
       "[21,] 3   \n",
       "[22,] 3   \n",
       "[23,] 3   \n",
       "[24,] 3   \n",
       "[25,] 3   \n",
       "[26,] 3   \n",
       "[27,] 3   \n",
       "[28,] 3   \n",
       "[29,] 3   \n",
       "[30,] 3   \n",
       "[31,] ⋮   \n",
       "[32,] 2   \n",
       "[33,] 2   \n",
       "[34,] 2   \n",
       "[35,] 1   \n",
       "[36,] 4   \n",
       "[37,] 1   \n",
       "[38,] 3   \n",
       "[39,] 0   \n",
       "[40,] 0   \n",
       "[41,] 1   \n",
       "[42,] 0   \n",
       "[43,] 0   \n",
       "[44,] 0   \n",
       "[45,] 0   \n",
       "[46,] 0   \n",
       "[47,] 0   \n",
       "[48,] 4   \n",
       "[49,] 4   \n",
       "[50,] 0   \n",
       "[51,] 4   \n",
       "[52,] 4   \n",
       "[53,] 4   \n",
       "[54,] 2   \n",
       "[55,] 4   \n",
       "[56,] 2   \n",
       "[57,] 4   \n",
       "[58,] 0   \n",
       "[59,] 3   \n",
       "[60,] 4   \n",
       "[61,] 4   "
      ]
     },
     "metadata": {},
     "output_type": "display_data"
    }
   ],
   "source": [
    "realbestmean"
   ]
  },
  {
   "cell_type": "code",
   "execution_count": 15,
   "id": "4677a03e",
   "metadata": {},
   "outputs": [
    {
     "data": {
      "text/html": [
       "<table class=\"dataframe\">\n",
       "<caption>A data.frame: 6 × 17</caption>\n",
       "<thead>\n",
       "\t<tr><th></th><th scope=col>frequency</th><th scope=col>nperiods</th><th scope=col>seasonal_period</th><th scope=col>trend</th><th scope=col>spike</th><th scope=col>linearity</th><th scope=col>curvature</th><th scope=col>e_acf1</th><th scope=col>e_acf10</th><th scope=col>entropy</th><th scope=col>x_acf1</th><th scope=col>x_acf10</th><th scope=col>diff1_acf1</th><th scope=col>diff1_acf10</th><th scope=col>diff2_acf1</th><th scope=col>diff2_acf10</th><th scope=col>length</th></tr>\n",
       "\t<tr><th></th><th scope=col>&lt;int&gt;</th><th scope=col>&lt;int&gt;</th><th scope=col>&lt;int&gt;</th><th scope=col>&lt;dbl&gt;</th><th scope=col>&lt;dbl&gt;</th><th scope=col>&lt;dbl&gt;</th><th scope=col>&lt;dbl&gt;</th><th scope=col>&lt;dbl&gt;</th><th scope=col>&lt;dbl&gt;</th><th scope=col>&lt;dbl&gt;</th><th scope=col>&lt;dbl&gt;</th><th scope=col>&lt;dbl&gt;</th><th scope=col>&lt;dbl&gt;</th><th scope=col>&lt;dbl&gt;</th><th scope=col>&lt;dbl&gt;</th><th scope=col>&lt;dbl&gt;</th><th scope=col>&lt;int&gt;</th></tr>\n",
       "</thead>\n",
       "<tbody>\n",
       "\t<tr><th scope=row>1</th><td>1</td><td>0</td><td>1</td><td>0.9903832</td><td>1.535759e-07</td><td> 5.174030</td><td>-0.94405361</td><td> 0.47491778</td><td>0.6782989</td><td>0.3751645</td><td>0.9361374</td><td>3.2285135</td><td> 0.39993885</td><td>0.28707837</td><td>-0.1820491</td><td>0.22316867</td><td>31</td></tr>\n",
       "\t<tr><th scope=row>2</th><td>1</td><td>0</td><td>1</td><td>0.7455956</td><td>1.919834e-04</td><td>-2.797630</td><td> 2.13419228</td><td> 0.27486845</td><td>0.4580795</td><td>0.8010614</td><td>0.7084840</td><td>0.8208482</td><td> 0.12753274</td><td>0.22214291</td><td>-0.3185895</td><td>0.37163112</td><td>31</td></tr>\n",
       "\t<tr><th scope=row>3</th><td>1</td><td>0</td><td>1</td><td>0.9993711</td><td>1.038094e-09</td><td> 5.497375</td><td>-0.01972653</td><td> 0.20035534</td><td>0.4491332</td><td>0.3055037</td><td>0.8966488</td><td>2.9734257</td><td>-0.17814744</td><td>0.37277176</td><td>-0.6280637</td><td>1.00110959</td><td>31</td></tr>\n",
       "\t<tr><th scope=row>4</th><td>1</td><td>0</td><td>1</td><td>0.9991043</td><td>5.484677e-09</td><td> 5.514672</td><td>-0.12400209</td><td>-0.18881555</td><td>0.3260450</td><td>0.3087948</td><td>0.8904246</td><td>2.8852573</td><td>-0.45891796</td><td>0.60342537</td><td>-0.7758825</td><td>1.24511944</td><td>31</td></tr>\n",
       "\t<tr><th scope=row>5</th><td>1</td><td>0</td><td>1</td><td>0.9941526</td><td>1.000137e-07</td><td> 5.421624</td><td> 0.72042474</td><td> 0.15921568</td><td>0.4025341</td><td>0.3435267</td><td>0.8685223</td><td>2.4451391</td><td> 0.02494266</td><td>0.16237458</td><td>-0.5492186</td><td>0.61790122</td><td>31</td></tr>\n",
       "\t<tr><th scope=row>6</th><td>1</td><td>0</td><td>1</td><td>0.9642112</td><td>2.683180e-05</td><td> 4.078327</td><td> 0.73445937</td><td> 0.02824047</td><td>0.1412002</td><td>0.5294464</td><td>0.7107351</td><td>1.3317587</td><td> 0.22505892</td><td>0.08313085</td><td> 0.1296658</td><td>0.09734006</td><td>19</td></tr>\n",
       "</tbody>\n",
       "</table>\n"
      ],
      "text/latex": [
       "A data.frame: 6 × 17\n",
       "\\begin{tabular}{r|lllllllllllllllll}\n",
       "  & frequency & nperiods & seasonal\\_period & trend & spike & linearity & curvature & e\\_acf1 & e\\_acf10 & entropy & x\\_acf1 & x\\_acf10 & diff1\\_acf1 & diff1\\_acf10 & diff2\\_acf1 & diff2\\_acf10 & length\\\\\n",
       "  & <int> & <int> & <int> & <dbl> & <dbl> & <dbl> & <dbl> & <dbl> & <dbl> & <dbl> & <dbl> & <dbl> & <dbl> & <dbl> & <dbl> & <dbl> & <int>\\\\\n",
       "\\hline\n",
       "\t1 & 1 & 0 & 1 & 0.9903832 & 1.535759e-07 &  5.174030 & -0.94405361 &  0.47491778 & 0.6782989 & 0.3751645 & 0.9361374 & 3.2285135 &  0.39993885 & 0.28707837 & -0.1820491 & 0.22316867 & 31\\\\\n",
       "\t2 & 1 & 0 & 1 & 0.7455956 & 1.919834e-04 & -2.797630 &  2.13419228 &  0.27486845 & 0.4580795 & 0.8010614 & 0.7084840 & 0.8208482 &  0.12753274 & 0.22214291 & -0.3185895 & 0.37163112 & 31\\\\\n",
       "\t3 & 1 & 0 & 1 & 0.9993711 & 1.038094e-09 &  5.497375 & -0.01972653 &  0.20035534 & 0.4491332 & 0.3055037 & 0.8966488 & 2.9734257 & -0.17814744 & 0.37277176 & -0.6280637 & 1.00110959 & 31\\\\\n",
       "\t4 & 1 & 0 & 1 & 0.9991043 & 5.484677e-09 &  5.514672 & -0.12400209 & -0.18881555 & 0.3260450 & 0.3087948 & 0.8904246 & 2.8852573 & -0.45891796 & 0.60342537 & -0.7758825 & 1.24511944 & 31\\\\\n",
       "\t5 & 1 & 0 & 1 & 0.9941526 & 1.000137e-07 &  5.421624 &  0.72042474 &  0.15921568 & 0.4025341 & 0.3435267 & 0.8685223 & 2.4451391 &  0.02494266 & 0.16237458 & -0.5492186 & 0.61790122 & 31\\\\\n",
       "\t6 & 1 & 0 & 1 & 0.9642112 & 2.683180e-05 &  4.078327 &  0.73445937 &  0.02824047 & 0.1412002 & 0.5294464 & 0.7107351 & 1.3317587 &  0.22505892 & 0.08313085 &  0.1296658 & 0.09734006 & 19\\\\\n",
       "\\end{tabular}\n"
      ],
      "text/markdown": [
       "\n",
       "A data.frame: 6 × 17\n",
       "\n",
       "| <!--/--> | frequency &lt;int&gt; | nperiods &lt;int&gt; | seasonal_period &lt;int&gt; | trend &lt;dbl&gt; | spike &lt;dbl&gt; | linearity &lt;dbl&gt; | curvature &lt;dbl&gt; | e_acf1 &lt;dbl&gt; | e_acf10 &lt;dbl&gt; | entropy &lt;dbl&gt; | x_acf1 &lt;dbl&gt; | x_acf10 &lt;dbl&gt; | diff1_acf1 &lt;dbl&gt; | diff1_acf10 &lt;dbl&gt; | diff2_acf1 &lt;dbl&gt; | diff2_acf10 &lt;dbl&gt; | length &lt;int&gt; |\n",
       "|---|---|---|---|---|---|---|---|---|---|---|---|---|---|---|---|---|---|\n",
       "| 1 | 1 | 0 | 1 | 0.9903832 | 1.535759e-07 |  5.174030 | -0.94405361 |  0.47491778 | 0.6782989 | 0.3751645 | 0.9361374 | 3.2285135 |  0.39993885 | 0.28707837 | -0.1820491 | 0.22316867 | 31 |\n",
       "| 2 | 1 | 0 | 1 | 0.7455956 | 1.919834e-04 | -2.797630 |  2.13419228 |  0.27486845 | 0.4580795 | 0.8010614 | 0.7084840 | 0.8208482 |  0.12753274 | 0.22214291 | -0.3185895 | 0.37163112 | 31 |\n",
       "| 3 | 1 | 0 | 1 | 0.9993711 | 1.038094e-09 |  5.497375 | -0.01972653 |  0.20035534 | 0.4491332 | 0.3055037 | 0.8966488 | 2.9734257 | -0.17814744 | 0.37277176 | -0.6280637 | 1.00110959 | 31 |\n",
       "| 4 | 1 | 0 | 1 | 0.9991043 | 5.484677e-09 |  5.514672 | -0.12400209 | -0.18881555 | 0.3260450 | 0.3087948 | 0.8904246 | 2.8852573 | -0.45891796 | 0.60342537 | -0.7758825 | 1.24511944 | 31 |\n",
       "| 5 | 1 | 0 | 1 | 0.9941526 | 1.000137e-07 |  5.421624 |  0.72042474 |  0.15921568 | 0.4025341 | 0.3435267 | 0.8685223 | 2.4451391 |  0.02494266 | 0.16237458 | -0.5492186 | 0.61790122 | 31 |\n",
       "| 6 | 1 | 0 | 1 | 0.9642112 | 2.683180e-05 |  4.078327 |  0.73445937 |  0.02824047 | 0.1412002 | 0.5294464 | 0.7107351 | 1.3317587 |  0.22505892 | 0.08313085 |  0.1296658 | 0.09734006 | 19 |\n",
       "\n"
      ],
      "text/plain": [
       "  frequency nperiods seasonal_period trend     spike        linearity\n",
       "1 1         0        1               0.9903832 1.535759e-07  5.174030\n",
       "2 1         0        1               0.7455956 1.919834e-04 -2.797630\n",
       "3 1         0        1               0.9993711 1.038094e-09  5.497375\n",
       "4 1         0        1               0.9991043 5.484677e-09  5.514672\n",
       "5 1         0        1               0.9941526 1.000137e-07  5.421624\n",
       "6 1         0        1               0.9642112 2.683180e-05  4.078327\n",
       "  curvature   e_acf1      e_acf10   entropy   x_acf1    x_acf10   diff1_acf1 \n",
       "1 -0.94405361  0.47491778 0.6782989 0.3751645 0.9361374 3.2285135  0.39993885\n",
       "2  2.13419228  0.27486845 0.4580795 0.8010614 0.7084840 0.8208482  0.12753274\n",
       "3 -0.01972653  0.20035534 0.4491332 0.3055037 0.8966488 2.9734257 -0.17814744\n",
       "4 -0.12400209 -0.18881555 0.3260450 0.3087948 0.8904246 2.8852573 -0.45891796\n",
       "5  0.72042474  0.15921568 0.4025341 0.3435267 0.8685223 2.4451391  0.02494266\n",
       "6  0.73445937  0.02824047 0.1412002 0.5294464 0.7107351 1.3317587  0.22505892\n",
       "  diff1_acf10 diff2_acf1 diff2_acf10 length\n",
       "1 0.28707837  -0.1820491 0.22316867  31    \n",
       "2 0.22214291  -0.3185895 0.37163112  31    \n",
       "3 0.37277176  -0.6280637 1.00110959  31    \n",
       "4 0.60342537  -0.7758825 1.24511944  31    \n",
       "5 0.16237458  -0.5492186 0.61790122  31    \n",
       "6 0.08313085   0.1296658 0.09734006  19    "
      ]
     },
     "metadata": {},
     "output_type": "display_data"
    }
   ],
   "source": [
    "head(data)"
   ]
  },
  {
   "cell_type": "code",
   "execution_count": null,
   "id": "255b315e",
   "metadata": {},
   "outputs": [],
   "source": []
  },
  {
   "cell_type": "code",
   "execution_count": 16,
   "id": "6cbac790",
   "metadata": {},
   "outputs": [],
   "source": [
    "set.seed(100)\n",
    "index = sample(2,nrow(data),replace = TRUE,prob=c(0.7,0.3))"
   ]
  },
  {
   "cell_type": "code",
   "execution_count": 17,
   "id": "a7d7557b",
   "metadata": {},
   "outputs": [],
   "source": [
    "train_data=data[index==1,]\n",
    "test_data=data[index==2,]\n",
    "train_label_min=realbestmin[index==1,]\n",
    "test_label_min=realbestmin[index==2,]\n",
    "train_label_mean=realbestmean[index==1,]\n",
    "test_label_mean=realbestmean[index==2,]"
   ]
  },
  {
   "cell_type": "code",
   "execution_count": 18,
   "id": "931a5a09",
   "metadata": {},
   "outputs": [
    {
     "data": {
      "text/html": [
       "<table class=\"dataframe\">\n",
       "<caption>A data.frame: 6 × 17</caption>\n",
       "<thead>\n",
       "\t<tr><th></th><th scope=col>frequency</th><th scope=col>nperiods</th><th scope=col>seasonal_period</th><th scope=col>trend</th><th scope=col>spike</th><th scope=col>linearity</th><th scope=col>curvature</th><th scope=col>e_acf1</th><th scope=col>e_acf10</th><th scope=col>entropy</th><th scope=col>x_acf1</th><th scope=col>x_acf10</th><th scope=col>diff1_acf1</th><th scope=col>diff1_acf10</th><th scope=col>diff2_acf1</th><th scope=col>diff2_acf10</th><th scope=col>length</th></tr>\n",
       "\t<tr><th></th><th scope=col>&lt;int&gt;</th><th scope=col>&lt;int&gt;</th><th scope=col>&lt;int&gt;</th><th scope=col>&lt;dbl&gt;</th><th scope=col>&lt;dbl&gt;</th><th scope=col>&lt;dbl&gt;</th><th scope=col>&lt;dbl&gt;</th><th scope=col>&lt;dbl&gt;</th><th scope=col>&lt;dbl&gt;</th><th scope=col>&lt;dbl&gt;</th><th scope=col>&lt;dbl&gt;</th><th scope=col>&lt;dbl&gt;</th><th scope=col>&lt;dbl&gt;</th><th scope=col>&lt;dbl&gt;</th><th scope=col>&lt;dbl&gt;</th><th scope=col>&lt;dbl&gt;</th><th scope=col>&lt;int&gt;</th></tr>\n",
       "</thead>\n",
       "<tbody>\n",
       "\t<tr><th scope=row>1</th><td>1</td><td>0</td><td>1</td><td>0.9903832</td><td>1.535759e-07</td><td> 5.174030</td><td>-0.94405361</td><td> 0.47491778</td><td>0.6782989</td><td>0.3751645</td><td>0.9361374</td><td>3.2285135</td><td> 0.39993885</td><td>0.28707837</td><td>-0.1820491</td><td>0.22316867</td><td>31</td></tr>\n",
       "\t<tr><th scope=row>2</th><td>1</td><td>0</td><td>1</td><td>0.7455956</td><td>1.919834e-04</td><td>-2.797630</td><td> 2.13419228</td><td> 0.27486845</td><td>0.4580795</td><td>0.8010614</td><td>0.7084840</td><td>0.8208482</td><td> 0.12753274</td><td>0.22214291</td><td>-0.3185895</td><td>0.37163112</td><td>31</td></tr>\n",
       "\t<tr><th scope=row>3</th><td>1</td><td>0</td><td>1</td><td>0.9993711</td><td>1.038094e-09</td><td> 5.497375</td><td>-0.01972653</td><td> 0.20035534</td><td>0.4491332</td><td>0.3055037</td><td>0.8966488</td><td>2.9734257</td><td>-0.17814744</td><td>0.37277176</td><td>-0.6280637</td><td>1.00110959</td><td>31</td></tr>\n",
       "\t<tr><th scope=row>4</th><td>1</td><td>0</td><td>1</td><td>0.9991043</td><td>5.484677e-09</td><td> 5.514672</td><td>-0.12400209</td><td>-0.18881555</td><td>0.3260450</td><td>0.3087948</td><td>0.8904246</td><td>2.8852573</td><td>-0.45891796</td><td>0.60342537</td><td>-0.7758825</td><td>1.24511944</td><td>31</td></tr>\n",
       "\t<tr><th scope=row>5</th><td>1</td><td>0</td><td>1</td><td>0.9941526</td><td>1.000137e-07</td><td> 5.421624</td><td> 0.72042474</td><td> 0.15921568</td><td>0.4025341</td><td>0.3435267</td><td>0.8685223</td><td>2.4451391</td><td> 0.02494266</td><td>0.16237458</td><td>-0.5492186</td><td>0.61790122</td><td>31</td></tr>\n",
       "\t<tr><th scope=row>6</th><td>1</td><td>0</td><td>1</td><td>0.9642112</td><td>2.683180e-05</td><td> 4.078327</td><td> 0.73445937</td><td> 0.02824047</td><td>0.1412002</td><td>0.5294464</td><td>0.7107351</td><td>1.3317587</td><td> 0.22505892</td><td>0.08313085</td><td> 0.1296658</td><td>0.09734006</td><td>19</td></tr>\n",
       "</tbody>\n",
       "</table>\n"
      ],
      "text/latex": [
       "A data.frame: 6 × 17\n",
       "\\begin{tabular}{r|lllllllllllllllll}\n",
       "  & frequency & nperiods & seasonal\\_period & trend & spike & linearity & curvature & e\\_acf1 & e\\_acf10 & entropy & x\\_acf1 & x\\_acf10 & diff1\\_acf1 & diff1\\_acf10 & diff2\\_acf1 & diff2\\_acf10 & length\\\\\n",
       "  & <int> & <int> & <int> & <dbl> & <dbl> & <dbl> & <dbl> & <dbl> & <dbl> & <dbl> & <dbl> & <dbl> & <dbl> & <dbl> & <dbl> & <dbl> & <int>\\\\\n",
       "\\hline\n",
       "\t1 & 1 & 0 & 1 & 0.9903832 & 1.535759e-07 &  5.174030 & -0.94405361 &  0.47491778 & 0.6782989 & 0.3751645 & 0.9361374 & 3.2285135 &  0.39993885 & 0.28707837 & -0.1820491 & 0.22316867 & 31\\\\\n",
       "\t2 & 1 & 0 & 1 & 0.7455956 & 1.919834e-04 & -2.797630 &  2.13419228 &  0.27486845 & 0.4580795 & 0.8010614 & 0.7084840 & 0.8208482 &  0.12753274 & 0.22214291 & -0.3185895 & 0.37163112 & 31\\\\\n",
       "\t3 & 1 & 0 & 1 & 0.9993711 & 1.038094e-09 &  5.497375 & -0.01972653 &  0.20035534 & 0.4491332 & 0.3055037 & 0.8966488 & 2.9734257 & -0.17814744 & 0.37277176 & -0.6280637 & 1.00110959 & 31\\\\\n",
       "\t4 & 1 & 0 & 1 & 0.9991043 & 5.484677e-09 &  5.514672 & -0.12400209 & -0.18881555 & 0.3260450 & 0.3087948 & 0.8904246 & 2.8852573 & -0.45891796 & 0.60342537 & -0.7758825 & 1.24511944 & 31\\\\\n",
       "\t5 & 1 & 0 & 1 & 0.9941526 & 1.000137e-07 &  5.421624 &  0.72042474 &  0.15921568 & 0.4025341 & 0.3435267 & 0.8685223 & 2.4451391 &  0.02494266 & 0.16237458 & -0.5492186 & 0.61790122 & 31\\\\\n",
       "\t6 & 1 & 0 & 1 & 0.9642112 & 2.683180e-05 &  4.078327 &  0.73445937 &  0.02824047 & 0.1412002 & 0.5294464 & 0.7107351 & 1.3317587 &  0.22505892 & 0.08313085 &  0.1296658 & 0.09734006 & 19\\\\\n",
       "\\end{tabular}\n"
      ],
      "text/markdown": [
       "\n",
       "A data.frame: 6 × 17\n",
       "\n",
       "| <!--/--> | frequency &lt;int&gt; | nperiods &lt;int&gt; | seasonal_period &lt;int&gt; | trend &lt;dbl&gt; | spike &lt;dbl&gt; | linearity &lt;dbl&gt; | curvature &lt;dbl&gt; | e_acf1 &lt;dbl&gt; | e_acf10 &lt;dbl&gt; | entropy &lt;dbl&gt; | x_acf1 &lt;dbl&gt; | x_acf10 &lt;dbl&gt; | diff1_acf1 &lt;dbl&gt; | diff1_acf10 &lt;dbl&gt; | diff2_acf1 &lt;dbl&gt; | diff2_acf10 &lt;dbl&gt; | length &lt;int&gt; |\n",
       "|---|---|---|---|---|---|---|---|---|---|---|---|---|---|---|---|---|---|\n",
       "| 1 | 1 | 0 | 1 | 0.9903832 | 1.535759e-07 |  5.174030 | -0.94405361 |  0.47491778 | 0.6782989 | 0.3751645 | 0.9361374 | 3.2285135 |  0.39993885 | 0.28707837 | -0.1820491 | 0.22316867 | 31 |\n",
       "| 2 | 1 | 0 | 1 | 0.7455956 | 1.919834e-04 | -2.797630 |  2.13419228 |  0.27486845 | 0.4580795 | 0.8010614 | 0.7084840 | 0.8208482 |  0.12753274 | 0.22214291 | -0.3185895 | 0.37163112 | 31 |\n",
       "| 3 | 1 | 0 | 1 | 0.9993711 | 1.038094e-09 |  5.497375 | -0.01972653 |  0.20035534 | 0.4491332 | 0.3055037 | 0.8966488 | 2.9734257 | -0.17814744 | 0.37277176 | -0.6280637 | 1.00110959 | 31 |\n",
       "| 4 | 1 | 0 | 1 | 0.9991043 | 5.484677e-09 |  5.514672 | -0.12400209 | -0.18881555 | 0.3260450 | 0.3087948 | 0.8904246 | 2.8852573 | -0.45891796 | 0.60342537 | -0.7758825 | 1.24511944 | 31 |\n",
       "| 5 | 1 | 0 | 1 | 0.9941526 | 1.000137e-07 |  5.421624 |  0.72042474 |  0.15921568 | 0.4025341 | 0.3435267 | 0.8685223 | 2.4451391 |  0.02494266 | 0.16237458 | -0.5492186 | 0.61790122 | 31 |\n",
       "| 6 | 1 | 0 | 1 | 0.9642112 | 2.683180e-05 |  4.078327 |  0.73445937 |  0.02824047 | 0.1412002 | 0.5294464 | 0.7107351 | 1.3317587 |  0.22505892 | 0.08313085 |  0.1296658 | 0.09734006 | 19 |\n",
       "\n"
      ],
      "text/plain": [
       "  frequency nperiods seasonal_period trend     spike        linearity\n",
       "1 1         0        1               0.9903832 1.535759e-07  5.174030\n",
       "2 1         0        1               0.7455956 1.919834e-04 -2.797630\n",
       "3 1         0        1               0.9993711 1.038094e-09  5.497375\n",
       "4 1         0        1               0.9991043 5.484677e-09  5.514672\n",
       "5 1         0        1               0.9941526 1.000137e-07  5.421624\n",
       "6 1         0        1               0.9642112 2.683180e-05  4.078327\n",
       "  curvature   e_acf1      e_acf10   entropy   x_acf1    x_acf10   diff1_acf1 \n",
       "1 -0.94405361  0.47491778 0.6782989 0.3751645 0.9361374 3.2285135  0.39993885\n",
       "2  2.13419228  0.27486845 0.4580795 0.8010614 0.7084840 0.8208482  0.12753274\n",
       "3 -0.01972653  0.20035534 0.4491332 0.3055037 0.8966488 2.9734257 -0.17814744\n",
       "4 -0.12400209 -0.18881555 0.3260450 0.3087948 0.8904246 2.8852573 -0.45891796\n",
       "5  0.72042474  0.15921568 0.4025341 0.3435267 0.8685223 2.4451391  0.02494266\n",
       "6  0.73445937  0.02824047 0.1412002 0.5294464 0.7107351 1.3317587  0.22505892\n",
       "  diff1_acf10 diff2_acf1 diff2_acf10 length\n",
       "1 0.28707837  -0.1820491 0.22316867  31    \n",
       "2 0.22214291  -0.3185895 0.37163112  31    \n",
       "3 0.37277176  -0.6280637 1.00110959  31    \n",
       "4 0.60342537  -0.7758825 1.24511944  31    \n",
       "5 0.16237458  -0.5492186 0.61790122  31    \n",
       "6 0.08313085   0.1296658 0.09734006  19    "
      ]
     },
     "metadata": {},
     "output_type": "display_data"
    }
   ],
   "source": [
    "head(train_data)"
   ]
  },
  {
   "cell_type": "code",
   "execution_count": 19,
   "id": "c78990a7",
   "metadata": {},
   "outputs": [],
   "source": [
    "end_time = Sys.time()"
   ]
  },
  {
   "cell_type": "code",
   "execution_count": 20,
   "id": "e13903ae",
   "metadata": {},
   "outputs": [],
   "source": [
    "time_matrix[1,]=end_time-start_time"
   ]
  },
  {
   "cell_type": "code",
   "execution_count": 21,
   "id": "a6819006",
   "metadata": {},
   "outputs": [
    {
     "data": {
      "text/plain": [
       "Time difference of 13.78069 secs"
      ]
     },
     "metadata": {},
     "output_type": "display_data"
    }
   ],
   "source": [
    "end_time-start_time"
   ]
  },
  {
   "cell_type": "markdown",
   "id": "746cd45e",
   "metadata": {},
   "source": [
    "## Target the interval where the actual error is minimum"
   ]
  },
  {
   "cell_type": "code",
   "execution_count": 22,
   "id": "9f355b5f",
   "metadata": {},
   "outputs": [],
   "source": [
    "start_time = Sys.time()"
   ]
  },
  {
   "cell_type": "code",
   "execution_count": 23,
   "id": "1f5ffb8f",
   "metadata": {},
   "outputs": [],
   "source": [
    "dtrain_xg_min_reg <- xgb.DMatrix(data = as.matrix(train_data),label = as.matrix(train_label_min)) \n",
    "dtrain_xg_min_cl <- xgb.DMatrix(data = as.matrix(train_data),label = as.matrix(as.factor(train_label_min)) )"
   ]
  },
  {
   "cell_type": "code",
   "execution_count": 24,
   "id": "5cd95007",
   "metadata": {},
   "outputs": [],
   "source": [
    "dtrain_lg_min_reg <- lgb.Dataset(data = as.matrix(train_data),label = as.matrix(train_label_min))\n",
    "dtrain_lg_min_cl <- lgb.Dataset(data = as.matrix(train_data),label = as.matrix(as.factor(train_label_min)))"
   ]
  },
  {
   "cell_type": "code",
   "execution_count": null,
   "id": "de717280",
   "metadata": {},
   "outputs": [],
   "source": []
  },
  {
   "cell_type": "code",
   "execution_count": 25,
   "id": "db8430f8",
   "metadata": {
    "scrolled": true
   },
   "outputs": [
    {
     "name": "stdout",
     "output_type": "stream",
     "text": [
      "[1]\ttrain-rmse:2.080062 \n",
      "[2]\ttrain-rmse:1.728986 \n",
      "[3]\ttrain-rmse:1.520007 \n",
      "[4]\ttrain-rmse:1.401684 \n",
      "[5]\ttrain-rmse:1.333479 \n",
      "[6]\ttrain-rmse:1.295280 \n",
      "[7]\ttrain-rmse:1.272802 \n",
      "[8]\ttrain-rmse:1.255832 \n",
      "[9]\ttrain-rmse:1.244932 \n",
      "[10]\ttrain-rmse:1.237046 \n",
      "[11]\ttrain-rmse:1.226539 \n",
      "[12]\ttrain-rmse:1.220129 \n",
      "[13]\ttrain-rmse:1.212512 \n",
      "[14]\ttrain-rmse:1.208134 \n",
      "[15]\ttrain-rmse:1.202158 \n",
      "[16]\ttrain-rmse:1.193539 \n",
      "[17]\ttrain-rmse:1.186366 \n",
      "[18]\ttrain-rmse:1.178000 \n",
      "[19]\ttrain-rmse:1.171916 \n",
      "[20]\ttrain-rmse:1.168760 \n",
      "[21]\ttrain-rmse:1.162234 \n",
      "[22]\ttrain-rmse:1.159995 \n",
      "[23]\ttrain-rmse:1.157232 \n",
      "[24]\ttrain-rmse:1.154217 \n",
      "[25]\ttrain-rmse:1.149527 \n",
      "[26]\ttrain-rmse:1.147900 \n",
      "[27]\ttrain-rmse:1.144422 \n",
      "[28]\ttrain-rmse:1.138368 \n",
      "[29]\ttrain-rmse:1.135548 \n",
      "[30]\ttrain-rmse:1.129739 \n",
      "[31]\ttrain-rmse:1.124170 \n",
      "[32]\ttrain-rmse:1.122460 \n",
      "[33]\ttrain-rmse:1.117306 \n",
      "[34]\ttrain-rmse:1.116149 \n",
      "[35]\ttrain-rmse:1.110846 \n",
      "[36]\ttrain-rmse:1.107860 \n",
      "[37]\ttrain-rmse:1.103142 \n",
      "[38]\ttrain-rmse:1.097861 \n",
      "[39]\ttrain-rmse:1.093764 \n",
      "[40]\ttrain-rmse:1.087079 \n",
      "[41]\ttrain-rmse:1.081341 \n",
      "[42]\ttrain-rmse:1.074434 \n",
      "[43]\ttrain-rmse:1.069976 \n",
      "[44]\ttrain-rmse:1.067501 \n",
      "[45]\ttrain-rmse:1.065107 \n",
      "[46]\ttrain-rmse:1.061271 \n",
      "[47]\ttrain-rmse:1.057320 \n",
      "[48]\ttrain-rmse:1.052750 \n",
      "[49]\ttrain-rmse:1.049763 \n",
      "[50]\ttrain-rmse:1.049136 \n",
      "[51]\ttrain-rmse:1.047967 \n",
      "[52]\ttrain-rmse:1.045116 \n",
      "[53]\ttrain-rmse:1.041741 \n",
      "[54]\ttrain-rmse:1.041094 \n",
      "[55]\ttrain-rmse:1.038788 \n",
      "[56]\ttrain-rmse:1.036086 \n",
      "[57]\ttrain-rmse:1.034102 \n",
      "[58]\ttrain-rmse:1.029429 \n",
      "[59]\ttrain-rmse:1.025246 \n",
      "[60]\ttrain-rmse:1.023331 \n",
      "[61]\ttrain-rmse:1.020477 \n",
      "[62]\ttrain-rmse:1.016874 \n",
      "[63]\ttrain-rmse:1.014381 \n",
      "[64]\ttrain-rmse:1.008657 \n",
      "[65]\ttrain-rmse:1.006644 \n",
      "[66]\ttrain-rmse:1.003806 \n",
      "[67]\ttrain-rmse:1.000638 \n",
      "[68]\ttrain-rmse:0.998034 \n",
      "[69]\ttrain-rmse:0.995252 \n",
      "[70]\ttrain-rmse:0.990497 \n",
      "[71]\ttrain-rmse:0.985168 \n",
      "[72]\ttrain-rmse:0.983393 \n",
      "[73]\ttrain-rmse:0.980231 \n",
      "[74]\ttrain-rmse:0.975958 \n",
      "[75]\ttrain-rmse:0.974950 \n",
      "[76]\ttrain-rmse:0.973396 \n",
      "[77]\ttrain-rmse:0.969272 \n",
      "[78]\ttrain-rmse:0.966113 \n",
      "[79]\ttrain-rmse:0.961447 \n",
      "[80]\ttrain-rmse:0.957450 \n",
      "[81]\ttrain-rmse:0.954588 \n",
      "[82]\ttrain-rmse:0.952251 \n",
      "[83]\ttrain-rmse:0.950269 \n",
      "[84]\ttrain-rmse:0.946647 \n",
      "[85]\ttrain-rmse:0.943887 \n",
      "[86]\ttrain-rmse:0.939423 \n",
      "[87]\ttrain-rmse:0.936450 \n",
      "[88]\ttrain-rmse:0.930758 \n",
      "[89]\ttrain-rmse:0.926462 \n",
      "[90]\ttrain-rmse:0.925822 \n",
      "[91]\ttrain-rmse:0.924318 \n",
      "[92]\ttrain-rmse:0.921078 \n",
      "[93]\ttrain-rmse:0.915547 \n",
      "[94]\ttrain-rmse:0.912684 \n",
      "[95]\ttrain-rmse:0.911414 \n",
      "[96]\ttrain-rmse:0.906283 \n",
      "[97]\ttrain-rmse:0.903168 \n",
      "[98]\ttrain-rmse:0.898233 \n",
      "[99]\ttrain-rmse:0.895190 \n",
      "[100]\ttrain-rmse:0.893362 \n"
     ]
    }
   ],
   "source": [
    "xgb_min_reg <- xgboost(data = dtrain_xg_min_reg, nround=100)"
   ]
  },
  {
   "cell_type": "code",
   "execution_count": 26,
   "id": "77ebccfc",
   "metadata": {
    "scrolled": true
   },
   "outputs": [
    {
     "name": "stdout",
     "output_type": "stream",
     "text": [
      "[1]\ttrain-mlogloss:1.481160 \n",
      "[2]\ttrain-mlogloss:1.399538 \n",
      "[3]\ttrain-mlogloss:1.343229 \n",
      "[4]\ttrain-mlogloss:1.299382 \n",
      "[5]\ttrain-mlogloss:1.264843 \n",
      "[6]\ttrain-mlogloss:1.238884 \n",
      "[7]\ttrain-mlogloss:1.215107 \n",
      "[8]\ttrain-mlogloss:1.195849 \n",
      "[9]\ttrain-mlogloss:1.180618 \n",
      "[10]\ttrain-mlogloss:1.165852 \n",
      "[11]\ttrain-mlogloss:1.150264 \n",
      "[12]\ttrain-mlogloss:1.137125 \n",
      "[13]\ttrain-mlogloss:1.127860 \n",
      "[14]\ttrain-mlogloss:1.117646 \n",
      "[15]\ttrain-mlogloss:1.108578 \n",
      "[16]\ttrain-mlogloss:1.099110 \n",
      "[17]\ttrain-mlogloss:1.089211 \n",
      "[18]\ttrain-mlogloss:1.082087 \n",
      "[19]\ttrain-mlogloss:1.074384 \n",
      "[20]\ttrain-mlogloss:1.066274 \n",
      "[21]\ttrain-mlogloss:1.060916 \n",
      "[22]\ttrain-mlogloss:1.054199 \n",
      "[23]\ttrain-mlogloss:1.047046 \n",
      "[24]\ttrain-mlogloss:1.039803 \n",
      "[25]\ttrain-mlogloss:1.032442 \n",
      "[26]\ttrain-mlogloss:1.026172 \n",
      "[27]\ttrain-mlogloss:1.019194 \n",
      "[28]\ttrain-mlogloss:1.014684 \n",
      "[29]\ttrain-mlogloss:1.010067 \n",
      "[30]\ttrain-mlogloss:1.004455 \n",
      "[31]\ttrain-mlogloss:0.994601 \n",
      "[32]\ttrain-mlogloss:0.990582 \n",
      "[33]\ttrain-mlogloss:0.984186 \n",
      "[34]\ttrain-mlogloss:0.978365 \n",
      "[35]\ttrain-mlogloss:0.971335 \n",
      "[36]\ttrain-mlogloss:0.963919 \n",
      "[37]\ttrain-mlogloss:0.957542 \n",
      "[38]\ttrain-mlogloss:0.954043 \n",
      "[39]\ttrain-mlogloss:0.949733 \n",
      "[40]\ttrain-mlogloss:0.945648 \n",
      "[41]\ttrain-mlogloss:0.942584 \n",
      "[42]\ttrain-mlogloss:0.936387 \n",
      "[43]\ttrain-mlogloss:0.932914 \n",
      "[44]\ttrain-mlogloss:0.926609 \n",
      "[45]\ttrain-mlogloss:0.920220 \n",
      "[46]\ttrain-mlogloss:0.914929 \n",
      "[47]\ttrain-mlogloss:0.910490 \n",
      "[48]\ttrain-mlogloss:0.905577 \n",
      "[49]\ttrain-mlogloss:0.900649 \n",
      "[50]\ttrain-mlogloss:0.895827 \n",
      "[51]\ttrain-mlogloss:0.888041 \n",
      "[52]\ttrain-mlogloss:0.883292 \n",
      "[53]\ttrain-mlogloss:0.879974 \n",
      "[54]\ttrain-mlogloss:0.875213 \n",
      "[55]\ttrain-mlogloss:0.870803 \n",
      "[56]\ttrain-mlogloss:0.866820 \n",
      "[57]\ttrain-mlogloss:0.862201 \n",
      "[58]\ttrain-mlogloss:0.857498 \n",
      "[59]\ttrain-mlogloss:0.852512 \n",
      "[60]\ttrain-mlogloss:0.846811 \n",
      "[61]\ttrain-mlogloss:0.843369 \n",
      "[62]\ttrain-mlogloss:0.839313 \n",
      "[63]\ttrain-mlogloss:0.834165 \n",
      "[64]\ttrain-mlogloss:0.828029 \n",
      "[65]\ttrain-mlogloss:0.823936 \n",
      "[66]\ttrain-mlogloss:0.820512 \n",
      "[67]\ttrain-mlogloss:0.815637 \n",
      "[68]\ttrain-mlogloss:0.810807 \n",
      "[69]\ttrain-mlogloss:0.806375 \n",
      "[70]\ttrain-mlogloss:0.801310 \n",
      "[71]\ttrain-mlogloss:0.798022 \n",
      "[72]\ttrain-mlogloss:0.792596 \n",
      "[73]\ttrain-mlogloss:0.788455 \n",
      "[74]\ttrain-mlogloss:0.784383 \n",
      "[75]\ttrain-mlogloss:0.782251 \n",
      "[76]\ttrain-mlogloss:0.777314 \n",
      "[77]\ttrain-mlogloss:0.772828 \n",
      "[78]\ttrain-mlogloss:0.768205 \n",
      "[79]\ttrain-mlogloss:0.763534 \n",
      "[80]\ttrain-mlogloss:0.759019 \n",
      "[81]\ttrain-mlogloss:0.753971 \n",
      "[82]\ttrain-mlogloss:0.749570 \n",
      "[83]\ttrain-mlogloss:0.744731 \n",
      "[84]\ttrain-mlogloss:0.741952 \n",
      "[85]\ttrain-mlogloss:0.738181 \n",
      "[86]\ttrain-mlogloss:0.733751 \n",
      "[87]\ttrain-mlogloss:0.729131 \n",
      "[88]\ttrain-mlogloss:0.725220 \n",
      "[89]\ttrain-mlogloss:0.719926 \n",
      "[90]\ttrain-mlogloss:0.714462 \n",
      "[91]\ttrain-mlogloss:0.709564 \n",
      "[92]\ttrain-mlogloss:0.705248 \n",
      "[93]\ttrain-mlogloss:0.701229 \n",
      "[94]\ttrain-mlogloss:0.698361 \n",
      "[95]\ttrain-mlogloss:0.694906 \n",
      "[96]\ttrain-mlogloss:0.689382 \n",
      "[97]\ttrain-mlogloss:0.685521 \n",
      "[98]\ttrain-mlogloss:0.681091 \n",
      "[99]\ttrain-mlogloss:0.679228 \n",
      "[100]\ttrain-mlogloss:0.675484 \n"
     ]
    }
   ],
   "source": [
    "xgb_min_cl <- xgboost(data = dtrain_xg_min_cl, nround=100, objective='multi:softmax',num_class=5)"
   ]
  },
  {
   "cell_type": "code",
   "execution_count": 27,
   "id": "af268bbc",
   "metadata": {
    "scrolled": true
   },
   "outputs": [
    {
     "name": "stdout",
     "output_type": "stream",
     "text": [
      "[LightGBM] [Info] Auto-choosing col-wise multi-threading, the overhead of testing was 0.009281 seconds.\n",
      "You can set `force_col_wise=true` to remove the overhead.\n",
      "[LightGBM] [Info] Total Bins 3402\n",
      "[LightGBM] [Info] Number of data points in the train set: 16214, number of used features: 14\n",
      "[LightGBM] [Info] Start training from score 2.720859\n"
     ]
    }
   ],
   "source": [
    "lgb_min_reg <- lgb.train(data = dtrain_lg_min_reg, nrounds = 100)"
   ]
  },
  {
   "cell_type": "code",
   "execution_count": 28,
   "id": "0206b7be",
   "metadata": {
    "scrolled": true
   },
   "outputs": [
    {
     "name": "stdout",
     "output_type": "stream",
     "text": [
      "[LightGBM] [Info] Auto-choosing col-wise multi-threading, the overhead of testing was 0.061685 seconds.\n",
      "You can set `force_col_wise=true` to remove the overhead.\n",
      "[LightGBM] [Info] Total Bins 3402\n",
      "[LightGBM] [Info] Number of data points in the train set: 16214, number of used features: 14\n",
      "[LightGBM] [Info] Start training from score -2.035403\n",
      "[LightGBM] [Info] Start training from score -2.256424\n",
      "[LightGBM] [Info] Start training from score -2.062684\n",
      "[LightGBM] [Info] Start training from score -1.670078\n",
      "[LightGBM] [Info] Start training from score -0.800058\n"
     ]
    }
   ],
   "source": [
    "params <- list(objective = \"multiclass\",\n",
    "               num_class = 5, \n",
    "               metric = \"multi_logloss\")\n",
    "lgb_min_cl <- lgb.train(data = dtrain_lg_min_cl,nrounds = 100,params=params)"
   ]
  },
  {
   "cell_type": "code",
   "execution_count": 29,
   "id": "83507918",
   "metadata": {},
   "outputs": [],
   "source": [
    "end_time = Sys.time()\n",
    "time_matrix[2,]=end_time-start_time"
   ]
  },
  {
   "cell_type": "markdown",
   "id": "cf340c64",
   "metadata": {},
   "source": [
    "## Target the interval where the average error is minimum"
   ]
  },
  {
   "cell_type": "code",
   "execution_count": 30,
   "id": "e4eb55cd",
   "metadata": {},
   "outputs": [],
   "source": [
    "start_time = Sys.time()"
   ]
  },
  {
   "cell_type": "code",
   "execution_count": 31,
   "id": "62ebbda1",
   "metadata": {},
   "outputs": [],
   "source": [
    "dtrain_xg_mean_reg <- xgb.DMatrix(data = as.matrix(train_data),label = as.matrix(train_label_mean)) \n",
    "dtrain_xg_mean_cl <- xgb.DMatrix(data = as.matrix(train_data),label = as.matrix(as.factor(train_label_mean)) )"
   ]
  },
  {
   "cell_type": "code",
   "execution_count": 32,
   "id": "1e50bd7f",
   "metadata": {},
   "outputs": [],
   "source": [
    "dtrain_lg_mean_reg <- lgb.Dataset(data = as.matrix(train_data),label = as.matrix(train_label_mean))\n",
    "dtrain_lg_mean_cl <- lgb.Dataset(data = as.matrix(train_data),label = as.matrix(as.factor(train_label_mean)))"
   ]
  },
  {
   "cell_type": "code",
   "execution_count": 33,
   "id": "4472e762",
   "metadata": {
    "scrolled": true
   },
   "outputs": [
    {
     "name": "stdout",
     "output_type": "stream",
     "text": [
      "[1]\ttrain-rmse:1.844590 \n",
      "[2]\ttrain-rmse:1.587225 \n",
      "[3]\ttrain-rmse:1.438449 \n",
      "[4]\ttrain-rmse:1.354654 \n",
      "[5]\ttrain-rmse:1.306050 \n",
      "[6]\ttrain-rmse:1.278351 \n",
      "[7]\ttrain-rmse:1.258313 \n",
      "[8]\ttrain-rmse:1.245596 \n",
      "[9]\ttrain-rmse:1.236447 \n",
      "[10]\ttrain-rmse:1.228776 \n",
      "[11]\ttrain-rmse:1.224204 \n",
      "[12]\ttrain-rmse:1.217147 \n",
      "[13]\ttrain-rmse:1.209718 \n",
      "[14]\ttrain-rmse:1.201985 \n",
      "[15]\ttrain-rmse:1.199597 \n",
      "[16]\ttrain-rmse:1.196201 \n",
      "[17]\ttrain-rmse:1.191296 \n",
      "[18]\ttrain-rmse:1.183036 \n",
      "[19]\ttrain-rmse:1.175852 \n",
      "[20]\ttrain-rmse:1.172704 \n",
      "[21]\ttrain-rmse:1.168555 \n",
      "[22]\ttrain-rmse:1.165362 \n",
      "[23]\ttrain-rmse:1.158907 \n",
      "[24]\ttrain-rmse:1.152846 \n",
      "[25]\ttrain-rmse:1.147923 \n",
      "[26]\ttrain-rmse:1.145037 \n",
      "[27]\ttrain-rmse:1.141480 \n",
      "[28]\ttrain-rmse:1.134316 \n",
      "[29]\ttrain-rmse:1.130566 \n",
      "[30]\ttrain-rmse:1.126135 \n",
      "[31]\ttrain-rmse:1.118009 \n",
      "[32]\ttrain-rmse:1.114104 \n",
      "[33]\ttrain-rmse:1.110916 \n",
      "[34]\ttrain-rmse:1.105922 \n",
      "[35]\ttrain-rmse:1.099763 \n",
      "[36]\ttrain-rmse:1.094279 \n",
      "[37]\ttrain-rmse:1.090976 \n",
      "[38]\ttrain-rmse:1.086891 \n",
      "[39]\ttrain-rmse:1.081579 \n",
      "[40]\ttrain-rmse:1.075965 \n",
      "[41]\ttrain-rmse:1.070080 \n",
      "[42]\ttrain-rmse:1.067106 \n",
      "[43]\ttrain-rmse:1.063876 \n",
      "[44]\ttrain-rmse:1.063223 \n",
      "[45]\ttrain-rmse:1.061480 \n",
      "[46]\ttrain-rmse:1.058349 \n",
      "[47]\ttrain-rmse:1.053388 \n",
      "[48]\ttrain-rmse:1.049504 \n",
      "[49]\ttrain-rmse:1.047925 \n",
      "[50]\ttrain-rmse:1.044153 \n",
      "[51]\ttrain-rmse:1.040486 \n",
      "[52]\ttrain-rmse:1.038181 \n",
      "[53]\ttrain-rmse:1.033397 \n",
      "[54]\ttrain-rmse:1.028281 \n",
      "[55]\ttrain-rmse:1.025612 \n",
      "[56]\ttrain-rmse:1.023883 \n",
      "[57]\ttrain-rmse:1.020376 \n",
      "[58]\ttrain-rmse:1.016273 \n",
      "[59]\ttrain-rmse:1.013538 \n",
      "[60]\ttrain-rmse:1.008583 \n",
      "[61]\ttrain-rmse:1.005429 \n",
      "[62]\ttrain-rmse:1.002593 \n",
      "[63]\ttrain-rmse:1.000684 \n",
      "[64]\ttrain-rmse:0.998148 \n",
      "[65]\ttrain-rmse:0.997340 \n",
      "[66]\ttrain-rmse:0.996160 \n",
      "[67]\ttrain-rmse:0.994860 \n",
      "[68]\ttrain-rmse:0.989007 \n",
      "[69]\ttrain-rmse:0.984227 \n",
      "[70]\ttrain-rmse:0.983224 \n",
      "[71]\ttrain-rmse:0.981628 \n",
      "[72]\ttrain-rmse:0.978017 \n",
      "[73]\ttrain-rmse:0.973731 \n",
      "[74]\ttrain-rmse:0.971315 \n",
      "[75]\ttrain-rmse:0.970008 \n",
      "[76]\ttrain-rmse:0.966452 \n",
      "[77]\ttrain-rmse:0.964646 \n",
      "[78]\ttrain-rmse:0.963973 \n",
      "[79]\ttrain-rmse:0.959277 \n",
      "[80]\ttrain-rmse:0.955238 \n",
      "[81]\ttrain-rmse:0.951740 \n",
      "[82]\ttrain-rmse:0.949378 \n",
      "[83]\ttrain-rmse:0.947686 \n",
      "[84]\ttrain-rmse:0.943598 \n",
      "[85]\ttrain-rmse:0.939183 \n",
      "[86]\ttrain-rmse:0.935631 \n",
      "[87]\ttrain-rmse:0.934019 \n",
      "[88]\ttrain-rmse:0.932799 \n",
      "[89]\ttrain-rmse:0.931981 \n",
      "[90]\ttrain-rmse:0.929868 \n",
      "[91]\ttrain-rmse:0.925964 \n",
      "[92]\ttrain-rmse:0.922929 \n",
      "[93]\ttrain-rmse:0.920852 \n",
      "[94]\ttrain-rmse:0.918379 \n",
      "[95]\ttrain-rmse:0.915754 \n",
      "[96]\ttrain-rmse:0.913080 \n",
      "[97]\ttrain-rmse:0.910744 \n",
      "[98]\ttrain-rmse:0.908847 \n",
      "[99]\ttrain-rmse:0.905589 \n",
      "[100]\ttrain-rmse:0.902661 \n"
     ]
    }
   ],
   "source": [
    "xgb_mean_reg <- xgboost(data = dtrain_xg_mean_reg, nround=100)"
   ]
  },
  {
   "cell_type": "code",
   "execution_count": 34,
   "id": "d6a8af30",
   "metadata": {
    "scrolled": true
   },
   "outputs": [
    {
     "name": "stdout",
     "output_type": "stream",
     "text": [
      "[1]\ttrain-mlogloss:1.540413 \n",
      "[2]\ttrain-mlogloss:1.490745 \n",
      "[3]\ttrain-mlogloss:1.452892 \n",
      "[4]\ttrain-mlogloss:1.422169 \n",
      "[5]\ttrain-mlogloss:1.395144 \n",
      "[6]\ttrain-mlogloss:1.373651 \n",
      "[7]\ttrain-mlogloss:1.354586 \n",
      "[8]\ttrain-mlogloss:1.336068 \n",
      "[9]\ttrain-mlogloss:1.322319 \n",
      "[10]\ttrain-mlogloss:1.306574 \n",
      "[11]\ttrain-mlogloss:1.294771 \n",
      "[12]\ttrain-mlogloss:1.281422 \n",
      "[13]\ttrain-mlogloss:1.266627 \n",
      "[14]\ttrain-mlogloss:1.257557 \n",
      "[15]\ttrain-mlogloss:1.248310 \n",
      "[16]\ttrain-mlogloss:1.236215 \n",
      "[17]\ttrain-mlogloss:1.225866 \n",
      "[18]\ttrain-mlogloss:1.219153 \n",
      "[19]\ttrain-mlogloss:1.212901 \n",
      "[20]\ttrain-mlogloss:1.205428 \n",
      "[21]\ttrain-mlogloss:1.196627 \n",
      "[22]\ttrain-mlogloss:1.191866 \n",
      "[23]\ttrain-mlogloss:1.184839 \n",
      "[24]\ttrain-mlogloss:1.176312 \n",
      "[25]\ttrain-mlogloss:1.169097 \n",
      "[26]\ttrain-mlogloss:1.163829 \n",
      "[27]\ttrain-mlogloss:1.158526 \n",
      "[28]\ttrain-mlogloss:1.152169 \n",
      "[29]\ttrain-mlogloss:1.145320 \n",
      "[30]\ttrain-mlogloss:1.139389 \n",
      "[31]\ttrain-mlogloss:1.133979 \n",
      "[32]\ttrain-mlogloss:1.128330 \n",
      "[33]\ttrain-mlogloss:1.120401 \n",
      "[34]\ttrain-mlogloss:1.112715 \n",
      "[35]\ttrain-mlogloss:1.108517 \n",
      "[36]\ttrain-mlogloss:1.101528 \n",
      "[37]\ttrain-mlogloss:1.096323 \n",
      "[38]\ttrain-mlogloss:1.091603 \n",
      "[39]\ttrain-mlogloss:1.085447 \n",
      "[40]\ttrain-mlogloss:1.080388 \n",
      "[41]\ttrain-mlogloss:1.073827 \n",
      "[42]\ttrain-mlogloss:1.065748 \n",
      "[43]\ttrain-mlogloss:1.060232 \n",
      "[44]\ttrain-mlogloss:1.053303 \n",
      "[45]\ttrain-mlogloss:1.048065 \n",
      "[46]\ttrain-mlogloss:1.041597 \n",
      "[47]\ttrain-mlogloss:1.034936 \n",
      "[48]\ttrain-mlogloss:1.028930 \n",
      "[49]\ttrain-mlogloss:1.022257 \n",
      "[50]\ttrain-mlogloss:1.019467 \n",
      "[51]\ttrain-mlogloss:1.014870 \n",
      "[52]\ttrain-mlogloss:1.010054 \n",
      "[53]\ttrain-mlogloss:1.004341 \n",
      "[54]\ttrain-mlogloss:0.997542 \n",
      "[55]\ttrain-mlogloss:0.991902 \n",
      "[56]\ttrain-mlogloss:0.987343 \n",
      "[57]\ttrain-mlogloss:0.983431 \n",
      "[58]\ttrain-mlogloss:0.978869 \n",
      "[59]\ttrain-mlogloss:0.974855 \n",
      "[60]\ttrain-mlogloss:0.966536 \n",
      "[61]\ttrain-mlogloss:0.961550 \n",
      "[62]\ttrain-mlogloss:0.956411 \n",
      "[63]\ttrain-mlogloss:0.951301 \n",
      "[64]\ttrain-mlogloss:0.945896 \n",
      "[65]\ttrain-mlogloss:0.941106 \n",
      "[66]\ttrain-mlogloss:0.936185 \n",
      "[67]\ttrain-mlogloss:0.931714 \n",
      "[68]\ttrain-mlogloss:0.925239 \n",
      "[69]\ttrain-mlogloss:0.921325 \n",
      "[70]\ttrain-mlogloss:0.915803 \n",
      "[71]\ttrain-mlogloss:0.911254 \n",
      "[72]\ttrain-mlogloss:0.906463 \n",
      "[73]\ttrain-mlogloss:0.901878 \n",
      "[74]\ttrain-mlogloss:0.895546 \n",
      "[75]\ttrain-mlogloss:0.892181 \n",
      "[76]\ttrain-mlogloss:0.886311 \n",
      "[77]\ttrain-mlogloss:0.880526 \n",
      "[78]\ttrain-mlogloss:0.875043 \n",
      "[79]\ttrain-mlogloss:0.871107 \n",
      "[80]\ttrain-mlogloss:0.867730 \n",
      "[81]\ttrain-mlogloss:0.863612 \n",
      "[82]\ttrain-mlogloss:0.859610 \n",
      "[83]\ttrain-mlogloss:0.854429 \n",
      "[84]\ttrain-mlogloss:0.848862 \n",
      "[85]\ttrain-mlogloss:0.844688 \n",
      "[86]\ttrain-mlogloss:0.840496 \n",
      "[87]\ttrain-mlogloss:0.837792 \n",
      "[88]\ttrain-mlogloss:0.835466 \n",
      "[89]\ttrain-mlogloss:0.831317 \n",
      "[90]\ttrain-mlogloss:0.827573 \n",
      "[91]\ttrain-mlogloss:0.821495 \n",
      "[92]\ttrain-mlogloss:0.816660 \n",
      "[93]\ttrain-mlogloss:0.813536 \n",
      "[94]\ttrain-mlogloss:0.808469 \n",
      "[95]\ttrain-mlogloss:0.804404 \n",
      "[96]\ttrain-mlogloss:0.798849 \n",
      "[97]\ttrain-mlogloss:0.795214 \n",
      "[98]\ttrain-mlogloss:0.791433 \n",
      "[99]\ttrain-mlogloss:0.788013 \n",
      "[100]\ttrain-mlogloss:0.783090 \n"
     ]
    }
   ],
   "source": [
    "xgb_mean_cl <- xgboost(data = dtrain_xg_mean_cl, nround=100, objective='multi:softmax',num_class=5)"
   ]
  },
  {
   "cell_type": "code",
   "execution_count": 35,
   "id": "ab96f1d0",
   "metadata": {
    "scrolled": true
   },
   "outputs": [
    {
     "name": "stdout",
     "output_type": "stream",
     "text": [
      "[LightGBM] [Info] Auto-choosing col-wise multi-threading, the overhead of testing was 0.015475 seconds.\n",
      "You can set `force_col_wise=true` to remove the overhead.\n",
      "[LightGBM] [Info] Total Bins 3402\n",
      "[LightGBM] [Info] Number of data points in the train set: 16214, number of used features: 14\n",
      "[LightGBM] [Info] Start training from score 2.256753\n"
     ]
    }
   ],
   "source": [
    "lgb_mean_reg <- lgb.train(data = dtrain_lg_mean_reg,nrounds = 100)"
   ]
  },
  {
   "cell_type": "code",
   "execution_count": null,
   "id": "65e20a4d",
   "metadata": {
    "scrolled": true
   },
   "outputs": [],
   "source": [
    "params <- list(objective = \"multiclass\",\n",
    "               num_class = 5, \n",
    "               metric = \"multi_logloss\")\n",
    "lgb_mean_cl <- lgb.train(data = dtrain_lg_mean_cl,params=params,nrounds = 100)"
   ]
  },
  {
   "cell_type": "code",
   "execution_count": null,
   "id": "573e5673",
   "metadata": {
    "scrolled": true
   },
   "outputs": [],
   "source": [
    "end_time = Sys.time()\n",
    "time_matrix[3,]=end_time-start_time"
   ]
  },
  {
   "cell_type": "code",
   "execution_count": null,
   "id": "319238cd",
   "metadata": {
    "scrolled": true
   },
   "outputs": [],
   "source": [
    "end_time-start_time"
   ]
  },
  {
   "cell_type": "code",
   "execution_count": null,
   "id": "2aff42bf",
   "metadata": {
    "scrolled": true
   },
   "outputs": [],
   "source": []
  },
  {
   "cell_type": "code",
   "execution_count": null,
   "id": "2125f5bb",
   "metadata": {},
   "outputs": [],
   "source": []
  },
  {
   "cell_type": "markdown",
   "id": "3eb6bbc5",
   "metadata": {},
   "source": [
    "## predict"
   ]
  },
  {
   "cell_type": "code",
   "execution_count": null,
   "id": "f78c2f5f",
   "metadata": {},
   "outputs": [],
   "source": [
    "start_time = Sys.time()"
   ]
  },
  {
   "cell_type": "code",
   "execution_count": null,
   "id": "0fcfca76",
   "metadata": {},
   "outputs": [],
   "source": [
    "alldatalgb <- lgb.Dataset(data = as.matrix(data))\n",
    "alldataxgb <- xgb.DMatrix(data = as.matrix(data))\n"
   ]
  },
  {
   "cell_type": "code",
   "execution_count": null,
   "id": "3385d016",
   "metadata": {},
   "outputs": [],
   "source": [
    "xgbregmin=predict(xgb_min_reg,alldataxgb)\n",
    "xgbclsmin=predict(xgb_min_cl,alldataxgb)\n",
    "lgbregmin=predict(lgb_min_reg,as.matrix(data))\n",
    "lgbclsmin=predict(lgb_min_cl,as.matrix(data))"
   ]
  },
  {
   "cell_type": "code",
   "execution_count": null,
   "id": "dd80d1dc",
   "metadata": {
    "scrolled": true
   },
   "outputs": [],
   "source": [
    "xgbregmin"
   ]
  },
  {
   "cell_type": "code",
   "execution_count": null,
   "id": "8b2adfb1",
   "metadata": {},
   "outputs": [],
   "source": [
    "xgbclsmin"
   ]
  },
  {
   "cell_type": "code",
   "execution_count": null,
   "id": "dbdff163",
   "metadata": {
    "scrolled": true
   },
   "outputs": [],
   "source": [
    "lgbregmin"
   ]
  },
  {
   "cell_type": "code",
   "execution_count": null,
   "id": "30763983",
   "metadata": {
    "scrolled": true
   },
   "outputs": [],
   "source": [
    "lgbclsmin"
   ]
  },
  {
   "cell_type": "code",
   "execution_count": null,
   "id": "fb78ace6",
   "metadata": {},
   "outputs": [],
   "source": [
    "datalength=dim(data)[1]\n",
    "lgbclsm=matrix(lgbclsmin,m,datalength)\n",
    "lgbclsminr=matrix(0,datalength,1)\n",
    "for(i in 1:datalength)\n",
    "    {\n",
    "    lgbclsminr[i,]=which.max(lgbclsm[,i])\n",
    "}\n",
    "lgbclsminr=lgbclsminr-1"
   ]
  },
  {
   "cell_type": "code",
   "execution_count": null,
   "id": "b5487f1b",
   "metadata": {
    "scrolled": true
   },
   "outputs": [],
   "source": [
    "lgbclsminr"
   ]
  },
  {
   "cell_type": "code",
   "execution_count": null,
   "id": "f89eeb36",
   "metadata": {},
   "outputs": [],
   "source": [
    "xgbregmean=predict(xgb_mean_reg,alldataxgb)\n",
    "xgbclsmean=predict(xgb_mean_cl,alldataxgb)\n",
    "lgbregmean=predict(lgb_mean_reg,as.matrix(data))\n",
    "lgbclsmean=predict(lgb_mean_cl,as.matrix(data))"
   ]
  },
  {
   "cell_type": "code",
   "execution_count": null,
   "id": "a1a9503d",
   "metadata": {},
   "outputs": [],
   "source": [
    "lgbclsm=matrix(lgbclsmean,m,datalength)\n",
    "lgbclsmeanr=matrix(0,datalength,1)\n",
    "for(i in 1:datalength)\n",
    "    {\n",
    "    lgbclsmeanr[i,]=which.max(lgbclsm[,i])\n",
    "}\n",
    "lgbclsmeanr=lgbclsmeanr-1"
   ]
  },
  {
   "cell_type": "code",
   "execution_count": null,
   "id": "4fb16777",
   "metadata": {},
   "outputs": [],
   "source": []
  },
  {
   "cell_type": "code",
   "execution_count": null,
   "id": "209a0baf",
   "metadata": {},
   "outputs": [],
   "source": [
    "preallmin=cbind(xgbclsmin,xgbregmin)\n",
    "preallmin=cbind(preallmin,lgbclsminr)\n",
    "preallmin=cbind(preallmin,lgbregmin)"
   ]
  },
  {
   "cell_type": "code",
   "execution_count": null,
   "id": "1cf23be6",
   "metadata": {},
   "outputs": [],
   "source": [
    "colnames(preallmin)=c('xgbclsmin','xgbregmin','lgbclsmin','lgbregmin')\n",
    "head(preallmin)"
   ]
  },
  {
   "cell_type": "code",
   "execution_count": null,
   "id": "daa4fc51",
   "metadata": {},
   "outputs": [],
   "source": [
    "preallmean=cbind(xgbclsmean,xgbregmean)\n",
    "preallmean=cbind(preallmean,lgbclsmeanr)\n",
    "preallmean=cbind(preallmean,lgbregmean)"
   ]
  },
  {
   "cell_type": "code",
   "execution_count": null,
   "id": "d42115aa",
   "metadata": {},
   "outputs": [],
   "source": [
    "head(preallmean)"
   ]
  },
  {
   "cell_type": "code",
   "execution_count": null,
   "id": "5bb8f656",
   "metadata": {},
   "outputs": [],
   "source": [
    "colnames(preallmean)=c('xgbclsmean','xgbregmean','lgbclsmean','lgbregmean')\n",
    "head(preallmean)"
   ]
  },
  {
   "cell_type": "code",
   "execution_count": null,
   "id": "34fa5e57",
   "metadata": {},
   "outputs": [],
   "source": [
    "end_time = Sys.time()\n",
    "time_matrix[4,]=end_time-start_time"
   ]
  },
  {
   "cell_type": "code",
   "execution_count": null,
   "id": "e1a8c56f",
   "metadata": {},
   "outputs": [],
   "source": [
    "result_list=list(preallmin,preallmean,time_matrix)"
   ]
  },
  {
   "cell_type": "code",
   "execution_count": 58,
   "id": "cd216911",
   "metadata": {},
   "outputs": [],
   "source": [
    "save(result_list, file = \"yearly_ets_opt_pre_result.RData\")"
   ]
  },
  {
   "cell_type": "code",
   "execution_count": 56,
   "id": "577727d7",
   "metadata": {
    "scrolled": true
   },
   "outputs": [
    {
     "data": {
      "text/html": [
       "<table class=\"dataframe\">\n",
       "<caption>A matrix: 4 × 3 of type dbl</caption>\n",
       "<thead>\n",
       "\t<tr><th scope=col>user_time</th><th scope=col>system_time</th><th scope=col>elapsed_time</th></tr>\n",
       "</thead>\n",
       "<tbody>\n",
       "\t<tr><td> 7.950534</td><td> 7.950534</td><td> 7.950534</td></tr>\n",
       "\t<tr><td>11.780916</td><td>11.780916</td><td>11.780916</td></tr>\n",
       "\t<tr><td>11.167580</td><td>11.167580</td><td>11.167580</td></tr>\n",
       "\t<tr><td> 1.693042</td><td> 1.693042</td><td> 1.693042</td></tr>\n",
       "</tbody>\n",
       "</table>\n"
      ],
      "text/latex": [
       "A matrix: 4 × 3 of type dbl\n",
       "\\begin{tabular}{lll}\n",
       " user\\_time & system\\_time & elapsed\\_time\\\\\n",
       "\\hline\n",
       "\t  7.950534 &  7.950534 &  7.950534\\\\\n",
       "\t 11.780916 & 11.780916 & 11.780916\\\\\n",
       "\t 11.167580 & 11.167580 & 11.167580\\\\\n",
       "\t  1.693042 &  1.693042 &  1.693042\\\\\n",
       "\\end{tabular}\n"
      ],
      "text/markdown": [
       "\n",
       "A matrix: 4 × 3 of type dbl\n",
       "\n",
       "| user_time | system_time | elapsed_time |\n",
       "|---|---|---|\n",
       "|  7.950534 |  7.950534 |  7.950534 |\n",
       "| 11.780916 | 11.780916 | 11.780916 |\n",
       "| 11.167580 | 11.167580 | 11.167580 |\n",
       "|  1.693042 |  1.693042 |  1.693042 |\n",
       "\n"
      ],
      "text/plain": [
       "     user_time system_time elapsed_time\n",
       "[1,]  7.950534  7.950534    7.950534   \n",
       "[2,] 11.780916 11.780916   11.780916   \n",
       "[3,] 11.167580 11.167580   11.167580   \n",
       "[4,]  1.693042  1.693042    1.693042   "
      ]
     },
     "metadata": {},
     "output_type": "display_data"
    }
   ],
   "source": [
    "time_matrix"
   ]
  },
  {
   "cell_type": "markdown",
   "id": "9336c1d6",
   "metadata": {},
   "source": [
    "## importance"
   ]
  },
  {
   "cell_type": "code",
   "execution_count": null,
   "id": "bde466c1",
   "metadata": {},
   "outputs": [],
   "source": [
    "# Gain: 这是每个特征在模型中所有树上的平均增益。增益可以理解为该特征在模型中的贡献度，增益越大，说明该特征对模型的贡献越大。\n",
    "# Cover: 这是每个特征在模型中所有树上的平均覆盖度。覆盖度可以理解为该特征在模型中的使用频率，覆盖度越大，说明该特征在模型中被使用的次数越多。\n",
    "# Frequency: 这是每个特征在模型中所有树上的平均频率。频率可以理解为该特征在模型中的出现频率，频率越大，说明该特征在模型中出现的次数越多。"
   ]
  },
  {
   "cell_type": "code",
   "execution_count": 60,
   "id": "7ba90adb",
   "metadata": {},
   "outputs": [
    {
     "name": "stdout",
     "output_type": "stream",
     "text": [
      "        Feature       Gain      Cover  Frequency\n",
      "         <char>      <num>      <num>      <num>\n",
      " 1:   curvature 0.13318866 0.10003757 0.08679146\n",
      " 2:   linearity 0.10816336 0.08745799 0.07334564\n",
      " 3:     x_acf10 0.07643827 0.08413122 0.06448721\n",
      " 4:      x_acf1 0.06865129 0.06205065 0.06469813\n",
      " 5: diff2_acf10 0.06106761 0.05963037 0.07387292\n",
      " 6:       trend 0.05924920 0.05745629 0.06380174\n",
      " 7:     entropy 0.05901644 0.06373588 0.06791458\n",
      " 8:   user_time 0.05897418 0.07312100 0.07798576\n",
      " 9:     e_acf10 0.05805579 0.05770081 0.06759821\n",
      "10:  diff2_acf1 0.05758011 0.06578198 0.06870551\n",
      "11:      e_acf1 0.05691593 0.07394342 0.06875824\n",
      "12:  diff1_acf1 0.05648173 0.06027870 0.06332718\n",
      "13: diff1_acf10 0.05516211 0.05574804 0.06733456\n",
      "14:       spike 0.05135071 0.05784317 0.05531242\n",
      "15:      length 0.03970460 0.04108290 0.03606644\n"
     ]
    }
   ],
   "source": [
    "# 计算特征重要性\n",
    "importance_matrix <- xgb.importance(model = xgb_min_cl)\n",
    "\n",
    "# 打印特征重要性\n",
    "print(importance_matrix)\n"
   ]
  },
  {
   "cell_type": "code",
   "execution_count": 57,
   "id": "b4dbcfe8",
   "metadata": {},
   "outputs": [
    {
     "name": "stdout",
     "output_type": "stream",
     "text": [
      "        Feature       Gain      Cover  Frequency\n",
      "         <char>      <num>      <num>      <num>\n",
      " 1:   curvature 0.18860844 0.09051332 0.10871816\n",
      " 2:   linearity 0.15162438 0.09331548 0.08718161\n",
      " 3:     x_acf10 0.06675630 0.07846791 0.06171050\n",
      " 4:       trend 0.06659397 0.05555134 0.12031476\n",
      " 5:      x_acf1 0.06544501 0.08924170 0.06626631\n",
      " 6:     entropy 0.05693773 0.09035364 0.07413543\n",
      " 7:       spike 0.05406016 0.06724694 0.06481673\n",
      " 8: diff1_acf10 0.05391065 0.05436043 0.06357424\n",
      " 9:      e_acf1 0.05389462 0.08325550 0.07185753\n",
      "10:  diff1_acf1 0.05219029 0.06399349 0.05819010\n",
      "11:  diff2_acf1 0.05215548 0.06749896 0.06626631\n",
      "12: diff2_acf10 0.05067173 0.06226543 0.06191758\n",
      "13:     e_acf10 0.04816695 0.06482431 0.06253883\n",
      "14:      length 0.03898430 0.03911154 0.03251191\n"
     ]
    }
   ],
   "source": [
    "# 计算特征重要性\n",
    "importance_matrix <- xgb.importance(model = xgb_min_reg)\n",
    "\n",
    "# 打印特征重要性\n",
    "print(importance_matrix)"
   ]
  },
  {
   "cell_type": "code",
   "execution_count": 63,
   "id": "3bf7a1a2",
   "metadata": {},
   "outputs": [
    {
     "name": "stdout",
     "output_type": "stream",
     "text": [
      "        Feature       Gain      Cover  Frequency\n",
      "         <char>      <num>      <num>      <num>\n",
      " 1:   curvature 0.12833812 0.09826938 0.08728230\n",
      " 2:   linearity 0.10164834 0.07681244 0.07401782\n",
      " 3:     x_acf10 0.07079384 0.07584538 0.06176590\n",
      " 4:       trend 0.06511468 0.08222895 0.06515796\n",
      " 5:      x_acf1 0.06372492 0.05533673 0.06409478\n",
      " 6:   user_time 0.06280081 0.06704799 0.07958688\n",
      " 7:  diff1_acf1 0.06216348 0.06096145 0.06303159\n",
      " 8:  diff2_acf1 0.05945629 0.06737611 0.07072701\n",
      " 9:     e_acf10 0.05880526 0.06684876 0.07006885\n",
      "10: diff2_acf10 0.05768665 0.06487358 0.07087890\n",
      "11: diff1_acf10 0.05698151 0.05802642 0.06875253\n",
      "12:     entropy 0.05655583 0.05105503 0.06652491\n",
      "13:      e_acf1 0.05623807 0.06661422 0.06561361\n",
      "14:       spike 0.04986320 0.06170801 0.05371608\n",
      "15:      length 0.04982903 0.04699554 0.03878088\n"
     ]
    }
   ],
   "source": [
    "# 计算特征重要性\n",
    "importance_matrix <- xgb.importance(model = xgb_mean_cl)\n",
    "\n",
    "# 打印特征重要性\n",
    "print(importance_matrix)"
   ]
  },
  {
   "cell_type": "code",
   "execution_count": 61,
   "id": "a9d593a2",
   "metadata": {},
   "outputs": [
    {
     "data": {
      "image/png": "[encoded data removed]",
      "text/plain": [
       "plot without title"
      ]
     },
     "metadata": {
      "image/png": {
       "height": 180,
       "width": 240
      }
     },
     "output_type": "display_data"
    }
   ],
   "source": [
    "# 绘制特征重要性柱状图\n",
    "xgb.plot.importance(importance_matrix)"
   ]
  },
  {
   "cell_type": "code",
   "execution_count": null,
   "id": "aa9a027e",
   "metadata": {},
   "outputs": [],
   "source": []
  },
  {
   "cell_type": "code",
   "execution_count": 66,
   "id": "3dae7a3a",
   "metadata": {},
   "outputs": [
    {
     "name": "stdout",
     "output_type": "stream",
     "text": [
      "        Feature       Gain      Cover  Frequency\n",
      "         <char>      <num>      <num>      <num>\n",
      " 1:   curvature 0.23525248 0.11567433 0.09200000\n",
      " 2:   linearity 0.19186341 0.12701357 0.09766667\n",
      " 3:      x_acf1 0.06500342 0.08152034 0.07933333\n",
      " 4:       trend 0.06398674 0.04913359 0.06200000\n",
      " 5:     x_acf10 0.05916298 0.06812408 0.07000000\n",
      " 6:      length 0.05167904 0.09383865 0.06433333\n",
      " 7:       spike 0.04275358 0.08060753 0.06200000\n",
      " 8:  diff1_acf1 0.04143776 0.05521600 0.06133333\n",
      " 9:     e_acf10 0.04038082 0.04803286 0.06433333\n",
      "10:      e_acf1 0.03730754 0.08505729 0.06300000\n",
      "11: diff2_acf10 0.03664839 0.03442293 0.05500000\n",
      "12: diff1_acf10 0.03530267 0.04259717 0.05466667\n",
      "13:  diff2_acf1 0.03504037 0.04893156 0.05800000\n",
      "14:     entropy 0.03375639 0.04140714 0.05733333\n",
      "15:   user_time 0.03042444 0.02842296 0.05900000\n"
     ]
    }
   ],
   "source": [
    "# 获取特征重要性\n",
    "importance_matrix <- lgb.importance(lgb_min_reg)\n",
    "\n",
    "# 打印特征重要性\n",
    "print(importance_matrix)"
   ]
  },
  {
   "cell_type": "code",
   "execution_count": 67,
   "id": "2ef9c409",
   "metadata": {},
   "outputs": [
    {
     "name": "stdout",
     "output_type": "stream",
     "text": [
      "        Feature       Gain      Cover  Frequency\n",
      "         <char>      <num>      <num>      <num>\n",
      " 1:   curvature 0.21764169 0.12241690 0.08766667\n",
      " 2:   linearity 0.19420557 0.12121103 0.09166667\n",
      " 3:       trend 0.07291947 0.06183429 0.06733333\n",
      " 4:      length 0.06964268 0.08264506 0.06600000\n",
      " 5:     x_acf10 0.05560298 0.08175808 0.07600000\n",
      " 6:      x_acf1 0.05294158 0.05313143 0.06566667\n",
      " 7:  diff2_acf1 0.04619420 0.07135062 0.06800000\n",
      " 8:  diff1_acf1 0.04533195 0.03972586 0.06500000\n",
      " 9: diff2_acf10 0.03827674 0.06713253 0.06233333\n",
      "10:      e_acf1 0.03815984 0.04564108 0.06500000\n",
      "11:     e_acf10 0.03807587 0.07578360 0.06133333\n",
      "12:     entropy 0.03665353 0.04701725 0.05833333\n",
      "13:   user_time 0.03356363 0.03977239 0.06300000\n",
      "14:       spike 0.03306350 0.05417599 0.05200000\n",
      "15: diff1_acf10 0.02772677 0.03640389 0.05066667\n"
     ]
    }
   ],
   "source": [
    "# 获取特征重要性\n",
    "importance_matrix <- lgb.importance(lgb_mean_reg)\n",
    "\n",
    "# 打印特征重要性\n",
    "print(importance_matrix)"
   ]
  },
  {
   "cell_type": "code",
   "execution_count": 60,
   "id": "e3ddf2ad",
   "metadata": {},
   "outputs": [
    {
     "name": "stdout",
     "output_type": "stream",
     "text": [
      "        Feature       Gain      Cover  Frequency\n",
      "         <char>      <num>      <num>      <num>\n",
      " 1:   curvature 0.15085290 0.12750149 0.09526667\n",
      " 2:   linearity 0.12822079 0.10660171 0.08993333\n",
      " 3:     x_acf10 0.07981527 0.10515355 0.07133333\n",
      " 4:      x_acf1 0.07429004 0.07024633 0.07233333\n",
      " 5:     e_acf10 0.06036501 0.04887475 0.07420000\n",
      " 6:       trend 0.05902638 0.06435619 0.06060000\n",
      " 7:  diff2_acf1 0.05860553 0.05589276 0.07266667\n",
      " 8:  diff1_acf1 0.05811128 0.05819941 0.06820000\n",
      " 9: diff2_acf10 0.05809184 0.05180272 0.07300000\n",
      "10: diff1_acf10 0.05657862 0.06069843 0.06953333\n",
      "11:     entropy 0.05611291 0.05294794 0.06906667\n",
      "12:      e_acf1 0.05550224 0.05195895 0.06840000\n",
      "13:      length 0.05249601 0.08094379 0.05486667\n",
      "14:       spike 0.05193117 0.06482200 0.06060000\n"
     ]
    }
   ],
   "source": [
    "# 获取特征重要性\n",
    "importance_matrix <- lgb.importance(lgb_min_cl)\n",
    "\n",
    "# 打印特征重要性\n",
    "print(importance_matrix)"
   ]
  },
  {
   "cell_type": "code",
   "execution_count": 62,
   "id": "66048e46",
   "metadata": {},
   "outputs": [
    {
     "name": "stdout",
     "output_type": "stream",
     "text": [
      "        Feature       Gain      Cover  Frequency\n",
      "         <char>      <num>      <num>      <num>\n",
      " 1:   curvature 0.14474470 0.11996704 0.08986667\n",
      " 2:   linearity 0.11046252 0.09661167 0.07960000\n",
      " 3:     x_acf10 0.07628207 0.08685195 0.07040000\n",
      " 4:      x_acf1 0.06470696 0.06614451 0.06586667\n",
      " 5:       trend 0.06341836 0.07317609 0.06093333\n",
      " 6:      length 0.06289241 0.08415385 0.05460000\n",
      " 7:  diff1_acf1 0.05866396 0.05173883 0.06153333\n",
      " 8:  diff2_acf1 0.05746372 0.04885604 0.06966667\n",
      " 9:     e_acf10 0.05544612 0.06177388 0.06906667\n",
      "10:   user_time 0.05504783 0.05661430 0.07313333\n",
      "11:      e_acf1 0.05317929 0.05434782 0.06473333\n",
      "12: diff2_acf10 0.05121959 0.04733056 0.06400000\n",
      "13:     entropy 0.05001800 0.04354174 0.06153333\n",
      "14:       spike 0.04835717 0.05522033 0.05346667\n",
      "15: diff1_acf10 0.04809730 0.05367141 0.06160000\n"
     ]
    }
   ],
   "source": [
    "# 获取特征重要性\n",
    "importance_matrix <- lgb.importance(lgb_mean_cl)\n",
    "\n",
    "# 打印特征重要性\n",
    "print(importance_matrix)"
   ]
  },
  {
   "cell_type": "code",
   "execution_count": 58,
   "id": "5c685c2a",
   "metadata": {},
   "outputs": [],
   "source": [
    "importance_matrix1 <- xgb.importance(model = xgb_mean_cl)\n",
    "importance_matrix2 <- xgb.importance(model = xgb_mean_reg)\n",
    "importance_matrix3 <- lgb.importance(lgb_mean_cl)\n",
    "importance_matrix4 <- lgb.importance(lgb_mean_reg)\n",
    "\n",
    "importance_matrix1=importance_matrix1[order(importance_matrix1$Feature),]\n",
    "importance_matrix2=importance_matrix2[order(importance_matrix2$Feature),]\n",
    "importance_matrix3=importance_matrix3[order(importance_matrix3$Feature),]\n",
    "importance_matrix4=importance_matrix4[order(importance_matrix4$Feature),]\n",
    "\n",
    "importance_matrix_mean=(importance_matrix1[,2:4]+importance_matrix2[,2:4]+importance_matrix3[,2:4]+importance_matrix4[,2:4])/4\n",
    "\n",
    "importance=cbind(importance_matrix1[,1],importance_matrix_mean)\n",
    "\n",
    "write.csv(importance,'y_ets_imp_mean.csv')"
   ]
  },
  {
   "cell_type": "code",
   "execution_count": 59,
   "id": "132278a4",
   "metadata": {},
   "outputs": [],
   "source": [
    "# 使用saveRDS保存模型到.rds文件\n",
    "saveRDS(xgb_mean_reg, file = \"Y_etsxgbreg.rds\")\n",
    "saveRDS(xgb_mean_cl, file = \"Y_etsxgbcls.rds\")\n",
    "saveRDS(lgb_mean_reg, file = \"Y_etslgbreg.rds\")\n",
    "saveRDS(lgb_mean_cl, file = \"Y_etslgbcls.rds\")"
   ]
  },
  {
   "cell_type": "code",
   "execution_count": null,
   "id": "19595ae5",
   "metadata": {},
   "outputs": [],
   "source": []
  }
 ],
 "metadata": {
  "kernelspec": {
   "display_name": "R",
   "language": "R",
   "name": "ir"
  },
  "language_info": {
   "codemirror_mode": "r",
   "file_extension": ".r",
   "mimetype": "text/x-r-source",
   "name": "R",
   "pygments_lexer": "r",
   "version": "4.1.2"
  }
 },
 "nbformat": 4,
 "nbformat_minor": 5
}
