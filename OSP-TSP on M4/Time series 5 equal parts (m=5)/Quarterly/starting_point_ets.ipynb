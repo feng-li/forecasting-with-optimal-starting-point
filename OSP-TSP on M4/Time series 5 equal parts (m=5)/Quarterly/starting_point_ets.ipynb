{
 "cells": [
  {
   "cell_type": "code",
   "execution_count": 1,
   "id": "6bdf60fd",
   "metadata": {},
   "outputs": [
    {
     "name": "stderr",
     "output_type": "stream",
     "text": [
      "Registered S3 method overwritten by 'quantmod':\n",
      "  method            from\n",
      "  as.zoo.data.frame zoo \n",
      "\n",
      "\n",
      "Attaching package: ‘dplyr’\n",
      "\n",
      "\n",
      "The following objects are masked from ‘package:stats’:\n",
      "\n",
      "    filter, lag\n",
      "\n",
      "\n",
      "The following objects are masked from ‘package:base’:\n",
      "\n",
      "    intersect, setdiff, setequal, union\n",
      "\n",
      "\n"
     ]
    }
   ],
   "source": [
    "library(M4comp2018)\n",
    "library(forecast)\n",
    "library(dplyr)"
   ]
  },
  {
   "cell_type": "code",
   "execution_count": 2,
   "id": "6954241a",
   "metadata": {},
   "outputs": [],
   "source": [
    "Quarterly_M4 <- Filter(function(l) l$period == \"Quarterly\", M4)"
   ]
  },
  {
   "cell_type": "code",
   "execution_count": 3,
   "id": "574d82de",
   "metadata": {},
   "outputs": [],
   "source": [
    "data=Quarterly_M4"
   ]
  },
  {
   "cell_type": "code",
   "execution_count": 4,
   "id": "4c9297e5",
   "metadata": {},
   "outputs": [],
   "source": [
    "# pre_forecast_ets=function(data,freq,h,n,m,train_index)\n",
    "# {\n",
    "#     data_length=length(data)\n",
    "#     pred = array(0,dim = c(data_length,n,m,6))\n",
    "#     predh = array(0,dim = c(data_length,n,m,6))\n",
    "#     train_time = numeric(data_length)\n",
    "#     test_time = numeric(data_length)\n",
    "#     for(k in 1:data_length){\n",
    "#         start_time = Sys.time()\n",
    "#         data=Yearly_M4\n",
    "#         y = data[[k]]$x\n",
    "#         y_pred = data[[k]]$xx\n",
    "#         y_l=length(y)\n",
    "#         loc = 1:length(y)\n",
    "#         loc_n = as.integer(loc*n/length(y))\n",
    "#         filt_d = data.frame(y,loc_n)\n",
    "#         filt_0=filter(filt_d ,loc_n==0)\n",
    "#         n_l=count(filt_0)\n",
    "#         m_l=n_l/m\n",
    "#         n_l=as.integer(n_l)\n",
    "#         m_l=as.numeric(m_l)\n",
    "#         for(i in 0:(n-1)){\n",
    "#             for(j in 0:(m-1)){\n",
    "#                 Y = ts(y[round((i*n_l+j*m_l)+1):y_l], end = end(y), frequency=freq)\n",
    "#                 M = ets(Y) \n",
    "#                 pd=forecast(M, h=h)\n",
    "#                 predh[k,(i+1),(j+1),] =pd$mean \n",
    "#                 pred[k,(i+1),(j+1),] = accuracy(pd, y_pred)[2,1:6]\n",
    "#             }\n",
    "#         }\n",
    "#         end_time = Sys.time()\n",
    "#         if (k %in% train_index) {\n",
    "#             train_time[k] = end_time - start_time\n",
    "#         } else {\n",
    "#             test_time[k] = end_time - start_time\n",
    "#         }\n",
    "#     }\n",
    "#     return(list(pred, predh, train_time, test_time))\n",
    "# }"
   ]
  },
  {
   "cell_type": "code",
   "execution_count": 5,
   "id": "34b4353a",
   "metadata": {},
   "outputs": [],
   "source": [
    "pre_forecast_ets=function(data,freq,h,m,n,train_index)\n",
    "{\n",
    "    data_length=length(data)\n",
    "    pred = array(0,dim = c(data_length,m,n,6))\n",
    "    predh = array(0,dim = c(data_length,m,n,h))\n",
    "    train_matrix <- matrix(0,ncol = 3, nrow =data_length)\n",
    "    test_matrix <- matrix(0,ncol = 3, nrow =data_length)\n",
    "    colnames(train_matrix) <- c(\"user_time\", \"system_time\", \"elapsed_time\")\n",
    "    colnames(test_matrix) <- c(\"user_time\", \"system_time\", \"elapsed_time\")\n",
    "    for(k in 1:data_length){\n",
    "        start_time = Sys.time()\n",
    "        y = data[[k]]$x\n",
    "        y_pred = data[[k]]$xx\n",
    "        y_l=length(y)\n",
    "        loc = 1:length(y)\n",
    "        loc_m = as.integer(loc*m/length(y))\n",
    "        filt_d = data.frame(y,loc_m)\n",
    "        filt_0=filter(filt_d ,loc_m==0)\n",
    "        m_l=count(filt_0)\n",
    "        n_l=m_l/n\n",
    "        m_l=as.integer(m_l)\n",
    "        n_l=as.numeric(n_l)\n",
    "        for(i in 0:(m-1)){\n",
    "            for(j in 0:(n-1)){\n",
    "                Y = ts(y[round((i*m_l+j*n_l)+1):y_l], end = end(y), frequency=freq)\n",
    "                M = ets(Y) \n",
    "                pd=forecast(M, h=h)\n",
    "                predh[k,(i+1),(j+1),] =pd$mean \n",
    "                pred[k,(i+1),(j+1),] = accuracy(pd, y_pred)[2,1:6]\n",
    "            }\n",
    "        }\n",
    "        end_time = Sys.time()\n",
    "        if (k %in% train_index) {\n",
    "            train_matrix[k,] = end_time - start_time\n",
    "        } else {\n",
    "            test_matrix[k,] = end_time - start_time\n",
    "        }\n",
    "    }\n",
    "    return(list(pred, predh, train_matrix, test_matrix))\n",
    "}"
   ]
  },
  {
   "cell_type": "code",
   "execution_count": 6,
   "id": "529b0482",
   "metadata": {},
   "outputs": [],
   "source": [
    "set.seed(100)\n",
    "index = sample(2,length(data),replace = TRUE,prob=c(0.7,0.3))\n",
    "trainindex=c(1:length(data))[index==1]"
   ]
  },
  {
   "cell_type": "code",
   "execution_count": 7,
   "id": "eb33c4fe",
   "metadata": {},
   "outputs": [
    {
     "data": {
      "text/html": [
       "<style>\n",
       ".list-inline {list-style: none; margin:0; padding: 0}\n",
       ".list-inline>li {display: inline-block}\n",
       ".list-inline>li:not(:last-child)::after {content: \"\\00b7\"; padding: 0 .5ex}\n",
       "</style>\n",
       "<ol class=list-inline><li>1</li><li>2</li><li>3</li><li>4</li><li>5</li><li>6</li></ol>\n"
      ],
      "text/latex": [
       "\\begin{enumerate*}\n",
       "\\item 1\n",
       "\\item 2\n",
       "\\item 3\n",
       "\\item 4\n",
       "\\item 5\n",
       "\\item 6\n",
       "\\end{enumerate*}\n"
      ],
      "text/markdown": [
       "1. 1\n",
       "2. 2\n",
       "3. 3\n",
       "4. 4\n",
       "5. 5\n",
       "6. 6\n",
       "\n",
       "\n"
      ],
      "text/plain": [
       "[1] 1 2 3 4 5 6"
      ]
     },
     "metadata": {},
     "output_type": "display_data"
    }
   ],
   "source": [
    "head(trainindex)"
   ]
  },
  {
   "cell_type": "code",
   "execution_count": 8,
   "id": "4e719b99",
   "metadata": {},
   "outputs": [
    {
     "data": {
      "text/html": [
       "24000"
      ],
      "text/latex": [
       "24000"
      ],
      "text/markdown": [
       "24000"
      ],
      "text/plain": [
       "[1] 24000"
      ]
     },
     "metadata": {},
     "output_type": "display_data"
    }
   ],
   "source": [
    "length(data)"
   ]
  },
  {
   "cell_type": "code",
   "execution_count": null,
   "id": "77758b7f",
   "metadata": {},
   "outputs": [],
   "source": [
    "datalist=pre_forecast_ets(data,4,8,5,4,trainindex)"
   ]
  },
  {
   "cell_type": "code",
   "execution_count": null,
   "id": "98d9c9a6",
   "metadata": {},
   "outputs": [],
   "source": [
    "save(datalist, file = \"Quarterly_ets_datalist.RData\")"
   ]
  },
  {
   "cell_type": "code",
   "execution_count": null,
   "id": "a7628ecb",
   "metadata": {},
   "outputs": [],
   "source": []
  },
  {
   "cell_type": "code",
   "execution_count": null,
   "id": "58b910b2",
   "metadata": {},
   "outputs": [],
   "source": []
  },
  {
   "cell_type": "code",
   "execution_count": null,
   "id": "708cb51b",
   "metadata": {},
   "outputs": [],
   "source": []
  },
  {
   "cell_type": "code",
   "execution_count": null,
   "id": "e9e151b2",
   "metadata": {},
   "outputs": [],
   "source": []
  },
  {
   "cell_type": "code",
   "execution_count": null,
   "id": "117cdfbe",
   "metadata": {},
   "outputs": [],
   "source": []
  },
  {
   "cell_type": "code",
   "execution_count": null,
   "id": "ff4eb4db",
   "metadata": {},
   "outputs": [],
   "source": []
  },
  {
   "cell_type": "code",
   "execution_count": null,
   "id": "b4f26535",
   "metadata": {},
   "outputs": [],
   "source": []
  },
  {
   "cell_type": "code",
   "execution_count": null,
   "id": "bccfe81c",
   "metadata": {},
   "outputs": [],
   "source": []
  },
  {
   "cell_type": "code",
   "execution_count": null,
   "id": "646fc2e6",
   "metadata": {},
   "outputs": [],
   "source": []
  },
  {
   "cell_type": "code",
   "execution_count": null,
   "id": "ccd1ebbb",
   "metadata": {},
   "outputs": [],
   "source": []
  },
  {
   "cell_type": "code",
   "execution_count": null,
   "id": "e41dc7ea",
   "metadata": {},
   "outputs": [],
   "source": []
  },
  {
   "cell_type": "code",
   "execution_count": null,
   "id": "f1107679",
   "metadata": {},
   "outputs": [],
   "source": []
  },
  {
   "cell_type": "code",
   "execution_count": null,
   "id": "75011fa1",
   "metadata": {},
   "outputs": [],
   "source": []
  },
  {
   "cell_type": "code",
   "execution_count": null,
   "id": "440e8c5d",
   "metadata": {},
   "outputs": [],
   "source": []
  },
  {
   "cell_type": "code",
   "execution_count": null,
   "id": "60fc49a6",
   "metadata": {},
   "outputs": [],
   "source": []
  },
  {
   "cell_type": "code",
   "execution_count": null,
   "id": "4c267fa9",
   "metadata": {},
   "outputs": [],
   "source": []
  },
  {
   "cell_type": "code",
   "execution_count": null,
   "id": "f41ed422",
   "metadata": {},
   "outputs": [],
   "source": []
  },
  {
   "cell_type": "code",
   "execution_count": null,
   "id": "5a1d17fb",
   "metadata": {},
   "outputs": [],
   "source": []
  },
  {
   "cell_type": "code",
   "execution_count": null,
   "id": "1f98768c",
   "metadata": {},
   "outputs": [],
   "source": []
  },
  {
   "cell_type": "code",
   "execution_count": null,
   "id": "163717bf",
   "metadata": {},
   "outputs": [],
   "source": []
  }
 ],
 "metadata": {
  "kernelspec": {
   "display_name": "R",
   "language": "R",
   "name": "ir"
  },
  "language_info": {
   "codemirror_mode": "r",
   "file_extension": ".r",
   "mimetype": "text/x-r-source",
   "name": "R",
   "pygments_lexer": "r",
   "version": "4.1.2"
  }
 },
 "nbformat": 4,
 "nbformat_minor": 5
}
