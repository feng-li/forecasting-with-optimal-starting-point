{
 "cells": [
  {
   "cell_type": "code",
   "execution_count": 1,
   "id": "59dd1c7a",
   "metadata": {
    "scrolled": true
   },
   "outputs": [
    {
     "name": "stderr",
     "output_type": "stream",
     "text": [
      "Registered S3 method overwritten by 'quantmod':\n",
      "  method            from\n",
      "  as.zoo.data.frame zoo \n",
      "\n",
      "\n",
      "Attaching package: ‘dplyr’\n",
      "\n",
      "\n",
      "The following objects are masked from ‘package:stats’:\n",
      "\n",
      "    filter, lag\n",
      "\n",
      "\n",
      "The following objects are masked from ‘package:base’:\n",
      "\n",
      "    intersect, setdiff, setequal, union\n",
      "\n",
      "\n"
     ]
    }
   ],
   "source": [
    "library(forecast)\n",
    "library(M4comp2018)\n",
    "library(dplyr)"
   ]
  },
  {
   "cell_type": "code",
   "execution_count": 2,
   "id": "31ee53a4",
   "metadata": {},
   "outputs": [],
   "source": [
    "etsl=load('week_ets_datalist.RData')\n",
    "ets_datalist <- eval(parse(text = etsl))\n",
    "thetafl=load('week_thetaf_datalist.RData')\n",
    "thetaf_datalist <- eval(parse(text = thetafl))"
   ]
  },
  {
   "cell_type": "code",
   "execution_count": 3,
   "id": "abca63bf",
   "metadata": {},
   "outputs": [],
   "source": [
    "ets_predh=ets_datalist[[2]]\n",
    "thetaf_predh=thetaf_datalist[[2]]"
   ]
  },
  {
   "cell_type": "code",
   "execution_count": 4,
   "id": "1ccf31dd",
   "metadata": {},
   "outputs": [],
   "source": [
    "ets_pred_res=ets_datalist[[1]]\n",
    "thetaf_pred_res=thetaf_datalist[[1]]"
   ]
  },
  {
   "cell_type": "code",
   "execution_count": 5,
   "id": "255d5644",
   "metadata": {},
   "outputs": [],
   "source": [
    "etsoptl=load('weekly_ets_opt_pre_result.RData')\n",
    "ets_opt_pre_list<- eval(parse(text = etsoptl))\n",
    "thetafoptl=load('weekly_thetaf_opt_pre_result.RData')\n",
    "thetaf_opt_pre_list<- eval(parse(text = thetafoptl))"
   ]
  },
  {
   "cell_type": "code",
   "execution_count": 6,
   "id": "68844801",
   "metadata": {},
   "outputs": [],
   "source": [
    "time_matrix <- matrix(0,ncol = 3, nrow =3)\n",
    "colnames(time_matrix) <- c(\"user_time\", \"system_time\", \"elapsed_time\")\n",
    "start_time = Sys.time()"
   ]
  },
  {
   "cell_type": "code",
   "execution_count": 7,
   "id": "498e324f",
   "metadata": {},
   "outputs": [],
   "source": [
    "ets_pr_min=ets_opt_pre_list[[1]]\n",
    "ets_pr_mean=ets_opt_pre_list[[2]]\n",
    "thetaf_pr_min=thetaf_opt_pre_list[[1]]\n",
    "thetaf_pr_mean=thetaf_opt_pre_list[[2]]"
   ]
  },
  {
   "cell_type": "code",
   "execution_count": 8,
   "id": "eee54a36",
   "metadata": {},
   "outputs": [
    {
     "data": {
      "text/html": [
       "<table class=\"dataframe\">\n",
       "<caption>A matrix: 6 × 4 of type dbl</caption>\n",
       "<thead>\n",
       "\t<tr><th scope=col>xgbclsmin</th><th scope=col>xgbregmin</th><th scope=col>lgbclsmin</th><th scope=col>lgbregmin</th></tr>\n",
       "</thead>\n",
       "<tbody>\n",
       "\t<tr><td>4</td><td> 4.0002679825</td><td>4</td><td>3.88148185</td></tr>\n",
       "\t<tr><td>4</td><td> 3.9983553886</td><td>0</td><td>4.05099395</td></tr>\n",
       "\t<tr><td>4</td><td> 4.0006723404</td><td>1</td><td>4.06134082</td></tr>\n",
       "\t<tr><td>1</td><td> 0.9991121888</td><td>3</td><td>0.86301980</td></tr>\n",
       "\t<tr><td>0</td><td>-0.0005784677</td><td>4</td><td>0.05222995</td></tr>\n",
       "\t<tr><td>0</td><td>-0.0002692383</td><td>3</td><td>0.03920312</td></tr>\n",
       "</tbody>\n",
       "</table>\n"
      ],
      "text/latex": [
       "A matrix: 6 × 4 of type dbl\n",
       "\\begin{tabular}{llll}\n",
       " xgbclsmin & xgbregmin & lgbclsmin & lgbregmin\\\\\n",
       "\\hline\n",
       "\t 4 &  4.0002679825 & 4 & 3.88148185\\\\\n",
       "\t 4 &  3.9983553886 & 0 & 4.05099395\\\\\n",
       "\t 4 &  4.0006723404 & 1 & 4.06134082\\\\\n",
       "\t 1 &  0.9991121888 & 3 & 0.86301980\\\\\n",
       "\t 0 & -0.0005784677 & 4 & 0.05222995\\\\\n",
       "\t 0 & -0.0002692383 & 3 & 0.03920312\\\\\n",
       "\\end{tabular}\n"
      ],
      "text/markdown": [
       "\n",
       "A matrix: 6 × 4 of type dbl\n",
       "\n",
       "| xgbclsmin | xgbregmin | lgbclsmin | lgbregmin |\n",
       "|---|---|---|---|\n",
       "| 4 |  4.0002679825 | 4 | 3.88148185 |\n",
       "| 4 |  3.9983553886 | 0 | 4.05099395 |\n",
       "| 4 |  4.0006723404 | 1 | 4.06134082 |\n",
       "| 1 |  0.9991121888 | 3 | 0.86301980 |\n",
       "| 0 | -0.0005784677 | 4 | 0.05222995 |\n",
       "| 0 | -0.0002692383 | 3 | 0.03920312 |\n",
       "\n"
      ],
      "text/plain": [
       "     xgbclsmin xgbregmin     lgbclsmin lgbregmin \n",
       "[1,] 4          4.0002679825 4         3.88148185\n",
       "[2,] 4          3.9983553886 0         4.05099395\n",
       "[3,] 4          4.0006723404 1         4.06134082\n",
       "[4,] 1          0.9991121888 3         0.86301980\n",
       "[5,] 0         -0.0005784677 4         0.05222995\n",
       "[6,] 0         -0.0002692383 3         0.03920312"
      ]
     },
     "metadata": {},
     "output_type": "display_data"
    }
   ],
   "source": [
    "head(ets_pr_min)"
   ]
  },
  {
   "cell_type": "code",
   "execution_count": null,
   "id": "e54d183c",
   "metadata": {},
   "outputs": [],
   "source": []
  },
  {
   "cell_type": "code",
   "execution_count": 9,
   "id": "63a87146",
   "metadata": {},
   "outputs": [],
   "source": [
    "ets_pr_min=ets_pr_min+1\n",
    "ets_pr_mean=ets_pr_mean+1\n",
    "thetaf_pr_min=thetaf_pr_min+1\n",
    "thetaf_pr_mean=thetaf_pr_mean+1\n"
   ]
  },
  {
   "cell_type": "code",
   "execution_count": 10,
   "id": "00a40f74",
   "metadata": {},
   "outputs": [
    {
     "data": {
      "text/html": [
       "<table class=\"dataframe\">\n",
       "<caption>A matrix: 6 × 4 of type dbl</caption>\n",
       "<thead>\n",
       "\t<tr><th scope=col>xgbclsmin</th><th scope=col>xgbregmin</th><th scope=col>lgbclsmin</th><th scope=col>lgbregmin</th></tr>\n",
       "</thead>\n",
       "<tbody>\n",
       "\t<tr><td>5</td><td>5.0002680</td><td>5</td><td>4.881482</td></tr>\n",
       "\t<tr><td>5</td><td>4.9983554</td><td>1</td><td>5.050994</td></tr>\n",
       "\t<tr><td>5</td><td>5.0006723</td><td>2</td><td>5.061341</td></tr>\n",
       "\t<tr><td>2</td><td>1.9991122</td><td>4</td><td>1.863020</td></tr>\n",
       "\t<tr><td>1</td><td>0.9994215</td><td>5</td><td>1.052230</td></tr>\n",
       "\t<tr><td>1</td><td>0.9997308</td><td>4</td><td>1.039203</td></tr>\n",
       "</tbody>\n",
       "</table>\n"
      ],
      "text/latex": [
       "A matrix: 6 × 4 of type dbl\n",
       "\\begin{tabular}{llll}\n",
       " xgbclsmin & xgbregmin & lgbclsmin & lgbregmin\\\\\n",
       "\\hline\n",
       "\t 5 & 5.0002680 & 5 & 4.881482\\\\\n",
       "\t 5 & 4.9983554 & 1 & 5.050994\\\\\n",
       "\t 5 & 5.0006723 & 2 & 5.061341\\\\\n",
       "\t 2 & 1.9991122 & 4 & 1.863020\\\\\n",
       "\t 1 & 0.9994215 & 5 & 1.052230\\\\\n",
       "\t 1 & 0.9997308 & 4 & 1.039203\\\\\n",
       "\\end{tabular}\n"
      ],
      "text/markdown": [
       "\n",
       "A matrix: 6 × 4 of type dbl\n",
       "\n",
       "| xgbclsmin | xgbregmin | lgbclsmin | lgbregmin |\n",
       "|---|---|---|---|\n",
       "| 5 | 5.0002680 | 5 | 4.881482 |\n",
       "| 5 | 4.9983554 | 1 | 5.050994 |\n",
       "| 5 | 5.0006723 | 2 | 5.061341 |\n",
       "| 2 | 1.9991122 | 4 | 1.863020 |\n",
       "| 1 | 0.9994215 | 5 | 1.052230 |\n",
       "| 1 | 0.9997308 | 4 | 1.039203 |\n",
       "\n"
      ],
      "text/plain": [
       "     xgbclsmin xgbregmin lgbclsmin lgbregmin\n",
       "[1,] 5         5.0002680 5         4.881482 \n",
       "[2,] 5         4.9983554 1         5.050994 \n",
       "[3,] 5         5.0006723 2         5.061341 \n",
       "[4,] 2         1.9991122 4         1.863020 \n",
       "[5,] 1         0.9994215 5         1.052230 \n",
       "[6,] 1         0.9997308 4         1.039203 "
      ]
     },
     "metadata": {},
     "output_type": "display_data"
    }
   ],
   "source": [
    "head(ets_pr_min)"
   ]
  },
  {
   "cell_type": "code",
   "execution_count": null,
   "id": "279d9559",
   "metadata": {},
   "outputs": [],
   "source": []
  },
  {
   "cell_type": "code",
   "execution_count": 11,
   "id": "f543011d",
   "metadata": {},
   "outputs": [],
   "source": [
    "round5=function(x)\n",
    "    {\n",
    "    l=round(x)\n",
    "    for(i in 1:length(l))\n",
    "    {\n",
    "    if(l[i]>5)\n",
    "        {\n",
    "        l[i]=5\n",
    "    }\n",
    "    if(l[i]<1)\n",
    "    {\n",
    "        l[i]=1\n",
    "    }\n",
    "}\n",
    "    return(l)\n",
    "}"
   ]
  },
  {
   "cell_type": "code",
   "execution_count": 12,
   "id": "fe292963",
   "metadata": {},
   "outputs": [],
   "source": [
    "ets_pr_min[,2]=round5(ets_pr_min[,2])\n",
    "ets_pr_min[,4]=round5(ets_pr_min[,4])"
   ]
  },
  {
   "cell_type": "code",
   "execution_count": 13,
   "id": "77e9a153",
   "metadata": {},
   "outputs": [],
   "source": [
    "ets_pr_mean[,2]=round5(ets_pr_mean[,2])\n",
    "ets_pr_mean[,4]=round5(ets_pr_mean[,4])"
   ]
  },
  {
   "cell_type": "code",
   "execution_count": 14,
   "id": "50bddbd6",
   "metadata": {},
   "outputs": [],
   "source": [
    "thetaf_pr_min[,2]=round5(thetaf_pr_min[,2])\n",
    "thetaf_pr_min[,4]=round5(thetaf_pr_min[,4])"
   ]
  },
  {
   "cell_type": "code",
   "execution_count": 15,
   "id": "fa0d514c",
   "metadata": {},
   "outputs": [],
   "source": [
    "thetaf_pr_mean[,2]=round5(thetaf_pr_mean[,2])\n",
    "thetaf_pr_mean[,4]=round5(thetaf_pr_mean[,4])"
   ]
  },
  {
   "cell_type": "code",
   "execution_count": 16,
   "id": "7493474b",
   "metadata": {},
   "outputs": [
    {
     "data": {
      "text/html": [
       "<table class=\"dataframe\">\n",
       "<caption>A matrix: 6 × 4 of type dbl</caption>\n",
       "<thead>\n",
       "\t<tr><th scope=col>xgbclsmin</th><th scope=col>xgbregmin</th><th scope=col>lgbclsmin</th><th scope=col>lgbregmin</th></tr>\n",
       "</thead>\n",
       "<tbody>\n",
       "\t<tr><td>5</td><td>5</td><td>5</td><td>5</td></tr>\n",
       "\t<tr><td>5</td><td>5</td><td>1</td><td>5</td></tr>\n",
       "\t<tr><td>5</td><td>5</td><td>2</td><td>5</td></tr>\n",
       "\t<tr><td>2</td><td>2</td><td>4</td><td>2</td></tr>\n",
       "\t<tr><td>1</td><td>1</td><td>5</td><td>1</td></tr>\n",
       "\t<tr><td>1</td><td>1</td><td>4</td><td>1</td></tr>\n",
       "</tbody>\n",
       "</table>\n"
      ],
      "text/latex": [
       "A matrix: 6 × 4 of type dbl\n",
       "\\begin{tabular}{llll}\n",
       " xgbclsmin & xgbregmin & lgbclsmin & lgbregmin\\\\\n",
       "\\hline\n",
       "\t 5 & 5 & 5 & 5\\\\\n",
       "\t 5 & 5 & 1 & 5\\\\\n",
       "\t 5 & 5 & 2 & 5\\\\\n",
       "\t 2 & 2 & 4 & 2\\\\\n",
       "\t 1 & 1 & 5 & 1\\\\\n",
       "\t 1 & 1 & 4 & 1\\\\\n",
       "\\end{tabular}\n"
      ],
      "text/markdown": [
       "\n",
       "A matrix: 6 × 4 of type dbl\n",
       "\n",
       "| xgbclsmin | xgbregmin | lgbclsmin | lgbregmin |\n",
       "|---|---|---|---|\n",
       "| 5 | 5 | 5 | 5 |\n",
       "| 5 | 5 | 1 | 5 |\n",
       "| 5 | 5 | 2 | 5 |\n",
       "| 2 | 2 | 4 | 2 |\n",
       "| 1 | 1 | 5 | 1 |\n",
       "| 1 | 1 | 4 | 1 |\n",
       "\n"
      ],
      "text/plain": [
       "     xgbclsmin xgbregmin lgbclsmin lgbregmin\n",
       "[1,] 5         5         5         5        \n",
       "[2,] 5         5         1         5        \n",
       "[3,] 5         5         2         5        \n",
       "[4,] 2         2         4         2        \n",
       "[5,] 1         1         5         1        \n",
       "[6,] 1         1         4         1        "
      ]
     },
     "metadata": {},
     "output_type": "display_data"
    }
   ],
   "source": [
    "head(ets_pr_min)"
   ]
  },
  {
   "cell_type": "code",
   "execution_count": 17,
   "id": "b773279f",
   "metadata": {},
   "outputs": [],
   "source": [
    "Weekly_M4 <- Filter(function(l) l$period == \"Weekly\", M4)"
   ]
  },
  {
   "cell_type": "code",
   "execution_count": 18,
   "id": "57040935",
   "metadata": {},
   "outputs": [],
   "source": [
    "data=Weekly_M4"
   ]
  },
  {
   "cell_type": "code",
   "execution_count": 19,
   "id": "837a8e12",
   "metadata": {},
   "outputs": [],
   "source": [
    "datalength=length(data)\n",
    "h=data[[1]]$h\n",
    "m=5\n",
    "n=4\n",
    "freq=frequency(data[[1]]$x)"
   ]
  },
  {
   "cell_type": "code",
   "execution_count": 20,
   "id": "3f19415d",
   "metadata": {},
   "outputs": [],
   "source": [
    "realxx=matrix(0,datalength,h)\n",
    "for(i in 1:datalength){\n",
    "    realxx[i,]=data[[i]]$xx\n",
    "}"
   ]
  },
  {
   "cell_type": "code",
   "execution_count": 21,
   "id": "687be7cf",
   "metadata": {},
   "outputs": [],
   "source": [
    "length5=matrix(0,datalength,m)\n",
    "for(k in 1:datalength)\n",
    "{\n",
    "y = data[[k]]$x\n",
    "y_l=length(y)\n",
    "loc = 1:length(y)\n",
    "loc_m = as.integer(loc*m/length(y))\n",
    "filt_d = data.frame(y,loc_m)\n",
    "filt_0=filter(filt_d ,loc_m==0)\n",
    "m_l=count(filt_0)\n",
    "m_l=as.integer(m_l)\n",
    "length5[k,]=c(0,1*m_l,2*m_l,3*m_l,4*m_l)\n",
    "    }"
   ]
  },
  {
   "cell_type": "code",
   "execution_count": null,
   "id": "adb74151",
   "metadata": {},
   "outputs": [],
   "source": []
  },
  {
   "cell_type": "code",
   "execution_count": 22,
   "id": "1e8191a7",
   "metadata": {},
   "outputs": [],
   "source": [
    "end_time = Sys.time()\n",
    "time_matrix[1,]=end_time-start_time"
   ]
  },
  {
   "cell_type": "code",
   "execution_count": 23,
   "id": "e975a2c4",
   "metadata": {},
   "outputs": [
    {
     "data": {
      "text/plain": [
       "Time difference of 13.04328 secs"
      ]
     },
     "metadata": {},
     "output_type": "display_data"
    }
   ],
   "source": [
    "end_time-start_time"
   ]
  },
  {
   "cell_type": "markdown",
   "id": "955e3415",
   "metadata": {},
   "source": [
    "## ETS"
   ]
  },
  {
   "cell_type": "code",
   "execution_count": 24,
   "id": "fc7fcbc8",
   "metadata": {},
   "outputs": [],
   "source": [
    "start_time = Sys.time()"
   ]
  },
  {
   "cell_type": "code",
   "execution_count": 25,
   "id": "7d89afbd",
   "metadata": {},
   "outputs": [],
   "source": [
    "set.seed(100)\n",
    "index = sample(2,length(data),replace = TRUE,prob=c(0.7,0.3))\n",
    "testindex=c(1:length(data))[index==2]"
   ]
  },
  {
   "cell_type": "code",
   "execution_count": 26,
   "id": "4578a2f0",
   "metadata": {},
   "outputs": [],
   "source": [
    "meanpre=function(pred_array,opt_pr,h,testindex)\n",
    "    {\n",
    "    data_length=length(testindex)\n",
    "    meanpreh=matrix(0,data_length,h)\n",
    "    for (i in 1:data_length){\n",
    "    index=testindex[i]\n",
    "    loc=opt_pr[index]\n",
    "    predh=pred_array[index,loc,,]\n",
    "    predh=unique(predh)\n",
    "    meanpreh[i,]=apply(predh,2,mean)\n",
    "}\n",
    "    return(meanpreh)\n",
    "}"
   ]
  },
  {
   "cell_type": "code",
   "execution_count": 27,
   "id": "d23a5dda",
   "metadata": {},
   "outputs": [],
   "source": [
    "predres=function(pred_matrix,data,opt_pr,lengthmatrix,h,testindex)\n",
    "    {\n",
    "    data_length=length(testindex)\n",
    "    pred_res=matrix(0,data_length,6)\n",
    "    model=ets(data[[1]]$x)\n",
    "    fore_l=forecast(model,h=h)\n",
    "    freq=frequency(data[[1]]$x)\n",
    "    for (i in 1:data_length){\n",
    "    index=testindex[i]\n",
    "    loc=opt_pr[index]\n",
    "    start=lengthmatrix[i,loc]\n",
    "    y_all=data[[index]]$x\n",
    "    y=y_all[start:length(y_all)]\n",
    "    fore_l$x=ts(y,frequency=freq,end=end(y_all))\n",
    "    real=data[[index]]$xx\n",
    "    fore_l$mean=ts(pred_matrix[i,],start=start(real),frequency=freq)\n",
    "    res=accuracy(fore_l,real)\n",
    "    pred_res[i,]=res[2,1:6]\n",
    "    }\n",
    "    return(pred_res)\n",
    "    }"
   ]
  },
  {
   "cell_type": "code",
   "execution_count": 28,
   "id": "1940d9e6",
   "metadata": {},
   "outputs": [],
   "source": [
    "predres_mul=function(pred_matrix,data,opt_pr_mul,lengthmatrix,h,testindex)\n",
    "    {\n",
    "    data_length=length(testindex)\n",
    "    pred_res=matrix(0,data_length,6)\n",
    "    model=ets(data[[1]]$x)\n",
    "    fore_l=forecast(model,h=h)\n",
    "    freq=frequency(data[[1]]$x)\n",
    "    for (i in 1:data_length){\n",
    "    index=testindex[i]\n",
    "    loc=min(opt_pr_mul[index,])\n",
    "    start=lengthmatrix[i,loc]\n",
    "    y_all=data[[index]]$x\n",
    "    y=y_all[start:length(y_all)]\n",
    "    fore_l$x=ts(y,frequency=freq,end=end(y_all))\n",
    "    real=data[[index]]$xx\n",
    "    fore_l$mean=ts(pred_matrix[i,],start=start(real),frequency=freq)\n",
    "    res=accuracy(fore_l,real)\n",
    "    pred_res[i,]=res[2,1:6]\n",
    "    }\n",
    "    return(pred_res)\n",
    "    }"
   ]
  },
  {
   "cell_type": "code",
   "execution_count": 29,
   "id": "8cb8a6c3",
   "metadata": {},
   "outputs": [],
   "source": [
    "etsxgbcls_min=meanpre(ets_predh,ets_pr_min[,1],h,testindex)\n",
    "etsxgbreg_min=meanpre(ets_predh,ets_pr_min[,2],h,testindex)\n",
    "etslgbcls_min=meanpre(ets_predh,ets_pr_min[,3],h,testindex)\n",
    "etslgbreg_min=meanpre(ets_predh,ets_pr_min[,4],h,testindex)"
   ]
  },
  {
   "cell_type": "code",
   "execution_count": 30,
   "id": "45b055cc",
   "metadata": {},
   "outputs": [],
   "source": [
    "etsxgbcls_mean=meanpre(ets_predh,ets_pr_mean[,1],h,testindex)\n",
    "etsxgbreg_mean=meanpre(ets_predh,ets_pr_mean[,2],h,testindex)\n",
    "etslgbcls_mean=meanpre(ets_predh,ets_pr_mean[,3],h,testindex)\n",
    "etslgbreg_mean=meanpre(ets_predh,ets_pr_mean[,4],h,testindex)"
   ]
  },
  {
   "cell_type": "markdown",
   "id": "eafa784b",
   "metadata": {},
   "source": [
    "### The error of each improved prediction result"
   ]
  },
  {
   "cell_type": "code",
   "execution_count": 31,
   "id": "f417ce3e",
   "metadata": {},
   "outputs": [],
   "source": [
    "lengthtest=length5[testindex,]"
   ]
  },
  {
   "cell_type": "code",
   "execution_count": 32,
   "id": "3bed0188",
   "metadata": {
    "scrolled": true
   },
   "outputs": [
    {
     "name": "stderr",
     "output_type": "stream",
     "text": [
      "Warning message in .cbind.ts(list(e1, e2), c(deparse(substitute(e1))[1L], deparse(substitute(e2))[1L]), :\n",
      "“non-intersecting series”\n",
      "Warning message in trainingaccuracy(object, test, d, D):\n",
      "“test elements must be within sample”\n",
      "Warning message in .cbind.ts(list(e1, e2), c(deparse(substitute(e1))[1L], deparse(substitute(e2))[1L]), :\n",
      "“non-intersecting series”\n",
      "Warning message in trainingaccuracy(object, test, d, D):\n",
      "“test elements must be within sample”\n",
      "Warning message in .cbind.ts(list(e1, e2), c(deparse(substitute(e1))[1L], deparse(substitute(e2))[1L]), :\n",
      "“non-intersecting series”\n",
      "Warning message in trainingaccuracy(object, test, d, D):\n",
      "“test elements must be within sample”\n",
      "Warning message in .cbind.ts(list(e1, e2), c(deparse(substitute(e1))[1L], deparse(substitute(e2))[1L]), :\n",
      "“non-intersecting series”\n",
      "Warning message in trainingaccuracy(object, test, d, D):\n",
      "“test elements must be within sample”\n",
      "Warning message in .cbind.ts(list(e1, e2), c(deparse(substitute(e1))[1L], deparse(substitute(e2))[1L]), :\n",
      "“non-intersecting series”\n",
      "Warning message in trainingaccuracy(object, test, d, D):\n",
      "“test elements must be within sample”\n",
      "Warning message in .cbind.ts(list(e1, e2), c(deparse(substitute(e1))[1L], deparse(substitute(e2))[1L]), :\n",
      "“non-intersecting series”\n",
      "Warning message in trainingaccuracy(object, test, d, D):\n",
      "“test elements must be within sample”\n",
      "Warning message in .cbind.ts(list(e1, e2), c(deparse(substitute(e1))[1L], deparse(substitute(e2))[1L]), :\n",
      "“non-intersecting series”\n",
      "Warning message in trainingaccuracy(object, test, d, D):\n",
      "“test elements must be within sample”\n",
      "Warning message in .cbind.ts(list(e1, e2), c(deparse(substitute(e1))[1L], deparse(substitute(e2))[1L]), :\n",
      "“non-intersecting series”\n",
      "Warning message in trainingaccuracy(object, test, d, D):\n",
      "“test elements must be within sample”\n",
      "Warning message in .cbind.ts(list(e1, e2), c(deparse(substitute(e1))[1L], deparse(substitute(e2))[1L]), :\n",
      "“non-intersecting series”\n",
      "Warning message in trainingaccuracy(object, test, d, D):\n",
      "“test elements must be within sample”\n",
      "Warning message in .cbind.ts(list(e1, e2), c(deparse(substitute(e1))[1L], deparse(substitute(e2))[1L]), :\n",
      "“non-intersecting series”\n",
      "Warning message in trainingaccuracy(object, test, d, D):\n",
      "“test elements must be within sample”\n",
      "Warning message in .cbind.ts(list(e1, e2), c(deparse(substitute(e1))[1L], deparse(substitute(e2))[1L]), :\n",
      "“non-intersecting series”\n",
      "Warning message in trainingaccuracy(object, test, d, D):\n",
      "“test elements must be within sample”\n",
      "Warning message in .cbind.ts(list(e1, e2), c(deparse(substitute(e1))[1L], deparse(substitute(e2))[1L]), :\n",
      "“non-intersecting series”\n",
      "Warning message in trainingaccuracy(object, test, d, D):\n",
      "“test elements must be within sample”\n",
      "Warning message in .cbind.ts(list(e1, e2), c(deparse(substitute(e1))[1L], deparse(substitute(e2))[1L]), :\n",
      "“non-intersecting series”\n",
      "Warning message in trainingaccuracy(object, test, d, D):\n",
      "“test elements must be within sample”\n",
      "Warning message in .cbind.ts(list(e1, e2), c(deparse(substitute(e1))[1L], deparse(substitute(e2))[1L]), :\n",
      "“non-intersecting series”\n",
      "Warning message in trainingaccuracy(object, test, d, D):\n",
      "“test elements must be within sample”\n",
      "Warning message in .cbind.ts(list(e1, e2), c(deparse(substitute(e1))[1L], deparse(substitute(e2))[1L]), :\n",
      "“non-intersecting series”\n",
      "Warning message in trainingaccuracy(object, test, d, D):\n",
      "“test elements must be within sample”\n",
      "Warning message in .cbind.ts(list(e1, e2), c(deparse(substitute(e1))[1L], deparse(substitute(e2))[1L]), :\n",
      "“non-intersecting series”\n",
      "Warning message in trainingaccuracy(object, test, d, D):\n",
      "“test elements must be within sample”\n",
      "Warning message in .cbind.ts(list(e1, e2), c(deparse(substitute(e1))[1L], deparse(substitute(e2))[1L]), :\n",
      "“non-intersecting series”\n",
      "Warning message in trainingaccuracy(object, test, d, D):\n",
      "“test elements must be within sample”\n",
      "Warning message in .cbind.ts(list(e1, e2), c(deparse(substitute(e1))[1L], deparse(substitute(e2))[1L]), :\n",
      "“non-intersecting series”\n",
      "Warning message in trainingaccuracy(object, test, d, D):\n",
      "“test elements must be within sample”\n",
      "Warning message in .cbind.ts(list(e1, e2), c(deparse(substitute(e1))[1L], deparse(substitute(e2))[1L]), :\n",
      "“non-intersecting series”\n",
      "Warning message in trainingaccuracy(object, test, d, D):\n",
      "“test elements must be within sample”\n",
      "Warning message in .cbind.ts(list(e1, e2), c(deparse(substitute(e1))[1L], deparse(substitute(e2))[1L]), :\n",
      "“non-intersecting series”\n",
      "Warning message in trainingaccuracy(object, test, d, D):\n",
      "“test elements must be within sample”\n",
      "Warning message in .cbind.ts(list(e1, e2), c(deparse(substitute(e1))[1L], deparse(substitute(e2))[1L]), :\n",
      "“non-intersecting series”\n",
      "Warning message in trainingaccuracy(object, test, d, D):\n",
      "“test elements must be within sample”\n",
      "Warning message in .cbind.ts(list(e1, e2), c(deparse(substitute(e1))[1L], deparse(substitute(e2))[1L]), :\n",
      "“non-intersecting series”\n",
      "Warning message in trainingaccuracy(object, test, d, D):\n",
      "“test elements must be within sample”\n",
      "Warning message in .cbind.ts(list(e1, e2), c(deparse(substitute(e1))[1L], deparse(substitute(e2))[1L]), :\n",
      "“non-intersecting series”\n",
      "Warning message in trainingaccuracy(object, test, d, D):\n",
      "“test elements must be within sample”\n",
      "Warning message in .cbind.ts(list(e1, e2), c(deparse(substitute(e1))[1L], deparse(substitute(e2))[1L]), :\n",
      "“non-intersecting series”\n",
      "Warning message in trainingaccuracy(object, test, d, D):\n",
      "“test elements must be within sample”\n",
      "Warning message in .cbind.ts(list(e1, e2), c(deparse(substitute(e1))[1L], deparse(substitute(e2))[1L]), :\n",
      "“non-intersecting series”\n",
      "Warning message in trainingaccuracy(object, test, d, D):\n",
      "“test elements must be within sample”\n",
      "Warning message in .cbind.ts(list(e1, e2), c(deparse(substitute(e1))[1L], deparse(substitute(e2))[1L]), :\n",
      "“non-intersecting series”\n",
      "Warning message in trainingaccuracy(object, test, d, D):\n",
      "“test elements must be within sample”\n"
     ]
    }
   ],
   "source": [
    "etsminxgbclsres=predres(etsxgbcls_min,data,ets_pr_min[,1],lengthtest,h,testindex)\n",
    "etsminxgbregres=predres(etsxgbreg_min,data,ets_pr_min[,2],lengthtest,h,testindex)\n",
    "etsminlgbclsres=predres(etslgbcls_min,data,ets_pr_min[,3],lengthtest,h,testindex)\n",
    "etsminlgbregres=predres(etslgbreg_min,data,ets_pr_min[,4],lengthtest,h,testindex)"
   ]
  },
  {
   "cell_type": "code",
   "execution_count": 33,
   "id": "7bbfcf55",
   "metadata": {
    "scrolled": true
   },
   "outputs": [
    {
     "name": "stderr",
     "output_type": "stream",
     "text": [
      "Warning message in .cbind.ts(list(e1, e2), c(deparse(substitute(e1))[1L], deparse(substitute(e2))[1L]), :\n",
      "“non-intersecting series”\n",
      "Warning message in trainingaccuracy(object, test, d, D):\n",
      "“test elements must be within sample”\n",
      "Warning message in .cbind.ts(list(e1, e2), c(deparse(substitute(e1))[1L], deparse(substitute(e2))[1L]), :\n",
      "“non-intersecting series”\n",
      "Warning message in trainingaccuracy(object, test, d, D):\n",
      "“test elements must be within sample”\n",
      "Warning message in .cbind.ts(list(e1, e2), c(deparse(substitute(e1))[1L], deparse(substitute(e2))[1L]), :\n",
      "“non-intersecting series”\n",
      "Warning message in trainingaccuracy(object, test, d, D):\n",
      "“test elements must be within sample”\n",
      "Warning message in .cbind.ts(list(e1, e2), c(deparse(substitute(e1))[1L], deparse(substitute(e2))[1L]), :\n",
      "“non-intersecting series”\n",
      "Warning message in trainingaccuracy(object, test, d, D):\n",
      "“test elements must be within sample”\n",
      "Warning message in .cbind.ts(list(e1, e2), c(deparse(substitute(e1))[1L], deparse(substitute(e2))[1L]), :\n",
      "“non-intersecting series”\n",
      "Warning message in trainingaccuracy(object, test, d, D):\n",
      "“test elements must be within sample”\n",
      "Warning message in .cbind.ts(list(e1, e2), c(deparse(substitute(e1))[1L], deparse(substitute(e2))[1L]), :\n",
      "“non-intersecting series”\n",
      "Warning message in trainingaccuracy(object, test, d, D):\n",
      "“test elements must be within sample”\n",
      "Warning message in .cbind.ts(list(e1, e2), c(deparse(substitute(e1))[1L], deparse(substitute(e2))[1L]), :\n",
      "“non-intersecting series”\n",
      "Warning message in trainingaccuracy(object, test, d, D):\n",
      "“test elements must be within sample”\n"
     ]
    }
   ],
   "source": [
    "etsmeanxgbclsres=predres(etsxgbcls_mean,data,ets_pr_mean[,1],lengthtest,h,testindex)\n",
    "etsmeanxgbregres=predres(etsxgbreg_mean,data,ets_pr_mean[,2],lengthtest,h,testindex)\n",
    "etsmeanlgbclsres=predres(etslgbcls_mean,data,ets_pr_mean[,3],lengthtest,h,testindex)\n",
    "etsmeanlgbregres=predres(etslgbreg_mean,data,ets_pr_mean[,4],lengthtest,h,testindex)"
   ]
  },
  {
   "cell_type": "code",
   "execution_count": 34,
   "id": "d20079d5",
   "metadata": {},
   "outputs": [],
   "source": [
    "end_time = Sys.time()\n",
    "time_matrix[2,]=end_time-start_time"
   ]
  },
  {
   "cell_type": "markdown",
   "id": "be201cb4",
   "metadata": {
    "scrolled": true
   },
   "source": [
    "### The results of the two methods of determining labels are averaged respectively"
   ]
  },
  {
   "cell_type": "code",
   "execution_count": 35,
   "id": "9158d682",
   "metadata": {
    "scrolled": true
   },
   "outputs": [],
   "source": [
    "etsallmin=(etsxgbcls_min+etslgbcls_min+etsxgbreg_min+etslgbreg_min)/4\n",
    "etsallmean=(etsxgbcls_mean+etslgbcls_mean+etsxgbreg_mean+etslgbreg_mean)/4"
   ]
  },
  {
   "cell_type": "code",
   "execution_count": 36,
   "id": "998c7502",
   "metadata": {
    "scrolled": true
   },
   "outputs": [
    {
     "name": "stderr",
     "output_type": "stream",
     "text": [
      "Warning message in .cbind.ts(list(e1, e2), c(deparse(substitute(e1))[1L], deparse(substitute(e2))[1L]), :\n",
      "“non-intersecting series”\n",
      "Warning message in trainingaccuracy(object, test, d, D):\n",
      "“test elements must be within sample”\n"
     ]
    }
   ],
   "source": [
    "etsallminres=predres_mul(etsallmin,data,ets_pr_min,lengthtest,h,testindex)\n",
    "etsallmeanres=predres_mul(etsallmean,data,ets_pr_mean,lengthtest,h,testindex)"
   ]
  },
  {
   "cell_type": "markdown",
   "id": "6e7dfa20",
   "metadata": {},
   "source": [
    "### Under the above classification, the improved forecast results of the classification and regression models are averaged respectively"
   ]
  },
  {
   "cell_type": "code",
   "execution_count": 37,
   "id": "23e1a76d",
   "metadata": {
    "scrolled": true,
    "tags": []
   },
   "outputs": [],
   "source": [
    "etsclsmin=(etsxgbcls_min+etslgbcls_min)/2\n",
    "etsregmin=(etsxgbreg_min+etslgbreg_min)/2\n",
    "etsclsmean=(etsxgbcls_mean+etslgbcls_mean)/2\n",
    "etsregmean=(etsxgbreg_mean+etslgbreg_mean)/2"
   ]
  },
  {
   "cell_type": "code",
   "execution_count": 38,
   "id": "e29aa3c4",
   "metadata": {
    "scrolled": true
   },
   "outputs": [
    {
     "name": "stderr",
     "output_type": "stream",
     "text": [
      "Warning message in .cbind.ts(list(e1, e2), c(deparse(substitute(e1))[1L], deparse(substitute(e2))[1L]), :\n",
      "“non-intersecting series”\n",
      "Warning message in trainingaccuracy(object, test, d, D):\n",
      "“test elements must be within sample”\n",
      "Warning message in .cbind.ts(list(e1, e2), c(deparse(substitute(e1))[1L], deparse(substitute(e2))[1L]), :\n",
      "“non-intersecting series”\n",
      "Warning message in trainingaccuracy(object, test, d, D):\n",
      "“test elements must be within sample”\n",
      "Warning message in .cbind.ts(list(e1, e2), c(deparse(substitute(e1))[1L], deparse(substitute(e2))[1L]), :\n",
      "“non-intersecting series”\n",
      "Warning message in trainingaccuracy(object, test, d, D):\n",
      "“test elements must be within sample”\n",
      "Warning message in .cbind.ts(list(e1, e2), c(deparse(substitute(e1))[1L], deparse(substitute(e2))[1L]), :\n",
      "“non-intersecting series”\n",
      "Warning message in trainingaccuracy(object, test, d, D):\n",
      "“test elements must be within sample”\n",
      "Warning message in .cbind.ts(list(e1, e2), c(deparse(substitute(e1))[1L], deparse(substitute(e2))[1L]), :\n",
      "“non-intersecting series”\n",
      "Warning message in trainingaccuracy(object, test, d, D):\n",
      "“test elements must be within sample”\n",
      "Warning message in .cbind.ts(list(e1, e2), c(deparse(substitute(e1))[1L], deparse(substitute(e2))[1L]), :\n",
      "“non-intersecting series”\n",
      "Warning message in trainingaccuracy(object, test, d, D):\n",
      "“test elements must be within sample”\n",
      "Warning message in .cbind.ts(list(e1, e2), c(deparse(substitute(e1))[1L], deparse(substitute(e2))[1L]), :\n",
      "“non-intersecting series”\n",
      "Warning message in trainingaccuracy(object, test, d, D):\n",
      "“test elements must be within sample”\n"
     ]
    }
   ],
   "source": [
    "etsclsminres=predres_mul(etsclsmin,data,ets_pr_min[,c(1,3)],lengthtest,h,testindex)\n",
    "etsregminres=predres_mul(etsregmin,data,ets_pr_min[,c(2,4)],lengthtest,h,testindex)\n",
    "etsclsmeanres=predres_mul(etsclsmean,data,ets_pr_mean[,c(1,3)],lengthtest,h,testindex)\n",
    "etsregmeanres=predres_mul(etsregmean,data,ets_pr_mean[,c(2,4)],lengthtest,h,testindex)"
   ]
  },
  {
   "cell_type": "markdown",
   "id": "924f9459",
   "metadata": {},
   "source": [
    "### Random slice"
   ]
  },
  {
   "cell_type": "code",
   "execution_count": 39,
   "id": "d5ed69c6",
   "metadata": {},
   "outputs": [],
   "source": [
    "etspred_change<- aperm(ets_predh[1:datalength,1:m,1:n,1:h], c(1, 3, 2, 4))  \n",
    "# 使用array函数将其转换为新的形状\n",
    "etspred_change <- array(etspred_change, dim = c(datalength, m*n, h))"
   ]
  },
  {
   "cell_type": "code",
   "execution_count": 40,
   "id": "ad5becd3",
   "metadata": {},
   "outputs": [
    {
     "name": "stderr",
     "output_type": "stream",
     "text": [
      "Warning message in .cbind.ts(list(e1, e2), c(deparse(substitute(e1))[1L], deparse(substitute(e2))[1L]), :\n",
      "“non-intersecting series”\n",
      "Warning message in trainingaccuracy(object, test, d, D):\n",
      "“test elements must be within sample”\n"
     ]
    }
   ],
   "source": [
    "model=ets(data[[1]]$x)\n",
    "fore_l=forecast(model,h=h)\n",
    "etsrandomres=matrix(0,datalength,6)\n",
    "for (i in 1:datalength){\n",
    "    random=sample(m*n,n)\n",
    "    minloc=min(random)\n",
    "    # 使用cut函数将数据分割为区间\n",
    "    loc <- cut(minloc, breaks =seq(0,m*n,n), labels = FALSE)\n",
    "    loc<-as.numeric(loc)\n",
    "    etsrandompred=apply(etspred_change[i,random,],2,mean)\n",
    "    start=length5[i,loc]\n",
    "    y_all=data[[i]]$x\n",
    "    y=y_all[start:length(y_all)]\n",
    "    fore_l$x=ts(y,frequency=freq,end=end(y_all))\n",
    "    real=data[[i]]$xx\n",
    "    fore_l$mean=ts(etsrandompred,start=start(real),frequency=freq)\n",
    "    res=accuracy(fore_l,real)\n",
    "    etsrandomres[i,]=res[2,1:6]\n",
    "    }"
   ]
  },
  {
   "cell_type": "code",
   "execution_count": null,
   "id": "767eacef",
   "metadata": {},
   "outputs": [],
   "source": []
  },
  {
   "cell_type": "code",
   "execution_count": 41,
   "id": "a2ccfc45",
   "metadata": {},
   "outputs": [],
   "source": [
    "mean1=function(x)\n",
    "    {\n",
    "# 使用is.finite函数检查哪些值是有限的\n",
    "finite_values <- x[is.finite(x)]\n",
    "# 计算有限值的平均值\n",
    "d=mean(finite_values, na.rm = TRUE)\n",
    "return(d)\n",
    "}"
   ]
  },
  {
   "cell_type": "code",
   "execution_count": 42,
   "id": "87b3dde6",
   "metadata": {},
   "outputs": [
    {
     "name": "stdout",
     "output_type": "stream",
     "text": [
      "[1] 129.295832 460.092114 371.571332   2.381339   9.169361   2.496023\n",
      "[1] 124.148027 463.258463 371.811607   2.202851   9.207675   1.973157\n",
      "[1] 124.899756 470.309816 378.935278   2.137638   9.303549   2.068130\n",
      "[1] 130.216449 466.719550 374.027590   2.295915   9.146254   2.337815\n",
      "[1] 133.648690 462.990166 372.725217   2.463288   9.247754   2.006501\n"
     ]
    }
   ],
   "source": [
    "print(apply(ets_pred_res[testindex,1,1,],2,mean1))\n",
    "print(apply(etsminxgbclsres,2,mean1))\n",
    "print(apply(etsminxgbregres,2,mean1))\n",
    "print(apply(etsminlgbclsres,2,mean1))\n",
    "print(apply(etsminlgbregres,2,mean1))"
   ]
  },
  {
   "cell_type": "code",
   "execution_count": 43,
   "id": "9428f93f",
   "metadata": {},
   "outputs": [
    {
     "name": "stdout",
     "output_type": "stream",
     "text": [
      "[1] 124.855523 457.534760 366.858777   2.085826   9.111625   1.963596\n",
      "[1] 120.528153 462.570741 370.407452   2.061137   9.183061   1.982919\n",
      "[1] 123.255360 464.671631 370.658094   2.260790   9.150482   2.354584\n",
      "[1] 123.044309 462.931739 371.249449   2.096142   9.238237   2.070775\n"
     ]
    }
   ],
   "source": [
    "print(apply(etsmeanxgbclsres,2,mean1))\n",
    "print(apply(etsmeanxgbregres,2,mean1))\n",
    "print(apply(etsmeanlgbclsres,2,mean1))\n",
    "print(apply(etsmeanlgbregres,2,mean1))"
   ]
  },
  {
   "cell_type": "code",
   "execution_count": 44,
   "id": "bed875c1",
   "metadata": {},
   "outputs": [
    {
     "name": "stdout",
     "output_type": "stream",
     "text": [
      "[1] 128.228230 463.264691 372.402838   2.274923   9.175525   2.249332\n",
      "[1] 122.920837 459.828033 368.253844   2.125974   9.146430   2.285263\n"
     ]
    }
   ],
   "source": [
    "print(apply(etsallminres,2,mean1))\n",
    "print(apply(etsallmeanres,2,mean1))"
   ]
  },
  {
   "cell_type": "code",
   "execution_count": null,
   "id": "0cb39682",
   "metadata": {},
   "outputs": [],
   "source": []
  },
  {
   "cell_type": "code",
   "execution_count": 45,
   "id": "768ca3f8",
   "metadata": {},
   "outputs": [
    {
     "name": "stdout",
     "output_type": "stream",
     "text": [
      "[1] 127.182238 464.010519 372.393826   2.249383   9.162724   2.256150\n",
      "[1] 129.274223 465.381169 374.825902   2.300463   9.254800   2.021180\n",
      "[1] 124.055442 458.948660 367.189844   2.173308   9.105564   2.280011\n",
      "[1] 121.786231 462.379350 370.526394   2.078640   9.206530   2.012985\n"
     ]
    }
   ],
   "source": [
    "print(apply(etsclsminres,2,mean1))\n",
    "print(apply(etsregminres,2,mean1))\n",
    "print(apply(etsclsmeanres,2,mean1))\n",
    "print(apply(etsregmeanres,2,mean1))"
   ]
  },
  {
   "cell_type": "code",
   "execution_count": 46,
   "id": "5431edb2",
   "metadata": {},
   "outputs": [
    {
     "name": "stdout",
     "output_type": "stream",
     "text": [
      "[1] 133.353563 464.109761 374.199543   2.411579   9.193610   2.427952\n"
     ]
    }
   ],
   "source": [
    "print(apply(etsrandomres[testindex,],2,mean))"
   ]
  },
  {
   "cell_type": "code",
   "execution_count": 47,
   "id": "2888bdc7",
   "metadata": {},
   "outputs": [],
   "source": [
    "etsall=matrix(0,16,6)\n",
    "etsall[1,]=apply(ets_pred_res[testindex,1,1,],2,mean1)[1:6]\n",
    "etsall[2,]=apply(etsminxgbclsres,2,mean1)\n",
    "etsall[3,]=apply(etsminxgbregres,2,mean1)\n",
    "etsall[4,]=apply(etsminlgbclsres,2,mean1)\n",
    "etsall[5,]=apply(etsminlgbregres,2,mean1)\n",
    "etsall[6,]=apply(etsmeanxgbclsres,2,mean1)\n",
    "etsall[7,]=apply(etsmeanxgbregres,2,mean1)\n",
    "etsall[8,]=apply(etsmeanlgbclsres,2,mean1)\n",
    "etsall[9,]=apply(etsmeanlgbregres,2,mean1)\n",
    "etsall[10,]=apply(etsallminres,2,mean1)\n",
    "etsall[11,]=apply(etsallmeanres,2,mean1)\n",
    "etsall[12,]=apply(etsclsminres,2,mean1)\n",
    "etsall[13,]=apply(etsregminres,2,mean1)\n",
    "etsall[14,]=apply(etsclsmeanres,2,mean1)\n",
    "etsall[15,]=apply(etsregmeanres,2,mean1)\n",
    "etsall[16,]=apply(etsrandomres[testindex,],2,mean)"
   ]
  },
  {
   "cell_type": "code",
   "execution_count": 48,
   "id": "b1540886",
   "metadata": {},
   "outputs": [
    {
     "data": {
      "text/html": [
       "<table class=\"dataframe\">\n",
       "<caption>A matrix: 16 × 6 of type dbl</caption>\n",
       "<tbody>\n",
       "\t<tr><td>129.2958</td><td>460.0921</td><td>371.5713</td><td>2.381339</td><td>9.169361</td><td>2.496023</td></tr>\n",
       "\t<tr><td>124.1480</td><td>463.2585</td><td>371.8116</td><td>2.202851</td><td>9.207675</td><td>1.973157</td></tr>\n",
       "\t<tr><td>124.8998</td><td>470.3098</td><td>378.9353</td><td>2.137638</td><td>9.303549</td><td>2.068130</td></tr>\n",
       "\t<tr><td>130.2164</td><td>466.7196</td><td>374.0276</td><td>2.295915</td><td>9.146254</td><td>2.337815</td></tr>\n",
       "\t<tr><td>133.6487</td><td>462.9902</td><td>372.7252</td><td>2.463288</td><td>9.247754</td><td>2.006501</td></tr>\n",
       "\t<tr><td>124.8555</td><td>457.5348</td><td>366.8588</td><td>2.085826</td><td>9.111625</td><td>1.963596</td></tr>\n",
       "\t<tr><td>120.5282</td><td>462.5707</td><td>370.4075</td><td>2.061137</td><td>9.183061</td><td>1.982919</td></tr>\n",
       "\t<tr><td>123.2554</td><td>464.6716</td><td>370.6581</td><td>2.260790</td><td>9.150482</td><td>2.354584</td></tr>\n",
       "\t<tr><td>123.0443</td><td>462.9317</td><td>371.2494</td><td>2.096142</td><td>9.238237</td><td>2.070775</td></tr>\n",
       "\t<tr><td>128.2282</td><td>463.2647</td><td>372.4028</td><td>2.274923</td><td>9.175525</td><td>2.249332</td></tr>\n",
       "\t<tr><td>122.9208</td><td>459.8280</td><td>368.2538</td><td>2.125974</td><td>9.146430</td><td>2.285263</td></tr>\n",
       "\t<tr><td>127.1822</td><td>464.0105</td><td>372.3938</td><td>2.249383</td><td>9.162724</td><td>2.256150</td></tr>\n",
       "\t<tr><td>129.2742</td><td>465.3812</td><td>374.8259</td><td>2.300463</td><td>9.254800</td><td>2.021180</td></tr>\n",
       "\t<tr><td>124.0554</td><td>458.9487</td><td>367.1898</td><td>2.173308</td><td>9.105564</td><td>2.280011</td></tr>\n",
       "\t<tr><td>121.7862</td><td>462.3794</td><td>370.5264</td><td>2.078640</td><td>9.206530</td><td>2.012985</td></tr>\n",
       "\t<tr><td>133.3536</td><td>464.1098</td><td>374.1995</td><td>2.411579</td><td>9.193610</td><td>2.427952</td></tr>\n",
       "</tbody>\n",
       "</table>\n"
      ],
      "text/latex": [
       "A matrix: 16 × 6 of type dbl\n",
       "\\begin{tabular}{llllll}\n",
       "\t 129.2958 & 460.0921 & 371.5713 & 2.381339 & 9.169361 & 2.496023\\\\\n",
       "\t 124.1480 & 463.2585 & 371.8116 & 2.202851 & 9.207675 & 1.973157\\\\\n",
       "\t 124.8998 & 470.3098 & 378.9353 & 2.137638 & 9.303549 & 2.068130\\\\\n",
       "\t 130.2164 & 466.7196 & 374.0276 & 2.295915 & 9.146254 & 2.337815\\\\\n",
       "\t 133.6487 & 462.9902 & 372.7252 & 2.463288 & 9.247754 & 2.006501\\\\\n",
       "\t 124.8555 & 457.5348 & 366.8588 & 2.085826 & 9.111625 & 1.963596\\\\\n",
       "\t 120.5282 & 462.5707 & 370.4075 & 2.061137 & 9.183061 & 1.982919\\\\\n",
       "\t 123.2554 & 464.6716 & 370.6581 & 2.260790 & 9.150482 & 2.354584\\\\\n",
       "\t 123.0443 & 462.9317 & 371.2494 & 2.096142 & 9.238237 & 2.070775\\\\\n",
       "\t 128.2282 & 463.2647 & 372.4028 & 2.274923 & 9.175525 & 2.249332\\\\\n",
       "\t 122.9208 & 459.8280 & 368.2538 & 2.125974 & 9.146430 & 2.285263\\\\\n",
       "\t 127.1822 & 464.0105 & 372.3938 & 2.249383 & 9.162724 & 2.256150\\\\\n",
       "\t 129.2742 & 465.3812 & 374.8259 & 2.300463 & 9.254800 & 2.021180\\\\\n",
       "\t 124.0554 & 458.9487 & 367.1898 & 2.173308 & 9.105564 & 2.280011\\\\\n",
       "\t 121.7862 & 462.3794 & 370.5264 & 2.078640 & 9.206530 & 2.012985\\\\\n",
       "\t 133.3536 & 464.1098 & 374.1995 & 2.411579 & 9.193610 & 2.427952\\\\\n",
       "\\end{tabular}\n"
      ],
      "text/markdown": [
       "\n",
       "A matrix: 16 × 6 of type dbl\n",
       "\n",
       "| 129.2958 | 460.0921 | 371.5713 | 2.381339 | 9.169361 | 2.496023 |\n",
       "| 124.1480 | 463.2585 | 371.8116 | 2.202851 | 9.207675 | 1.973157 |\n",
       "| 124.8998 | 470.3098 | 378.9353 | 2.137638 | 9.303549 | 2.068130 |\n",
       "| 130.2164 | 466.7196 | 374.0276 | 2.295915 | 9.146254 | 2.337815 |\n",
       "| 133.6487 | 462.9902 | 372.7252 | 2.463288 | 9.247754 | 2.006501 |\n",
       "| 124.8555 | 457.5348 | 366.8588 | 2.085826 | 9.111625 | 1.963596 |\n",
       "| 120.5282 | 462.5707 | 370.4075 | 2.061137 | 9.183061 | 1.982919 |\n",
       "| 123.2554 | 464.6716 | 370.6581 | 2.260790 | 9.150482 | 2.354584 |\n",
       "| 123.0443 | 462.9317 | 371.2494 | 2.096142 | 9.238237 | 2.070775 |\n",
       "| 128.2282 | 463.2647 | 372.4028 | 2.274923 | 9.175525 | 2.249332 |\n",
       "| 122.9208 | 459.8280 | 368.2538 | 2.125974 | 9.146430 | 2.285263 |\n",
       "| 127.1822 | 464.0105 | 372.3938 | 2.249383 | 9.162724 | 2.256150 |\n",
       "| 129.2742 | 465.3812 | 374.8259 | 2.300463 | 9.254800 | 2.021180 |\n",
       "| 124.0554 | 458.9487 | 367.1898 | 2.173308 | 9.105564 | 2.280011 |\n",
       "| 121.7862 | 462.3794 | 370.5264 | 2.078640 | 9.206530 | 2.012985 |\n",
       "| 133.3536 | 464.1098 | 374.1995 | 2.411579 | 9.193610 | 2.427952 |\n",
       "\n"
      ],
      "text/plain": [
       "      [,1]     [,2]     [,3]     [,4]     [,5]     [,6]    \n",
       " [1,] 129.2958 460.0921 371.5713 2.381339 9.169361 2.496023\n",
       " [2,] 124.1480 463.2585 371.8116 2.202851 9.207675 1.973157\n",
       " [3,] 124.8998 470.3098 378.9353 2.137638 9.303549 2.068130\n",
       " [4,] 130.2164 466.7196 374.0276 2.295915 9.146254 2.337815\n",
       " [5,] 133.6487 462.9902 372.7252 2.463288 9.247754 2.006501\n",
       " [6,] 124.8555 457.5348 366.8588 2.085826 9.111625 1.963596\n",
       " [7,] 120.5282 462.5707 370.4075 2.061137 9.183061 1.982919\n",
       " [8,] 123.2554 464.6716 370.6581 2.260790 9.150482 2.354584\n",
       " [9,] 123.0443 462.9317 371.2494 2.096142 9.238237 2.070775\n",
       "[10,] 128.2282 463.2647 372.4028 2.274923 9.175525 2.249332\n",
       "[11,] 122.9208 459.8280 368.2538 2.125974 9.146430 2.285263\n",
       "[12,] 127.1822 464.0105 372.3938 2.249383 9.162724 2.256150\n",
       "[13,] 129.2742 465.3812 374.8259 2.300463 9.254800 2.021180\n",
       "[14,] 124.0554 458.9487 367.1898 2.173308 9.105564 2.280011\n",
       "[15,] 121.7862 462.3794 370.5264 2.078640 9.206530 2.012985\n",
       "[16,] 133.3536 464.1098 374.1995 2.411579 9.193610 2.427952"
      ]
     },
     "metadata": {},
     "output_type": "display_data"
    }
   ],
   "source": [
    "etsall"
   ]
  },
  {
   "cell_type": "code",
   "execution_count": 49,
   "id": "51621af1",
   "metadata": {},
   "outputs": [],
   "source": [
    "write.csv(etsall,'ets_week_final_res.csv')"
   ]
  },
  {
   "cell_type": "markdown",
   "id": "9a868752",
   "metadata": {},
   "source": [
    "## thetaf"
   ]
  },
  {
   "cell_type": "markdown",
   "id": "798a403d",
   "metadata": {},
   "source": [
    "### The error of each improved prediction result"
   ]
  },
  {
   "cell_type": "code",
   "execution_count": 50,
   "id": "d5cb11dd",
   "metadata": {},
   "outputs": [],
   "source": [
    "start_time = Sys.time()"
   ]
  },
  {
   "cell_type": "code",
   "execution_count": 51,
   "id": "31589f54",
   "metadata": {},
   "outputs": [],
   "source": [
    "thetafxgbcls_min=meanpre(thetaf_predh,thetaf_pr_min[,1],h,testindex)\n",
    "thetafxgbreg_min=meanpre(thetaf_predh,thetaf_pr_min[,2],h,testindex)\n",
    "thetaflgbcls_min=meanpre(thetaf_predh,thetaf_pr_min[,3],h,testindex)\n",
    "thetaflgbreg_min=meanpre(thetaf_predh,thetaf_pr_min[,4],h,testindex)"
   ]
  },
  {
   "cell_type": "code",
   "execution_count": 52,
   "id": "74c4e10d",
   "metadata": {},
   "outputs": [],
   "source": [
    "thetafxgbcls_mean=meanpre(thetaf_predh,thetaf_pr_mean[,1],h,testindex)\n",
    "thetafxgbreg_mean=meanpre(thetaf_predh,thetaf_pr_mean[,2],h,testindex)\n",
    "thetaflgbcls_mean=meanpre(thetaf_predh,thetaf_pr_mean[,3],h,testindex)\n",
    "thetaflgbreg_mean=meanpre(thetaf_predh,thetaf_pr_mean[,4],h,testindex)"
   ]
  },
  {
   "cell_type": "code",
   "execution_count": 53,
   "id": "2291158c",
   "metadata": {},
   "outputs": [
    {
     "name": "stderr",
     "output_type": "stream",
     "text": [
      "Warning message in .cbind.ts(list(e1, e2), c(deparse(substitute(e1))[1L], deparse(substitute(e2))[1L]), :\n",
      "“non-intersecting series”\n",
      "Warning message in trainingaccuracy(object, test, d, D):\n",
      "“test elements must be within sample”\n",
      "Warning message in .cbind.ts(list(e1, e2), c(deparse(substitute(e1))[1L], deparse(substitute(e2))[1L]), :\n",
      "“non-intersecting series”\n",
      "Warning message in trainingaccuracy(object, test, d, D):\n",
      "“test elements must be within sample”\n",
      "Warning message in .cbind.ts(list(e1, e2), c(deparse(substitute(e1))[1L], deparse(substitute(e2))[1L]), :\n",
      "“non-intersecting series”\n",
      "Warning message in trainingaccuracy(object, test, d, D):\n",
      "“test elements must be within sample”\n",
      "Warning message in .cbind.ts(list(e1, e2), c(deparse(substitute(e1))[1L], deparse(substitute(e2))[1L]), :\n",
      "“non-intersecting series”\n",
      "Warning message in trainingaccuracy(object, test, d, D):\n",
      "“test elements must be within sample”\n",
      "Warning message in .cbind.ts(list(e1, e2), c(deparse(substitute(e1))[1L], deparse(substitute(e2))[1L]), :\n",
      "“non-intersecting series”\n",
      "Warning message in trainingaccuracy(object, test, d, D):\n",
      "“test elements must be within sample”\n",
      "Warning message in .cbind.ts(list(e1, e2), c(deparse(substitute(e1))[1L], deparse(substitute(e2))[1L]), :\n",
      "“non-intersecting series”\n",
      "Warning message in trainingaccuracy(object, test, d, D):\n",
      "“test elements must be within sample”\n",
      "Warning message in .cbind.ts(list(e1, e2), c(deparse(substitute(e1))[1L], deparse(substitute(e2))[1L]), :\n",
      "“non-intersecting series”\n",
      "Warning message in trainingaccuracy(object, test, d, D):\n",
      "“test elements must be within sample”\n",
      "Warning message in .cbind.ts(list(e1, e2), c(deparse(substitute(e1))[1L], deparse(substitute(e2))[1L]), :\n",
      "“non-intersecting series”\n",
      "Warning message in trainingaccuracy(object, test, d, D):\n",
      "“test elements must be within sample”\n",
      "Warning message in .cbind.ts(list(e1, e2), c(deparse(substitute(e1))[1L], deparse(substitute(e2))[1L]), :\n",
      "“non-intersecting series”\n",
      "Warning message in trainingaccuracy(object, test, d, D):\n",
      "“test elements must be within sample”\n",
      "Warning message in .cbind.ts(list(e1, e2), c(deparse(substitute(e1))[1L], deparse(substitute(e2))[1L]), :\n",
      "“non-intersecting series”\n",
      "Warning message in trainingaccuracy(object, test, d, D):\n",
      "“test elements must be within sample”\n",
      "Warning message in .cbind.ts(list(e1, e2), c(deparse(substitute(e1))[1L], deparse(substitute(e2))[1L]), :\n",
      "“non-intersecting series”\n",
      "Warning message in trainingaccuracy(object, test, d, D):\n",
      "“test elements must be within sample”\n",
      "Warning message in .cbind.ts(list(e1, e2), c(deparse(substitute(e1))[1L], deparse(substitute(e2))[1L]), :\n",
      "“non-intersecting series”\n",
      "Warning message in trainingaccuracy(object, test, d, D):\n",
      "“test elements must be within sample”\n",
      "Warning message in .cbind.ts(list(e1, e2), c(deparse(substitute(e1))[1L], deparse(substitute(e2))[1L]), :\n",
      "“non-intersecting series”\n",
      "Warning message in trainingaccuracy(object, test, d, D):\n",
      "“test elements must be within sample”\n",
      "Warning message in .cbind.ts(list(e1, e2), c(deparse(substitute(e1))[1L], deparse(substitute(e2))[1L]), :\n",
      "“non-intersecting series”\n",
      "Warning message in trainingaccuracy(object, test, d, D):\n",
      "“test elements must be within sample”\n",
      "Warning message in .cbind.ts(list(e1, e2), c(deparse(substitute(e1))[1L], deparse(substitute(e2))[1L]), :\n",
      "“non-intersecting series”\n",
      "Warning message in trainingaccuracy(object, test, d, D):\n",
      "“test elements must be within sample”\n",
      "Warning message in .cbind.ts(list(e1, e2), c(deparse(substitute(e1))[1L], deparse(substitute(e2))[1L]), :\n",
      "“non-intersecting series”\n",
      "Warning message in trainingaccuracy(object, test, d, D):\n",
      "“test elements must be within sample”\n",
      "Warning message in .cbind.ts(list(e1, e2), c(deparse(substitute(e1))[1L], deparse(substitute(e2))[1L]), :\n",
      "“non-intersecting series”\n",
      "Warning message in trainingaccuracy(object, test, d, D):\n",
      "“test elements must be within sample”\n",
      "Warning message in .cbind.ts(list(e1, e2), c(deparse(substitute(e1))[1L], deparse(substitute(e2))[1L]), :\n",
      "“non-intersecting series”\n",
      "Warning message in trainingaccuracy(object, test, d, D):\n",
      "“test elements must be within sample”\n",
      "Warning message in .cbind.ts(list(e1, e2), c(deparse(substitute(e1))[1L], deparse(substitute(e2))[1L]), :\n",
      "“non-intersecting series”\n",
      "Warning message in trainingaccuracy(object, test, d, D):\n",
      "“test elements must be within sample”\n",
      "Warning message in .cbind.ts(list(e1, e2), c(deparse(substitute(e1))[1L], deparse(substitute(e2))[1L]), :\n",
      "“non-intersecting series”\n",
      "Warning message in trainingaccuracy(object, test, d, D):\n",
      "“test elements must be within sample”\n",
      "Warning message in .cbind.ts(list(e1, e2), c(deparse(substitute(e1))[1L], deparse(substitute(e2))[1L]), :\n",
      "“non-intersecting series”\n",
      "Warning message in trainingaccuracy(object, test, d, D):\n",
      "“test elements must be within sample”\n",
      "Warning message in .cbind.ts(list(e1, e2), c(deparse(substitute(e1))[1L], deparse(substitute(e2))[1L]), :\n",
      "“non-intersecting series”\n",
      "Warning message in trainingaccuracy(object, test, d, D):\n",
      "“test elements must be within sample”\n",
      "Warning message in .cbind.ts(list(e1, e2), c(deparse(substitute(e1))[1L], deparse(substitute(e2))[1L]), :\n",
      "“non-intersecting series”\n",
      "Warning message in trainingaccuracy(object, test, d, D):\n",
      "“test elements must be within sample”\n",
      "Warning message in .cbind.ts(list(e1, e2), c(deparse(substitute(e1))[1L], deparse(substitute(e2))[1L]), :\n",
      "“non-intersecting series”\n",
      "Warning message in trainingaccuracy(object, test, d, D):\n",
      "“test elements must be within sample”\n",
      "Warning message in .cbind.ts(list(e1, e2), c(deparse(substitute(e1))[1L], deparse(substitute(e2))[1L]), :\n",
      "“non-intersecting series”\n",
      "Warning message in trainingaccuracy(object, test, d, D):\n",
      "“test elements must be within sample”\n",
      "Warning message in .cbind.ts(list(e1, e2), c(deparse(substitute(e1))[1L], deparse(substitute(e2))[1L]), :\n",
      "“non-intersecting series”\n",
      "Warning message in trainingaccuracy(object, test, d, D):\n",
      "“test elements must be within sample”\n",
      "Warning message in .cbind.ts(list(e1, e2), c(deparse(substitute(e1))[1L], deparse(substitute(e2))[1L]), :\n",
      "“non-intersecting series”\n",
      "Warning message in trainingaccuracy(object, test, d, D):\n",
      "“test elements must be within sample”\n",
      "Warning message in .cbind.ts(list(e1, e2), c(deparse(substitute(e1))[1L], deparse(substitute(e2))[1L]), :\n",
      "“non-intersecting series”\n",
      "Warning message in trainingaccuracy(object, test, d, D):\n",
      "“test elements must be within sample”\n",
      "Warning message in .cbind.ts(list(e1, e2), c(deparse(substitute(e1))[1L], deparse(substitute(e2))[1L]), :\n",
      "“non-intersecting series”\n",
      "Warning message in trainingaccuracy(object, test, d, D):\n",
      "“test elements must be within sample”\n",
      "Warning message in .cbind.ts(list(e1, e2), c(deparse(substitute(e1))[1L], deparse(substitute(e2))[1L]), :\n",
      "“non-intersecting series”\n",
      "Warning message in trainingaccuracy(object, test, d, D):\n",
      "“test elements must be within sample”\n",
      "Warning message in .cbind.ts(list(e1, e2), c(deparse(substitute(e1))[1L], deparse(substitute(e2))[1L]), :\n",
      "“non-intersecting series”\n",
      "Warning message in trainingaccuracy(object, test, d, D):\n",
      "“test elements must be within sample”\n",
      "Warning message in .cbind.ts(list(e1, e2), c(deparse(substitute(e1))[1L], deparse(substitute(e2))[1L]), :\n",
      "“non-intersecting series”\n",
      "Warning message in trainingaccuracy(object, test, d, D):\n",
      "“test elements must be within sample”\n",
      "Warning message in .cbind.ts(list(e1, e2), c(deparse(substitute(e1))[1L], deparse(substitute(e2))[1L]), :\n",
      "“non-intersecting series”\n",
      "Warning message in trainingaccuracy(object, test, d, D):\n",
      "“test elements must be within sample”\n",
      "Warning message in .cbind.ts(list(e1, e2), c(deparse(substitute(e1))[1L], deparse(substitute(e2))[1L]), :\n",
      "“non-intersecting series”\n",
      "Warning message in trainingaccuracy(object, test, d, D):\n",
      "“test elements must be within sample”\n",
      "Warning message in .cbind.ts(list(e1, e2), c(deparse(substitute(e1))[1L], deparse(substitute(e2))[1L]), :\n",
      "“non-intersecting series”\n",
      "Warning message in trainingaccuracy(object, test, d, D):\n",
      "“test elements must be within sample”\n"
     ]
    }
   ],
   "source": [
    "thetafminxgbclsres=predres(thetafxgbcls_min,data,thetaf_pr_min[,1],lengthtest,h,testindex)\n",
    "thetafminxgbregres=predres(thetafxgbreg_min,data,thetaf_pr_min[,2],lengthtest,h,testindex)\n",
    "thetafminlgbclsres=predres(thetaflgbcls_min,data,thetaf_pr_min[,3],lengthtest,h,testindex)\n",
    "thetafminlgbregres=predres(thetaflgbreg_min,data,thetaf_pr_min[,4],lengthtest,h,testindex)"
   ]
  },
  {
   "cell_type": "code",
   "execution_count": 54,
   "id": "2f3dd1c0",
   "metadata": {
    "scrolled": true
   },
   "outputs": [
    {
     "name": "stderr",
     "output_type": "stream",
     "text": [
      "Warning message in .cbind.ts(list(e1, e2), c(deparse(substitute(e1))[1L], deparse(substitute(e2))[1L]), :\n",
      "“non-intersecting series”\n",
      "Warning message in trainingaccuracy(object, test, d, D):\n",
      "“test elements must be within sample”\n",
      "Warning message in .cbind.ts(list(e1, e2), c(deparse(substitute(e1))[1L], deparse(substitute(e2))[1L]), :\n",
      "“non-intersecting series”\n",
      "Warning message in trainingaccuracy(object, test, d, D):\n",
      "“test elements must be within sample”\n",
      "Warning message in .cbind.ts(list(e1, e2), c(deparse(substitute(e1))[1L], deparse(substitute(e2))[1L]), :\n",
      "“non-intersecting series”\n",
      "Warning message in trainingaccuracy(object, test, d, D):\n",
      "“test elements must be within sample”\n",
      "Warning message in .cbind.ts(list(e1, e2), c(deparse(substitute(e1))[1L], deparse(substitute(e2))[1L]), :\n",
      "“non-intersecting series”\n",
      "Warning message in trainingaccuracy(object, test, d, D):\n",
      "“test elements must be within sample”\n",
      "Warning message in .cbind.ts(list(e1, e2), c(deparse(substitute(e1))[1L], deparse(substitute(e2))[1L]), :\n",
      "“non-intersecting series”\n",
      "Warning message in trainingaccuracy(object, test, d, D):\n",
      "“test elements must be within sample”\n",
      "Warning message in .cbind.ts(list(e1, e2), c(deparse(substitute(e1))[1L], deparse(substitute(e2))[1L]), :\n",
      "“non-intersecting series”\n",
      "Warning message in trainingaccuracy(object, test, d, D):\n",
      "“test elements must be within sample”\n",
      "Warning message in .cbind.ts(list(e1, e2), c(deparse(substitute(e1))[1L], deparse(substitute(e2))[1L]), :\n",
      "“non-intersecting series”\n",
      "Warning message in trainingaccuracy(object, test, d, D):\n",
      "“test elements must be within sample”\n",
      "Warning message in .cbind.ts(list(e1, e2), c(deparse(substitute(e1))[1L], deparse(substitute(e2))[1L]), :\n",
      "“non-intersecting series”\n",
      "Warning message in trainingaccuracy(object, test, d, D):\n",
      "“test elements must be within sample”\n",
      "Warning message in .cbind.ts(list(e1, e2), c(deparse(substitute(e1))[1L], deparse(substitute(e2))[1L]), :\n",
      "“non-intersecting series”\n",
      "Warning message in trainingaccuracy(object, test, d, D):\n",
      "“test elements must be within sample”\n",
      "Warning message in .cbind.ts(list(e1, e2), c(deparse(substitute(e1))[1L], deparse(substitute(e2))[1L]), :\n",
      "“non-intersecting series”\n",
      "Warning message in trainingaccuracy(object, test, d, D):\n",
      "“test elements must be within sample”\n",
      "Warning message in .cbind.ts(list(e1, e2), c(deparse(substitute(e1))[1L], deparse(substitute(e2))[1L]), :\n",
      "“non-intersecting series”\n",
      "Warning message in trainingaccuracy(object, test, d, D):\n",
      "“test elements must be within sample”\n",
      "Warning message in .cbind.ts(list(e1, e2), c(deparse(substitute(e1))[1L], deparse(substitute(e2))[1L]), :\n",
      "“non-intersecting series”\n",
      "Warning message in trainingaccuracy(object, test, d, D):\n",
      "“test elements must be within sample”\n",
      "Warning message in .cbind.ts(list(e1, e2), c(deparse(substitute(e1))[1L], deparse(substitute(e2))[1L]), :\n",
      "“non-intersecting series”\n",
      "Warning message in trainingaccuracy(object, test, d, D):\n",
      "“test elements must be within sample”\n"
     ]
    }
   ],
   "source": [
    "thetafmeanxgbclsres=predres(thetafxgbcls_mean,data,thetaf_pr_mean[,1],lengthtest,h,testindex)\n",
    "thetafmeanxgbregres=predres(thetafxgbreg_mean,data,thetaf_pr_mean[,2],lengthtest,h,testindex)\n",
    "thetafmeanlgbclsres=predres(thetaflgbcls_mean,data,thetaf_pr_mean[,3],lengthtest,h,testindex)\n",
    "thetafmeanlgbregres=predres(thetaflgbreg_mean,data,thetaf_pr_mean[,4],lengthtest,h,testindex)"
   ]
  },
  {
   "cell_type": "code",
   "execution_count": 55,
   "id": "5d6695b0",
   "metadata": {},
   "outputs": [],
   "source": [
    "end_time = Sys.time()\n",
    "time_matrix[3,]=end_time-start_time"
   ]
  },
  {
   "cell_type": "code",
   "execution_count": 73,
   "id": "9b2fa2fd",
   "metadata": {},
   "outputs": [
    {
     "data": {
      "text/plain": [
       "Time difference of 4.373411 secs"
      ]
     },
     "metadata": {},
     "output_type": "display_data"
    }
   ],
   "source": [
    "end_time-start_time"
   ]
  },
  {
   "cell_type": "markdown",
   "id": "983856ed",
   "metadata": {},
   "source": [
    "### The results of the two methods of determining labels are averaged respectively"
   ]
  },
  {
   "cell_type": "code",
   "execution_count": 56,
   "id": "d18cad6c",
   "metadata": {},
   "outputs": [],
   "source": [
    "thetafallmin=(thetafxgbcls_min+thetaflgbcls_min+thetafxgbreg_min+thetaflgbreg_min)/4\n",
    "thetafallmean=(thetafxgbcls_mean+thetaflgbcls_mean+thetafxgbreg_mean+thetaflgbreg_mean)/4"
   ]
  },
  {
   "cell_type": "code",
   "execution_count": 57,
   "id": "31d4b141",
   "metadata": {},
   "outputs": [
    {
     "name": "stderr",
     "output_type": "stream",
     "text": [
      "Warning message in .cbind.ts(list(e1, e2), c(deparse(substitute(e1))[1L], deparse(substitute(e2))[1L]), :\n",
      "“non-intersecting series”\n",
      "Warning message in trainingaccuracy(object, test, d, D):\n",
      "“test elements must be within sample”\n",
      "Warning message in .cbind.ts(list(e1, e2), c(deparse(substitute(e1))[1L], deparse(substitute(e2))[1L]), :\n",
      "“non-intersecting series”\n",
      "Warning message in trainingaccuracy(object, test, d, D):\n",
      "“test elements must be within sample”\n"
     ]
    }
   ],
   "source": [
    "thetafallminres=predres_mul(thetafallmin,data,thetaf_pr_min,lengthtest,h,testindex)\n",
    "thetafallmeanres=predres_mul(thetafallmean,data,thetaf_pr_mean,lengthtest,h,testindex)"
   ]
  },
  {
   "cell_type": "markdown",
   "id": "cb3483db",
   "metadata": {},
   "source": [
    "### Under the above classification, the improved forecast results of the classification and regression models are averaged respectively"
   ]
  },
  {
   "cell_type": "code",
   "execution_count": 58,
   "id": "b4f9422a",
   "metadata": {},
   "outputs": [],
   "source": [
    "thetafclsmin=(thetafxgbcls_min+thetaflgbcls_min)/2\n",
    "thetafregmin=(thetafxgbreg_min+thetaflgbreg_min)/2\n",
    "thetafclsmean=(thetafxgbcls_mean+thetaflgbcls_mean)/2\n",
    "thetafregmean=(thetafxgbreg_mean+thetaflgbreg_mean)/2"
   ]
  },
  {
   "cell_type": "code",
   "execution_count": 59,
   "id": "5c395784",
   "metadata": {
    "scrolled": true
   },
   "outputs": [
    {
     "name": "stderr",
     "output_type": "stream",
     "text": [
      "Warning message in .cbind.ts(list(e1, e2), c(deparse(substitute(e1))[1L], deparse(substitute(e2))[1L]), :\n",
      "“non-intersecting series”\n",
      "Warning message in trainingaccuracy(object, test, d, D):\n",
      "“test elements must be within sample”\n",
      "Warning message in .cbind.ts(list(e1, e2), c(deparse(substitute(e1))[1L], deparse(substitute(e2))[1L]), :\n",
      "“non-intersecting series”\n",
      "Warning message in trainingaccuracy(object, test, d, D):\n",
      "“test elements must be within sample”\n",
      "Warning message in .cbind.ts(list(e1, e2), c(deparse(substitute(e1))[1L], deparse(substitute(e2))[1L]), :\n",
      "“non-intersecting series”\n",
      "Warning message in trainingaccuracy(object, test, d, D):\n",
      "“test elements must be within sample”\n",
      "Warning message in .cbind.ts(list(e1, e2), c(deparse(substitute(e1))[1L], deparse(substitute(e2))[1L]), :\n",
      "“non-intersecting series”\n",
      "Warning message in trainingaccuracy(object, test, d, D):\n",
      "“test elements must be within sample”\n",
      "Warning message in .cbind.ts(list(e1, e2), c(deparse(substitute(e1))[1L], deparse(substitute(e2))[1L]), :\n",
      "“non-intersecting series”\n",
      "Warning message in trainingaccuracy(object, test, d, D):\n",
      "“test elements must be within sample”\n",
      "Warning message in .cbind.ts(list(e1, e2), c(deparse(substitute(e1))[1L], deparse(substitute(e2))[1L]), :\n",
      "“non-intersecting series”\n",
      "Warning message in trainingaccuracy(object, test, d, D):\n",
      "“test elements must be within sample”\n",
      "Warning message in .cbind.ts(list(e1, e2), c(deparse(substitute(e1))[1L], deparse(substitute(e2))[1L]), :\n",
      "“non-intersecting series”\n",
      "Warning message in trainingaccuracy(object, test, d, D):\n",
      "“test elements must be within sample”\n",
      "Warning message in .cbind.ts(list(e1, e2), c(deparse(substitute(e1))[1L], deparse(substitute(e2))[1L]), :\n",
      "“non-intersecting series”\n",
      "Warning message in trainingaccuracy(object, test, d, D):\n",
      "“test elements must be within sample”\n",
      "Warning message in .cbind.ts(list(e1, e2), c(deparse(substitute(e1))[1L], deparse(substitute(e2))[1L]), :\n",
      "“non-intersecting series”\n",
      "Warning message in trainingaccuracy(object, test, d, D):\n",
      "“test elements must be within sample”\n",
      "Warning message in .cbind.ts(list(e1, e2), c(deparse(substitute(e1))[1L], deparse(substitute(e2))[1L]), :\n",
      "“non-intersecting series”\n",
      "Warning message in trainingaccuracy(object, test, d, D):\n",
      "“test elements must be within sample”\n",
      "Warning message in .cbind.ts(list(e1, e2), c(deparse(substitute(e1))[1L], deparse(substitute(e2))[1L]), :\n",
      "“non-intersecting series”\n",
      "Warning message in trainingaccuracy(object, test, d, D):\n",
      "“test elements must be within sample”\n",
      "Warning message in .cbind.ts(list(e1, e2), c(deparse(substitute(e1))[1L], deparse(substitute(e2))[1L]), :\n",
      "“non-intersecting series”\n",
      "Warning message in trainingaccuracy(object, test, d, D):\n",
      "“test elements must be within sample”\n",
      "Warning message in .cbind.ts(list(e1, e2), c(deparse(substitute(e1))[1L], deparse(substitute(e2))[1L]), :\n",
      "“non-intersecting series”\n",
      "Warning message in trainingaccuracy(object, test, d, D):\n",
      "“test elements must be within sample”\n",
      "Warning message in .cbind.ts(list(e1, e2), c(deparse(substitute(e1))[1L], deparse(substitute(e2))[1L]), :\n",
      "“non-intersecting series”\n",
      "Warning message in trainingaccuracy(object, test, d, D):\n",
      "“test elements must be within sample”\n",
      "Warning message in .cbind.ts(list(e1, e2), c(deparse(substitute(e1))[1L], deparse(substitute(e2))[1L]), :\n",
      "“non-intersecting series”\n",
      "Warning message in trainingaccuracy(object, test, d, D):\n",
      "“test elements must be within sample”\n"
     ]
    }
   ],
   "source": [
    "thetafclsminres=predres_mul(thetafclsmin,data,thetaf_pr_min[,c(1,3)],lengthtest,h,testindex)\n",
    "thetafregminres=predres_mul(thetafregmin,data,thetaf_pr_min[,c(2,4)],lengthtest,h,testindex)\n",
    "thetafclsmeanres=predres_mul(thetafclsmean,data,thetaf_pr_mean[,c(1,3)],lengthtest,h,testindex)\n",
    "thetafregmeanres=predres_mul(thetafregmean,data,thetaf_pr_mean[,c(2,4)],lengthtest,h,testindex)"
   ]
  },
  {
   "cell_type": "markdown",
   "id": "163c51e9",
   "metadata": {},
   "source": [
    "### Random slice"
   ]
  },
  {
   "cell_type": "code",
   "execution_count": 60,
   "id": "855d3621",
   "metadata": {},
   "outputs": [],
   "source": [
    "thetafpred_change<- aperm(thetaf_predh[1:datalength,1:m,1:n,1:h], c(1, 3, 2, 4))  \n",
    "# 使用array函数将其转换为新的形状\n",
    "thetafpred_change <- array(thetafpred_change, dim = c(datalength, m*n, h))"
   ]
  },
  {
   "cell_type": "code",
   "execution_count": 61,
   "id": "2d632151",
   "metadata": {},
   "outputs": [
    {
     "name": "stderr",
     "output_type": "stream",
     "text": [
      "Warning message in .cbind.ts(list(e1, e2), c(deparse(substitute(e1))[1L], deparse(substitute(e2))[1L]), :\n",
      "“non-intersecting series”\n",
      "Warning message in trainingaccuracy(object, test, d, D):\n",
      "“test elements must be within sample”\n"
     ]
    }
   ],
   "source": [
    "model=ets(data[[1]]$x)\n",
    "fore_l=forecast(model,h=h)\n",
    "thetafrandomres=matrix(0,datalength,6)\n",
    "for (i in 1:datalength){\n",
    "    random=sample(m*n,n)\n",
    "    minloc=min(random)\n",
    "    # 使用cut函数将数据分割为区间\n",
    "    loc <- cut(minloc, breaks =seq(0,m*n,n), labels = FALSE)\n",
    "    loc<-as.numeric(loc)\n",
    "    thetafrandompred=apply(thetafpred_change[i,random,],2,mean)\n",
    "    start=length5[i,loc]\n",
    "    y_all=data[[i]]$x\n",
    "    y=y_all[start:length(y_all)]\n",
    "    fore_l$x=ts(y,frequency=freq,end=end(y_all))\n",
    "    real=data[[i]]$xx\n",
    "    fore_l$mean=ts(thetafrandompred,start=start(real),frequency=freq)\n",
    "    res=accuracy(fore_l,real)\n",
    "    thetafrandomres[i,]=res[2,1:6]\n",
    "    }"
   ]
  },
  {
   "cell_type": "code",
   "execution_count": 62,
   "id": "37c5b40a",
   "metadata": {},
   "outputs": [
    {
     "name": "stdout",
     "output_type": "stream",
     "text": [
      "[1] 166.825601 469.369638 375.619970   3.253704   9.048444   2.658670\n",
      "[1] 160.889080 473.265030 381.147706   3.268522   9.283953   2.105750\n",
      "[1] 187.973864 481.653656 389.072508   3.814392   9.328815   2.116661\n",
      "[1] 178.320768 476.139778 382.634731   3.550074   9.211429   2.444831\n",
      "[1] 192.648632 483.170918 390.149231   4.000789   9.410544   2.123130\n"
     ]
    }
   ],
   "source": [
    "print(apply(thetaf_pred_res[testindex,1,1,],2,mean1))\n",
    "print(apply(thetafminxgbclsres,2,mean1))\n",
    "print(apply(thetafminxgbregres,2,mean1))\n",
    "print(apply(thetafminlgbclsres,2,mean1))\n",
    "print(apply(thetafminlgbregres,2,mean1))"
   ]
  },
  {
   "cell_type": "code",
   "execution_count": 63,
   "id": "43b618ce",
   "metadata": {},
   "outputs": [
    {
     "name": "stdout",
     "output_type": "stream",
     "text": [
      "[1] 168.860984 469.162785 376.250724   3.302417   9.125922   2.078289\n",
      "[1] 180.347398 476.772867 383.202663   3.605354   9.238592   2.088955\n",
      "[1] 180.264933 481.102011 387.028909   3.511584   9.255206   2.469855\n",
      "[1] 181.995490 478.822746 385.062242   3.593962   9.272086   2.144638\n"
     ]
    }
   ],
   "source": [
    "print(apply(thetafmeanxgbclsres,2,mean1))\n",
    "print(apply(thetafmeanxgbregres,2,mean1))\n",
    "print(apply(thetafmeanlgbclsres,2,mean1))\n",
    "print(apply(thetafmeanlgbregres,2,mean1))"
   ]
  },
  {
   "cell_type": "code",
   "execution_count": 64,
   "id": "ec89e409",
   "metadata": {},
   "outputs": [
    {
     "name": "stdout",
     "output_type": "stream",
     "text": [
      "[1] 179.958086 476.790723 384.115979   3.658445   9.267829   2.329888\n",
      "[1] 177.867201 475.673844 382.176590   3.503329   9.202694   2.309751\n"
     ]
    }
   ],
   "source": [
    "print(apply(thetafallminres,2,mean1))\n",
    "print(apply(thetafallmeanres,2,mean1))"
   ]
  },
  {
   "cell_type": "code",
   "execution_count": 65,
   "id": "ff1a1e73",
   "metadata": {},
   "outputs": [
    {
     "name": "stdout",
     "output_type": "stream",
     "text": [
      "[1] 179.958086 476.790723 384.115979   3.658445   9.267829   2.329888\n",
      "[1] 177.867201 475.673844 382.176590   3.503329   9.202694   2.309751\n"
     ]
    }
   ],
   "source": [
    "print(apply(thetafallminres,2,mean1))\n",
    "print(apply(thetafallmeanres,2,mean1))"
   ]
  },
  {
   "cell_type": "code",
   "execution_count": 66,
   "id": "50923c2c",
   "metadata": {},
   "outputs": [
    {
     "name": "stdout",
     "output_type": "stream",
     "text": [
      "[1] 169.604924 473.537730 380.830333   3.409298   9.219350   2.326297\n",
      "[1] 174.562959 474.310097 380.958468   3.407001   9.171001   2.291155\n",
      "[1] 190.311248 481.926070 389.250289   3.907591   9.360845   2.097294\n",
      "[1] 181.171444 477.600426 383.917650   3.599658   9.248211   2.115278\n"
     ]
    }
   ],
   "source": [
    "print(apply(thetafclsminres,2,mean1))\n",
    "print(apply(thetafclsmeanres,2,mean1))\n",
    "print(apply(thetafregminres,2,mean1))\n",
    "print(apply(thetafregmeanres,2,mean1))"
   ]
  },
  {
   "cell_type": "code",
   "execution_count": 67,
   "id": "79e2179f",
   "metadata": {},
   "outputs": [
    {
     "name": "stdout",
     "output_type": "stream",
     "text": [
      "[1] 170.997229 475.226119 381.904982   3.457914   9.178614   2.496642\n"
     ]
    }
   ],
   "source": [
    "print(apply(thetafrandomres[testindex,],2,mean1))"
   ]
  },
  {
   "cell_type": "code",
   "execution_count": 68,
   "id": "f7d28931",
   "metadata": {},
   "outputs": [],
   "source": [
    "thetafall=matrix(0,16,6)\n",
    "thetafall[1,]=apply(thetaf_pred_res[testindex,1,1,],2,mean1)[1:6]\n",
    "thetafall[2,]=apply(thetafminxgbclsres,2,mean1)\n",
    "thetafall[3,]=apply(thetafminxgbregres,2,mean1)\n",
    "thetafall[4,]=apply(thetafminlgbclsres,2,mean1)\n",
    "thetafall[5,]=apply(thetafminlgbregres,2,mean1)\n",
    "thetafall[6,]=apply(thetafmeanxgbclsres,2,mean1)\n",
    "thetafall[7,]=apply(thetafmeanxgbregres,2,mean1)\n",
    "thetafall[8,]=apply(thetafmeanlgbclsres,2,mean1)\n",
    "thetafall[9,]=apply(thetafmeanlgbregres,2,mean1)\n",
    "thetafall[10,]=apply(thetafallminres,2,mean1)\n",
    "thetafall[11,]=apply(thetafallmeanres,2,mean1)\n",
    "thetafall[12,]=apply(thetafclsminres,2,mean1)\n",
    "thetafall[13,]=apply(thetafclsmeanres,2,mean1)\n",
    "thetafall[14,]=apply(thetafregminres,2,mean1)\n",
    "thetafall[15,]=apply(thetafregmeanres,2,mean1)\n",
    "thetafall[16,]=apply(thetafrandomres[testindex,],2,mean1)"
   ]
  },
  {
   "cell_type": "code",
   "execution_count": 69,
   "id": "e62f34c2",
   "metadata": {},
   "outputs": [
    {
     "data": {
      "text/html": [
       "<table class=\"dataframe\">\n",
       "<caption>A matrix: 16 × 6 of type dbl</caption>\n",
       "<tbody>\n",
       "\t<tr><td>166.8256</td><td>469.3696</td><td>375.6200</td><td>3.253704</td><td>9.048444</td><td>2.658670</td></tr>\n",
       "\t<tr><td>160.8891</td><td>473.2650</td><td>381.1477</td><td>3.268522</td><td>9.283953</td><td>2.105750</td></tr>\n",
       "\t<tr><td>187.9739</td><td>481.6537</td><td>389.0725</td><td>3.814392</td><td>9.328815</td><td>2.116661</td></tr>\n",
       "\t<tr><td>178.3208</td><td>476.1398</td><td>382.6347</td><td>3.550074</td><td>9.211429</td><td>2.444831</td></tr>\n",
       "\t<tr><td>192.6486</td><td>483.1709</td><td>390.1492</td><td>4.000789</td><td>9.410544</td><td>2.123130</td></tr>\n",
       "\t<tr><td>168.8610</td><td>469.1628</td><td>376.2507</td><td>3.302417</td><td>9.125922</td><td>2.078289</td></tr>\n",
       "\t<tr><td>180.3474</td><td>476.7729</td><td>383.2027</td><td>3.605354</td><td>9.238592</td><td>2.088955</td></tr>\n",
       "\t<tr><td>180.2649</td><td>481.1020</td><td>387.0289</td><td>3.511584</td><td>9.255206</td><td>2.469855</td></tr>\n",
       "\t<tr><td>181.9955</td><td>478.8227</td><td>385.0622</td><td>3.593962</td><td>9.272086</td><td>2.144638</td></tr>\n",
       "\t<tr><td>179.9581</td><td>476.7907</td><td>384.1160</td><td>3.658445</td><td>9.267829</td><td>2.329888</td></tr>\n",
       "\t<tr><td>177.8672</td><td>475.6738</td><td>382.1766</td><td>3.503329</td><td>9.202694</td><td>2.309751</td></tr>\n",
       "\t<tr><td>169.6049</td><td>473.5377</td><td>380.8303</td><td>3.409298</td><td>9.219350</td><td>2.326297</td></tr>\n",
       "\t<tr><td>174.5630</td><td>474.3101</td><td>380.9585</td><td>3.407001</td><td>9.171001</td><td>2.291155</td></tr>\n",
       "\t<tr><td>190.3112</td><td>481.9261</td><td>389.2503</td><td>3.907591</td><td>9.360845</td><td>2.097294</td></tr>\n",
       "\t<tr><td>181.1714</td><td>477.6004</td><td>383.9177</td><td>3.599658</td><td>9.248211</td><td>2.115278</td></tr>\n",
       "\t<tr><td>170.9972</td><td>475.2261</td><td>381.9050</td><td>3.457914</td><td>9.178614</td><td>2.496642</td></tr>\n",
       "</tbody>\n",
       "</table>\n"
      ],
      "text/latex": [
       "A matrix: 16 × 6 of type dbl\n",
       "\\begin{tabular}{llllll}\n",
       "\t 166.8256 & 469.3696 & 375.6200 & 3.253704 & 9.048444 & 2.658670\\\\\n",
       "\t 160.8891 & 473.2650 & 381.1477 & 3.268522 & 9.283953 & 2.105750\\\\\n",
       "\t 187.9739 & 481.6537 & 389.0725 & 3.814392 & 9.328815 & 2.116661\\\\\n",
       "\t 178.3208 & 476.1398 & 382.6347 & 3.550074 & 9.211429 & 2.444831\\\\\n",
       "\t 192.6486 & 483.1709 & 390.1492 & 4.000789 & 9.410544 & 2.123130\\\\\n",
       "\t 168.8610 & 469.1628 & 376.2507 & 3.302417 & 9.125922 & 2.078289\\\\\n",
       "\t 180.3474 & 476.7729 & 383.2027 & 3.605354 & 9.238592 & 2.088955\\\\\n",
       "\t 180.2649 & 481.1020 & 387.0289 & 3.511584 & 9.255206 & 2.469855\\\\\n",
       "\t 181.9955 & 478.8227 & 385.0622 & 3.593962 & 9.272086 & 2.144638\\\\\n",
       "\t 179.9581 & 476.7907 & 384.1160 & 3.658445 & 9.267829 & 2.329888\\\\\n",
       "\t 177.8672 & 475.6738 & 382.1766 & 3.503329 & 9.202694 & 2.309751\\\\\n",
       "\t 169.6049 & 473.5377 & 380.8303 & 3.409298 & 9.219350 & 2.326297\\\\\n",
       "\t 174.5630 & 474.3101 & 380.9585 & 3.407001 & 9.171001 & 2.291155\\\\\n",
       "\t 190.3112 & 481.9261 & 389.2503 & 3.907591 & 9.360845 & 2.097294\\\\\n",
       "\t 181.1714 & 477.6004 & 383.9177 & 3.599658 & 9.248211 & 2.115278\\\\\n",
       "\t 170.9972 & 475.2261 & 381.9050 & 3.457914 & 9.178614 & 2.496642\\\\\n",
       "\\end{tabular}\n"
      ],
      "text/markdown": [
       "\n",
       "A matrix: 16 × 6 of type dbl\n",
       "\n",
       "| 166.8256 | 469.3696 | 375.6200 | 3.253704 | 9.048444 | 2.658670 |\n",
       "| 160.8891 | 473.2650 | 381.1477 | 3.268522 | 9.283953 | 2.105750 |\n",
       "| 187.9739 | 481.6537 | 389.0725 | 3.814392 | 9.328815 | 2.116661 |\n",
       "| 178.3208 | 476.1398 | 382.6347 | 3.550074 | 9.211429 | 2.444831 |\n",
       "| 192.6486 | 483.1709 | 390.1492 | 4.000789 | 9.410544 | 2.123130 |\n",
       "| 168.8610 | 469.1628 | 376.2507 | 3.302417 | 9.125922 | 2.078289 |\n",
       "| 180.3474 | 476.7729 | 383.2027 | 3.605354 | 9.238592 | 2.088955 |\n",
       "| 180.2649 | 481.1020 | 387.0289 | 3.511584 | 9.255206 | 2.469855 |\n",
       "| 181.9955 | 478.8227 | 385.0622 | 3.593962 | 9.272086 | 2.144638 |\n",
       "| 179.9581 | 476.7907 | 384.1160 | 3.658445 | 9.267829 | 2.329888 |\n",
       "| 177.8672 | 475.6738 | 382.1766 | 3.503329 | 9.202694 | 2.309751 |\n",
       "| 169.6049 | 473.5377 | 380.8303 | 3.409298 | 9.219350 | 2.326297 |\n",
       "| 174.5630 | 474.3101 | 380.9585 | 3.407001 | 9.171001 | 2.291155 |\n",
       "| 190.3112 | 481.9261 | 389.2503 | 3.907591 | 9.360845 | 2.097294 |\n",
       "| 181.1714 | 477.6004 | 383.9177 | 3.599658 | 9.248211 | 2.115278 |\n",
       "| 170.9972 | 475.2261 | 381.9050 | 3.457914 | 9.178614 | 2.496642 |\n",
       "\n"
      ],
      "text/plain": [
       "      [,1]     [,2]     [,3]     [,4]     [,5]     [,6]    \n",
       " [1,] 166.8256 469.3696 375.6200 3.253704 9.048444 2.658670\n",
       " [2,] 160.8891 473.2650 381.1477 3.268522 9.283953 2.105750\n",
       " [3,] 187.9739 481.6537 389.0725 3.814392 9.328815 2.116661\n",
       " [4,] 178.3208 476.1398 382.6347 3.550074 9.211429 2.444831\n",
       " [5,] 192.6486 483.1709 390.1492 4.000789 9.410544 2.123130\n",
       " [6,] 168.8610 469.1628 376.2507 3.302417 9.125922 2.078289\n",
       " [7,] 180.3474 476.7729 383.2027 3.605354 9.238592 2.088955\n",
       " [8,] 180.2649 481.1020 387.0289 3.511584 9.255206 2.469855\n",
       " [9,] 181.9955 478.8227 385.0622 3.593962 9.272086 2.144638\n",
       "[10,] 179.9581 476.7907 384.1160 3.658445 9.267829 2.329888\n",
       "[11,] 177.8672 475.6738 382.1766 3.503329 9.202694 2.309751\n",
       "[12,] 169.6049 473.5377 380.8303 3.409298 9.219350 2.326297\n",
       "[13,] 174.5630 474.3101 380.9585 3.407001 9.171001 2.291155\n",
       "[14,] 190.3112 481.9261 389.2503 3.907591 9.360845 2.097294\n",
       "[15,] 181.1714 477.6004 383.9177 3.599658 9.248211 2.115278\n",
       "[16,] 170.9972 475.2261 381.9050 3.457914 9.178614 2.496642"
      ]
     },
     "metadata": {},
     "output_type": "display_data"
    }
   ],
   "source": [
    "thetafall"
   ]
  },
  {
   "cell_type": "code",
   "execution_count": 74,
   "id": "c2f2624e",
   "metadata": {},
   "outputs": [],
   "source": [
    "write.csv(thetafall,'thetaf_weekly_final_res.csv')"
   ]
  },
  {
   "cell_type": "code",
   "execution_count": 71,
   "id": "e23b952e",
   "metadata": {},
   "outputs": [
    {
     "data": {
      "text/html": [
       "<table class=\"dataframe\">\n",
       "<caption>A matrix: 3 × 3 of type dbl</caption>\n",
       "<thead>\n",
       "\t<tr><th scope=col>user_time</th><th scope=col>system_time</th><th scope=col>elapsed_time</th></tr>\n",
       "</thead>\n",
       "<tbody>\n",
       "\t<tr><td>13.043276</td><td>13.043276</td><td>13.043276</td></tr>\n",
       "\t<tr><td> 4.231220</td><td> 4.231220</td><td> 4.231220</td></tr>\n",
       "\t<tr><td> 4.373411</td><td> 4.373411</td><td> 4.373411</td></tr>\n",
       "</tbody>\n",
       "</table>\n"
      ],
      "text/latex": [
       "A matrix: 3 × 3 of type dbl\n",
       "\\begin{tabular}{lll}\n",
       " user\\_time & system\\_time & elapsed\\_time\\\\\n",
       "\\hline\n",
       "\t 13.043276 & 13.043276 & 13.043276\\\\\n",
       "\t  4.231220 &  4.231220 &  4.231220\\\\\n",
       "\t  4.373411 &  4.373411 &  4.373411\\\\\n",
       "\\end{tabular}\n"
      ],
      "text/markdown": [
       "\n",
       "A matrix: 3 × 3 of type dbl\n",
       "\n",
       "| user_time | system_time | elapsed_time |\n",
       "|---|---|---|\n",
       "| 13.043276 | 13.043276 | 13.043276 |\n",
       "|  4.231220 |  4.231220 |  4.231220 |\n",
       "|  4.373411 |  4.373411 |  4.373411 |\n",
       "\n"
      ],
      "text/plain": [
       "     user_time system_time elapsed_time\n",
       "[1,] 13.043276 13.043276   13.043276   \n",
       "[2,]  4.231220  4.231220    4.231220   \n",
       "[3,]  4.373411  4.373411    4.373411   "
      ]
     },
     "metadata": {},
     "output_type": "display_data"
    }
   ],
   "source": [
    "time_matrix"
   ]
  },
  {
   "cell_type": "code",
   "execution_count": 75,
   "id": "7ef20ef8",
   "metadata": {},
   "outputs": [],
   "source": [
    "write.csv(time_matrix,'Weekly_time_matrix.csv')"
   ]
  },
  {
   "cell_type": "code",
   "execution_count": null,
   "id": "f6e01c36",
   "metadata": {},
   "outputs": [],
   "source": []
  }
 ],
 "metadata": {
  "kernelspec": {
   "display_name": "R",
   "language": "R",
   "name": "ir"
  },
  "language_info": {
   "codemirror_mode": "r",
   "file_extension": ".r",
   "mimetype": "text/x-r-source",
   "name": "R",
   "pygments_lexer": "r",
   "version": "4.1.2"
  }
 },
 "nbformat": 4,
 "nbformat_minor": 5
}
