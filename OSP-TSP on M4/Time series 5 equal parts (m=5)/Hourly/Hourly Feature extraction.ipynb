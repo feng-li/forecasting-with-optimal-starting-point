{
 "cells": [
  {
   "cell_type": "code",
   "execution_count": 1,
   "id": "6e225e33",
   "metadata": {},
   "outputs": [
    {
     "name": "stderr",
     "output_type": "stream",
     "text": [
      "Registered S3 method overwritten by 'quantmod':\n",
      "  method            from\n",
      "  as.zoo.data.frame zoo \n",
      "\n"
     ]
    }
   ],
   "source": [
    "library(M4comp2018)\n",
    "library(tsfeatures)"
   ]
  },
  {
   "cell_type": "code",
   "execution_count": null,
   "id": "814b22c8",
   "metadata": {},
   "outputs": [],
   "source": [
    "Weekly_M4 <- Filter(function(l) l$period == \"Weekly\", M4)"
   ]
  },
  {
   "cell_type": "code",
   "execution_count": null,
   "id": "8da15816",
   "metadata": {},
   "outputs": [],
   "source": [
    "data=Weekly_M4"
   ]
  },
  {
   "cell_type": "code",
   "execution_count": null,
   "id": "1127c0ea",
   "metadata": {},
   "outputs": [],
   "source": []
  },
  {
   "cell_type": "code",
   "execution_count": null,
   "id": "957d829a",
   "metadata": {},
   "outputs": [],
   "source": []
  },
  {
   "cell_type": "code",
   "execution_count": null,
   "id": "c5304095",
   "metadata": {},
   "outputs": [],
   "source": [
    "Feature_extraction=function(data,train_index)\n",
    "{\n",
    "    datalength=length(data)\n",
    "    feature_ep=tsfeatures(data[[1]]$x)\n",
    "    feature_matrix=matrix(0,datalength,length(feature_ep)+1)\n",
    "    colnames(feature_matrix)=c(colnames(feature_ep),'length')\n",
    "    train_matrix <- matrix(0,ncol = 3, nrow =datalength)\n",
    "    test_matrix <- matrix(0,ncol = 3, nrow =datalength)\n",
    "    colnames(train_matrix) <- c(\"user_time\", \"system_time\", \"elapsed_time\")\n",
    "    colnames(test_matrix) <- c(\"user_time\", \"system_time\", \"elapsed_time\")\n",
    "    for(i in 1:datalength){\n",
    "        start_time = Sys.time()\n",
    "        y =  data[[i]]$x\n",
    "        features=cbind(as.matrix(tsfeatures(y)),length(y))\n",
    "        feature_matrix[i,] = features\n",
    "        end_time = Sys.time()\n",
    "        if (i %in% train_index) {\n",
    "                train_matrix[i,] = end_time - start_time\n",
    "        } else {\n",
    "                test_matrix[i,] = end_time - start_time\n",
    "            }\n",
    "    \n",
    "}\n",
    "    return(list(feature_matrix, train_matrix, test_matrix))\n",
    "    }"
   ]
  },
  {
   "cell_type": "code",
   "execution_count": null,
   "id": "9da72f99",
   "metadata": {},
   "outputs": [],
   "source": [
    "set.seed(100)\n",
    "index = sample(2,length(data),replace = TRUE,prob=c(0.7,0.3))\n",
    "trainindex=c(1:length(data))[index==1]"
   ]
  },
  {
   "cell_type": "code",
   "execution_count": null,
   "id": "48f30c22",
   "metadata": {},
   "outputs": [],
   "source": []
  },
  {
   "cell_type": "code",
   "execution_count": null,
   "id": "783f8f1c",
   "metadata": {},
   "outputs": [],
   "source": [
    "feature_matrix=Feature_extraction(data,trainindex)"
   ]
  },
  {
   "cell_type": "code",
   "execution_count": null,
   "id": "b0591ab0",
   "metadata": {},
   "outputs": [],
   "source": [
    "write.csv(feature_matrix,file='Weekly_features_matrix.csv')"
   ]
  },
  {
   "cell_type": "code",
   "execution_count": null,
   "id": "61b6841b",
   "metadata": {},
   "outputs": [],
   "source": []
  },
  {
   "cell_type": "code",
   "execution_count": null,
   "id": "6a733492",
   "metadata": {},
   "outputs": [],
   "source": []
  },
  {
   "cell_type": "code",
   "execution_count": 44,
   "id": "89c02815",
   "metadata": {},
   "outputs": [],
   "source": []
  },
  {
   "cell_type": "code",
   "execution_count": null,
   "id": "a56875e2",
   "metadata": {},
   "outputs": [],
   "source": []
  },
  {
   "cell_type": "code",
   "execution_count": null,
   "id": "edfe69d5",
   "metadata": {},
   "outputs": [],
   "source": []
  }
 ],
 "metadata": {
  "kernelspec": {
   "display_name": "R",
   "language": "R",
   "name": "ir"
  },
  "language_info": {
   "codemirror_mode": "r",
   "file_extension": ".r",
   "mimetype": "text/x-r-source",
   "name": "R",
   "pygments_lexer": "r",
   "version": "4.1.2"
  }
 },
 "nbformat": 4,
 "nbformat_minor": 5
}
