{
 "cells": [
  {
   "cell_type": "code",
   "execution_count": 1,
   "id": "44b44666",
   "metadata": {
    "scrolled": false
   },
   "outputs": [
    {
     "name": "stderr",
     "output_type": "stream",
     "text": [
      "Registered S3 method overwritten by 'quantmod':\n",
      "  method            from\n",
      "  as.zoo.data.frame zoo \n",
      "\n",
      "\n",
      "Attaching package: ‘dplyr’\n",
      "\n",
      "\n",
      "The following objects are masked from ‘package:stats’:\n",
      "\n",
      "    filter, lag\n",
      "\n",
      "\n",
      "The following objects are masked from ‘package:base’:\n",
      "\n",
      "    intersect, setdiff, setequal, union\n",
      "\n",
      "\n"
     ]
    }
   ],
   "source": [
    "library(tsfeatures)\n",
    "library(imputeTS)\n",
    "library(forecast)\n",
    "library(dplyr)"
   ]
  },
  {
   "cell_type": "code",
   "execution_count": null,
   "id": "48f7fb81",
   "metadata": {},
   "outputs": [],
   "source": []
  },
  {
   "cell_type": "code",
   "execution_count": 2,
   "id": "b287d671",
   "metadata": {},
   "outputs": [],
   "source": [
    "data=read.csv('GDP_worldbank.csv')"
   ]
  },
  {
   "cell_type": "code",
   "execution_count": 3,
   "id": "17b6b30a",
   "metadata": {},
   "outputs": [
    {
     "data": {
      "text/html": [
       "<table class=\"dataframe\">\n",
       "<caption>A data.frame: 6 × 267</caption>\n",
       "<thead>\n",
       "\t<tr><th></th><th scope=col>Country.Name</th><th scope=col>阿鲁巴</th><th scope=col>X</th><th scope=col>阿富汗</th><th scope=col>X.1</th><th scope=col>安哥拉</th><th scope=col>阿尔巴尼亚</th><th scope=col>安道尔共和国</th><th scope=col>阿拉伯联盟国家</th><th scope=col>阿拉伯联合酋长国</th><th scope=col>⋯</th><th scope=col>美属维京群岛</th><th scope=col>越南</th><th scope=col>瓦努阿图</th><th scope=col>世界</th><th scope=col>萨摩亚</th><th scope=col>科索沃</th><th scope=col>也门共和国</th><th scope=col>南非</th><th scope=col>赞比亚</th><th scope=col>津巴布韦</th></tr>\n",
       "\t<tr><th></th><th scope=col>&lt;int&gt;</th><th scope=col>&lt;dbl&gt;</th><th scope=col>&lt;dbl&gt;</th><th scope=col>&lt;dbl&gt;</th><th scope=col>&lt;dbl&gt;</th><th scope=col>&lt;dbl&gt;</th><th scope=col>&lt;dbl&gt;</th><th scope=col>&lt;dbl&gt;</th><th scope=col>&lt;dbl&gt;</th><th scope=col>&lt;dbl&gt;</th><th scope=col>⋯</th><th scope=col>&lt;dbl&gt;</th><th scope=col>&lt;dbl&gt;</th><th scope=col>&lt;dbl&gt;</th><th scope=col>&lt;dbl&gt;</th><th scope=col>&lt;dbl&gt;</th><th scope=col>&lt;dbl&gt;</th><th scope=col>&lt;dbl&gt;</th><th scope=col>&lt;dbl&gt;</th><th scope=col>&lt;dbl&gt;</th><th scope=col>&lt;dbl&gt;</th></tr>\n",
       "</thead>\n",
       "<tbody>\n",
       "\t<tr><th scope=row>1</th><td>1960</td><td>NA</td><td>21125015452</td><td> 537777811</td><td>10447637853</td><td>NA</td><td>NA</td><td>NA</td><td>NA</td><td>NA</td><td>⋯</td><td>NA</td><td>NA</td><td>NA</td><td>1.38486e+12</td><td>NA</td><td>NA</td><td>NA</td><td> 8748596504</td><td> 713000000</td><td>1052990400</td></tr>\n",
       "\t<tr><th scope=row>2</th><td>1961</td><td>NA</td><td>21616228139</td><td> 548888896</td><td>11173212080</td><td>NA</td><td>NA</td><td>NA</td><td>NA</td><td>NA</td><td>⋯</td><td>NA</td><td>NA</td><td>NA</td><td>1.44922e+12</td><td>NA</td><td>NA</td><td>NA</td><td> 9225996313</td><td> 696285714</td><td>1096646600</td></tr>\n",
       "\t<tr><th scope=row>3</th><td>1962</td><td>NA</td><td>23506279900</td><td> 546666678</td><td>11990534018</td><td>NA</td><td>NA</td><td>NA</td><td>NA</td><td>NA</td><td>⋯</td><td>NA</td><td>NA</td><td>NA</td><td>1.55082e+12</td><td>NA</td><td>NA</td><td>NA</td><td> 9813996078</td><td> 693142857</td><td>1117601600</td></tr>\n",
       "\t<tr><th scope=row>4</th><td>1963</td><td>NA</td><td>28048360188</td><td> 751111191</td><td>12727688165</td><td>NA</td><td>NA</td><td>NA</td><td>NA</td><td>NA</td><td>⋯</td><td>NA</td><td>NA</td><td>NA</td><td>1.67145e+12</td><td>NA</td><td>NA</td><td>NA</td><td>10854195663</td><td> 718714286</td><td>1159511700</td></tr>\n",
       "\t<tr><th scope=row>5</th><td>1964</td><td>NA</td><td>25920665260</td><td> 800000044</td><td>13898109284</td><td>NA</td><td>NA</td><td>NA</td><td>NA</td><td>NA</td><td>⋯</td><td>NA</td><td>NA</td><td>NA</td><td>1.83049e+12</td><td>NA</td><td>NA</td><td>NA</td><td>11955995222</td><td> 839428571</td><td>1217138000</td></tr>\n",
       "\t<tr><th scope=row>6</th><td>1965</td><td>NA</td><td>29472103270</td><td>1006666638</td><td>14929792388</td><td>NA</td><td>NA</td><td>NA</td><td>NA</td><td>NA</td><td>⋯</td><td>NA</td><td>NA</td><td>NA</td><td>1.99410e+12</td><td>NA</td><td>NA</td><td>NA</td><td>13068994778</td><td>1082857143</td><td>1311435800</td></tr>\n",
       "</tbody>\n",
       "</table>\n"
      ],
      "text/latex": [
       "A data.frame: 6 × 267\n",
       "\\begin{tabular}{r|lllllllllllllllllllll}\n",
       "  & Country.Name & 阿鲁巴 & X & 阿富汗 & X.1 & 安哥拉 & 阿尔巴尼亚 & 安道尔共和国 & 阿拉伯联盟国家 & 阿拉伯联合酋长国 & ⋯ & 美属维京群岛 & 越南 & 瓦努阿图 & 世界 & 萨摩亚 & 科索沃 & 也门共和国 & 南非 & 赞比亚 & 津巴布韦\\\\\n",
       "  & <int> & <dbl> & <dbl> & <dbl> & <dbl> & <dbl> & <dbl> & <dbl> & <dbl> & <dbl> & ⋯ & <dbl> & <dbl> & <dbl> & <dbl> & <dbl> & <dbl> & <dbl> & <dbl> & <dbl> & <dbl>\\\\\n",
       "\\hline\n",
       "\t1 & 1960 & NA & 21125015452 &  537777811 & 10447637853 & NA & NA & NA & NA & NA & ⋯ & NA & NA & NA & 1.38486e+12 & NA & NA & NA &  8748596504 &  713000000 & 1052990400\\\\\n",
       "\t2 & 1961 & NA & 21616228139 &  548888896 & 11173212080 & NA & NA & NA & NA & NA & ⋯ & NA & NA & NA & 1.44922e+12 & NA & NA & NA &  9225996313 &  696285714 & 1096646600\\\\\n",
       "\t3 & 1962 & NA & 23506279900 &  546666678 & 11990534018 & NA & NA & NA & NA & NA & ⋯ & NA & NA & NA & 1.55082e+12 & NA & NA & NA &  9813996078 &  693142857 & 1117601600\\\\\n",
       "\t4 & 1963 & NA & 28048360188 &  751111191 & 12727688165 & NA & NA & NA & NA & NA & ⋯ & NA & NA & NA & 1.67145e+12 & NA & NA & NA & 10854195663 &  718714286 & 1159511700\\\\\n",
       "\t5 & 1964 & NA & 25920665260 &  800000044 & 13898109284 & NA & NA & NA & NA & NA & ⋯ & NA & NA & NA & 1.83049e+12 & NA & NA & NA & 11955995222 &  839428571 & 1217138000\\\\\n",
       "\t6 & 1965 & NA & 29472103270 & 1006666638 & 14929792388 & NA & NA & NA & NA & NA & ⋯ & NA & NA & NA & 1.99410e+12 & NA & NA & NA & 13068994778 & 1082857143 & 1311435800\\\\\n",
       "\\end{tabular}\n"
      ],
      "text/markdown": [
       "\n",
       "A data.frame: 6 × 267\n",
       "\n",
       "| <!--/--> | Country.Name &lt;int&gt; | 阿鲁巴 &lt;dbl&gt; | X &lt;dbl&gt; | 阿富汗 &lt;dbl&gt; | X.1 &lt;dbl&gt; | 安哥拉 &lt;dbl&gt; | 阿尔巴尼亚 &lt;dbl&gt; | 安道尔共和国 &lt;dbl&gt; | 阿拉伯联盟国家 &lt;dbl&gt; | 阿拉伯联合酋长国 &lt;dbl&gt; | ⋯ ⋯ | 美属维京群岛 &lt;dbl&gt; | 越南 &lt;dbl&gt; | 瓦努阿图 &lt;dbl&gt; | 世界 &lt;dbl&gt; | 萨摩亚 &lt;dbl&gt; | 科索沃 &lt;dbl&gt; | 也门共和国 &lt;dbl&gt; | 南非 &lt;dbl&gt; | 赞比亚 &lt;dbl&gt; | 津巴布韦 &lt;dbl&gt; |\n",
       "|---|---|---|---|---|---|---|---|---|---|---|---|---|---|---|---|---|---|---|---|---|---|\n",
       "| 1 | 1960 | NA | 21125015452 |  537777811 | 10447637853 | NA | NA | NA | NA | NA | ⋯ | NA | NA | NA | 1.38486e+12 | NA | NA | NA |  8748596504 |  713000000 | 1052990400 |\n",
       "| 2 | 1961 | NA | 21616228139 |  548888896 | 11173212080 | NA | NA | NA | NA | NA | ⋯ | NA | NA | NA | 1.44922e+12 | NA | NA | NA |  9225996313 |  696285714 | 1096646600 |\n",
       "| 3 | 1962 | NA | 23506279900 |  546666678 | 11990534018 | NA | NA | NA | NA | NA | ⋯ | NA | NA | NA | 1.55082e+12 | NA | NA | NA |  9813996078 |  693142857 | 1117601600 |\n",
       "| 4 | 1963 | NA | 28048360188 |  751111191 | 12727688165 | NA | NA | NA | NA | NA | ⋯ | NA | NA | NA | 1.67145e+12 | NA | NA | NA | 10854195663 |  718714286 | 1159511700 |\n",
       "| 5 | 1964 | NA | 25920665260 |  800000044 | 13898109284 | NA | NA | NA | NA | NA | ⋯ | NA | NA | NA | 1.83049e+12 | NA | NA | NA | 11955995222 |  839428571 | 1217138000 |\n",
       "| 6 | 1965 | NA | 29472103270 | 1006666638 | 14929792388 | NA | NA | NA | NA | NA | ⋯ | NA | NA | NA | 1.99410e+12 | NA | NA | NA | 13068994778 | 1082857143 | 1311435800 |\n",
       "\n"
      ],
      "text/plain": [
       "  Country.Name 阿鲁巴 X           阿富汗     X.1         安哥拉 阿尔巴尼亚\n",
       "1 1960         NA     21125015452  537777811 10447637853 NA     NA        \n",
       "2 1961         NA     21616228139  548888896 11173212080 NA     NA        \n",
       "3 1962         NA     23506279900  546666678 11990534018 NA     NA        \n",
       "4 1963         NA     28048360188  751111191 12727688165 NA     NA        \n",
       "5 1964         NA     25920665260  800000044 13898109284 NA     NA        \n",
       "6 1965         NA     29472103270 1006666638 14929792388 NA     NA        \n",
       "  安道尔共和国 阿拉伯联盟国家 阿拉伯联合酋长国 ⋯ 美属维京群岛 越南 瓦努阿图\n",
       "1 NA           NA             NA               ⋯ NA           NA   NA      \n",
       "2 NA           NA             NA               ⋯ NA           NA   NA      \n",
       "3 NA           NA             NA               ⋯ NA           NA   NA      \n",
       "4 NA           NA             NA               ⋯ NA           NA   NA      \n",
       "5 NA           NA             NA               ⋯ NA           NA   NA      \n",
       "6 NA           NA             NA               ⋯ NA           NA   NA      \n",
       "  世界        萨摩亚 科索沃 也门共和国 南非        赞比亚     津巴布韦  \n",
       "1 1.38486e+12 NA     NA     NA          8748596504  713000000 1052990400\n",
       "2 1.44922e+12 NA     NA     NA          9225996313  696285714 1096646600\n",
       "3 1.55082e+12 NA     NA     NA          9813996078  693142857 1117601600\n",
       "4 1.67145e+12 NA     NA     NA         10854195663  718714286 1159511700\n",
       "5 1.83049e+12 NA     NA     NA         11955995222  839428571 1217138000\n",
       "6 1.99410e+12 NA     NA     NA         13068994778 1082857143 1311435800"
      ]
     },
     "metadata": {},
     "output_type": "display_data"
    }
   ],
   "source": [
    "head(data)"
   ]
  },
  {
   "cell_type": "code",
   "execution_count": 4,
   "id": "e2f4015a",
   "metadata": {},
   "outputs": [
    {
     "data": {
      "text/html": [
       "<table class=\"dataframe\">\n",
       "<caption>A data.frame: 6 × 267</caption>\n",
       "<thead>\n",
       "\t<tr><th></th><th scope=col>Country.Name</th><th scope=col>阿鲁巴</th><th scope=col>X</th><th scope=col>阿富汗</th><th scope=col>X.1</th><th scope=col>安哥拉</th><th scope=col>阿尔巴尼亚</th><th scope=col>安道尔共和国</th><th scope=col>阿拉伯联盟国家</th><th scope=col>阿拉伯联合酋长国</th><th scope=col>⋯</th><th scope=col>美属维京群岛</th><th scope=col>越南</th><th scope=col>瓦努阿图</th><th scope=col>世界</th><th scope=col>萨摩亚</th><th scope=col>科索沃</th><th scope=col>也门共和国</th><th scope=col>南非</th><th scope=col>赞比亚</th><th scope=col>津巴布韦</th></tr>\n",
       "\t<tr><th></th><th scope=col>&lt;int&gt;</th><th scope=col>&lt;dbl&gt;</th><th scope=col>&lt;dbl&gt;</th><th scope=col>&lt;dbl&gt;</th><th scope=col>&lt;dbl&gt;</th><th scope=col>&lt;dbl&gt;</th><th scope=col>&lt;dbl&gt;</th><th scope=col>&lt;dbl&gt;</th><th scope=col>&lt;dbl&gt;</th><th scope=col>&lt;dbl&gt;</th><th scope=col>⋯</th><th scope=col>&lt;dbl&gt;</th><th scope=col>&lt;dbl&gt;</th><th scope=col>&lt;dbl&gt;</th><th scope=col>&lt;dbl&gt;</th><th scope=col>&lt;dbl&gt;</th><th scope=col>&lt;dbl&gt;</th><th scope=col>&lt;dbl&gt;</th><th scope=col>&lt;dbl&gt;</th><th scope=col>&lt;dbl&gt;</th><th scope=col>&lt;dbl&gt;</th></tr>\n",
       "</thead>\n",
       "<tbody>\n",
       "\t<tr><th scope=row>58</th><td>2017</td><td>3092178771</td><td>1.02104e+12</td><td>18896353156</td><td>6.84899e+11</td><td> 68972769396</td><td>13019726212</td><td>3000162081</td><td>2.63711e+12</td><td>3.90517e+11</td><td>⋯</td><td>3.794e+09</td><td>2.81354e+11</td><td>880061831</td><td>8.14420e+13</td><td>884844420</td><td>7180768692</td><td>26842231205</td><td>3.81449e+11</td><td>25873601261</td><td>17584890937</td></tr>\n",
       "\t<tr><th scope=row>59</th><td>2018</td><td>3276187709</td><td>1.00720e+12</td><td>18418860354</td><td>7.67026e+11</td><td> 77792944472</td><td>15156424062</td><td>3218419897</td><td>2.84348e+12</td><td>4.27049e+11</td><td>⋯</td><td>3.922e+09</td><td>3.10106e+11</td><td>914736985</td><td>8.65022e+13</td><td>878448440</td><td>7878762812</td><td>21606161066</td><td>4.04159e+11</td><td>26311506435</td><td>34156069918</td></tr>\n",
       "\t<tr><th scope=row>60</th><td>2019</td><td>3395793855</td><td>1.00083e+12</td><td>18904502222</td><td>8.22538e+11</td><td> 69309110146</td><td>15401826081</td><td>3155149348</td><td>2.86889e+12</td><td>4.17990e+11</td><td>⋯</td><td>4.117e+09</td><td>3.34365e+11</td><td>936526268</td><td>8.77281e+13</td><td>912950619</td><td>7899741279</td><td>         NA</td><td>3.88531e+11</td><td>23308667781</td><td>21832234926</td></tr>\n",
       "\t<tr><th scope=row>61</th><td>2020</td><td>2610038939</td><td>9.27593e+11</td><td>20143451706</td><td>7.86460e+11</td><td> 50241368244</td><td>15162734205</td><td>2891001149</td><td>2.53338e+12</td><td>3.49473e+11</td><td>⋯</td><td>4.204e+09</td><td>3.46616e+11</td><td>909421044</td><td>8.52152e+13</td><td>868898350</td><td>7717143395</td><td>         NA</td><td>3.37620e+11</td><td>18110638619</td><td>21509698406</td></tr>\n",
       "\t<tr><th scope=row>62</th><td>2021</td><td>3126019385</td><td>1.08200e+12</td><td>14583135237</td><td>8.44460e+11</td><td> 65685435100</td><td>17930565119</td><td>3325145407</td><td>2.92846e+12</td><td>4.15022e+11</td><td>⋯</td><td>       NA</td><td>3.66138e+11</td><td>971636098</td><td>9.68824e+13</td><td>843850778</td><td>9412034299</td><td>         NA</td><td>4.19016e+11</td><td>22147649569</td><td>28371238666</td></tr>\n",
       "\t<tr><th scope=row>63</th><td>2022</td><td>        NA</td><td>1.16948e+12</td><td>         NA</td><td>8.77863e+11</td><td>106714000000</td><td>18882095518</td><td>3352032737</td><td>3.55756e+12</td><td>5.07535e+11</td><td>⋯</td><td>       NA</td><td>4.08802e+11</td><td>983582865</td><td>1.00562e+14</td><td>832421565</td><td>9429156202</td><td>         NA</td><td>4.05870e+11</td><td>29784454056</td><td>20678055598</td></tr>\n",
       "</tbody>\n",
       "</table>\n"
      ],
      "text/latex": [
       "A data.frame: 6 × 267\n",
       "\\begin{tabular}{r|lllllllllllllllllllll}\n",
       "  & Country.Name & 阿鲁巴 & X & 阿富汗 & X.1 & 安哥拉 & 阿尔巴尼亚 & 安道尔共和国 & 阿拉伯联盟国家 & 阿拉伯联合酋长国 & ⋯ & 美属维京群岛 & 越南 & 瓦努阿图 & 世界 & 萨摩亚 & 科索沃 & 也门共和国 & 南非 & 赞比亚 & 津巴布韦\\\\\n",
       "  & <int> & <dbl> & <dbl> & <dbl> & <dbl> & <dbl> & <dbl> & <dbl> & <dbl> & <dbl> & ⋯ & <dbl> & <dbl> & <dbl> & <dbl> & <dbl> & <dbl> & <dbl> & <dbl> & <dbl> & <dbl>\\\\\n",
       "\\hline\n",
       "\t58 & 2017 & 3092178771 & 1.02104e+12 & 18896353156 & 6.84899e+11 &  68972769396 & 13019726212 & 3000162081 & 2.63711e+12 & 3.90517e+11 & ⋯ & 3.794e+09 & 2.81354e+11 & 880061831 & 8.14420e+13 & 884844420 & 7180768692 & 26842231205 & 3.81449e+11 & 25873601261 & 17584890937\\\\\n",
       "\t59 & 2018 & 3276187709 & 1.00720e+12 & 18418860354 & 7.67026e+11 &  77792944472 & 15156424062 & 3218419897 & 2.84348e+12 & 4.27049e+11 & ⋯ & 3.922e+09 & 3.10106e+11 & 914736985 & 8.65022e+13 & 878448440 & 7878762812 & 21606161066 & 4.04159e+11 & 26311506435 & 34156069918\\\\\n",
       "\t60 & 2019 & 3395793855 & 1.00083e+12 & 18904502222 & 8.22538e+11 &  69309110146 & 15401826081 & 3155149348 & 2.86889e+12 & 4.17990e+11 & ⋯ & 4.117e+09 & 3.34365e+11 & 936526268 & 8.77281e+13 & 912950619 & 7899741279 &          NA & 3.88531e+11 & 23308667781 & 21832234926\\\\\n",
       "\t61 & 2020 & 2610038939 & 9.27593e+11 & 20143451706 & 7.86460e+11 &  50241368244 & 15162734205 & 2891001149 & 2.53338e+12 & 3.49473e+11 & ⋯ & 4.204e+09 & 3.46616e+11 & 909421044 & 8.52152e+13 & 868898350 & 7717143395 &          NA & 3.37620e+11 & 18110638619 & 21509698406\\\\\n",
       "\t62 & 2021 & 3126019385 & 1.08200e+12 & 14583135237 & 8.44460e+11 &  65685435100 & 17930565119 & 3325145407 & 2.92846e+12 & 4.15022e+11 & ⋯ &        NA & 3.66138e+11 & 971636098 & 9.68824e+13 & 843850778 & 9412034299 &          NA & 4.19016e+11 & 22147649569 & 28371238666\\\\\n",
       "\t63 & 2022 &         NA & 1.16948e+12 &          NA & 8.77863e+11 & 106714000000 & 18882095518 & 3352032737 & 3.55756e+12 & 5.07535e+11 & ⋯ &        NA & 4.08802e+11 & 983582865 & 1.00562e+14 & 832421565 & 9429156202 &          NA & 4.05870e+11 & 29784454056 & 20678055598\\\\\n",
       "\\end{tabular}\n"
      ],
      "text/markdown": [
       "\n",
       "A data.frame: 6 × 267\n",
       "\n",
       "| <!--/--> | Country.Name &lt;int&gt; | 阿鲁巴 &lt;dbl&gt; | X &lt;dbl&gt; | 阿富汗 &lt;dbl&gt; | X.1 &lt;dbl&gt; | 安哥拉 &lt;dbl&gt; | 阿尔巴尼亚 &lt;dbl&gt; | 安道尔共和国 &lt;dbl&gt; | 阿拉伯联盟国家 &lt;dbl&gt; | 阿拉伯联合酋长国 &lt;dbl&gt; | ⋯ ⋯ | 美属维京群岛 &lt;dbl&gt; | 越南 &lt;dbl&gt; | 瓦努阿图 &lt;dbl&gt; | 世界 &lt;dbl&gt; | 萨摩亚 &lt;dbl&gt; | 科索沃 &lt;dbl&gt; | 也门共和国 &lt;dbl&gt; | 南非 &lt;dbl&gt; | 赞比亚 &lt;dbl&gt; | 津巴布韦 &lt;dbl&gt; |\n",
       "|---|---|---|---|---|---|---|---|---|---|---|---|---|---|---|---|---|---|---|---|---|---|\n",
       "| 58 | 2017 | 3092178771 | 1.02104e+12 | 18896353156 | 6.84899e+11 |  68972769396 | 13019726212 | 3000162081 | 2.63711e+12 | 3.90517e+11 | ⋯ | 3.794e+09 | 2.81354e+11 | 880061831 | 8.14420e+13 | 884844420 | 7180768692 | 26842231205 | 3.81449e+11 | 25873601261 | 17584890937 |\n",
       "| 59 | 2018 | 3276187709 | 1.00720e+12 | 18418860354 | 7.67026e+11 |  77792944472 | 15156424062 | 3218419897 | 2.84348e+12 | 4.27049e+11 | ⋯ | 3.922e+09 | 3.10106e+11 | 914736985 | 8.65022e+13 | 878448440 | 7878762812 | 21606161066 | 4.04159e+11 | 26311506435 | 34156069918 |\n",
       "| 60 | 2019 | 3395793855 | 1.00083e+12 | 18904502222 | 8.22538e+11 |  69309110146 | 15401826081 | 3155149348 | 2.86889e+12 | 4.17990e+11 | ⋯ | 4.117e+09 | 3.34365e+11 | 936526268 | 8.77281e+13 | 912950619 | 7899741279 |          NA | 3.88531e+11 | 23308667781 | 21832234926 |\n",
       "| 61 | 2020 | 2610038939 | 9.27593e+11 | 20143451706 | 7.86460e+11 |  50241368244 | 15162734205 | 2891001149 | 2.53338e+12 | 3.49473e+11 | ⋯ | 4.204e+09 | 3.46616e+11 | 909421044 | 8.52152e+13 | 868898350 | 7717143395 |          NA | 3.37620e+11 | 18110638619 | 21509698406 |\n",
       "| 62 | 2021 | 3126019385 | 1.08200e+12 | 14583135237 | 8.44460e+11 |  65685435100 | 17930565119 | 3325145407 | 2.92846e+12 | 4.15022e+11 | ⋯ |        NA | 3.66138e+11 | 971636098 | 9.68824e+13 | 843850778 | 9412034299 |          NA | 4.19016e+11 | 22147649569 | 28371238666 |\n",
       "| 63 | 2022 |         NA | 1.16948e+12 |          NA | 8.77863e+11 | 106714000000 | 18882095518 | 3352032737 | 3.55756e+12 | 5.07535e+11 | ⋯ |        NA | 4.08802e+11 | 983582865 | 1.00562e+14 | 832421565 | 9429156202 |          NA | 4.05870e+11 | 29784454056 | 20678055598 |\n",
       "\n"
      ],
      "text/plain": [
       "   Country.Name 阿鲁巴     X           阿富汗      X.1         安哥拉      \n",
       "58 2017         3092178771 1.02104e+12 18896353156 6.84899e+11  68972769396\n",
       "59 2018         3276187709 1.00720e+12 18418860354 7.67026e+11  77792944472\n",
       "60 2019         3395793855 1.00083e+12 18904502222 8.22538e+11  69309110146\n",
       "61 2020         2610038939 9.27593e+11 20143451706 7.86460e+11  50241368244\n",
       "62 2021         3126019385 1.08200e+12 14583135237 8.44460e+11  65685435100\n",
       "63 2022                 NA 1.16948e+12          NA 8.77863e+11 106714000000\n",
       "   阿尔巴尼亚  安道尔共和国 阿拉伯联盟国家 阿拉伯联合酋长国 ⋯ 美属维京群岛\n",
       "58 13019726212 3000162081   2.63711e+12    3.90517e+11      ⋯ 3.794e+09   \n",
       "59 15156424062 3218419897   2.84348e+12    4.27049e+11      ⋯ 3.922e+09   \n",
       "60 15401826081 3155149348   2.86889e+12    4.17990e+11      ⋯ 4.117e+09   \n",
       "61 15162734205 2891001149   2.53338e+12    3.49473e+11      ⋯ 4.204e+09   \n",
       "62 17930565119 3325145407   2.92846e+12    4.15022e+11      ⋯        NA   \n",
       "63 18882095518 3352032737   3.55756e+12    5.07535e+11      ⋯        NA   \n",
       "   越南        瓦努阿图  世界        萨摩亚    科索沃     也门共和国 \n",
       "58 2.81354e+11 880061831 8.14420e+13 884844420 7180768692 26842231205\n",
       "59 3.10106e+11 914736985 8.65022e+13 878448440 7878762812 21606161066\n",
       "60 3.34365e+11 936526268 8.77281e+13 912950619 7899741279          NA\n",
       "61 3.46616e+11 909421044 8.52152e+13 868898350 7717143395          NA\n",
       "62 3.66138e+11 971636098 9.68824e+13 843850778 9412034299          NA\n",
       "63 4.08802e+11 983582865 1.00562e+14 832421565 9429156202          NA\n",
       "   南非        赞比亚      津巴布韦   \n",
       "58 3.81449e+11 25873601261 17584890937\n",
       "59 4.04159e+11 26311506435 34156069918\n",
       "60 3.88531e+11 23308667781 21832234926\n",
       "61 3.37620e+11 18110638619 21509698406\n",
       "62 4.19016e+11 22147649569 28371238666\n",
       "63 4.05870e+11 29784454056 20678055598"
      ]
     },
     "metadata": {},
     "output_type": "display_data"
    }
   ],
   "source": [
    "tail(data)"
   ]
  },
  {
   "cell_type": "code",
   "execution_count": 5,
   "id": "13d56a12",
   "metadata": {},
   "outputs": [],
   "source": [
    "data=data[,c(2:dim(data)[2])]"
   ]
  },
  {
   "cell_type": "code",
   "execution_count": null,
   "id": "932a3092",
   "metadata": {},
   "outputs": [],
   "source": []
  },
  {
   "cell_type": "code",
   "execution_count": 6,
   "id": "9f1a8f29",
   "metadata": {},
   "outputs": [
    {
     "data": {
      "text/html": [
       "<style>\n",
       ".list-inline {list-style: none; margin:0; padding: 0}\n",
       ".list-inline>li {display: inline-block}\n",
       ".list-inline>li:not(:last-child)::after {content: \"\\00b7\"; padding: 0 .5ex}\n",
       "</style>\n",
       "<ol class=list-inline><li>63</li><li>266</li></ol>\n"
      ],
      "text/latex": [
       "\\begin{enumerate*}\n",
       "\\item 63\n",
       "\\item 266\n",
       "\\end{enumerate*}\n"
      ],
      "text/markdown": [
       "1. 63\n",
       "2. 266\n",
       "\n",
       "\n"
      ],
      "text/plain": [
       "[1]  63 266"
      ]
     },
     "metadata": {},
     "output_type": "display_data"
    }
   ],
   "source": [
    "dim(data)"
   ]
  },
  {
   "cell_type": "code",
   "execution_count": 7,
   "id": "78dce697",
   "metadata": {},
   "outputs": [],
   "source": [
    "which_baddata=function(data){\n",
    "baddata=c()\n",
    "for(i in 1:dim(data)[2])\n",
    "{loc=min(which(is.na(data[,i])==FALSE))-1\n",
    "if((dim(data)[1]-loc)<40)\n",
    "    {\n",
    "    baddata=append(baddata,i)\n",
    "}\n",
    "else if(sum(is.na(data[loc:dim(data)[1],i])==TRUE)>10)\n",
    " {\n",
    "     baddata=append(baddata,i)\n",
    " }\n",
    "else if(sum(is.na(data[(dim(data)[1]-11):dim(data)[1],i])==TRUE)>3)\n",
    " {\n",
    "     baddata=append(baddata,i)\n",
    " }\n",
    "}\n",
    "baddata=unique(baddata)\n",
    "return(baddata)}"
   ]
  },
  {
   "cell_type": "code",
   "execution_count": 8,
   "id": "750cb9d1",
   "metadata": {},
   "outputs": [
    {
     "name": "stderr",
     "output_type": "stream",
     "text": [
      "Warning message in min(which(is.na(data[, i]) == FALSE)):\n",
      "“no non-missing arguments to min; returning Inf”\n",
      "Warning message in min(which(is.na(data[, i]) == FALSE)):\n",
      "“no non-missing arguments to min; returning Inf”\n",
      "Warning message in min(which(is.na(data[, i]) == FALSE)):\n",
      "“no non-missing arguments to min; returning Inf”\n",
      "Warning message in min(which(is.na(data[, i]) == FALSE)):\n",
      "“no non-missing arguments to min; returning Inf”\n"
     ]
    }
   ],
   "source": [
    "baddata=which_baddata(data)"
   ]
  },
  {
   "cell_type": "code",
   "execution_count": 9,
   "id": "10158836",
   "metadata": {},
   "outputs": [
    {
     "data": {
      "text/html": [
       "<style>\n",
       ".list-inline {list-style: none; margin:0; padding: 0}\n",
       ".list-inline>li {display: inline-block}\n",
       ".list-inline>li:not(:last-child)::after {content: \"\\00b7\"; padding: 0 .5ex}\n",
       "</style>\n",
       "<ol class=list-inline><li>1</li><li>3</li><li>6</li><li>11</li><li>12</li><li>16</li><li>25</li><li>26</li><li>37</li><li>39</li><li>52</li><li>53</li><li>55</li><li>57</li><li>65</li><li>70</li><li>72</li><li>79</li><li>83</li><li>85</li><li>86</li><li>94</li><li>100</li><li>102</li><li>109</li><li>111</li><li>116</li><li>121</li><li>123</li><li>124</li><li>130</li><li>131</li><li>132</li><li>133</li><li>144</li><li>146</li><li>148</li><li>151</li><li>158</li><li>163</li><li>165</li><li>166</li><li>180</li><li>189</li><li>191</li><li>194</li><li>197</li><li>202</li><li>203</li><li>213</li><li>214</li><li>215</li><li>217</li><li>220</li><li>222</li><li>223</li><li>226</li><li>229</li><li>232</li><li>235</li><li>236</li><li>238</li><li>246</li><li>247</li><li>249</li><li>253</li><li>255</li><li>256</li><li>257</li><li>258</li><li>262</li><li>263</li></ol>\n"
      ],
      "text/latex": [
       "\\begin{enumerate*}\n",
       "\\item 1\n",
       "\\item 3\n",
       "\\item 6\n",
       "\\item 11\n",
       "\\item 12\n",
       "\\item 16\n",
       "\\item 25\n",
       "\\item 26\n",
       "\\item 37\n",
       "\\item 39\n",
       "\\item 52\n",
       "\\item 53\n",
       "\\item 55\n",
       "\\item 57\n",
       "\\item 65\n",
       "\\item 70\n",
       "\\item 72\n",
       "\\item 79\n",
       "\\item 83\n",
       "\\item 85\n",
       "\\item 86\n",
       "\\item 94\n",
       "\\item 100\n",
       "\\item 102\n",
       "\\item 109\n",
       "\\item 111\n",
       "\\item 116\n",
       "\\item 121\n",
       "\\item 123\n",
       "\\item 124\n",
       "\\item 130\n",
       "\\item 131\n",
       "\\item 132\n",
       "\\item 133\n",
       "\\item 144\n",
       "\\item 146\n",
       "\\item 148\n",
       "\\item 151\n",
       "\\item 158\n",
       "\\item 163\n",
       "\\item 165\n",
       "\\item 166\n",
       "\\item 180\n",
       "\\item 189\n",
       "\\item 191\n",
       "\\item 194\n",
       "\\item 197\n",
       "\\item 202\n",
       "\\item 203\n",
       "\\item 213\n",
       "\\item 214\n",
       "\\item 215\n",
       "\\item 217\n",
       "\\item 220\n",
       "\\item 222\n",
       "\\item 223\n",
       "\\item 226\n",
       "\\item 229\n",
       "\\item 232\n",
       "\\item 235\n",
       "\\item 236\n",
       "\\item 238\n",
       "\\item 246\n",
       "\\item 247\n",
       "\\item 249\n",
       "\\item 253\n",
       "\\item 255\n",
       "\\item 256\n",
       "\\item 257\n",
       "\\item 258\n",
       "\\item 262\n",
       "\\item 263\n",
       "\\end{enumerate*}\n"
      ],
      "text/markdown": [
       "1. 1\n",
       "2. 3\n",
       "3. 6\n",
       "4. 11\n",
       "5. 12\n",
       "6. 16\n",
       "7. 25\n",
       "8. 26\n",
       "9. 37\n",
       "10. 39\n",
       "11. 52\n",
       "12. 53\n",
       "13. 55\n",
       "14. 57\n",
       "15. 65\n",
       "16. 70\n",
       "17. 72\n",
       "18. 79\n",
       "19. 83\n",
       "20. 85\n",
       "21. 86\n",
       "22. 94\n",
       "23. 100\n",
       "24. 102\n",
       "25. 109\n",
       "26. 111\n",
       "27. 116\n",
       "28. 121\n",
       "29. 123\n",
       "30. 124\n",
       "31. 130\n",
       "32. 131\n",
       "33. 132\n",
       "34. 133\n",
       "35. 144\n",
       "36. 146\n",
       "37. 148\n",
       "38. 151\n",
       "39. 158\n",
       "40. 163\n",
       "41. 165\n",
       "42. 166\n",
       "43. 180\n",
       "44. 189\n",
       "45. 191\n",
       "46. 194\n",
       "47. 197\n",
       "48. 202\n",
       "49. 203\n",
       "50. 213\n",
       "51. 214\n",
       "52. 215\n",
       "53. 217\n",
       "54. 220\n",
       "55. 222\n",
       "56. 223\n",
       "57. 226\n",
       "58. 229\n",
       "59. 232\n",
       "60. 235\n",
       "61. 236\n",
       "62. 238\n",
       "63. 246\n",
       "64. 247\n",
       "65. 249\n",
       "66. 253\n",
       "67. 255\n",
       "68. 256\n",
       "69. 257\n",
       "70. 258\n",
       "71. 262\n",
       "72. 263\n",
       "\n",
       "\n"
      ],
      "text/plain": [
       " [1]   1   3   6  11  12  16  25  26  37  39  52  53  55  57  65  70  72  79  83\n",
       "[20]  85  86  94 100 102 109 111 116 121 123 124 130 131 132 133 144 146 148 151\n",
       "[39] 158 163 165 166 180 189 191 194 197 202 203 213 214 215 217 220 222 223 226\n",
       "[58] 229 232 235 236 238 246 247 249 253 255 256 257 258 262 263"
      ]
     },
     "metadata": {},
     "output_type": "display_data"
    }
   ],
   "source": [
    "baddata"
   ]
  },
  {
   "cell_type": "code",
   "execution_count": 10,
   "id": "6676f014",
   "metadata": {},
   "outputs": [],
   "source": [
    "data=data[,-1*baddata]"
   ]
  },
  {
   "cell_type": "code",
   "execution_count": null,
   "id": "d181bb65",
   "metadata": {},
   "outputs": [],
   "source": []
  },
  {
   "cell_type": "code",
   "execution_count": 11,
   "id": "4f579aab",
   "metadata": {
    "scrolled": true
   },
   "outputs": [
    {
     "data": {
      "text/html": [
       "<table class=\"dataframe\">\n",
       "<caption>A data.frame: 63 × 194</caption>\n",
       "<thead>\n",
       "\t<tr><th scope=col>X</th><th scope=col>X.1</th><th scope=col>安哥拉</th><th scope=col>安道尔共和国</th><th scope=col>阿拉伯联盟国家</th><th scope=col>阿拉伯联合酋长国</th><th scope=col>阿根廷</th><th scope=col>安提瓜和巴布达</th><th scope=col>澳大利亚</th><th scope=col>奥地利</th><th scope=col>⋯</th><th scope=col>中高等收入国家</th><th scope=col>乌拉圭</th><th scope=col>美国</th><th scope=col>圣文森特和格林纳丁斯</th><th scope=col>瓦努阿图</th><th scope=col>世界</th><th scope=col>萨摩亚</th><th scope=col>南非</th><th scope=col>赞比亚</th><th scope=col>津巴布韦</th></tr>\n",
       "\t<tr><th scope=col>&lt;dbl&gt;</th><th scope=col>&lt;dbl&gt;</th><th scope=col>&lt;dbl&gt;</th><th scope=col>&lt;dbl&gt;</th><th scope=col>&lt;dbl&gt;</th><th scope=col>&lt;dbl&gt;</th><th scope=col>&lt;dbl&gt;</th><th scope=col>&lt;dbl&gt;</th><th scope=col>&lt;dbl&gt;</th><th scope=col>&lt;dbl&gt;</th><th scope=col>⋯</th><th scope=col>&lt;dbl&gt;</th><th scope=col>&lt;dbl&gt;</th><th scope=col>&lt;dbl&gt;</th><th scope=col>&lt;dbl&gt;</th><th scope=col>&lt;dbl&gt;</th><th scope=col>&lt;dbl&gt;</th><th scope=col>&lt;dbl&gt;</th><th scope=col>&lt;dbl&gt;</th><th scope=col>&lt;dbl&gt;</th><th scope=col>&lt;dbl&gt;</th></tr>\n",
       "</thead>\n",
       "<tbody>\n",
       "\t<tr><td> 21125015452</td><td> 10447637853</td><td>         NA</td><td>       NA</td><td>          NA</td><td>         NA</td><td>          NA</td><td>       NA</td><td> 18606562979</td><td>  6592693841</td><td>⋯</td><td>2.29314e+11</td><td> 1242289239</td><td>5.43300e+11</td><td> 13066634</td><td>       NA</td><td>1.38486e+12</td><td>       NA</td><td>  8748596504</td><td> 713000000</td><td>1052990400</td></tr>\n",
       "\t<tr><td> 21616228139</td><td> 11173212080</td><td>         NA</td><td>       NA</td><td>          NA</td><td>         NA</td><td>          NA</td><td>       NA</td><td> 19682883152</td><td>  7311749633</td><td>⋯</td><td>2.17557e+11</td><td> 1547388781</td><td>5.63300e+11</td><td> 13999965</td><td>       NA</td><td>1.44922e+12</td><td>       NA</td><td>  9225996313</td><td> 696285714</td><td>1096646600</td></tr>\n",
       "\t<tr><td> 23506279900</td><td> 11990534018</td><td>         NA</td><td>       NA</td><td>          NA</td><td>         NA</td><td> 24450604878</td><td>       NA</td><td> 19922563190</td><td>  7756110210</td><td>⋯</td><td>2.23123e+11</td><td> 1710004407</td><td>6.05100e+11</td><td> 14524964</td><td>       NA</td><td>1.55082e+12</td><td>       NA</td><td>  9813996078</td><td> 693142857</td><td>1117601600</td></tr>\n",
       "\t<tr><td> 28048360188</td><td> 12727688165</td><td>         NA</td><td>       NA</td><td>          NA</td><td>         NA</td><td> 18272123664</td><td>       NA</td><td> 21539843449</td><td>  8374175258</td><td>⋯</td><td>2.34130e+11</td><td> 1539681491</td><td>6.38600e+11</td><td> 13708299</td><td>       NA</td><td>1.67145e+12</td><td>       NA</td><td> 10854195663</td><td> 718714286</td><td>1159511700</td></tr>\n",
       "\t<tr><td> 25920665260</td><td> 13898109284</td><td>         NA</td><td>       NA</td><td>          NA</td><td>         NA</td><td> 25605249382</td><td>       NA</td><td> 23801123811</td><td>  9169983886</td><td>⋯</td><td>2.68661e+11</td><td> 1975701816</td><td>6.85800e+11</td><td> 14758296</td><td>       NA</td><td>1.83049e+12</td><td>       NA</td><td> 11955995222</td><td> 839428571</td><td>1217138000</td></tr>\n",
       "\t<tr><td> 29472103270</td><td> 14929792388</td><td>         NA</td><td>       NA</td><td>          NA</td><td>         NA</td><td> 28344705967</td><td>       NA</td><td> 25976164159</td><td>  9994070616</td><td>⋯</td><td>3.00143e+11</td><td> 1890767156</td><td>7.43700e+11</td><td> 15108296</td><td>       NA</td><td>1.99410e+12</td><td>       NA</td><td> 13068994778</td><td>1082857143</td><td>1311435800</td></tr>\n",
       "\t<tr><td> 32014368121</td><td> 15910837742</td><td>         NA</td><td>       NA</td><td>          NA</td><td>         NA</td><td> 28630474728</td><td>       NA</td><td> 27307844373</td><td> 10887682273</td><td>⋯</td><td>3.31543e+11</td><td> 1809185094</td><td>8.15000e+11</td><td> 16099960</td><td>       NA</td><td>2.16412e+12</td><td>       NA</td><td> 14211394321</td><td>1264285714</td><td>1281749500</td></tr>\n",
       "\t<tr><td> 33269509510</td><td> 14510579889</td><td>         NA</td><td>       NA</td><td>          NA</td><td>         NA</td><td> 24256667553</td><td>       NA</td><td> 30442724874</td><td> 11579431669</td><td>⋯</td><td>3.33642e+11</td><td> 1597713469</td><td>8.61700e+11</td><td> 15835103</td><td>       NA</td><td>2.30258e+12</td><td>       NA</td><td> 15821393678</td><td>1368000000</td><td>1397002000</td></tr>\n",
       "\t<tr><td> 36327785495</td><td> 14968235782</td><td>         NA</td><td>       NA</td><td> 34715404211</td><td>         NA</td><td> 26436857247</td><td>       NA</td><td> 32714085238</td><td> 12440625313</td><td>⋯</td><td>3.50115e+11</td><td> 1593674185</td><td>9.42500e+11</td><td> 15350000</td><td>       NA</td><td>2.48467e+12</td><td>       NA</td><td> 17124793157</td><td>1605857143</td><td>1479599900</td></tr>\n",
       "\t<tr><td> 41638967621</td><td> 16979315745</td><td>         NA</td><td>       NA</td><td> 37827652252</td><td>         NA</td><td> 31256284544</td><td>       NA</td><td> 36683365874</td><td> 13582798556</td><td>⋯</td><td>3.92810e+11</td><td> 2004435484</td><td>1.01990e+12</td><td> 16650000</td><td>       NA</td><td>2.74050e+12</td><td>       NA</td><td> 19256992305</td><td>1965714286</td><td>1747998800</td></tr>\n",
       "\t<tr><td> 44629891649</td><td> 23596163865</td><td>         NA</td><td> 78617623</td><td> 42768536551</td><td>         NA</td><td> 31584210366</td><td>       NA</td><td> 41333606618</td><td> 15373005557</td><td>⋯</td><td>4.30723e+11</td><td> 2137096774</td><td>1.07330e+12</td><td> 18450000</td><td>       NA</td><td>2.99727e+12</td><td>       NA</td><td> 21218391521</td><td>1825285714</td><td>1884206300</td></tr>\n",
       "\t<tr><td> 49173371529</td><td> 20936358634</td><td>         NA</td><td> 89406588</td><td> 49428519673</td><td>         NA</td><td> 33293199095</td><td>       NA</td><td> 45216647240</td><td> 17858486067</td><td>⋯</td><td>4.67248e+11</td><td> 2807258065</td><td>1.16485e+12</td><td> 20051925</td><td>       NA</td><td>3.31048e+12</td><td>       NA</td><td> 23411079377</td><td>1687000000</td><td>2178716300</td></tr>\n",
       "\t<tr><td> 53123459912</td><td> 25386169423</td><td>         NA</td><td>113414399</td><td> 58935857749</td><td>         NA</td><td> 34733000536</td><td>       NA</td><td> 52042056075</td><td> 22059612477</td><td>⋯</td><td>5.31816e+11</td><td> 2189418689</td><td>1.27911e+12</td><td> 27585803</td><td>       NA</td><td>3.81682e+12</td><td>       NA</td><td> 24515911652</td><td>1872416680</td><td>2677729400</td></tr>\n",
       "\t<tr><td> 69482723444</td><td> 31975594565</td><td>         NA</td><td>150841574</td><td> 74780454402</td><td>         NA</td><td> 52544000117</td><td>       NA</td><td> 63832158873</td><td> 29515467707</td><td>⋯</td><td>6.94387e+11</td><td> 3964296443</td><td>1.42538e+12</td><td> 30165077</td><td>       NA</td><td>4.65745e+12</td><td>       NA</td><td> 33262767310</td><td>2434255237</td><td>3309353600</td></tr>\n",
       "\t<tr><td> 85380645042</td><td> 44416677335</td><td>         NA</td><td>186557164</td><td>142138000000</td><td>         NA</td><td> 72436777342</td><td>       NA</td><td> 88963890936</td><td> 35189299912</td><td>⋯</td><td>8.68560e+11</td><td> 4090209682</td><td>1.54524e+12</td><td> 32923696</td><td>       NA</td><td>5.36682e+12</td><td>       NA</td><td> 41389185877</td><td>2910981262</td><td>3982161400</td></tr>\n",
       "\t<tr><td> 90835426418</td><td> 51667190242</td><td>         NA</td><td>220112880</td><td>157069000000</td><td>14720728252</td><td> 52438647922</td><td>       NA</td><td> 97304383449</td><td> 40059206763</td><td>⋯</td><td>9.59658e+11</td><td> 3538278047</td><td>1.68490e+12</td><td> 33237229</td><td>       NA</td><td>5.97797e+12</td><td>       NA</td><td> 42906919870</td><td>2442672141</td><td>4371300700</td></tr>\n",
       "\t<tr><td> 90212747243</td><td> 62351622300</td><td>         NA</td><td>227284062</td><td>195514000000</td><td>19213156353</td><td> 51169499892</td><td>       NA</td><td>105061000000</td><td> 42959976222</td><td>⋯</td><td>1.01886e+12</td><td> 3667161241</td><td>1.87341e+12</td><td> 32792847</td><td>       NA</td><td>6.49875e+12</td><td>       NA</td><td> 41150449964</td><td>2742859263</td><td>4318372000</td></tr>\n",
       "\t<tr><td>102241000000</td><td> 65595122956</td><td>         NA</td><td>253998001</td><td>225676000000</td><td>24871775165</td><td> 56781000101</td><td> 77496754</td><td>110351000000</td><td> 51545758888</td><td>⋯</td><td>1.13336e+12</td><td> 4114670014</td><td>2.08183e+12</td><td> 49353162</td><td>       NA</td><td>7.34973e+12</td><td>       NA</td><td> 45328399961</td><td>2515296940</td><td>4364382100</td></tr>\n",
       "\t<tr><td>116085000000</td><td> 71496496574</td><td>         NA</td><td>308020289</td><td>249608000000</td><td>23775765254</td><td> 89049453088</td><td> 87879341</td><td>118492000000</td><td> 62052259073</td><td>⋯</td><td>1.26285e+12</td><td> 4910254566</td><td>2.35160e+12</td><td> 60844771</td><td>       NA</td><td>8.69050e+12</td><td>       NA</td><td> 51607399955</td><td>2811032473</td><td>4351600500</td></tr>\n",
       "\t<tr><td>134257000000</td><td> 88948338390</td><td>         NA</td><td>411548366</td><td>337962000000</td><td>31225660993</td><td> 69252328952</td><td>109079979</td><td>134898000000</td><td> 73937296963</td><td>⋯</td><td>1.46121e+12</td><td> 7181182224</td><td>2.62733e+12</td><td> 71096360</td><td>119258835</td><td>1.00538e+13</td><td>       NA</td><td> 63038687890</td><td>3353445378</td><td>5177459400</td></tr>\n",
       "\t<tr><td>171218000000</td><td>112439000000</td><td> 5930503401</td><td>446377572</td><td>459805000000</td><td>43599160062</td><td> 76961923741</td><td>131431027</td><td>149984000000</td><td> 82058912997</td><td>⋯</td><td>1.71633e+12</td><td>10163020116</td><td>2.85731e+12</td><td> 82340340</td><td>121185498</td><td>1.13371e+13</td><td>       NA</td><td> 89411894564</td><td>3884530854</td><td>6678868200</td></tr>\n",
       "\t<tr><td>175859000000</td><td>211338000000</td><td> 5550483036</td><td>388982990</td><td>474812000000</td><td>49333424149</td><td> 78676842367</td><td>147841734</td><td>176892000000</td><td> 71034228443</td><td>⋯</td><td>1.86414e+12</td><td>11048301421</td><td>3.20704e+12</td><td>102086539</td><td>113781796</td><td>1.17284e+13</td><td>       NA</td><td> 93141478239</td><td>4008126497</td><td>8011373800</td></tr>\n",
       "\t<tr><td>168096000000</td><td>187449000000</td><td> 5550483036</td><td>375914806</td><td>444576000000</td><td>46622718618</td><td> 84307486837</td><td>164369279</td><td>194037000000</td><td> 71275287570</td><td>⋯</td><td>1.79198e+12</td><td> 9178780077</td><td>3.34379e+12</td><td>113759203</td><td>114501912</td><td>1.16102e+13</td><td>121221652</td><td> 85904070615</td><td>3871117093</td><td>8539700700</td></tr>\n",
       "\t<tr><td>175565000000</td><td>138384000000</td><td> 5784341596</td><td>327849982</td><td>418462000000</td><td>42803323357</td><td>103979000000</td><td>182144093</td><td>177263000000</td><td> 72121016547</td><td>⋯</td><td>1.69552e+12</td><td> 5102276308</td><td>3.63404e+12</td><td>122255350</td><td>117389554</td><td>1.18405e+13</td><td>111862824</td><td> 96204110963</td><td>3321048451</td><td>7764067000</td></tr>\n",
       "\t<tr><td>160647000000</td><td>114516000000</td><td> 6131475065</td><td>330073057</td><td>425899000000</td><td>41807954241</td><td>116915000000</td><td>208372846</td><td>193517000000</td><td> 67985344887</td><td>⋯</td><td>1.80231e+12</td><td> 4850238550</td><td>4.03761e+12</td><td>135024988</td><td>144482515</td><td>1.23116e+13</td><td>109200934</td><td> 84870134616</td><td>2719518933</td><td>6352125900</td></tr>\n",
       "\t<tr><td>136759000000</td><td>116777000000</td><td> 7554065410</td><td>346742876</td><td>419485000000</td><td>40603650232</td><td> 88150891728</td><td>240923925</td><td>180635000000</td><td> 69386774408</td><td>⋯</td><td>1.83411e+12</td><td> 4732025670</td><td>4.33898e+12</td><td>145641705</td><td>131856421</td><td>1.28972e+13</td><td> 95572173</td><td> 64459376104</td><td>2252454500</td><td>5637259300</td></tr>\n",
       "\t<tr><td>153050000000</td><td>107887000000</td><td> 7072536109</td><td>481996191</td><td>406983000000</td><td>33943612095</td><td>105872000000</td><td>290440141</td><td>182472000000</td><td> 99036164939</td><td>⋯</td><td>1.85770e+12</td><td> 5880106317</td><td>4.57963e+12</td><td>160846657</td><td>126498935</td><td>1.52525e+13</td><td>100947849</td><td> 73354782108</td><td>1664413508</td><td>6217523700</td></tr>\n",
       "\t<tr><td>186658000000</td><td>110729000000</td><td> 8084412414</td><td>611300147</td><td>440608000000</td><td>36384908744</td><td>108811000000</td><td>337174862</td><td>189488000000</td><td>124168000000</td><td>⋯</td><td>1.98996e+12</td><td> 7367504970</td><td>4.85522e+12</td><td>175580647</td><td>139464174</td><td>1.73730e+13</td><td>111713922</td><td> 96535747614</td><td>2265250972</td><td>6741215100</td></tr>\n",
       "\t<tr><td>204766000000</td><td>109439000000</td><td> 8769836769</td><td>721425972</td><td>424896000000</td><td>36275674203</td><td>126890000000</td><td>398637728</td><td>236153000000</td><td>133339000000</td><td>⋯</td><td>2.18535e+12</td><td> 8213526914</td><td>5.23644e+12</td><td>200726713</td><td>158351368</td><td>1.93940e+13</td><td>133016065</td><td>103977000000</td><td>3728878149</td><td>7814784100</td></tr>\n",
       "\t<tr><td>218242000000</td><td>102255000000</td><td>10201780977</td><td>795489464</td><td>455823000000</td><td>41464995914</td><td> 76629728760</td><td>438794788</td><td>299876000000</td><td>133106000000</td><td>⋯</td><td>2.33315e+12</td><td> 8438946948</td><td>5.64158e+12</td><td>214745002</td><td>154013202</td><td>2.02667e+13</td><td>122888610</td><td>108056000000</td><td>3994673161</td><td>8286322700</td></tr>\n",
       "\t<tr><td>⋮</td><td>⋮</td><td>⋮</td><td>⋮</td><td>⋮</td><td>⋮</td><td>⋮</td><td>⋮</td><td>⋮</td><td>⋮</td><td>⋱</td><td>⋮</td><td>⋮</td><td>⋮</td><td>⋮</td><td>⋮</td><td>⋮</td><td>⋮</td><td>⋮</td><td>⋮</td><td>⋮</td></tr>\n",
       "\t<tr><td>2.42926e+11</td><td> 99272180411</td><td> 11051939102</td><td>1007090915</td><td>4.82764e+11</td><td> 55625170253</td><td>2.36742e+11</td><td> 535174074</td><td>3.12138e+11</td><td>1.90380e+11</td><td>⋯</td><td>3.06888e+12</td><td>15002138240</td><td>6.85856e+12</td><td>286307407</td><td>200491853</td><td>2.59059e+13</td><td>133122897</td><td>1.47195e+11</td><td> 3273507754</td><td> 6563813300</td></tr>\n",
       "\t<tr><td>2.39611e+11</td><td> 86636400266</td><td>  3390500000</td><td>1017544675</td><td>5.07765e+11</td><td> 59305093980</td><td>2.57440e+11</td><td> 589429630</td><td>3.22809e+11</td><td>2.03535e+11</td><td>⋯</td><td>3.34561e+12</td><td>17474590051</td><td>7.28724e+12</td><td>289437037</td><td>233701302</td><td>2.78996e+13</td><td>221098106</td><td>1.53513e+11</td><td> 3656808233</td><td> 6890675000</td></tr>\n",
       "\t<tr><td>2.70327e+11</td><td>108691000000</td><td>  5561222222</td><td>1178745314</td><td>5.56046e+11</td><td> 65743666576</td><td>2.58032e+11</td><td> 577281482</td><td>3.68141e+11</td><td>2.41038e+11</td><td>⋯</td><td>3.74463e+12</td><td>19297663097</td><td>7.63975e+12</td><td>316007407</td><td>249333250</td><td>3.10515e+13</td><td>224865731</td><td>1.71736e+11</td><td> 3806982679</td><td> 7111270700</td></tr>\n",
       "\t<tr><td>2.69491e+11</td><td>126287000000</td><td>  7526963964</td><td>1224023416</td><td>6.14186e+11</td><td> 73571233996</td><td>2.72150e+11</td><td> 633729630</td><td>4.01311e+11</td><td>2.37251e+11</td><td>⋯</td><td>4.08248e+12</td><td>20515457256</td><td>8.07312e+12</td><td>331488889</td><td>261370044</td><td>3.17457e+13</td><td>249907894</td><td>1.63235e+11</td><td> 3597220962</td><td> 8553146600</td></tr>\n",
       "\t<tr><td>2.83446e+11</td><td>127602000000</td><td>  7648377413</td><td>1180646068</td><td>6.62308e+11</td><td> 78839008445</td><td>2.92859e+11</td><td> 680618518</td><td>4.35614e+11</td><td>2.12790e+11</td><td>⋯</td><td>4.34556e+12</td><td>23969738388</td><td>8.57755e+12</td><td>347770370</td><td>272771209</td><td>3.16297e+13</td><td>285475621</td><td>1.68978e+11</td><td> 4303290117</td><td> 8529571600</td></tr>\n",
       "\t<tr><td>2.66652e+11</td><td>130678000000</td><td>  6506229607</td><td>1211953954</td><td>6.49192e+11</td><td> 75674336283</td><td>2.98948e+11</td><td> 727859259</td><td>3.99661e+11</td><td>2.18260e+11</td><td>⋯</td><td>4.16627e+12</td><td>25385887786</td><td>9.06282e+12</td><td>373618518</td><td>262293411</td><td>3.15529e+13</td><td>269485285</td><td>1.52983e+11</td><td> 3537741625</td><td> 6401968200</td></tr>\n",
       "\t<tr><td>2.63025e+11</td><td>138086000000</td><td>  6152922943</td><td>1239840270</td><td>7.17469e+11</td><td> 84445473111</td><td>2.83523e+11</td><td> 766200000</td><td>3.89390e+11</td><td>2.17259e+11</td><td>⋯</td><td>3.98744e+12</td><td>23983945191</td><td>9.63117e+12</td><td>390718518</td><td>268006973</td><td>3.27520e+13</td><td>255408053</td><td>1.51517e+11</td><td> 3404284653</td><td> 6858013100</td></tr>\n",
       "\t<tr><td>2.84759e+11</td><td>140946000000</td><td>  9129594819</td><td>1429048106</td><td>8.20186e+11</td><td>104337000000</td><td>2.84204e+11</td><td> 826370370</td><td>4.15845e+11</td><td>1.97290e+11</td><td>⋯</td><td>4.41829e+12</td><td>22823271521</td><td>1.02509e+13</td><td>427946037</td><td>272014627</td><td>3.38456e+13</td><td>258856140</td><td>1.51753e+11</td><td> 3600631919</td><td> 6689957600</td></tr>\n",
       "\t<tr><td>2.59643e+11</td><td>148530000000</td><td>  8936079253</td><td>1546912332</td><td>8.02881e+11</td><td>103312000000</td><td>2.68697e+11</td><td> 800481482</td><td>3.79358e+11</td><td>1.97509e+11</td><td>⋯</td><td>4.43416e+12</td><td>20898762265</td><td>1.05819e+13</td><td>462072333</td><td>257926882</td><td>3.36310e+13</td><td>266299592</td><td>1.35430e+11</td><td> 4094441301</td><td> 6777384700</td></tr>\n",
       "\t<tr><td>2.66529e+11</td><td>177201000000</td><td> 15285592487</td><td>1755989899</td><td>8.07962e+11</td><td>109816000000</td><td>9.77240e+10</td><td> 814381482</td><td>3.95573e+11</td><td>2.14395e+11</td><td>⋯</td><td>4.49902e+12</td><td>13606515936</td><td>1.09291e+13</td><td>487763852</td><td>262596535</td><td>3.49251e+13</td><td>281790139</td><td>1.29088e+11</td><td> 4193850445</td><td> 6342116400</td></tr>\n",
       "\t<tr><td>3.54177e+11</td><td>205214000000</td><td> 17812704626</td><td>2361635782</td><td>8.93818e+11</td><td>124346000000</td><td>1.27587e+11</td><td> 856396296</td><td>4.67498e+11</td><td>2.62274e+11</td><td>⋯</td><td>5.05235e+12</td><td>12045638210</td><td>1.14564e+13</td><td>509090889</td><td>314471414</td><td>3.91616e+13</td><td>333426144</td><td>1.97019e+11</td><td> 4901869716</td><td> 5727591800</td></tr>\n",
       "\t<tr><td>4.40482e+11</td><td>254265000000</td><td> 23552057820</td><td>2895047587</td><td>1.06274e+12</td><td>147824000000</td><td>1.64658e+11</td><td> 919729630</td><td>6.14326e+11</td><td>3.01458e+11</td><td>⋯</td><td>6.02994e+12</td><td>13686329890</td><td>1.22172e+13</td><td>549900185</td><td>364996869</td><td>4.41336e+13</td><td>407747521</td><td>2.55807e+11</td><td> 6221109716</td><td> 5805598400</td></tr>\n",
       "\t<tr><td>5.13942e+11</td><td>310890000000</td><td> 36970901025</td><td>3159826892</td><td>1.30440e+12</td><td>180617000000</td><td>1.98737e+11</td><td>1022962963</td><td>6.95305e+11</td><td>3.16092e+11</td><td>⋯</td><td>7.22269e+12</td><td>17362857684</td><td>1.30392e+13</td><td>579948926</td><td>394962432</td><td>4.77936e+13</td><td>476801793</td><td>2.88867e+11</td><td> 8331870169</td><td> 5755215200</td></tr>\n",
       "\t<tr><td>5.77587e+11</td><td>396921000000</td><td> 52381025105</td><td>3456265062</td><td>1.54554e+12</td><td>222117000000</td><td>2.32557e+11</td><td>1157662963</td><td>7.47907e+11</td><td>3.36280e+11</td><td>⋯</td><td>8.60221e+12</td><td>19741420467</td><td>1.38156e+13</td><td>643501148</td><td>439358585</td><td>5.17911e+13</td><td>499923758</td><td>3.03859e+11</td><td>12756858899</td><td> 5443896500</td></tr>\n",
       "\t<tr><td>6.62868e+11</td><td>465486000000</td><td> 65266415707</td><td>3952397735</td><td>1.79793e+12</td><td>257916000000</td><td>2.87531e+11</td><td>1312759259</td><td>8.54427e+11</td><td>3.89186e+11</td><td>⋯</td><td>1.06357e+13</td><td>23797773024</td><td>1.44742e+13</td><td>713596667</td><td>516392922</td><td>5.83611e+13</td><td>573548460</td><td>3.33077e+11</td><td>14056957976</td><td> 5291950100</td></tr>\n",
       "\t<tr><td>7.10536e+11</td><td>567791000000</td><td> 88538664888</td><td>4085781939</td><td>2.26303e+12</td><td>315475000000</td><td>3.61558e+11</td><td>1370070370</td><td>1.05569e+12</td><td>4.32052e+11</td><td>⋯</td><td>1.29531e+13</td><td>31119603034</td><td>1.47699e+13</td><td>732663259</td><td>590748431</td><td>6.41352e+13</td><td>641346192</td><td>3.16131e+11</td><td>17910858638</td><td> 4415702800</td></tr>\n",
       "\t<tr><td>7.21901e+11</td><td>508363000000</td><td> 70307196477</td><td>3674188229</td><td>1.98705e+12</td><td>253547000000</td><td>3.32976e+11</td><td>1228329630</td><td>9.28630e+11</td><td>4.01759e+11</td><td>⋯</td><td>1.25201e+13</td><td>32708318594</td><td>1.44781e+13</td><td>714300259</td><td>592622317</td><td>6.08179e+13</td><td>628006115</td><td>3.29754e+11</td><td>15328342304</td><td> 9665793300</td></tr>\n",
       "\t<tr><td>8.63520e+11</td><td>598522000000</td><td> 81699526881</td><td>3449925739</td><td>2.33464e+12</td><td>289787000000</td><td>4.23627e+11</td><td>1148700000</td><td>1.14857e+12</td><td>3.92275e+11</td><td>⋯</td><td>1.53563e+13</td><td>41950361212</td><td>1.50490e+13</td><td>720447889</td><td>670712977</td><td>6.66198e+13</td><td>680260920</td><td>4.17364e+11</td><td>20265559484</td><td>12041655200</td></tr>\n",
       "\t<tr><td>9.67825e+11</td><td>682016000000</td><td>109437000000</td><td>3629133575</td><td>2.55598e+12</td><td>350666000000</td><td>5.30158e+11</td><td>1137637037</td><td>1.39846e+12</td><td>4.31685e+11</td><td>⋯</td><td>1.85383e+13</td><td>50342405198</td><td>1.55997e+13</td><td>713796370</td><td>770153591</td><td>7.38817e+13</td><td>744096948</td><td>4.58199e+11</td><td>23459515276</td><td>14101920300</td></tr>\n",
       "\t<tr><td>9.75355e+11</td><td>737589000000</td><td>124998000000</td><td>3188652765</td><td>2.80170e+12</td><td>384610000000</td><td>5.45982e+11</td><td>1199948148</td><td>1.54695e+12</td><td>4.09402e+11</td><td>⋯</td><td>1.98297e+13</td><td>54232266359</td><td>1.62540e+13</td><td>730032593</td><td>747839698</td><td>7.55259e+13</td><td>773141695</td><td>4.34401e+11</td><td>25503060420</td><td>17114849900</td></tr>\n",
       "\t<tr><td>9.85987e+11</td><td>833948000000</td><td>133402000000</td><td>3193512950</td><td>2.85967e+12</td><td>400219000000</td><td>5.52025e+11</td><td>1181448148</td><td>1.57633e+12</td><td>4.30191e+11</td><td>⋯</td><td>2.12156e+13</td><td>61337620936</td><td>1.68432e+13</td><td>764781259</td><td>758304466</td><td>7.76352e+13</td><td>797736266</td><td>4.00886e+11</td><td>28037239463</td><td>19091020000</td></tr>\n",
       "\t<tr><td>1.00653e+12</td><td>894322000000</td><td>137244000000</td><td>3271685597</td><td>2.90573e+12</td><td>414105000000</td><td>5.26320e+11</td><td>1249733333</td><td>1.46759e+12</td><td>4.42585e+11</td><td>⋯</td><td>2.18255e+13</td><td>61496186974</td><td>1.75507e+13</td><td>770901436</td><td>772315986</td><td>7.97565e+13</td><td>796683673</td><td>3.81199e+11</td><td>27141023558</td><td>19495519600</td></tr>\n",
       "\t<tr><td>9.27348e+11</td><td>768645000000</td><td> 87219300385</td><td>2789881259</td><td>2.55416e+12</td><td>370275000000</td><td>5.94749e+11</td><td>1336692593</td><td>1.35058e+12</td><td>3.81971e+11</td><td>⋯</td><td>2.05186e+13</td><td>57680328702</td><td>1.82060e+13</td><td>786554581</td><td>730870805</td><td>7.52151e+13</td><td>824150487</td><td>3.46710e+11</td><td>21251216799</td><td>19963120600</td></tr>\n",
       "\t<tr><td>8.85176e+11</td><td>691363000000</td><td> 49840491178</td><td>2896610480</td><td>2.53754e+12</td><td>369255000000</td><td>5.57532e+11</td><td>1436585185</td><td>1.20656e+12</td><td>3.95837e+11</td><td>⋯</td><td>2.04763e+13</td><td>57480788380</td><td>1.86951e+13</td><td>814302267</td><td>780889606</td><td>7.64865e+13</td><td>843924751</td><td>3.23586e+11</td><td>20958412538</td><td>20548678100</td></tr>\n",
       "\t<tr><td>1.02104e+12</td><td>684899000000</td><td> 68972769396</td><td>3000162081</td><td>2.63711e+12</td><td>390517000000</td><td>6.43628e+11</td><td>1467955556</td><td>1.32647e+12</td><td>4.17261e+11</td><td>⋯</td><td>2.26549e+13</td><td>65006047680</td><td>1.94773e+13</td><td>844039069</td><td>880061831</td><td>8.14420e+13</td><td>884844420</td><td>3.81449e+11</td><td>25873601261</td><td>17584890937</td></tr>\n",
       "\t<tr><td>1.00720e+12</td><td>767026000000</td><td> 77792944472</td><td>3218419897</td><td>2.84348e+12</td><td>427049000000</td><td>5.24820e+11</td><td>1604770370</td><td>1.42827e+12</td><td>4.54991e+11</td><td>⋯</td><td>2.43405e+13</td><td>65203071111</td><td>2.05331e+13</td><td>884328180</td><td>914736985</td><td>8.65022e+13</td><td>878448440</td><td>4.04159e+11</td><td>26311506435</td><td>34156069918</td></tr>\n",
       "\t<tr><td>1.00083e+12</td><td>822538000000</td><td> 69309110146</td><td>3155149348</td><td>2.86889e+12</td><td>417990000000</td><td>4.47755e+11</td><td>1675403704</td><td>1.39222e+12</td><td>4.44621e+11</td><td>⋯</td><td>2.47930e+13</td><td>62048585619</td><td>2.13810e+13</td><td>910765710</td><td>936526268</td><td>8.77281e+13</td><td>912950619</td><td>3.88531e+11</td><td>23308667781</td><td>21832234926</td></tr>\n",
       "\t<tr><td>9.27593e+11</td><td>786460000000</td><td> 50241368244</td><td>2891001149</td><td>2.53338e+12</td><td>349473000000</td><td>3.85540e+11</td><td>1416348148</td><td>1.32694e+12</td><td>4.35225e+11</td><td>⋯</td><td>2.39282e+13</td><td>53666908480</td><td>2.10605e+13</td><td>869111853</td><td>909421044</td><td>8.52152e+13</td><td>868898350</td><td>3.37620e+11</td><td>18110638619</td><td>21509698406</td></tr>\n",
       "\t<tr><td>1.08200e+12</td><td>844460000000</td><td> 65685435100</td><td>3325145407</td><td>2.92846e+12</td><td>415022000000</td><td>4.87227e+11</td><td>1560518519</td><td>1.55270e+12</td><td>4.80368e+11</td><td>⋯</td><td>2.84751e+13</td><td>61412268249</td><td>2.33151e+13</td><td>872226064</td><td>971636098</td><td>9.68824e+13</td><td>843850778</td><td>4.19016e+11</td><td>22147649569</td><td>28371238666</td></tr>\n",
       "\t<tr><td>1.16948e+12</td><td>877863000000</td><td>106714000000</td><td>3352032737</td><td>3.55756e+12</td><td>507535000000</td><td>6.32770e+11</td><td>1757603704</td><td>1.67542e+12</td><td>4.71400e+11</td><td>⋯</td><td>3.00553e+13</td><td>71177146197</td><td>2.54627e+13</td><td>948558503</td><td>983582865</td><td>1.00562e+14</td><td>832421565</td><td>4.05870e+11</td><td>29784454056</td><td>20678055598</td></tr>\n",
       "</tbody>\n",
       "</table>\n"
      ],
      "text/latex": [
       "A data.frame: 63 × 194\n",
       "\\begin{tabular}{lllllllllllllllllllll}\n",
       " X & X.1 & 安哥拉 & 安道尔共和国 & 阿拉伯联盟国家 & 阿拉伯联合酋长国 & 阿根廷 & 安提瓜和巴布达 & 澳大利亚 & 奥地利 & ⋯ & 中高等收入国家 & 乌拉圭 & 美国 & 圣文森特和格林纳丁斯 & 瓦努阿图 & 世界 & 萨摩亚 & 南非 & 赞比亚 & 津巴布韦\\\\\n",
       " <dbl> & <dbl> & <dbl> & <dbl> & <dbl> & <dbl> & <dbl> & <dbl> & <dbl> & <dbl> & ⋯ & <dbl> & <dbl> & <dbl> & <dbl> & <dbl> & <dbl> & <dbl> & <dbl> & <dbl> & <dbl>\\\\\n",
       "\\hline\n",
       "\t  21125015452 &  10447637853 &          NA &        NA &           NA &          NA &           NA &        NA &  18606562979 &   6592693841 & ⋯ & 2.29314e+11 &  1242289239 & 5.43300e+11 &  13066634 &        NA & 1.38486e+12 &        NA &   8748596504 &  713000000 & 1052990400\\\\\n",
       "\t  21616228139 &  11173212080 &          NA &        NA &           NA &          NA &           NA &        NA &  19682883152 &   7311749633 & ⋯ & 2.17557e+11 &  1547388781 & 5.63300e+11 &  13999965 &        NA & 1.44922e+12 &        NA &   9225996313 &  696285714 & 1096646600\\\\\n",
       "\t  23506279900 &  11990534018 &          NA &        NA &           NA &          NA &  24450604878 &        NA &  19922563190 &   7756110210 & ⋯ & 2.23123e+11 &  1710004407 & 6.05100e+11 &  14524964 &        NA & 1.55082e+12 &        NA &   9813996078 &  693142857 & 1117601600\\\\\n",
       "\t  28048360188 &  12727688165 &          NA &        NA &           NA &          NA &  18272123664 &        NA &  21539843449 &   8374175258 & ⋯ & 2.34130e+11 &  1539681491 & 6.38600e+11 &  13708299 &        NA & 1.67145e+12 &        NA &  10854195663 &  718714286 & 1159511700\\\\\n",
       "\t  25920665260 &  13898109284 &          NA &        NA &           NA &          NA &  25605249382 &        NA &  23801123811 &   9169983886 & ⋯ & 2.68661e+11 &  1975701816 & 6.85800e+11 &  14758296 &        NA & 1.83049e+12 &        NA &  11955995222 &  839428571 & 1217138000\\\\\n",
       "\t  29472103270 &  14929792388 &          NA &        NA &           NA &          NA &  28344705967 &        NA &  25976164159 &   9994070616 & ⋯ & 3.00143e+11 &  1890767156 & 7.43700e+11 &  15108296 &        NA & 1.99410e+12 &        NA &  13068994778 & 1082857143 & 1311435800\\\\\n",
       "\t  32014368121 &  15910837742 &          NA &        NA &           NA &          NA &  28630474728 &        NA &  27307844373 &  10887682273 & ⋯ & 3.31543e+11 &  1809185094 & 8.15000e+11 &  16099960 &        NA & 2.16412e+12 &        NA &  14211394321 & 1264285714 & 1281749500\\\\\n",
       "\t  33269509510 &  14510579889 &          NA &        NA &           NA &          NA &  24256667553 &        NA &  30442724874 &  11579431669 & ⋯ & 3.33642e+11 &  1597713469 & 8.61700e+11 &  15835103 &        NA & 2.30258e+12 &        NA &  15821393678 & 1368000000 & 1397002000\\\\\n",
       "\t  36327785495 &  14968235782 &          NA &        NA &  34715404211 &          NA &  26436857247 &        NA &  32714085238 &  12440625313 & ⋯ & 3.50115e+11 &  1593674185 & 9.42500e+11 &  15350000 &        NA & 2.48467e+12 &        NA &  17124793157 & 1605857143 & 1479599900\\\\\n",
       "\t  41638967621 &  16979315745 &          NA &        NA &  37827652252 &          NA &  31256284544 &        NA &  36683365874 &  13582798556 & ⋯ & 3.92810e+11 &  2004435484 & 1.01990e+12 &  16650000 &        NA & 2.74050e+12 &        NA &  19256992305 & 1965714286 & 1747998800\\\\\n",
       "\t  44629891649 &  23596163865 &          NA &  78617623 &  42768536551 &          NA &  31584210366 &        NA &  41333606618 &  15373005557 & ⋯ & 4.30723e+11 &  2137096774 & 1.07330e+12 &  18450000 &        NA & 2.99727e+12 &        NA &  21218391521 & 1825285714 & 1884206300\\\\\n",
       "\t  49173371529 &  20936358634 &          NA &  89406588 &  49428519673 &          NA &  33293199095 &        NA &  45216647240 &  17858486067 & ⋯ & 4.67248e+11 &  2807258065 & 1.16485e+12 &  20051925 &        NA & 3.31048e+12 &        NA &  23411079377 & 1687000000 & 2178716300\\\\\n",
       "\t  53123459912 &  25386169423 &          NA & 113414399 &  58935857749 &          NA &  34733000536 &        NA &  52042056075 &  22059612477 & ⋯ & 5.31816e+11 &  2189418689 & 1.27911e+12 &  27585803 &        NA & 3.81682e+12 &        NA &  24515911652 & 1872416680 & 2677729400\\\\\n",
       "\t  69482723444 &  31975594565 &          NA & 150841574 &  74780454402 &          NA &  52544000117 &        NA &  63832158873 &  29515467707 & ⋯ & 6.94387e+11 &  3964296443 & 1.42538e+12 &  30165077 &        NA & 4.65745e+12 &        NA &  33262767310 & 2434255237 & 3309353600\\\\\n",
       "\t  85380645042 &  44416677335 &          NA & 186557164 & 142138000000 &          NA &  72436777342 &        NA &  88963890936 &  35189299912 & ⋯ & 8.68560e+11 &  4090209682 & 1.54524e+12 &  32923696 &        NA & 5.36682e+12 &        NA &  41389185877 & 2910981262 & 3982161400\\\\\n",
       "\t  90835426418 &  51667190242 &          NA & 220112880 & 157069000000 & 14720728252 &  52438647922 &        NA &  97304383449 &  40059206763 & ⋯ & 9.59658e+11 &  3538278047 & 1.68490e+12 &  33237229 &        NA & 5.97797e+12 &        NA &  42906919870 & 2442672141 & 4371300700\\\\\n",
       "\t  90212747243 &  62351622300 &          NA & 227284062 & 195514000000 & 19213156353 &  51169499892 &        NA & 105061000000 &  42959976222 & ⋯ & 1.01886e+12 &  3667161241 & 1.87341e+12 &  32792847 &        NA & 6.49875e+12 &        NA &  41150449964 & 2742859263 & 4318372000\\\\\n",
       "\t 102241000000 &  65595122956 &          NA & 253998001 & 225676000000 & 24871775165 &  56781000101 &  77496754 & 110351000000 &  51545758888 & ⋯ & 1.13336e+12 &  4114670014 & 2.08183e+12 &  49353162 &        NA & 7.34973e+12 &        NA &  45328399961 & 2515296940 & 4364382100\\\\\n",
       "\t 116085000000 &  71496496574 &          NA & 308020289 & 249608000000 & 23775765254 &  89049453088 &  87879341 & 118492000000 &  62052259073 & ⋯ & 1.26285e+12 &  4910254566 & 2.35160e+12 &  60844771 &        NA & 8.69050e+12 &        NA &  51607399955 & 2811032473 & 4351600500\\\\\n",
       "\t 134257000000 &  88948338390 &          NA & 411548366 & 337962000000 & 31225660993 &  69252328952 & 109079979 & 134898000000 &  73937296963 & ⋯ & 1.46121e+12 &  7181182224 & 2.62733e+12 &  71096360 & 119258835 & 1.00538e+13 &        NA &  63038687890 & 3353445378 & 5177459400\\\\\n",
       "\t 171218000000 & 112439000000 &  5930503401 & 446377572 & 459805000000 & 43599160062 &  76961923741 & 131431027 & 149984000000 &  82058912997 & ⋯ & 1.71633e+12 & 10163020116 & 2.85731e+12 &  82340340 & 121185498 & 1.13371e+13 &        NA &  89411894564 & 3884530854 & 6678868200\\\\\n",
       "\t 175859000000 & 211338000000 &  5550483036 & 388982990 & 474812000000 & 49333424149 &  78676842367 & 147841734 & 176892000000 &  71034228443 & ⋯ & 1.86414e+12 & 11048301421 & 3.20704e+12 & 102086539 & 113781796 & 1.17284e+13 &        NA &  93141478239 & 4008126497 & 8011373800\\\\\n",
       "\t 168096000000 & 187449000000 &  5550483036 & 375914806 & 444576000000 & 46622718618 &  84307486837 & 164369279 & 194037000000 &  71275287570 & ⋯ & 1.79198e+12 &  9178780077 & 3.34379e+12 & 113759203 & 114501912 & 1.16102e+13 & 121221652 &  85904070615 & 3871117093 & 8539700700\\\\\n",
       "\t 175565000000 & 138384000000 &  5784341596 & 327849982 & 418462000000 & 42803323357 & 103979000000 & 182144093 & 177263000000 &  72121016547 & ⋯ & 1.69552e+12 &  5102276308 & 3.63404e+12 & 122255350 & 117389554 & 1.18405e+13 & 111862824 &  96204110963 & 3321048451 & 7764067000\\\\\n",
       "\t 160647000000 & 114516000000 &  6131475065 & 330073057 & 425899000000 & 41807954241 & 116915000000 & 208372846 & 193517000000 &  67985344887 & ⋯ & 1.80231e+12 &  4850238550 & 4.03761e+12 & 135024988 & 144482515 & 1.23116e+13 & 109200934 &  84870134616 & 2719518933 & 6352125900\\\\\n",
       "\t 136759000000 & 116777000000 &  7554065410 & 346742876 & 419485000000 & 40603650232 &  88150891728 & 240923925 & 180635000000 &  69386774408 & ⋯ & 1.83411e+12 &  4732025670 & 4.33898e+12 & 145641705 & 131856421 & 1.28972e+13 &  95572173 &  64459376104 & 2252454500 & 5637259300\\\\\n",
       "\t 153050000000 & 107887000000 &  7072536109 & 481996191 & 406983000000 & 33943612095 & 105872000000 & 290440141 & 182472000000 &  99036164939 & ⋯ & 1.85770e+12 &  5880106317 & 4.57963e+12 & 160846657 & 126498935 & 1.52525e+13 & 100947849 &  73354782108 & 1664413508 & 6217523700\\\\\n",
       "\t 186658000000 & 110729000000 &  8084412414 & 611300147 & 440608000000 & 36384908744 & 108811000000 & 337174862 & 189488000000 & 124168000000 & ⋯ & 1.98996e+12 &  7367504970 & 4.85522e+12 & 175580647 & 139464174 & 1.73730e+13 & 111713922 &  96535747614 & 2265250972 & 6741215100\\\\\n",
       "\t 204766000000 & 109439000000 &  8769836769 & 721425972 & 424896000000 & 36275674203 & 126890000000 & 398637728 & 236153000000 & 133339000000 & ⋯ & 2.18535e+12 &  8213526914 & 5.23644e+12 & 200726713 & 158351368 & 1.93940e+13 & 133016065 & 103977000000 & 3728878149 & 7814784100\\\\\n",
       "\t 218242000000 & 102255000000 & 10201780977 & 795489464 & 455823000000 & 41464995914 &  76629728760 & 438794788 & 299876000000 & 133106000000 & ⋯ & 2.33315e+12 &  8438946948 & 5.64158e+12 & 214745002 & 154013202 & 2.02667e+13 & 122888610 & 108056000000 & 3994673161 & 8286322700\\\\\n",
       "\t ⋮ & ⋮ & ⋮ & ⋮ & ⋮ & ⋮ & ⋮ & ⋮ & ⋮ & ⋮ & ⋱ & ⋮ & ⋮ & ⋮ & ⋮ & ⋮ & ⋮ & ⋮ & ⋮ & ⋮ & ⋮\\\\\n",
       "\t 2.42926e+11 &  99272180411 &  11051939102 & 1007090915 & 4.82764e+11 &  55625170253 & 2.36742e+11 &  535174074 & 3.12138e+11 & 1.90380e+11 & ⋯ & 3.06888e+12 & 15002138240 & 6.85856e+12 & 286307407 & 200491853 & 2.59059e+13 & 133122897 & 1.47195e+11 &  3273507754 &  6563813300\\\\\n",
       "\t 2.39611e+11 &  86636400266 &   3390500000 & 1017544675 & 5.07765e+11 &  59305093980 & 2.57440e+11 &  589429630 & 3.22809e+11 & 2.03535e+11 & ⋯ & 3.34561e+12 & 17474590051 & 7.28724e+12 & 289437037 & 233701302 & 2.78996e+13 & 221098106 & 1.53513e+11 &  3656808233 &  6890675000\\\\\n",
       "\t 2.70327e+11 & 108691000000 &   5561222222 & 1178745314 & 5.56046e+11 &  65743666576 & 2.58032e+11 &  577281482 & 3.68141e+11 & 2.41038e+11 & ⋯ & 3.74463e+12 & 19297663097 & 7.63975e+12 & 316007407 & 249333250 & 3.10515e+13 & 224865731 & 1.71736e+11 &  3806982679 &  7111270700\\\\\n",
       "\t 2.69491e+11 & 126287000000 &   7526963964 & 1224023416 & 6.14186e+11 &  73571233996 & 2.72150e+11 &  633729630 & 4.01311e+11 & 2.37251e+11 & ⋯ & 4.08248e+12 & 20515457256 & 8.07312e+12 & 331488889 & 261370044 & 3.17457e+13 & 249907894 & 1.63235e+11 &  3597220962 &  8553146600\\\\\n",
       "\t 2.83446e+11 & 127602000000 &   7648377413 & 1180646068 & 6.62308e+11 &  78839008445 & 2.92859e+11 &  680618518 & 4.35614e+11 & 2.12790e+11 & ⋯ & 4.34556e+12 & 23969738388 & 8.57755e+12 & 347770370 & 272771209 & 3.16297e+13 & 285475621 & 1.68978e+11 &  4303290117 &  8529571600\\\\\n",
       "\t 2.66652e+11 & 130678000000 &   6506229607 & 1211953954 & 6.49192e+11 &  75674336283 & 2.98948e+11 &  727859259 & 3.99661e+11 & 2.18260e+11 & ⋯ & 4.16627e+12 & 25385887786 & 9.06282e+12 & 373618518 & 262293411 & 3.15529e+13 & 269485285 & 1.52983e+11 &  3537741625 &  6401968200\\\\\n",
       "\t 2.63025e+11 & 138086000000 &   6152922943 & 1239840270 & 7.17469e+11 &  84445473111 & 2.83523e+11 &  766200000 & 3.89390e+11 & 2.17259e+11 & ⋯ & 3.98744e+12 & 23983945191 & 9.63117e+12 & 390718518 & 268006973 & 3.27520e+13 & 255408053 & 1.51517e+11 &  3404284653 &  6858013100\\\\\n",
       "\t 2.84759e+11 & 140946000000 &   9129594819 & 1429048106 & 8.20186e+11 & 104337000000 & 2.84204e+11 &  826370370 & 4.15845e+11 & 1.97290e+11 & ⋯ & 4.41829e+12 & 22823271521 & 1.02509e+13 & 427946037 & 272014627 & 3.38456e+13 & 258856140 & 1.51753e+11 &  3600631919 &  6689957600\\\\\n",
       "\t 2.59643e+11 & 148530000000 &   8936079253 & 1546912332 & 8.02881e+11 & 103312000000 & 2.68697e+11 &  800481482 & 3.79358e+11 & 1.97509e+11 & ⋯ & 4.43416e+12 & 20898762265 & 1.05819e+13 & 462072333 & 257926882 & 3.36310e+13 & 266299592 & 1.35430e+11 &  4094441301 &  6777384700\\\\\n",
       "\t 2.66529e+11 & 177201000000 &  15285592487 & 1755989899 & 8.07962e+11 & 109816000000 & 9.77240e+10 &  814381482 & 3.95573e+11 & 2.14395e+11 & ⋯ & 4.49902e+12 & 13606515936 & 1.09291e+13 & 487763852 & 262596535 & 3.49251e+13 & 281790139 & 1.29088e+11 &  4193850445 &  6342116400\\\\\n",
       "\t 3.54177e+11 & 205214000000 &  17812704626 & 2361635782 & 8.93818e+11 & 124346000000 & 1.27587e+11 &  856396296 & 4.67498e+11 & 2.62274e+11 & ⋯ & 5.05235e+12 & 12045638210 & 1.14564e+13 & 509090889 & 314471414 & 3.91616e+13 & 333426144 & 1.97019e+11 &  4901869716 &  5727591800\\\\\n",
       "\t 4.40482e+11 & 254265000000 &  23552057820 & 2895047587 & 1.06274e+12 & 147824000000 & 1.64658e+11 &  919729630 & 6.14326e+11 & 3.01458e+11 & ⋯ & 6.02994e+12 & 13686329890 & 1.22172e+13 & 549900185 & 364996869 & 4.41336e+13 & 407747521 & 2.55807e+11 &  6221109716 &  5805598400\\\\\n",
       "\t 5.13942e+11 & 310890000000 &  36970901025 & 3159826892 & 1.30440e+12 & 180617000000 & 1.98737e+11 & 1022962963 & 6.95305e+11 & 3.16092e+11 & ⋯ & 7.22269e+12 & 17362857684 & 1.30392e+13 & 579948926 & 394962432 & 4.77936e+13 & 476801793 & 2.88867e+11 &  8331870169 &  5755215200\\\\\n",
       "\t 5.77587e+11 & 396921000000 &  52381025105 & 3456265062 & 1.54554e+12 & 222117000000 & 2.32557e+11 & 1157662963 & 7.47907e+11 & 3.36280e+11 & ⋯ & 8.60221e+12 & 19741420467 & 1.38156e+13 & 643501148 & 439358585 & 5.17911e+13 & 499923758 & 3.03859e+11 & 12756858899 &  5443896500\\\\\n",
       "\t 6.62868e+11 & 465486000000 &  65266415707 & 3952397735 & 1.79793e+12 & 257916000000 & 2.87531e+11 & 1312759259 & 8.54427e+11 & 3.89186e+11 & ⋯ & 1.06357e+13 & 23797773024 & 1.44742e+13 & 713596667 & 516392922 & 5.83611e+13 & 573548460 & 3.33077e+11 & 14056957976 &  5291950100\\\\\n",
       "\t 7.10536e+11 & 567791000000 &  88538664888 & 4085781939 & 2.26303e+12 & 315475000000 & 3.61558e+11 & 1370070370 & 1.05569e+12 & 4.32052e+11 & ⋯ & 1.29531e+13 & 31119603034 & 1.47699e+13 & 732663259 & 590748431 & 6.41352e+13 & 641346192 & 3.16131e+11 & 17910858638 &  4415702800\\\\\n",
       "\t 7.21901e+11 & 508363000000 &  70307196477 & 3674188229 & 1.98705e+12 & 253547000000 & 3.32976e+11 & 1228329630 & 9.28630e+11 & 4.01759e+11 & ⋯ & 1.25201e+13 & 32708318594 & 1.44781e+13 & 714300259 & 592622317 & 6.08179e+13 & 628006115 & 3.29754e+11 & 15328342304 &  9665793300\\\\\n",
       "\t 8.63520e+11 & 598522000000 &  81699526881 & 3449925739 & 2.33464e+12 & 289787000000 & 4.23627e+11 & 1148700000 & 1.14857e+12 & 3.92275e+11 & ⋯ & 1.53563e+13 & 41950361212 & 1.50490e+13 & 720447889 & 670712977 & 6.66198e+13 & 680260920 & 4.17364e+11 & 20265559484 & 12041655200\\\\\n",
       "\t 9.67825e+11 & 682016000000 & 109437000000 & 3629133575 & 2.55598e+12 & 350666000000 & 5.30158e+11 & 1137637037 & 1.39846e+12 & 4.31685e+11 & ⋯ & 1.85383e+13 & 50342405198 & 1.55997e+13 & 713796370 & 770153591 & 7.38817e+13 & 744096948 & 4.58199e+11 & 23459515276 & 14101920300\\\\\n",
       "\t 9.75355e+11 & 737589000000 & 124998000000 & 3188652765 & 2.80170e+12 & 384610000000 & 5.45982e+11 & 1199948148 & 1.54695e+12 & 4.09402e+11 & ⋯ & 1.98297e+13 & 54232266359 & 1.62540e+13 & 730032593 & 747839698 & 7.55259e+13 & 773141695 & 4.34401e+11 & 25503060420 & 17114849900\\\\\n",
       "\t 9.85987e+11 & 833948000000 & 133402000000 & 3193512950 & 2.85967e+12 & 400219000000 & 5.52025e+11 & 1181448148 & 1.57633e+12 & 4.30191e+11 & ⋯ & 2.12156e+13 & 61337620936 & 1.68432e+13 & 764781259 & 758304466 & 7.76352e+13 & 797736266 & 4.00886e+11 & 28037239463 & 19091020000\\\\\n",
       "\t 1.00653e+12 & 894322000000 & 137244000000 & 3271685597 & 2.90573e+12 & 414105000000 & 5.26320e+11 & 1249733333 & 1.46759e+12 & 4.42585e+11 & ⋯ & 2.18255e+13 & 61496186974 & 1.75507e+13 & 770901436 & 772315986 & 7.97565e+13 & 796683673 & 3.81199e+11 & 27141023558 & 19495519600\\\\\n",
       "\t 9.27348e+11 & 768645000000 &  87219300385 & 2789881259 & 2.55416e+12 & 370275000000 & 5.94749e+11 & 1336692593 & 1.35058e+12 & 3.81971e+11 & ⋯ & 2.05186e+13 & 57680328702 & 1.82060e+13 & 786554581 & 730870805 & 7.52151e+13 & 824150487 & 3.46710e+11 & 21251216799 & 19963120600\\\\\n",
       "\t 8.85176e+11 & 691363000000 &  49840491178 & 2896610480 & 2.53754e+12 & 369255000000 & 5.57532e+11 & 1436585185 & 1.20656e+12 & 3.95837e+11 & ⋯ & 2.04763e+13 & 57480788380 & 1.86951e+13 & 814302267 & 780889606 & 7.64865e+13 & 843924751 & 3.23586e+11 & 20958412538 & 20548678100\\\\\n",
       "\t 1.02104e+12 & 684899000000 &  68972769396 & 3000162081 & 2.63711e+12 & 390517000000 & 6.43628e+11 & 1467955556 & 1.32647e+12 & 4.17261e+11 & ⋯ & 2.26549e+13 & 65006047680 & 1.94773e+13 & 844039069 & 880061831 & 8.14420e+13 & 884844420 & 3.81449e+11 & 25873601261 & 17584890937\\\\\n",
       "\t 1.00720e+12 & 767026000000 &  77792944472 & 3218419897 & 2.84348e+12 & 427049000000 & 5.24820e+11 & 1604770370 & 1.42827e+12 & 4.54991e+11 & ⋯ & 2.43405e+13 & 65203071111 & 2.05331e+13 & 884328180 & 914736985 & 8.65022e+13 & 878448440 & 4.04159e+11 & 26311506435 & 34156069918\\\\\n",
       "\t 1.00083e+12 & 822538000000 &  69309110146 & 3155149348 & 2.86889e+12 & 417990000000 & 4.47755e+11 & 1675403704 & 1.39222e+12 & 4.44621e+11 & ⋯ & 2.47930e+13 & 62048585619 & 2.13810e+13 & 910765710 & 936526268 & 8.77281e+13 & 912950619 & 3.88531e+11 & 23308667781 & 21832234926\\\\\n",
       "\t 9.27593e+11 & 786460000000 &  50241368244 & 2891001149 & 2.53338e+12 & 349473000000 & 3.85540e+11 & 1416348148 & 1.32694e+12 & 4.35225e+11 & ⋯ & 2.39282e+13 & 53666908480 & 2.10605e+13 & 869111853 & 909421044 & 8.52152e+13 & 868898350 & 3.37620e+11 & 18110638619 & 21509698406\\\\\n",
       "\t 1.08200e+12 & 844460000000 &  65685435100 & 3325145407 & 2.92846e+12 & 415022000000 & 4.87227e+11 & 1560518519 & 1.55270e+12 & 4.80368e+11 & ⋯ & 2.84751e+13 & 61412268249 & 2.33151e+13 & 872226064 & 971636098 & 9.68824e+13 & 843850778 & 4.19016e+11 & 22147649569 & 28371238666\\\\\n",
       "\t 1.16948e+12 & 877863000000 & 106714000000 & 3352032737 & 3.55756e+12 & 507535000000 & 6.32770e+11 & 1757603704 & 1.67542e+12 & 4.71400e+11 & ⋯ & 3.00553e+13 & 71177146197 & 2.54627e+13 & 948558503 & 983582865 & 1.00562e+14 & 832421565 & 4.05870e+11 & 29784454056 & 20678055598\\\\\n",
       "\\end{tabular}\n"
      ],
      "text/markdown": [
       "\n",
       "A data.frame: 63 × 194\n",
       "\n",
       "| X &lt;dbl&gt; | X.1 &lt;dbl&gt; | 安哥拉 &lt;dbl&gt; | 安道尔共和国 &lt;dbl&gt; | 阿拉伯联盟国家 &lt;dbl&gt; | 阿拉伯联合酋长国 &lt;dbl&gt; | 阿根廷 &lt;dbl&gt; | 安提瓜和巴布达 &lt;dbl&gt; | 澳大利亚 &lt;dbl&gt; | 奥地利 &lt;dbl&gt; | ⋯ ⋯ | 中高等收入国家 &lt;dbl&gt; | 乌拉圭 &lt;dbl&gt; | 美国 &lt;dbl&gt; | 圣文森特和格林纳丁斯 &lt;dbl&gt; | 瓦努阿图 &lt;dbl&gt; | 世界 &lt;dbl&gt; | 萨摩亚 &lt;dbl&gt; | 南非 &lt;dbl&gt; | 赞比亚 &lt;dbl&gt; | 津巴布韦 &lt;dbl&gt; |\n",
       "|---|---|---|---|---|---|---|---|---|---|---|---|---|---|---|---|---|---|---|---|---|\n",
       "|  21125015452 |  10447637853 |          NA |        NA |           NA |          NA |           NA |        NA |  18606562979 |   6592693841 | ⋯ | 2.29314e+11 |  1242289239 | 5.43300e+11 |  13066634 |        NA | 1.38486e+12 |        NA |   8748596504 |  713000000 | 1052990400 |\n",
       "|  21616228139 |  11173212080 |          NA |        NA |           NA |          NA |           NA |        NA |  19682883152 |   7311749633 | ⋯ | 2.17557e+11 |  1547388781 | 5.63300e+11 |  13999965 |        NA | 1.44922e+12 |        NA |   9225996313 |  696285714 | 1096646600 |\n",
       "|  23506279900 |  11990534018 |          NA |        NA |           NA |          NA |  24450604878 |        NA |  19922563190 |   7756110210 | ⋯ | 2.23123e+11 |  1710004407 | 6.05100e+11 |  14524964 |        NA | 1.55082e+12 |        NA |   9813996078 |  693142857 | 1117601600 |\n",
       "|  28048360188 |  12727688165 |          NA |        NA |           NA |          NA |  18272123664 |        NA |  21539843449 |   8374175258 | ⋯ | 2.34130e+11 |  1539681491 | 6.38600e+11 |  13708299 |        NA | 1.67145e+12 |        NA |  10854195663 |  718714286 | 1159511700 |\n",
       "|  25920665260 |  13898109284 |          NA |        NA |           NA |          NA |  25605249382 |        NA |  23801123811 |   9169983886 | ⋯ | 2.68661e+11 |  1975701816 | 6.85800e+11 |  14758296 |        NA | 1.83049e+12 |        NA |  11955995222 |  839428571 | 1217138000 |\n",
       "|  29472103270 |  14929792388 |          NA |        NA |           NA |          NA |  28344705967 |        NA |  25976164159 |   9994070616 | ⋯ | 3.00143e+11 |  1890767156 | 7.43700e+11 |  15108296 |        NA | 1.99410e+12 |        NA |  13068994778 | 1082857143 | 1311435800 |\n",
       "|  32014368121 |  15910837742 |          NA |        NA |           NA |          NA |  28630474728 |        NA |  27307844373 |  10887682273 | ⋯ | 3.31543e+11 |  1809185094 | 8.15000e+11 |  16099960 |        NA | 2.16412e+12 |        NA |  14211394321 | 1264285714 | 1281749500 |\n",
       "|  33269509510 |  14510579889 |          NA |        NA |           NA |          NA |  24256667553 |        NA |  30442724874 |  11579431669 | ⋯ | 3.33642e+11 |  1597713469 | 8.61700e+11 |  15835103 |        NA | 2.30258e+12 |        NA |  15821393678 | 1368000000 | 1397002000 |\n",
       "|  36327785495 |  14968235782 |          NA |        NA |  34715404211 |          NA |  26436857247 |        NA |  32714085238 |  12440625313 | ⋯ | 3.50115e+11 |  1593674185 | 9.42500e+11 |  15350000 |        NA | 2.48467e+12 |        NA |  17124793157 | 1605857143 | 1479599900 |\n",
       "|  41638967621 |  16979315745 |          NA |        NA |  37827652252 |          NA |  31256284544 |        NA |  36683365874 |  13582798556 | ⋯ | 3.92810e+11 |  2004435484 | 1.01990e+12 |  16650000 |        NA | 2.74050e+12 |        NA |  19256992305 | 1965714286 | 1747998800 |\n",
       "|  44629891649 |  23596163865 |          NA |  78617623 |  42768536551 |          NA |  31584210366 |        NA |  41333606618 |  15373005557 | ⋯ | 4.30723e+11 |  2137096774 | 1.07330e+12 |  18450000 |        NA | 2.99727e+12 |        NA |  21218391521 | 1825285714 | 1884206300 |\n",
       "|  49173371529 |  20936358634 |          NA |  89406588 |  49428519673 |          NA |  33293199095 |        NA |  45216647240 |  17858486067 | ⋯ | 4.67248e+11 |  2807258065 | 1.16485e+12 |  20051925 |        NA | 3.31048e+12 |        NA |  23411079377 | 1687000000 | 2178716300 |\n",
       "|  53123459912 |  25386169423 |          NA | 113414399 |  58935857749 |          NA |  34733000536 |        NA |  52042056075 |  22059612477 | ⋯ | 5.31816e+11 |  2189418689 | 1.27911e+12 |  27585803 |        NA | 3.81682e+12 |        NA |  24515911652 | 1872416680 | 2677729400 |\n",
       "|  69482723444 |  31975594565 |          NA | 150841574 |  74780454402 |          NA |  52544000117 |        NA |  63832158873 |  29515467707 | ⋯ | 6.94387e+11 |  3964296443 | 1.42538e+12 |  30165077 |        NA | 4.65745e+12 |        NA |  33262767310 | 2434255237 | 3309353600 |\n",
       "|  85380645042 |  44416677335 |          NA | 186557164 | 142138000000 |          NA |  72436777342 |        NA |  88963890936 |  35189299912 | ⋯ | 8.68560e+11 |  4090209682 | 1.54524e+12 |  32923696 |        NA | 5.36682e+12 |        NA |  41389185877 | 2910981262 | 3982161400 |\n",
       "|  90835426418 |  51667190242 |          NA | 220112880 | 157069000000 | 14720728252 |  52438647922 |        NA |  97304383449 |  40059206763 | ⋯ | 9.59658e+11 |  3538278047 | 1.68490e+12 |  33237229 |        NA | 5.97797e+12 |        NA |  42906919870 | 2442672141 | 4371300700 |\n",
       "|  90212747243 |  62351622300 |          NA | 227284062 | 195514000000 | 19213156353 |  51169499892 |        NA | 105061000000 |  42959976222 | ⋯ | 1.01886e+12 |  3667161241 | 1.87341e+12 |  32792847 |        NA | 6.49875e+12 |        NA |  41150449964 | 2742859263 | 4318372000 |\n",
       "| 102241000000 |  65595122956 |          NA | 253998001 | 225676000000 | 24871775165 |  56781000101 |  77496754 | 110351000000 |  51545758888 | ⋯ | 1.13336e+12 |  4114670014 | 2.08183e+12 |  49353162 |        NA | 7.34973e+12 |        NA |  45328399961 | 2515296940 | 4364382100 |\n",
       "| 116085000000 |  71496496574 |          NA | 308020289 | 249608000000 | 23775765254 |  89049453088 |  87879341 | 118492000000 |  62052259073 | ⋯ | 1.26285e+12 |  4910254566 | 2.35160e+12 |  60844771 |        NA | 8.69050e+12 |        NA |  51607399955 | 2811032473 | 4351600500 |\n",
       "| 134257000000 |  88948338390 |          NA | 411548366 | 337962000000 | 31225660993 |  69252328952 | 109079979 | 134898000000 |  73937296963 | ⋯ | 1.46121e+12 |  7181182224 | 2.62733e+12 |  71096360 | 119258835 | 1.00538e+13 |        NA |  63038687890 | 3353445378 | 5177459400 |\n",
       "| 171218000000 | 112439000000 |  5930503401 | 446377572 | 459805000000 | 43599160062 |  76961923741 | 131431027 | 149984000000 |  82058912997 | ⋯ | 1.71633e+12 | 10163020116 | 2.85731e+12 |  82340340 | 121185498 | 1.13371e+13 |        NA |  89411894564 | 3884530854 | 6678868200 |\n",
       "| 175859000000 | 211338000000 |  5550483036 | 388982990 | 474812000000 | 49333424149 |  78676842367 | 147841734 | 176892000000 |  71034228443 | ⋯ | 1.86414e+12 | 11048301421 | 3.20704e+12 | 102086539 | 113781796 | 1.17284e+13 |        NA |  93141478239 | 4008126497 | 8011373800 |\n",
       "| 168096000000 | 187449000000 |  5550483036 | 375914806 | 444576000000 | 46622718618 |  84307486837 | 164369279 | 194037000000 |  71275287570 | ⋯ | 1.79198e+12 |  9178780077 | 3.34379e+12 | 113759203 | 114501912 | 1.16102e+13 | 121221652 |  85904070615 | 3871117093 | 8539700700 |\n",
       "| 175565000000 | 138384000000 |  5784341596 | 327849982 | 418462000000 | 42803323357 | 103979000000 | 182144093 | 177263000000 |  72121016547 | ⋯ | 1.69552e+12 |  5102276308 | 3.63404e+12 | 122255350 | 117389554 | 1.18405e+13 | 111862824 |  96204110963 | 3321048451 | 7764067000 |\n",
       "| 160647000000 | 114516000000 |  6131475065 | 330073057 | 425899000000 | 41807954241 | 116915000000 | 208372846 | 193517000000 |  67985344887 | ⋯ | 1.80231e+12 |  4850238550 | 4.03761e+12 | 135024988 | 144482515 | 1.23116e+13 | 109200934 |  84870134616 | 2719518933 | 6352125900 |\n",
       "| 136759000000 | 116777000000 |  7554065410 | 346742876 | 419485000000 | 40603650232 |  88150891728 | 240923925 | 180635000000 |  69386774408 | ⋯ | 1.83411e+12 |  4732025670 | 4.33898e+12 | 145641705 | 131856421 | 1.28972e+13 |  95572173 |  64459376104 | 2252454500 | 5637259300 |\n",
       "| 153050000000 | 107887000000 |  7072536109 | 481996191 | 406983000000 | 33943612095 | 105872000000 | 290440141 | 182472000000 |  99036164939 | ⋯ | 1.85770e+12 |  5880106317 | 4.57963e+12 | 160846657 | 126498935 | 1.52525e+13 | 100947849 |  73354782108 | 1664413508 | 6217523700 |\n",
       "| 186658000000 | 110729000000 |  8084412414 | 611300147 | 440608000000 | 36384908744 | 108811000000 | 337174862 | 189488000000 | 124168000000 | ⋯ | 1.98996e+12 |  7367504970 | 4.85522e+12 | 175580647 | 139464174 | 1.73730e+13 | 111713922 |  96535747614 | 2265250972 | 6741215100 |\n",
       "| 204766000000 | 109439000000 |  8769836769 | 721425972 | 424896000000 | 36275674203 | 126890000000 | 398637728 | 236153000000 | 133339000000 | ⋯ | 2.18535e+12 |  8213526914 | 5.23644e+12 | 200726713 | 158351368 | 1.93940e+13 | 133016065 | 103977000000 | 3728878149 | 7814784100 |\n",
       "| 218242000000 | 102255000000 | 10201780977 | 795489464 | 455823000000 | 41464995914 |  76629728760 | 438794788 | 299876000000 | 133106000000 | ⋯ | 2.33315e+12 |  8438946948 | 5.64158e+12 | 214745002 | 154013202 | 2.02667e+13 | 122888610 | 108056000000 | 3994673161 | 8286322700 |\n",
       "| ⋮ | ⋮ | ⋮ | ⋮ | ⋮ | ⋮ | ⋮ | ⋮ | ⋮ | ⋮ | ⋱ | ⋮ | ⋮ | ⋮ | ⋮ | ⋮ | ⋮ | ⋮ | ⋮ | ⋮ | ⋮ |\n",
       "| 2.42926e+11 |  99272180411 |  11051939102 | 1007090915 | 4.82764e+11 |  55625170253 | 2.36742e+11 |  535174074 | 3.12138e+11 | 1.90380e+11 | ⋯ | 3.06888e+12 | 15002138240 | 6.85856e+12 | 286307407 | 200491853 | 2.59059e+13 | 133122897 | 1.47195e+11 |  3273507754 |  6563813300 |\n",
       "| 2.39611e+11 |  86636400266 |   3390500000 | 1017544675 | 5.07765e+11 |  59305093980 | 2.57440e+11 |  589429630 | 3.22809e+11 | 2.03535e+11 | ⋯ | 3.34561e+12 | 17474590051 | 7.28724e+12 | 289437037 | 233701302 | 2.78996e+13 | 221098106 | 1.53513e+11 |  3656808233 |  6890675000 |\n",
       "| 2.70327e+11 | 108691000000 |   5561222222 | 1178745314 | 5.56046e+11 |  65743666576 | 2.58032e+11 |  577281482 | 3.68141e+11 | 2.41038e+11 | ⋯ | 3.74463e+12 | 19297663097 | 7.63975e+12 | 316007407 | 249333250 | 3.10515e+13 | 224865731 | 1.71736e+11 |  3806982679 |  7111270700 |\n",
       "| 2.69491e+11 | 126287000000 |   7526963964 | 1224023416 | 6.14186e+11 |  73571233996 | 2.72150e+11 |  633729630 | 4.01311e+11 | 2.37251e+11 | ⋯ | 4.08248e+12 | 20515457256 | 8.07312e+12 | 331488889 | 261370044 | 3.17457e+13 | 249907894 | 1.63235e+11 |  3597220962 |  8553146600 |\n",
       "| 2.83446e+11 | 127602000000 |   7648377413 | 1180646068 | 6.62308e+11 |  78839008445 | 2.92859e+11 |  680618518 | 4.35614e+11 | 2.12790e+11 | ⋯ | 4.34556e+12 | 23969738388 | 8.57755e+12 | 347770370 | 272771209 | 3.16297e+13 | 285475621 | 1.68978e+11 |  4303290117 |  8529571600 |\n",
       "| 2.66652e+11 | 130678000000 |   6506229607 | 1211953954 | 6.49192e+11 |  75674336283 | 2.98948e+11 |  727859259 | 3.99661e+11 | 2.18260e+11 | ⋯ | 4.16627e+12 | 25385887786 | 9.06282e+12 | 373618518 | 262293411 | 3.15529e+13 | 269485285 | 1.52983e+11 |  3537741625 |  6401968200 |\n",
       "| 2.63025e+11 | 138086000000 |   6152922943 | 1239840270 | 7.17469e+11 |  84445473111 | 2.83523e+11 |  766200000 | 3.89390e+11 | 2.17259e+11 | ⋯ | 3.98744e+12 | 23983945191 | 9.63117e+12 | 390718518 | 268006973 | 3.27520e+13 | 255408053 | 1.51517e+11 |  3404284653 |  6858013100 |\n",
       "| 2.84759e+11 | 140946000000 |   9129594819 | 1429048106 | 8.20186e+11 | 104337000000 | 2.84204e+11 |  826370370 | 4.15845e+11 | 1.97290e+11 | ⋯ | 4.41829e+12 | 22823271521 | 1.02509e+13 | 427946037 | 272014627 | 3.38456e+13 | 258856140 | 1.51753e+11 |  3600631919 |  6689957600 |\n",
       "| 2.59643e+11 | 148530000000 |   8936079253 | 1546912332 | 8.02881e+11 | 103312000000 | 2.68697e+11 |  800481482 | 3.79358e+11 | 1.97509e+11 | ⋯ | 4.43416e+12 | 20898762265 | 1.05819e+13 | 462072333 | 257926882 | 3.36310e+13 | 266299592 | 1.35430e+11 |  4094441301 |  6777384700 |\n",
       "| 2.66529e+11 | 177201000000 |  15285592487 | 1755989899 | 8.07962e+11 | 109816000000 | 9.77240e+10 |  814381482 | 3.95573e+11 | 2.14395e+11 | ⋯ | 4.49902e+12 | 13606515936 | 1.09291e+13 | 487763852 | 262596535 | 3.49251e+13 | 281790139 | 1.29088e+11 |  4193850445 |  6342116400 |\n",
       "| 3.54177e+11 | 205214000000 |  17812704626 | 2361635782 | 8.93818e+11 | 124346000000 | 1.27587e+11 |  856396296 | 4.67498e+11 | 2.62274e+11 | ⋯ | 5.05235e+12 | 12045638210 | 1.14564e+13 | 509090889 | 314471414 | 3.91616e+13 | 333426144 | 1.97019e+11 |  4901869716 |  5727591800 |\n",
       "| 4.40482e+11 | 254265000000 |  23552057820 | 2895047587 | 1.06274e+12 | 147824000000 | 1.64658e+11 |  919729630 | 6.14326e+11 | 3.01458e+11 | ⋯ | 6.02994e+12 | 13686329890 | 1.22172e+13 | 549900185 | 364996869 | 4.41336e+13 | 407747521 | 2.55807e+11 |  6221109716 |  5805598400 |\n",
       "| 5.13942e+11 | 310890000000 |  36970901025 | 3159826892 | 1.30440e+12 | 180617000000 | 1.98737e+11 | 1022962963 | 6.95305e+11 | 3.16092e+11 | ⋯ | 7.22269e+12 | 17362857684 | 1.30392e+13 | 579948926 | 394962432 | 4.77936e+13 | 476801793 | 2.88867e+11 |  8331870169 |  5755215200 |\n",
       "| 5.77587e+11 | 396921000000 |  52381025105 | 3456265062 | 1.54554e+12 | 222117000000 | 2.32557e+11 | 1157662963 | 7.47907e+11 | 3.36280e+11 | ⋯ | 8.60221e+12 | 19741420467 | 1.38156e+13 | 643501148 | 439358585 | 5.17911e+13 | 499923758 | 3.03859e+11 | 12756858899 |  5443896500 |\n",
       "| 6.62868e+11 | 465486000000 |  65266415707 | 3952397735 | 1.79793e+12 | 257916000000 | 2.87531e+11 | 1312759259 | 8.54427e+11 | 3.89186e+11 | ⋯ | 1.06357e+13 | 23797773024 | 1.44742e+13 | 713596667 | 516392922 | 5.83611e+13 | 573548460 | 3.33077e+11 | 14056957976 |  5291950100 |\n",
       "| 7.10536e+11 | 567791000000 |  88538664888 | 4085781939 | 2.26303e+12 | 315475000000 | 3.61558e+11 | 1370070370 | 1.05569e+12 | 4.32052e+11 | ⋯ | 1.29531e+13 | 31119603034 | 1.47699e+13 | 732663259 | 590748431 | 6.41352e+13 | 641346192 | 3.16131e+11 | 17910858638 |  4415702800 |\n",
       "| 7.21901e+11 | 508363000000 |  70307196477 | 3674188229 | 1.98705e+12 | 253547000000 | 3.32976e+11 | 1228329630 | 9.28630e+11 | 4.01759e+11 | ⋯ | 1.25201e+13 | 32708318594 | 1.44781e+13 | 714300259 | 592622317 | 6.08179e+13 | 628006115 | 3.29754e+11 | 15328342304 |  9665793300 |\n",
       "| 8.63520e+11 | 598522000000 |  81699526881 | 3449925739 | 2.33464e+12 | 289787000000 | 4.23627e+11 | 1148700000 | 1.14857e+12 | 3.92275e+11 | ⋯ | 1.53563e+13 | 41950361212 | 1.50490e+13 | 720447889 | 670712977 | 6.66198e+13 | 680260920 | 4.17364e+11 | 20265559484 | 12041655200 |\n",
       "| 9.67825e+11 | 682016000000 | 109437000000 | 3629133575 | 2.55598e+12 | 350666000000 | 5.30158e+11 | 1137637037 | 1.39846e+12 | 4.31685e+11 | ⋯ | 1.85383e+13 | 50342405198 | 1.55997e+13 | 713796370 | 770153591 | 7.38817e+13 | 744096948 | 4.58199e+11 | 23459515276 | 14101920300 |\n",
       "| 9.75355e+11 | 737589000000 | 124998000000 | 3188652765 | 2.80170e+12 | 384610000000 | 5.45982e+11 | 1199948148 | 1.54695e+12 | 4.09402e+11 | ⋯ | 1.98297e+13 | 54232266359 | 1.62540e+13 | 730032593 | 747839698 | 7.55259e+13 | 773141695 | 4.34401e+11 | 25503060420 | 17114849900 |\n",
       "| 9.85987e+11 | 833948000000 | 133402000000 | 3193512950 | 2.85967e+12 | 400219000000 | 5.52025e+11 | 1181448148 | 1.57633e+12 | 4.30191e+11 | ⋯ | 2.12156e+13 | 61337620936 | 1.68432e+13 | 764781259 | 758304466 | 7.76352e+13 | 797736266 | 4.00886e+11 | 28037239463 | 19091020000 |\n",
       "| 1.00653e+12 | 894322000000 | 137244000000 | 3271685597 | 2.90573e+12 | 414105000000 | 5.26320e+11 | 1249733333 | 1.46759e+12 | 4.42585e+11 | ⋯ | 2.18255e+13 | 61496186974 | 1.75507e+13 | 770901436 | 772315986 | 7.97565e+13 | 796683673 | 3.81199e+11 | 27141023558 | 19495519600 |\n",
       "| 9.27348e+11 | 768645000000 |  87219300385 | 2789881259 | 2.55416e+12 | 370275000000 | 5.94749e+11 | 1336692593 | 1.35058e+12 | 3.81971e+11 | ⋯ | 2.05186e+13 | 57680328702 | 1.82060e+13 | 786554581 | 730870805 | 7.52151e+13 | 824150487 | 3.46710e+11 | 21251216799 | 19963120600 |\n",
       "| 8.85176e+11 | 691363000000 |  49840491178 | 2896610480 | 2.53754e+12 | 369255000000 | 5.57532e+11 | 1436585185 | 1.20656e+12 | 3.95837e+11 | ⋯ | 2.04763e+13 | 57480788380 | 1.86951e+13 | 814302267 | 780889606 | 7.64865e+13 | 843924751 | 3.23586e+11 | 20958412538 | 20548678100 |\n",
       "| 1.02104e+12 | 684899000000 |  68972769396 | 3000162081 | 2.63711e+12 | 390517000000 | 6.43628e+11 | 1467955556 | 1.32647e+12 | 4.17261e+11 | ⋯ | 2.26549e+13 | 65006047680 | 1.94773e+13 | 844039069 | 880061831 | 8.14420e+13 | 884844420 | 3.81449e+11 | 25873601261 | 17584890937 |\n",
       "| 1.00720e+12 | 767026000000 |  77792944472 | 3218419897 | 2.84348e+12 | 427049000000 | 5.24820e+11 | 1604770370 | 1.42827e+12 | 4.54991e+11 | ⋯ | 2.43405e+13 | 65203071111 | 2.05331e+13 | 884328180 | 914736985 | 8.65022e+13 | 878448440 | 4.04159e+11 | 26311506435 | 34156069918 |\n",
       "| 1.00083e+12 | 822538000000 |  69309110146 | 3155149348 | 2.86889e+12 | 417990000000 | 4.47755e+11 | 1675403704 | 1.39222e+12 | 4.44621e+11 | ⋯ | 2.47930e+13 | 62048585619 | 2.13810e+13 | 910765710 | 936526268 | 8.77281e+13 | 912950619 | 3.88531e+11 | 23308667781 | 21832234926 |\n",
       "| 9.27593e+11 | 786460000000 |  50241368244 | 2891001149 | 2.53338e+12 | 349473000000 | 3.85540e+11 | 1416348148 | 1.32694e+12 | 4.35225e+11 | ⋯ | 2.39282e+13 | 53666908480 | 2.10605e+13 | 869111853 | 909421044 | 8.52152e+13 | 868898350 | 3.37620e+11 | 18110638619 | 21509698406 |\n",
       "| 1.08200e+12 | 844460000000 |  65685435100 | 3325145407 | 2.92846e+12 | 415022000000 | 4.87227e+11 | 1560518519 | 1.55270e+12 | 4.80368e+11 | ⋯ | 2.84751e+13 | 61412268249 | 2.33151e+13 | 872226064 | 971636098 | 9.68824e+13 | 843850778 | 4.19016e+11 | 22147649569 | 28371238666 |\n",
       "| 1.16948e+12 | 877863000000 | 106714000000 | 3352032737 | 3.55756e+12 | 507535000000 | 6.32770e+11 | 1757603704 | 1.67542e+12 | 4.71400e+11 | ⋯ | 3.00553e+13 | 71177146197 | 2.54627e+13 | 948558503 | 983582865 | 1.00562e+14 | 832421565 | 4.05870e+11 | 29784454056 | 20678055598 |\n",
       "\n"
      ],
      "text/plain": [
       "   X            X.1          安哥拉       安道尔共和国 阿拉伯联盟国家\n",
       "1   21125015452  10447637853          NA         NA              NA  \n",
       "2   21616228139  11173212080          NA         NA              NA  \n",
       "3   23506279900  11990534018          NA         NA              NA  \n",
       "4   28048360188  12727688165          NA         NA              NA  \n",
       "5   25920665260  13898109284          NA         NA              NA  \n",
       "6   29472103270  14929792388          NA         NA              NA  \n",
       "7   32014368121  15910837742          NA         NA              NA  \n",
       "8   33269509510  14510579889          NA         NA              NA  \n",
       "9   36327785495  14968235782          NA         NA     34715404211  \n",
       "10  41638967621  16979315745          NA         NA     37827652252  \n",
       "11  44629891649  23596163865          NA   78617623     42768536551  \n",
       "12  49173371529  20936358634          NA   89406588     49428519673  \n",
       "13  53123459912  25386169423          NA  113414399     58935857749  \n",
       "14  69482723444  31975594565          NA  150841574     74780454402  \n",
       "15  85380645042  44416677335          NA  186557164    142138000000  \n",
       "16  90835426418  51667190242          NA  220112880    157069000000  \n",
       "17  90212747243  62351622300          NA  227284062    195514000000  \n",
       "18 102241000000  65595122956          NA  253998001    225676000000  \n",
       "19 116085000000  71496496574          NA  308020289    249608000000  \n",
       "20 134257000000  88948338390          NA  411548366    337962000000  \n",
       "21 171218000000 112439000000  5930503401  446377572    459805000000  \n",
       "22 175859000000 211338000000  5550483036  388982990    474812000000  \n",
       "23 168096000000 187449000000  5550483036  375914806    444576000000  \n",
       "24 175565000000 138384000000  5784341596  327849982    418462000000  \n",
       "25 160647000000 114516000000  6131475065  330073057    425899000000  \n",
       "26 136759000000 116777000000  7554065410  346742876    419485000000  \n",
       "27 153050000000 107887000000  7072536109  481996191    406983000000  \n",
       "28 186658000000 110729000000  8084412414  611300147    440608000000  \n",
       "29 204766000000 109439000000  8769836769  721425972    424896000000  \n",
       "30 218242000000 102255000000 10201780977  795489464    455823000000  \n",
       "⋮  ⋮            ⋮            ⋮            ⋮            ⋮             \n",
       "34 2.42926e+11   99272180411  11051939102 1007090915   4.82764e+11   \n",
       "35 2.39611e+11   86636400266   3390500000 1017544675   5.07765e+11   \n",
       "36 2.70327e+11  108691000000   5561222222 1178745314   5.56046e+11   \n",
       "37 2.69491e+11  126287000000   7526963964 1224023416   6.14186e+11   \n",
       "38 2.83446e+11  127602000000   7648377413 1180646068   6.62308e+11   \n",
       "39 2.66652e+11  130678000000   6506229607 1211953954   6.49192e+11   \n",
       "40 2.63025e+11  138086000000   6152922943 1239840270   7.17469e+11   \n",
       "41 2.84759e+11  140946000000   9129594819 1429048106   8.20186e+11   \n",
       "42 2.59643e+11  148530000000   8936079253 1546912332   8.02881e+11   \n",
       "43 2.66529e+11  177201000000  15285592487 1755989899   8.07962e+11   \n",
       "44 3.54177e+11  205214000000  17812704626 2361635782   8.93818e+11   \n",
       "45 4.40482e+11  254265000000  23552057820 2895047587   1.06274e+12   \n",
       "46 5.13942e+11  310890000000  36970901025 3159826892   1.30440e+12   \n",
       "47 5.77587e+11  396921000000  52381025105 3456265062   1.54554e+12   \n",
       "48 6.62868e+11  465486000000  65266415707 3952397735   1.79793e+12   \n",
       "49 7.10536e+11  567791000000  88538664888 4085781939   2.26303e+12   \n",
       "50 7.21901e+11  508363000000  70307196477 3674188229   1.98705e+12   \n",
       "51 8.63520e+11  598522000000  81699526881 3449925739   2.33464e+12   \n",
       "52 9.67825e+11  682016000000 109437000000 3629133575   2.55598e+12   \n",
       "53 9.75355e+11  737589000000 124998000000 3188652765   2.80170e+12   \n",
       "54 9.85987e+11  833948000000 133402000000 3193512950   2.85967e+12   \n",
       "55 1.00653e+12  894322000000 137244000000 3271685597   2.90573e+12   \n",
       "56 9.27348e+11  768645000000  87219300385 2789881259   2.55416e+12   \n",
       "57 8.85176e+11  691363000000  49840491178 2896610480   2.53754e+12   \n",
       "58 1.02104e+12  684899000000  68972769396 3000162081   2.63711e+12   \n",
       "59 1.00720e+12  767026000000  77792944472 3218419897   2.84348e+12   \n",
       "60 1.00083e+12  822538000000  69309110146 3155149348   2.86889e+12   \n",
       "61 9.27593e+11  786460000000  50241368244 2891001149   2.53338e+12   \n",
       "62 1.08200e+12  844460000000  65685435100 3325145407   2.92846e+12   \n",
       "63 1.16948e+12  877863000000 106714000000 3352032737   3.55756e+12   \n",
       "   阿拉伯联合酋长国 阿根廷       安提瓜和巴布达 澳大利亚     奥地利       ⋯\n",
       "1           NA                NA        NA       18606562979   6592693841 ⋯\n",
       "2           NA                NA        NA       19682883152   7311749633 ⋯\n",
       "3           NA       24450604878        NA       19922563190   7756110210 ⋯\n",
       "4           NA       18272123664        NA       21539843449   8374175258 ⋯\n",
       "5           NA       25605249382        NA       23801123811   9169983886 ⋯\n",
       "6           NA       28344705967        NA       25976164159   9994070616 ⋯\n",
       "7           NA       28630474728        NA       27307844373  10887682273 ⋯\n",
       "8           NA       24256667553        NA       30442724874  11579431669 ⋯\n",
       "9           NA       26436857247        NA       32714085238  12440625313 ⋯\n",
       "10          NA       31256284544        NA       36683365874  13582798556 ⋯\n",
       "11          NA       31584210366        NA       41333606618  15373005557 ⋯\n",
       "12          NA       33293199095        NA       45216647240  17858486067 ⋯\n",
       "13          NA       34733000536        NA       52042056075  22059612477 ⋯\n",
       "14          NA       52544000117        NA       63832158873  29515467707 ⋯\n",
       "15          NA       72436777342        NA       88963890936  35189299912 ⋯\n",
       "16 14720728252       52438647922        NA       97304383449  40059206763 ⋯\n",
       "17 19213156353       51169499892        NA      105061000000  42959976222 ⋯\n",
       "18 24871775165       56781000101  77496754      110351000000  51545758888 ⋯\n",
       "19 23775765254       89049453088  87879341      118492000000  62052259073 ⋯\n",
       "20 31225660993       69252328952 109079979      134898000000  73937296963 ⋯\n",
       "21 43599160062       76961923741 131431027      149984000000  82058912997 ⋯\n",
       "22 49333424149       78676842367 147841734      176892000000  71034228443 ⋯\n",
       "23 46622718618       84307486837 164369279      194037000000  71275287570 ⋯\n",
       "24 42803323357      103979000000 182144093      177263000000  72121016547 ⋯\n",
       "25 41807954241      116915000000 208372846      193517000000  67985344887 ⋯\n",
       "26 40603650232       88150891728 240923925      180635000000  69386774408 ⋯\n",
       "27 33943612095      105872000000 290440141      182472000000  99036164939 ⋯\n",
       "28 36384908744      108811000000 337174862      189488000000 124168000000 ⋯\n",
       "29 36275674203      126890000000 398637728      236153000000 133339000000 ⋯\n",
       "30 41464995914       76629728760 438794788      299876000000 133106000000 ⋯\n",
       "⋮  ⋮                ⋮            ⋮              ⋮            ⋮            ⋱\n",
       "34  55625170253     2.36742e+11   535174074     3.12138e+11  1.90380e+11  ⋯\n",
       "35  59305093980     2.57440e+11   589429630     3.22809e+11  2.03535e+11  ⋯\n",
       "36  65743666576     2.58032e+11   577281482     3.68141e+11  2.41038e+11  ⋯\n",
       "37  73571233996     2.72150e+11   633729630     4.01311e+11  2.37251e+11  ⋯\n",
       "38  78839008445     2.92859e+11   680618518     4.35614e+11  2.12790e+11  ⋯\n",
       "39  75674336283     2.98948e+11   727859259     3.99661e+11  2.18260e+11  ⋯\n",
       "40  84445473111     2.83523e+11   766200000     3.89390e+11  2.17259e+11  ⋯\n",
       "41 104337000000     2.84204e+11   826370370     4.15845e+11  1.97290e+11  ⋯\n",
       "42 103312000000     2.68697e+11   800481482     3.79358e+11  1.97509e+11  ⋯\n",
       "43 109816000000     9.77240e+10   814381482     3.95573e+11  2.14395e+11  ⋯\n",
       "44 124346000000     1.27587e+11   856396296     4.67498e+11  2.62274e+11  ⋯\n",
       "45 147824000000     1.64658e+11   919729630     6.14326e+11  3.01458e+11  ⋯\n",
       "46 180617000000     1.98737e+11  1022962963     6.95305e+11  3.16092e+11  ⋯\n",
       "47 222117000000     2.32557e+11  1157662963     7.47907e+11  3.36280e+11  ⋯\n",
       "48 257916000000     2.87531e+11  1312759259     8.54427e+11  3.89186e+11  ⋯\n",
       "49 315475000000     3.61558e+11  1370070370     1.05569e+12  4.32052e+11  ⋯\n",
       "50 253547000000     3.32976e+11  1228329630     9.28630e+11  4.01759e+11  ⋯\n",
       "51 289787000000     4.23627e+11  1148700000     1.14857e+12  3.92275e+11  ⋯\n",
       "52 350666000000     5.30158e+11  1137637037     1.39846e+12  4.31685e+11  ⋯\n",
       "53 384610000000     5.45982e+11  1199948148     1.54695e+12  4.09402e+11  ⋯\n",
       "54 400219000000     5.52025e+11  1181448148     1.57633e+12  4.30191e+11  ⋯\n",
       "55 414105000000     5.26320e+11  1249733333     1.46759e+12  4.42585e+11  ⋯\n",
       "56 370275000000     5.94749e+11  1336692593     1.35058e+12  3.81971e+11  ⋯\n",
       "57 369255000000     5.57532e+11  1436585185     1.20656e+12  3.95837e+11  ⋯\n",
       "58 390517000000     6.43628e+11  1467955556     1.32647e+12  4.17261e+11  ⋯\n",
       "59 427049000000     5.24820e+11  1604770370     1.42827e+12  4.54991e+11  ⋯\n",
       "60 417990000000     4.47755e+11  1675403704     1.39222e+12  4.44621e+11  ⋯\n",
       "61 349473000000     3.85540e+11  1416348148     1.32694e+12  4.35225e+11  ⋯\n",
       "62 415022000000     4.87227e+11  1560518519     1.55270e+12  4.80368e+11  ⋯\n",
       "63 507535000000     6.32770e+11  1757603704     1.67542e+12  4.71400e+11  ⋯\n",
       "   中高等收入国家 乌拉圭      美国        圣文森特和格林纳丁斯 瓦努阿图 \n",
       "1  2.29314e+11     1242289239 5.43300e+11  13066634                   NA\n",
       "2  2.17557e+11     1547388781 5.63300e+11  13999965                   NA\n",
       "3  2.23123e+11     1710004407 6.05100e+11  14524964                   NA\n",
       "4  2.34130e+11     1539681491 6.38600e+11  13708299                   NA\n",
       "5  2.68661e+11     1975701816 6.85800e+11  14758296                   NA\n",
       "6  3.00143e+11     1890767156 7.43700e+11  15108296                   NA\n",
       "7  3.31543e+11     1809185094 8.15000e+11  16099960                   NA\n",
       "8  3.33642e+11     1597713469 8.61700e+11  15835103                   NA\n",
       "9  3.50115e+11     1593674185 9.42500e+11  15350000                   NA\n",
       "10 3.92810e+11     2004435484 1.01990e+12  16650000                   NA\n",
       "11 4.30723e+11     2137096774 1.07330e+12  18450000                   NA\n",
       "12 4.67248e+11     2807258065 1.16485e+12  20051925                   NA\n",
       "13 5.31816e+11     2189418689 1.27911e+12  27585803                   NA\n",
       "14 6.94387e+11     3964296443 1.42538e+12  30165077                   NA\n",
       "15 8.68560e+11     4090209682 1.54524e+12  32923696                   NA\n",
       "16 9.59658e+11     3538278047 1.68490e+12  33237229                   NA\n",
       "17 1.01886e+12     3667161241 1.87341e+12  32792847                   NA\n",
       "18 1.13336e+12     4114670014 2.08183e+12  49353162                   NA\n",
       "19 1.26285e+12     4910254566 2.35160e+12  60844771                   NA\n",
       "20 1.46121e+12     7181182224 2.62733e+12  71096360            119258835\n",
       "21 1.71633e+12    10163020116 2.85731e+12  82340340            121185498\n",
       "22 1.86414e+12    11048301421 3.20704e+12 102086539            113781796\n",
       "23 1.79198e+12     9178780077 3.34379e+12 113759203            114501912\n",
       "24 1.69552e+12     5102276308 3.63404e+12 122255350            117389554\n",
       "25 1.80231e+12     4850238550 4.03761e+12 135024988            144482515\n",
       "26 1.83411e+12     4732025670 4.33898e+12 145641705            131856421\n",
       "27 1.85770e+12     5880106317 4.57963e+12 160846657            126498935\n",
       "28 1.98996e+12     7367504970 4.85522e+12 175580647            139464174\n",
       "29 2.18535e+12     8213526914 5.23644e+12 200726713            158351368\n",
       "30 2.33315e+12     8438946948 5.64158e+12 214745002            154013202\n",
       "⋮  ⋮              ⋮           ⋮           ⋮                    ⋮        \n",
       "34 3.06888e+12    15002138240 6.85856e+12 286307407            200491853\n",
       "35 3.34561e+12    17474590051 7.28724e+12 289437037            233701302\n",
       "36 3.74463e+12    19297663097 7.63975e+12 316007407            249333250\n",
       "37 4.08248e+12    20515457256 8.07312e+12 331488889            261370044\n",
       "38 4.34556e+12    23969738388 8.57755e+12 347770370            272771209\n",
       "39 4.16627e+12    25385887786 9.06282e+12 373618518            262293411\n",
       "40 3.98744e+12    23983945191 9.63117e+12 390718518            268006973\n",
       "41 4.41829e+12    22823271521 1.02509e+13 427946037            272014627\n",
       "42 4.43416e+12    20898762265 1.05819e+13 462072333            257926882\n",
       "43 4.49902e+12    13606515936 1.09291e+13 487763852            262596535\n",
       "44 5.05235e+12    12045638210 1.14564e+13 509090889            314471414\n",
       "45 6.02994e+12    13686329890 1.22172e+13 549900185            364996869\n",
       "46 7.22269e+12    17362857684 1.30392e+13 579948926            394962432\n",
       "47 8.60221e+12    19741420467 1.38156e+13 643501148            439358585\n",
       "48 1.06357e+13    23797773024 1.44742e+13 713596667            516392922\n",
       "49 1.29531e+13    31119603034 1.47699e+13 732663259            590748431\n",
       "50 1.25201e+13    32708318594 1.44781e+13 714300259            592622317\n",
       "51 1.53563e+13    41950361212 1.50490e+13 720447889            670712977\n",
       "52 1.85383e+13    50342405198 1.55997e+13 713796370            770153591\n",
       "53 1.98297e+13    54232266359 1.62540e+13 730032593            747839698\n",
       "54 2.12156e+13    61337620936 1.68432e+13 764781259            758304466\n",
       "55 2.18255e+13    61496186974 1.75507e+13 770901436            772315986\n",
       "56 2.05186e+13    57680328702 1.82060e+13 786554581            730870805\n",
       "57 2.04763e+13    57480788380 1.86951e+13 814302267            780889606\n",
       "58 2.26549e+13    65006047680 1.94773e+13 844039069            880061831\n",
       "59 2.43405e+13    65203071111 2.05331e+13 884328180            914736985\n",
       "60 2.47930e+13    62048585619 2.13810e+13 910765710            936526268\n",
       "61 2.39282e+13    53666908480 2.10605e+13 869111853            909421044\n",
       "62 2.84751e+13    61412268249 2.33151e+13 872226064            971636098\n",
       "63 3.00553e+13    71177146197 2.54627e+13 948558503            983582865\n",
       "   世界        萨摩亚    南非         赞比亚      津巴布韦   \n",
       "1  1.38486e+12        NA   8748596504  713000000  1052990400 \n",
       "2  1.44922e+12        NA   9225996313  696285714  1096646600 \n",
       "3  1.55082e+12        NA   9813996078  693142857  1117601600 \n",
       "4  1.67145e+12        NA  10854195663  718714286  1159511700 \n",
       "5  1.83049e+12        NA  11955995222  839428571  1217138000 \n",
       "6  1.99410e+12        NA  13068994778 1082857143  1311435800 \n",
       "7  2.16412e+12        NA  14211394321 1264285714  1281749500 \n",
       "8  2.30258e+12        NA  15821393678 1368000000  1397002000 \n",
       "9  2.48467e+12        NA  17124793157 1605857143  1479599900 \n",
       "10 2.74050e+12        NA  19256992305 1965714286  1747998800 \n",
       "11 2.99727e+12        NA  21218391521 1825285714  1884206300 \n",
       "12 3.31048e+12        NA  23411079377 1687000000  2178716300 \n",
       "13 3.81682e+12        NA  24515911652 1872416680  2677729400 \n",
       "14 4.65745e+12        NA  33262767310 2434255237  3309353600 \n",
       "15 5.36682e+12        NA  41389185877 2910981262  3982161400 \n",
       "16 5.97797e+12        NA  42906919870 2442672141  4371300700 \n",
       "17 6.49875e+12        NA  41150449964 2742859263  4318372000 \n",
       "18 7.34973e+12        NA  45328399961 2515296940  4364382100 \n",
       "19 8.69050e+12        NA  51607399955 2811032473  4351600500 \n",
       "20 1.00538e+13        NA  63038687890 3353445378  5177459400 \n",
       "21 1.13371e+13        NA  89411894564 3884530854  6678868200 \n",
       "22 1.17284e+13        NA  93141478239 4008126497  8011373800 \n",
       "23 1.16102e+13 121221652  85904070615 3871117093  8539700700 \n",
       "24 1.18405e+13 111862824  96204110963 3321048451  7764067000 \n",
       "25 1.23116e+13 109200934  84870134616 2719518933  6352125900 \n",
       "26 1.28972e+13  95572173  64459376104 2252454500  5637259300 \n",
       "27 1.52525e+13 100947849  73354782108 1664413508  6217523700 \n",
       "28 1.73730e+13 111713922  96535747614 2265250972  6741215100 \n",
       "29 1.93940e+13 133016065 103977000000 3728878149  7814784100 \n",
       "30 2.02667e+13 122888610 108056000000 3994673161  8286322700 \n",
       "⋮  ⋮           ⋮         ⋮            ⋮           ⋮          \n",
       "34 2.59059e+13 133122897 1.47195e+11   3273507754  6563813300\n",
       "35 2.78996e+13 221098106 1.53513e+11   3656808233  6890675000\n",
       "36 3.10515e+13 224865731 1.71736e+11   3806982679  7111270700\n",
       "37 3.17457e+13 249907894 1.63235e+11   3597220962  8553146600\n",
       "38 3.16297e+13 285475621 1.68978e+11   4303290117  8529571600\n",
       "39 3.15529e+13 269485285 1.52983e+11   3537741625  6401968200\n",
       "40 3.27520e+13 255408053 1.51517e+11   3404284653  6858013100\n",
       "41 3.38456e+13 258856140 1.51753e+11   3600631919  6689957600\n",
       "42 3.36310e+13 266299592 1.35430e+11   4094441301  6777384700\n",
       "43 3.49251e+13 281790139 1.29088e+11   4193850445  6342116400\n",
       "44 3.91616e+13 333426144 1.97019e+11   4901869716  5727591800\n",
       "45 4.41336e+13 407747521 2.55807e+11   6221109716  5805598400\n",
       "46 4.77936e+13 476801793 2.88867e+11   8331870169  5755215200\n",
       "47 5.17911e+13 499923758 3.03859e+11  12756858899  5443896500\n",
       "48 5.83611e+13 573548460 3.33077e+11  14056957976  5291950100\n",
       "49 6.41352e+13 641346192 3.16131e+11  17910858638  4415702800\n",
       "50 6.08179e+13 628006115 3.29754e+11  15328342304  9665793300\n",
       "51 6.66198e+13 680260920 4.17364e+11  20265559484 12041655200\n",
       "52 7.38817e+13 744096948 4.58199e+11  23459515276 14101920300\n",
       "53 7.55259e+13 773141695 4.34401e+11  25503060420 17114849900\n",
       "54 7.76352e+13 797736266 4.00886e+11  28037239463 19091020000\n",
       "55 7.97565e+13 796683673 3.81199e+11  27141023558 19495519600\n",
       "56 7.52151e+13 824150487 3.46710e+11  21251216799 19963120600\n",
       "57 7.64865e+13 843924751 3.23586e+11  20958412538 20548678100\n",
       "58 8.14420e+13 884844420 3.81449e+11  25873601261 17584890937\n",
       "59 8.65022e+13 878448440 4.04159e+11  26311506435 34156069918\n",
       "60 8.77281e+13 912950619 3.88531e+11  23308667781 21832234926\n",
       "61 8.52152e+13 868898350 3.37620e+11  18110638619 21509698406\n",
       "62 9.68824e+13 843850778 4.19016e+11  22147649569 28371238666\n",
       "63 1.00562e+14 832421565 4.05870e+11  29784454056 20678055598"
      ]
     },
     "metadata": {},
     "output_type": "display_data"
    }
   ],
   "source": [
    "data"
   ]
  },
  {
   "cell_type": "code",
   "execution_count": 12,
   "id": "3f28e3c6",
   "metadata": {},
   "outputs": [],
   "source": [
    "freq=1\n",
    "ll=dim(data)[2]\n",
    "hh=6\n",
    "start=c(1960,1)\n",
    "m=5\n",
    "n=4"
   ]
  },
  {
   "cell_type": "code",
   "execution_count": 13,
   "id": "0b4979f5",
   "metadata": {},
   "outputs": [],
   "source": [
    "process_data <- function(data, start, freq, hh, ll) {\n",
    "  data_ts <- list()\n",
    "  data_tstrain <- list()\n",
    "  data_features <- NULL\n",
    "  \n",
    "  for (i in 1:ll) {\n",
    "    # 寻找第一个非NA值的位置\n",
    "    loc <- min(which(is.na(data[, i]) == FALSE)) - 1\n",
    "    zc <- loc %/% freq\n",
    "    yu <- loc %% freq\n",
    "    \n",
    "    # 提取子序列\n",
    "    x <- data[(loc + 1):dim(data)[1], i]\n",
    "    \n",
    "    # 检测并处理NA值\n",
    "    r <- which(is.na(x) == TRUE)\n",
    "    if (length(r) != 0) {\n",
    "      x <- na_kalman(x) # 假设na_kalman是一个处理NA值的函数\n",
    "    }\n",
    "    \n",
    "    # 创建时间序列对象\n",
    "    da <- ts(x[1:(length(x) - hh)], start = c(start[1] + zc, start[2] + yu), frequency = freq)\n",
    "    da1 <- ts(x, start = c(start[1] + zc, start[2] + yu), frequency = freq)\n",
    "    \n",
    "    # 保存时间序列对象\n",
    "    data_ts[[i]] <- da1\n",
    "    data_tstrain[[i]] <- da\n",
    "    \n",
    "    # 提取时间序列特征\n",
    "    f <- tsfeatures(da)\n",
    "    if (is.null(data_features)) {\n",
    "      data_features <- f\n",
    "    } else {\n",
    "      data_features <- rbind(data_features, f)\n",
    "    }\n",
    "  }\n",
    "  \n",
    "  # 函数返回一个列表，包含处理后的时间序列和特征\n",
    "  list(time_series = data_ts, time_series_train = data_tstrain, features = data_features)\n",
    "}\n"
   ]
  },
  {
   "cell_type": "code",
   "execution_count": 14,
   "id": "358c2538",
   "metadata": {},
   "outputs": [],
   "source": [
    "processed_data <- process_data(data, start = start, freq, hh, ll)"
   ]
  },
  {
   "cell_type": "code",
   "execution_count": 15,
   "id": "f85c803b",
   "metadata": {},
   "outputs": [],
   "source": [
    "data_ts=processed_data$time_series\n",
    "data_tstrain=processed_data$time_series_train\n",
    "data_features=processed_data$features"
   ]
  },
  {
   "cell_type": "code",
   "execution_count": null,
   "id": "9cca0a63",
   "metadata": {},
   "outputs": [],
   "source": []
  },
  {
   "cell_type": "code",
   "execution_count": 16,
   "id": "d35a9716",
   "metadata": {},
   "outputs": [
    {
     "data": {
      "text/html": [
       "<table class=\"dataframe\">\n",
       "<caption>A tibble: 6 × 16</caption>\n",
       "<thead>\n",
       "\t<tr><th scope=col>frequency</th><th scope=col>nperiods</th><th scope=col>seasonal_period</th><th scope=col>trend</th><th scope=col>spike</th><th scope=col>linearity</th><th scope=col>curvature</th><th scope=col>e_acf1</th><th scope=col>e_acf10</th><th scope=col>entropy</th><th scope=col>x_acf1</th><th scope=col>x_acf10</th><th scope=col>diff1_acf1</th><th scope=col>diff1_acf10</th><th scope=col>diff2_acf1</th><th scope=col>diff2_acf10</th></tr>\n",
       "\t<tr><th scope=col>&lt;dbl&gt;</th><th scope=col>&lt;dbl&gt;</th><th scope=col>&lt;dbl&gt;</th><th scope=col>&lt;dbl&gt;</th><th scope=col>&lt;dbl&gt;</th><th scope=col>&lt;dbl&gt;</th><th scope=col>&lt;dbl&gt;</th><th scope=col>&lt;dbl&gt;</th><th scope=col>&lt;dbl&gt;</th><th scope=col>&lt;dbl&gt;</th><th scope=col>&lt;dbl&gt;</th><th scope=col>&lt;dbl&gt;</th><th scope=col>&lt;dbl&gt;</th><th scope=col>&lt;dbl&gt;</th><th scope=col>&lt;dbl&gt;</th><th scope=col>&lt;dbl&gt;</th></tr>\n",
       "</thead>\n",
       "<tbody>\n",
       "\t<tr><td>1</td><td>0</td><td>1</td><td>0.9938539</td><td>5.561040e-08</td><td>6.525574</td><td>2.757101</td><td>0.5066125</td><td>0.5143639</td><td>0.3557599</td><td>0.9486600</td><td>3.996708</td><td>0.51362458</td><td>0.5403016</td><td>-0.2176705</td><td>0.5599868</td></tr>\n",
       "\t<tr><td>1</td><td>0</td><td>1</td><td>0.9848451</td><td>6.162750e-07</td><td>6.026968</td><td>3.246783</td><td>0.3410315</td><td>0.3997375</td><td>0.3605710</td><td>0.9407587</td><td>3.435240</td><td>0.32612821</td><td>0.2002519</td><td>-0.3647270</td><td>0.3103642</td></tr>\n",
       "\t<tr><td>1</td><td>0</td><td>1</td><td>0.9389677</td><td>1.936585e-05</td><td>4.482655</td><td>2.109987</td><td>0.4230610</td><td>0.4943193</td><td>0.5282683</td><td>0.9361755</td><td>2.722949</td><td>0.39919469</td><td>0.3415566</td><td>-0.2791351</td><td>0.4358000</td></tr>\n",
       "\t<tr><td>1</td><td>0</td><td>1</td><td>0.9894822</td><td>2.686680e-07</td><td>6.132317</td><td>1.236822</td><td>0.4213672</td><td>0.5807627</td><td>0.3694987</td><td>0.9603655</td><td>4.622537</td><td>0.35364757</td><td>0.5697045</td><td>-0.3435493</td><td>0.4165376</td></tr>\n",
       "\t<tr><td>1</td><td>0</td><td>1</td><td>0.9905445</td><td>1.781938e-07</td><td>6.017272</td><td>2.549240</td><td>0.2264496</td><td>0.2103130</td><td>0.2857718</td><td>0.9393229</td><td>3.665908</td><td>0.08571036</td><td>0.1642598</td><td>-0.5989873</td><td>0.6049262</td></tr>\n",
       "\t<tr><td>1</td><td>0</td><td>1</td><td>0.9868473</td><td>4.599897e-07</td><td>5.600112</td><td>2.519136</td><td>0.2544355</td><td>0.5011100</td><td>0.3710992</td><td>0.9313581</td><td>3.519718</td><td>0.11275015</td><td>0.1678080</td><td>-0.4479392</td><td>0.4286456</td></tr>\n",
       "</tbody>\n",
       "</table>\n"
      ],
      "text/latex": [
       "A tibble: 6 × 16\n",
       "\\begin{tabular}{llllllllllllllll}\n",
       " frequency & nperiods & seasonal\\_period & trend & spike & linearity & curvature & e\\_acf1 & e\\_acf10 & entropy & x\\_acf1 & x\\_acf10 & diff1\\_acf1 & diff1\\_acf10 & diff2\\_acf1 & diff2\\_acf10\\\\\n",
       " <dbl> & <dbl> & <dbl> & <dbl> & <dbl> & <dbl> & <dbl> & <dbl> & <dbl> & <dbl> & <dbl> & <dbl> & <dbl> & <dbl> & <dbl> & <dbl>\\\\\n",
       "\\hline\n",
       "\t 1 & 0 & 1 & 0.9938539 & 5.561040e-08 & 6.525574 & 2.757101 & 0.5066125 & 0.5143639 & 0.3557599 & 0.9486600 & 3.996708 & 0.51362458 & 0.5403016 & -0.2176705 & 0.5599868\\\\\n",
       "\t 1 & 0 & 1 & 0.9848451 & 6.162750e-07 & 6.026968 & 3.246783 & 0.3410315 & 0.3997375 & 0.3605710 & 0.9407587 & 3.435240 & 0.32612821 & 0.2002519 & -0.3647270 & 0.3103642\\\\\n",
       "\t 1 & 0 & 1 & 0.9389677 & 1.936585e-05 & 4.482655 & 2.109987 & 0.4230610 & 0.4943193 & 0.5282683 & 0.9361755 & 2.722949 & 0.39919469 & 0.3415566 & -0.2791351 & 0.4358000\\\\\n",
       "\t 1 & 0 & 1 & 0.9894822 & 2.686680e-07 & 6.132317 & 1.236822 & 0.4213672 & 0.5807627 & 0.3694987 & 0.9603655 & 4.622537 & 0.35364757 & 0.5697045 & -0.3435493 & 0.4165376\\\\\n",
       "\t 1 & 0 & 1 & 0.9905445 & 1.781938e-07 & 6.017272 & 2.549240 & 0.2264496 & 0.2103130 & 0.2857718 & 0.9393229 & 3.665908 & 0.08571036 & 0.1642598 & -0.5989873 & 0.6049262\\\\\n",
       "\t 1 & 0 & 1 & 0.9868473 & 4.599897e-07 & 5.600112 & 2.519136 & 0.2544355 & 0.5011100 & 0.3710992 & 0.9313581 & 3.519718 & 0.11275015 & 0.1678080 & -0.4479392 & 0.4286456\\\\\n",
       "\\end{tabular}\n"
      ],
      "text/markdown": [
       "\n",
       "A tibble: 6 × 16\n",
       "\n",
       "| frequency &lt;dbl&gt; | nperiods &lt;dbl&gt; | seasonal_period &lt;dbl&gt; | trend &lt;dbl&gt; | spike &lt;dbl&gt; | linearity &lt;dbl&gt; | curvature &lt;dbl&gt; | e_acf1 &lt;dbl&gt; | e_acf10 &lt;dbl&gt; | entropy &lt;dbl&gt; | x_acf1 &lt;dbl&gt; | x_acf10 &lt;dbl&gt; | diff1_acf1 &lt;dbl&gt; | diff1_acf10 &lt;dbl&gt; | diff2_acf1 &lt;dbl&gt; | diff2_acf10 &lt;dbl&gt; |\n",
       "|---|---|---|---|---|---|---|---|---|---|---|---|---|---|---|---|\n",
       "| 1 | 0 | 1 | 0.9938539 | 5.561040e-08 | 6.525574 | 2.757101 | 0.5066125 | 0.5143639 | 0.3557599 | 0.9486600 | 3.996708 | 0.51362458 | 0.5403016 | -0.2176705 | 0.5599868 |\n",
       "| 1 | 0 | 1 | 0.9848451 | 6.162750e-07 | 6.026968 | 3.246783 | 0.3410315 | 0.3997375 | 0.3605710 | 0.9407587 | 3.435240 | 0.32612821 | 0.2002519 | -0.3647270 | 0.3103642 |\n",
       "| 1 | 0 | 1 | 0.9389677 | 1.936585e-05 | 4.482655 | 2.109987 | 0.4230610 | 0.4943193 | 0.5282683 | 0.9361755 | 2.722949 | 0.39919469 | 0.3415566 | -0.2791351 | 0.4358000 |\n",
       "| 1 | 0 | 1 | 0.9894822 | 2.686680e-07 | 6.132317 | 1.236822 | 0.4213672 | 0.5807627 | 0.3694987 | 0.9603655 | 4.622537 | 0.35364757 | 0.5697045 | -0.3435493 | 0.4165376 |\n",
       "| 1 | 0 | 1 | 0.9905445 | 1.781938e-07 | 6.017272 | 2.549240 | 0.2264496 | 0.2103130 | 0.2857718 | 0.9393229 | 3.665908 | 0.08571036 | 0.1642598 | -0.5989873 | 0.6049262 |\n",
       "| 1 | 0 | 1 | 0.9868473 | 4.599897e-07 | 5.600112 | 2.519136 | 0.2544355 | 0.5011100 | 0.3710992 | 0.9313581 | 3.519718 | 0.11275015 | 0.1678080 | -0.4479392 | 0.4286456 |\n",
       "\n"
      ],
      "text/plain": [
       "  frequency nperiods seasonal_period trend     spike        linearity curvature\n",
       "1 1         0        1               0.9938539 5.561040e-08 6.525574  2.757101 \n",
       "2 1         0        1               0.9848451 6.162750e-07 6.026968  3.246783 \n",
       "3 1         0        1               0.9389677 1.936585e-05 4.482655  2.109987 \n",
       "4 1         0        1               0.9894822 2.686680e-07 6.132317  1.236822 \n",
       "5 1         0        1               0.9905445 1.781938e-07 6.017272  2.549240 \n",
       "6 1         0        1               0.9868473 4.599897e-07 5.600112  2.519136 \n",
       "  e_acf1    e_acf10   entropy   x_acf1    x_acf10  diff1_acf1 diff1_acf10\n",
       "1 0.5066125 0.5143639 0.3557599 0.9486600 3.996708 0.51362458 0.5403016  \n",
       "2 0.3410315 0.3997375 0.3605710 0.9407587 3.435240 0.32612821 0.2002519  \n",
       "3 0.4230610 0.4943193 0.5282683 0.9361755 2.722949 0.39919469 0.3415566  \n",
       "4 0.4213672 0.5807627 0.3694987 0.9603655 4.622537 0.35364757 0.5697045  \n",
       "5 0.2264496 0.2103130 0.2857718 0.9393229 3.665908 0.08571036 0.1642598  \n",
       "6 0.2544355 0.5011100 0.3710992 0.9313581 3.519718 0.11275015 0.1678080  \n",
       "  diff2_acf1 diff2_acf10\n",
       "1 -0.2176705 0.5599868  \n",
       "2 -0.3647270 0.3103642  \n",
       "3 -0.2791351 0.4358000  \n",
       "4 -0.3435493 0.4165376  \n",
       "5 -0.5989873 0.6049262  \n",
       "6 -0.4479392 0.4286456  "
      ]
     },
     "metadata": {},
     "output_type": "display_data"
    }
   ],
   "source": [
    "head(data_features)"
   ]
  },
  {
   "cell_type": "code",
   "execution_count": 17,
   "id": "e1ffd85e",
   "metadata": {},
   "outputs": [],
   "source": [
    "length=matrix(0,ll,1)\n",
    "for( i in 1:ll)\n",
    "    {\n",
    "    length[i,1]=length(data_tstrain[[i]])\n",
    "}"
   ]
  },
  {
   "cell_type": "code",
   "execution_count": 18,
   "id": "8d68c1e4",
   "metadata": {},
   "outputs": [],
   "source": [
    "data_features=cbind(data_features,length)"
   ]
  },
  {
   "cell_type": "code",
   "execution_count": null,
   "id": "53921725",
   "metadata": {},
   "outputs": [],
   "source": []
  },
  {
   "cell_type": "code",
   "execution_count": 19,
   "id": "53ca3e5f",
   "metadata": {},
   "outputs": [
    {
     "data": {
      "text/html": [
       "<table class=\"dataframe\">\n",
       "<caption>A data.frame: 6 × 17</caption>\n",
       "<thead>\n",
       "\t<tr><th></th><th scope=col>frequency</th><th scope=col>nperiods</th><th scope=col>seasonal_period</th><th scope=col>trend</th><th scope=col>spike</th><th scope=col>linearity</th><th scope=col>curvature</th><th scope=col>e_acf1</th><th scope=col>e_acf10</th><th scope=col>entropy</th><th scope=col>x_acf1</th><th scope=col>x_acf10</th><th scope=col>diff1_acf1</th><th scope=col>diff1_acf10</th><th scope=col>diff2_acf1</th><th scope=col>diff2_acf10</th><th scope=col>length</th></tr>\n",
       "\t<tr><th></th><th scope=col>&lt;dbl&gt;</th><th scope=col>&lt;dbl&gt;</th><th scope=col>&lt;dbl&gt;</th><th scope=col>&lt;dbl&gt;</th><th scope=col>&lt;dbl&gt;</th><th scope=col>&lt;dbl&gt;</th><th scope=col>&lt;dbl&gt;</th><th scope=col>&lt;dbl&gt;</th><th scope=col>&lt;dbl&gt;</th><th scope=col>&lt;dbl&gt;</th><th scope=col>&lt;dbl&gt;</th><th scope=col>&lt;dbl&gt;</th><th scope=col>&lt;dbl&gt;</th><th scope=col>&lt;dbl&gt;</th><th scope=col>&lt;dbl&gt;</th><th scope=col>&lt;dbl&gt;</th><th scope=col>&lt;dbl&gt;</th></tr>\n",
       "</thead>\n",
       "<tbody>\n",
       "\t<tr><th scope=row>1</th><td>1</td><td>0</td><td>1</td><td>0.9938539</td><td>5.561040e-08</td><td>6.525574</td><td>2.757101</td><td>0.5066125</td><td>0.5143639</td><td>0.3557599</td><td>0.9486600</td><td>3.996708</td><td>0.51362458</td><td>0.5403016</td><td>-0.2176705</td><td>0.5599868</td><td>57</td></tr>\n",
       "\t<tr><th scope=row>2</th><td>1</td><td>0</td><td>1</td><td>0.9848451</td><td>6.162750e-07</td><td>6.026968</td><td>3.246783</td><td>0.3410315</td><td>0.3997375</td><td>0.3605710</td><td>0.9407587</td><td>3.435240</td><td>0.32612821</td><td>0.2002519</td><td>-0.3647270</td><td>0.3103642</td><td>57</td></tr>\n",
       "\t<tr><th scope=row>3</th><td>1</td><td>0</td><td>1</td><td>0.9389677</td><td>1.936585e-05</td><td>4.482655</td><td>2.109987</td><td>0.4230610</td><td>0.4943193</td><td>0.5282683</td><td>0.9361755</td><td>2.722949</td><td>0.39919469</td><td>0.3415566</td><td>-0.2791351</td><td>0.4358000</td><td>37</td></tr>\n",
       "\t<tr><th scope=row>4</th><td>1</td><td>0</td><td>1</td><td>0.9894822</td><td>2.686680e-07</td><td>6.132317</td><td>1.236822</td><td>0.4213672</td><td>0.5807627</td><td>0.3694987</td><td>0.9603655</td><td>4.622537</td><td>0.35364757</td><td>0.5697045</td><td>-0.3435493</td><td>0.4165376</td><td>47</td></tr>\n",
       "\t<tr><th scope=row>5</th><td>1</td><td>0</td><td>1</td><td>0.9905445</td><td>1.781938e-07</td><td>6.017272</td><td>2.549240</td><td>0.2264496</td><td>0.2103130</td><td>0.2857718</td><td>0.9393229</td><td>3.665908</td><td>0.08571036</td><td>0.1642598</td><td>-0.5989873</td><td>0.6049262</td><td>49</td></tr>\n",
       "\t<tr><th scope=row>6</th><td>1</td><td>0</td><td>1</td><td>0.9868473</td><td>4.599897e-07</td><td>5.600112</td><td>2.519136</td><td>0.2544355</td><td>0.5011100</td><td>0.3710992</td><td>0.9313581</td><td>3.519718</td><td>0.11275015</td><td>0.1678080</td><td>-0.4479392</td><td>0.4286456</td><td>42</td></tr>\n",
       "</tbody>\n",
       "</table>\n"
      ],
      "text/latex": [
       "A data.frame: 6 × 17\n",
       "\\begin{tabular}{r|lllllllllllllllll}\n",
       "  & frequency & nperiods & seasonal\\_period & trend & spike & linearity & curvature & e\\_acf1 & e\\_acf10 & entropy & x\\_acf1 & x\\_acf10 & diff1\\_acf1 & diff1\\_acf10 & diff2\\_acf1 & diff2\\_acf10 & length\\\\\n",
       "  & <dbl> & <dbl> & <dbl> & <dbl> & <dbl> & <dbl> & <dbl> & <dbl> & <dbl> & <dbl> & <dbl> & <dbl> & <dbl> & <dbl> & <dbl> & <dbl> & <dbl>\\\\\n",
       "\\hline\n",
       "\t1 & 1 & 0 & 1 & 0.9938539 & 5.561040e-08 & 6.525574 & 2.757101 & 0.5066125 & 0.5143639 & 0.3557599 & 0.9486600 & 3.996708 & 0.51362458 & 0.5403016 & -0.2176705 & 0.5599868 & 57\\\\\n",
       "\t2 & 1 & 0 & 1 & 0.9848451 & 6.162750e-07 & 6.026968 & 3.246783 & 0.3410315 & 0.3997375 & 0.3605710 & 0.9407587 & 3.435240 & 0.32612821 & 0.2002519 & -0.3647270 & 0.3103642 & 57\\\\\n",
       "\t3 & 1 & 0 & 1 & 0.9389677 & 1.936585e-05 & 4.482655 & 2.109987 & 0.4230610 & 0.4943193 & 0.5282683 & 0.9361755 & 2.722949 & 0.39919469 & 0.3415566 & -0.2791351 & 0.4358000 & 37\\\\\n",
       "\t4 & 1 & 0 & 1 & 0.9894822 & 2.686680e-07 & 6.132317 & 1.236822 & 0.4213672 & 0.5807627 & 0.3694987 & 0.9603655 & 4.622537 & 0.35364757 & 0.5697045 & -0.3435493 & 0.4165376 & 47\\\\\n",
       "\t5 & 1 & 0 & 1 & 0.9905445 & 1.781938e-07 & 6.017272 & 2.549240 & 0.2264496 & 0.2103130 & 0.2857718 & 0.9393229 & 3.665908 & 0.08571036 & 0.1642598 & -0.5989873 & 0.6049262 & 49\\\\\n",
       "\t6 & 1 & 0 & 1 & 0.9868473 & 4.599897e-07 & 5.600112 & 2.519136 & 0.2544355 & 0.5011100 & 0.3710992 & 0.9313581 & 3.519718 & 0.11275015 & 0.1678080 & -0.4479392 & 0.4286456 & 42\\\\\n",
       "\\end{tabular}\n"
      ],
      "text/markdown": [
       "\n",
       "A data.frame: 6 × 17\n",
       "\n",
       "| <!--/--> | frequency &lt;dbl&gt; | nperiods &lt;dbl&gt; | seasonal_period &lt;dbl&gt; | trend &lt;dbl&gt; | spike &lt;dbl&gt; | linearity &lt;dbl&gt; | curvature &lt;dbl&gt; | e_acf1 &lt;dbl&gt; | e_acf10 &lt;dbl&gt; | entropy &lt;dbl&gt; | x_acf1 &lt;dbl&gt; | x_acf10 &lt;dbl&gt; | diff1_acf1 &lt;dbl&gt; | diff1_acf10 &lt;dbl&gt; | diff2_acf1 &lt;dbl&gt; | diff2_acf10 &lt;dbl&gt; | length &lt;dbl&gt; |\n",
       "|---|---|---|---|---|---|---|---|---|---|---|---|---|---|---|---|---|---|\n",
       "| 1 | 1 | 0 | 1 | 0.9938539 | 5.561040e-08 | 6.525574 | 2.757101 | 0.5066125 | 0.5143639 | 0.3557599 | 0.9486600 | 3.996708 | 0.51362458 | 0.5403016 | -0.2176705 | 0.5599868 | 57 |\n",
       "| 2 | 1 | 0 | 1 | 0.9848451 | 6.162750e-07 | 6.026968 | 3.246783 | 0.3410315 | 0.3997375 | 0.3605710 | 0.9407587 | 3.435240 | 0.32612821 | 0.2002519 | -0.3647270 | 0.3103642 | 57 |\n",
       "| 3 | 1 | 0 | 1 | 0.9389677 | 1.936585e-05 | 4.482655 | 2.109987 | 0.4230610 | 0.4943193 | 0.5282683 | 0.9361755 | 2.722949 | 0.39919469 | 0.3415566 | -0.2791351 | 0.4358000 | 37 |\n",
       "| 4 | 1 | 0 | 1 | 0.9894822 | 2.686680e-07 | 6.132317 | 1.236822 | 0.4213672 | 0.5807627 | 0.3694987 | 0.9603655 | 4.622537 | 0.35364757 | 0.5697045 | -0.3435493 | 0.4165376 | 47 |\n",
       "| 5 | 1 | 0 | 1 | 0.9905445 | 1.781938e-07 | 6.017272 | 2.549240 | 0.2264496 | 0.2103130 | 0.2857718 | 0.9393229 | 3.665908 | 0.08571036 | 0.1642598 | -0.5989873 | 0.6049262 | 49 |\n",
       "| 6 | 1 | 0 | 1 | 0.9868473 | 4.599897e-07 | 5.600112 | 2.519136 | 0.2544355 | 0.5011100 | 0.3710992 | 0.9313581 | 3.519718 | 0.11275015 | 0.1678080 | -0.4479392 | 0.4286456 | 42 |\n",
       "\n"
      ],
      "text/plain": [
       "  frequency nperiods seasonal_period trend     spike        linearity curvature\n",
       "1 1         0        1               0.9938539 5.561040e-08 6.525574  2.757101 \n",
       "2 1         0        1               0.9848451 6.162750e-07 6.026968  3.246783 \n",
       "3 1         0        1               0.9389677 1.936585e-05 4.482655  2.109987 \n",
       "4 1         0        1               0.9894822 2.686680e-07 6.132317  1.236822 \n",
       "5 1         0        1               0.9905445 1.781938e-07 6.017272  2.549240 \n",
       "6 1         0        1               0.9868473 4.599897e-07 5.600112  2.519136 \n",
       "  e_acf1    e_acf10   entropy   x_acf1    x_acf10  diff1_acf1 diff1_acf10\n",
       "1 0.5066125 0.5143639 0.3557599 0.9486600 3.996708 0.51362458 0.5403016  \n",
       "2 0.3410315 0.3997375 0.3605710 0.9407587 3.435240 0.32612821 0.2002519  \n",
       "3 0.4230610 0.4943193 0.5282683 0.9361755 2.722949 0.39919469 0.3415566  \n",
       "4 0.4213672 0.5807627 0.3694987 0.9603655 4.622537 0.35364757 0.5697045  \n",
       "5 0.2264496 0.2103130 0.2857718 0.9393229 3.665908 0.08571036 0.1642598  \n",
       "6 0.2544355 0.5011100 0.3710992 0.9313581 3.519718 0.11275015 0.1678080  \n",
       "  diff2_acf1 diff2_acf10 length\n",
       "1 -0.2176705 0.5599868   57    \n",
       "2 -0.3647270 0.3103642   57    \n",
       "3 -0.2791351 0.4358000   37    \n",
       "4 -0.3435493 0.4165376   47    \n",
       "5 -0.5989873 0.6049262   49    \n",
       "6 -0.4479392 0.4286456   42    "
      ]
     },
     "metadata": {},
     "output_type": "display_data"
    }
   ],
   "source": [
    "head(data_features)"
   ]
  },
  {
   "cell_type": "code",
   "execution_count": null,
   "id": "844bdb39",
   "metadata": {},
   "outputs": [],
   "source": []
  },
  {
   "cell_type": "code",
   "execution_count": null,
   "id": "3f87372e",
   "metadata": {},
   "outputs": [],
   "source": []
  },
  {
   "cell_type": "code",
   "execution_count": null,
   "id": "d802af79",
   "metadata": {
    "scrolled": true
   },
   "outputs": [],
   "source": []
  },
  {
   "cell_type": "code",
   "execution_count": null,
   "id": "c8e6fabc",
   "metadata": {},
   "outputs": [],
   "source": []
  },
  {
   "cell_type": "code",
   "execution_count": null,
   "id": "2bf60ea1",
   "metadata": {},
   "outputs": [],
   "source": []
  },
  {
   "cell_type": "code",
   "execution_count": 20,
   "id": "ef92371f",
   "metadata": {},
   "outputs": [],
   "source": [
    "f1=function(x){\n",
    "    if( x%%1>=0.5)\n",
    "        {\n",
    "        return(as.integer(x)+1)\n",
    "    }\n",
    "    else{return(as.integer(x))}\n",
    "}"
   ]
  },
  {
   "cell_type": "code",
   "execution_count": 21,
   "id": "ccdaa415",
   "metadata": {},
   "outputs": [],
   "source": [
    "forecast_and_evaluate <- function(data_ts, data_tstrain, m,n,hh, ll) {\n",
    "  predets <- array(0, dim = c(ll, m, n, 6))\n",
    "  predhets <- array(0, dim = c(ll, m, n, hh))\n",
    "  predthetaf <- array(0, dim = c(ll, m, n, 6))\n",
    "  predhthetaf <- array(0, dim = c(ll, m, n, hh))\n",
    "  yreal <- list()\n",
    "  \n",
    "  for (k in 1:ll) {\n",
    "    y <- data_tstrain[[k]]\n",
    "    yall <- data_ts[[k]]\n",
    "    y_pred <- ts(yall[(length(yall) - hh + 1):length(yall)], end = end(yall), frequency = frequency(yall))\n",
    "    y_l=length(y)\n",
    "    loc = 1:length(y)\n",
    "    loc_m = as.integer(loc*m/length(y))\n",
    "    filt_d = data.frame(y,loc_m)\n",
    "    filt_0=filter(filt_d ,loc_m==0)\n",
    "    m_l=count(filt_0)\n",
    "    n_l=m_l/n\n",
    "    m_l=as.integer(m_l)\n",
    "    n_l=as.numeric(n_l)\n",
    "    \n",
    "    yreal[[k]] <- y_pred\n",
    "    \n",
    "    for (i in 0:(m - 1)) {\n",
    "      for (j in 0:(n-1)) {\n",
    "        Y <- ts(y[round((i*m_l+j*n_l)+1):y_l], end = end(y), frequency = frequency(yall))\n",
    "        M <- ets(Y)\n",
    "        pd <- forecast(M, h = hh)\n",
    "        predhets[k, (i + 1), (j + 1), ] <- pd$mean\n",
    "        predets[k, (i + 1), (j + 1), ] <- accuracy(pd, y_pred)[2, 1:6]\n",
    "        \n",
    "        M <- thetaf(Y, h = hh)\n",
    "        pd <- forecast(M, h = hh)\n",
    "        predhthetaf[k, (i + 1), (j + 1), ] <- pd$mean\n",
    "        predthetaf[k, (i + 1), (j + 1), ] <- accuracy(pd, y_pred)[2, 1:6]\n",
    "      }\n",
    "    }\n",
    "  }\n",
    "  \n",
    "  list(\n",
    "    pred_ets = list(predhets = predhets, predets = predets),\n",
    "    pred_thetaf = list(predhthetaf = predhthetaf, predthetaf = predthetaf),\n",
    "    y_real = yreal\n",
    "  )\n",
    "}"
   ]
  },
  {
   "cell_type": "code",
   "execution_count": 22,
   "id": "eeb332c3",
   "metadata": {},
   "outputs": [],
   "source": [
    "forecast_list=forecast_and_evaluate(data_ts, data_tstrain, m,n,hh, ll)"
   ]
  },
  {
   "cell_type": "code",
   "execution_count": 23,
   "id": "f2f97521",
   "metadata": {},
   "outputs": [],
   "source": [
    "predhets=forecast_list$pred_ets$predhets\n",
    "predets=forecast_list$pred_ets$predets\n",
    "predhthetaf=forecast_list$pred_thetaf$predhthetaf\n",
    "predthetaf=forecast_list$pred_thetaf$predthetaf\n",
    "y_real=forecast_list$y_real"
   ]
  },
  {
   "cell_type": "code",
   "execution_count": 24,
   "id": "6693a728",
   "metadata": {},
   "outputs": [],
   "source": [
    "length5=matrix(0,ll,m)\n",
    "for(k in 1:ll)\n",
    "{\n",
    "y = data_tstrain[[k]]\n",
    "y_l=length(y)\n",
    "loc = 1:length(y)\n",
    "loc_m = as.integer(loc*m/length(y))\n",
    "filt_d = data.frame(y,loc_m)\n",
    "filt_0=filter(filt_d ,loc_m==0)\n",
    "m_l=count(filt_0)\n",
    "m_l=as.integer(m_l)\n",
    "length5[k,]=c(0,1*m_l,2*m_l,3*m_l,4*m_l)\n",
    "    }"
   ]
  },
  {
   "cell_type": "code",
   "execution_count": null,
   "id": "aae36a99",
   "metadata": {},
   "outputs": [],
   "source": []
  },
  {
   "cell_type": "markdown",
   "id": "d929e8e9",
   "metadata": {},
   "source": [
    "### 训练数据特征提取"
   ]
  },
  {
   "cell_type": "code",
   "execution_count": 25,
   "id": "2932818b",
   "metadata": {},
   "outputs": [
    {
     "name": "stderr",
     "output_type": "stream",
     "text": [
      "\n",
      "Attaching package: ‘xgboost’\n",
      "\n",
      "\n",
      "The following object is masked from ‘package:dplyr’:\n",
      "\n",
      "    slice\n",
      "\n",
      "\n",
      "\n",
      "Attaching package: ‘lightgbm’\n",
      "\n",
      "\n",
      "The following object is masked from ‘package:xgboost’:\n",
      "\n",
      "    slice\n",
      "\n",
      "\n",
      "The following object is masked from ‘package:dplyr’:\n",
      "\n",
      "    slice\n",
      "\n",
      "\n"
     ]
    }
   ],
   "source": [
    "library(\"xgboost\")\n",
    "library(\"Matrix\")\n",
    "library('Ckmeans.1d.dp')\n",
    "library(lightgbm)"
   ]
  },
  {
   "cell_type": "code",
   "execution_count": 28,
   "id": "51b41e59",
   "metadata": {},
   "outputs": [],
   "source": [
    "library(lightgbm)"
   ]
  },
  {
   "cell_type": "code",
   "execution_count": 26,
   "id": "1d91b849",
   "metadata": {},
   "outputs": [],
   "source": [
    "etsxgbreg <- readRDS(\"Y_etsxgbreg.rds\")\n",
    "etsxgbcls <- readRDS(\"Y_etsxgbcls.rds\")\n",
    "etslgbreg <- readRDS(\"Y_etslgbreg.rds\")\n",
    "etslgbcls <- readRDS(\"Y_etslgbcls.rds\")"
   ]
  },
  {
   "cell_type": "code",
   "execution_count": 37,
   "id": "c8e750c2",
   "metadata": {},
   "outputs": [],
   "source": [
    "thetafxgbreg <- readRDS(\"Y_thetafxgbreg.rds\")\n",
    "thetafxgbcls <- readRDS(\"Y_thetafxgbcls.rds\")\n",
    "thetaflgbreg <- readRDS(\"Y_thetaflgbreg.rds\")\n",
    "thetaflgbcls <- readRDS(\"Y_thetaflgbcls.rds\")"
   ]
  },
  {
   "cell_type": "code",
   "execution_count": null,
   "id": "dfca634a",
   "metadata": {},
   "outputs": [],
   "source": []
  },
  {
   "cell_type": "code",
   "execution_count": null,
   "id": "35a2f70c",
   "metadata": {},
   "outputs": [],
   "source": []
  },
  {
   "cell_type": "code",
   "execution_count": 29,
   "id": "47699d9e",
   "metadata": {},
   "outputs": [],
   "source": [
    "meanunique=function(x)\n",
    "    {\n",
    "    mean(unique(x))\n",
    "}"
   ]
  },
  {
   "cell_type": "code",
   "execution_count": 30,
   "id": "50237fea",
   "metadata": {},
   "outputs": [],
   "source": [
    "whichmin<-function(x){\n",
    "    minx=min(x[x>0])\n",
    "    loc=which(x==minx)[1]-1\n",
    "    loc\n",
    "}"
   ]
  },
  {
   "cell_type": "code",
   "execution_count": 31,
   "id": "3d0c5902",
   "metadata": {},
   "outputs": [],
   "source": [
    "realbest_construct<-function(MASE)\n",
    "    {\n",
    "realbestmean=matrix(0,dim(MASE)[1],1)\n",
    "for(i in seq(1,dim(MASE)[1]))\n",
    "    {\n",
    "    count=MASE[i,,]\n",
    "    line=apply(count,1,meanunique)\n",
    "    if (max(line,na.rm = TRUE)==0){\n",
    "        realbestmean[i,]=0\n",
    "        }\n",
    "    else\n",
    "        {\n",
    "        line[is.na(line)]=100 \n",
    "        realbestmean[i,]= whichmin(line)\n",
    "    }\n",
    "    }\n",
    "    return(realbestmean)\n",
    "    }\n",
    "    "
   ]
  },
  {
   "cell_type": "code",
   "execution_count": null,
   "id": "cbe49228",
   "metadata": {
    "scrolled": true
   },
   "outputs": [],
   "source": []
  },
  {
   "cell_type": "code",
   "execution_count": 32,
   "id": "62ad5dc3",
   "metadata": {},
   "outputs": [
    {
     "data": {
      "text/plain": [
       "LightGBM Model\n",
       "(Booster handle is invalid)"
      ]
     },
     "metadata": {},
     "output_type": "display_data"
    }
   ],
   "source": [
    "etslgbreg"
   ]
  },
  {
   "cell_type": "code",
   "execution_count": 33,
   "id": "489cbecc",
   "metadata": {
    "scrolled": true
   },
   "outputs": [
    {
     "data": {
      "text/plain": [
       "##### xgb.Booster\n",
       "Handle is invalid! Suggest using xgb.Booster.complete\n",
       "raw: 1.6 Mb \n",
       "call:\n",
       "  xgb.train(params = params, data = dtrain, nrounds = nrounds, \n",
       "    watchlist = watchlist, verbose = verbose, print_every_n = print_every_n, \n",
       "    early_stopping_rounds = early_stopping_rounds, maximize = maximize, \n",
       "    save_period = save_period, save_name = save_name, xgb_model = xgb_model, \n",
       "    callbacks = callbacks, objective = \"multi:softmax\", num_class = 5)\n",
       "params (as set within xgb.train):\n",
       "  objective = \"multi:softmax\", num_class = \"5\", validate_parameters = \"TRUE\"\n",
       "callbacks:\n",
       "  cb.print.evaluation(period = print_every_n)\n",
       "  cb.evaluation.log()\n",
       "# of features: 17 \n",
       "niter: 100\n",
       "nfeatures : 17 \n",
       "evaluation_log:\n",
       "     iter train_mlogloss\n",
       "    <num>          <num>\n",
       "        1      1.5404132\n",
       "        2      1.4907448\n",
       "---                     \n",
       "       99      0.7880128\n",
       "      100      0.7830898"
      ]
     },
     "metadata": {},
     "output_type": "display_data"
    }
   ],
   "source": [
    "etsxgbcls"
   ]
  },
  {
   "cell_type": "markdown",
   "id": "76218c34",
   "metadata": {},
   "source": [
    "## 预测与输出误差"
   ]
  },
  {
   "cell_type": "code",
   "execution_count": 34,
   "id": "e7a8f319",
   "metadata": {},
   "outputs": [],
   "source": [
    "alldatalgb <- lgb.Dataset(data = as.matrix(data_features))\n",
    "alldataxgb <- xgb.DMatrix(data = as.matrix(data_features))"
   ]
  },
  {
   "cell_type": "code",
   "execution_count": 35,
   "id": "7409a638",
   "metadata": {},
   "outputs": [],
   "source": [
    "xgbregets=predict(etsxgbreg,alldataxgb)\n",
    "xgbclsets=predict(etsxgbcls,alldataxgb)\n",
    "lgbregets=predict(etslgbreg,as.matrix(data_features))\n",
    "lgbclsets=predict(etslgbcls,as.matrix(data_features))"
   ]
  },
  {
   "cell_type": "code",
   "execution_count": 38,
   "id": "6c6aca26",
   "metadata": {},
   "outputs": [],
   "source": [
    "xgbregthetaf=predict(thetafxgbreg,alldataxgb)\n",
    "xgbclsthetaf=predict(thetafxgbcls,alldataxgb)\n",
    "lgbregthetaf=predict(thetaflgbreg,as.matrix(data_features))\n",
    "lgbclsthetaf=predict(thetaflgbcls,as.matrix(data_features))"
   ]
  },
  {
   "cell_type": "code",
   "execution_count": 39,
   "id": "7dd31c3c",
   "metadata": {},
   "outputs": [],
   "source": [
    "lgbclsm=matrix(lgbclsets,5,ll)\n",
    "lgbclsetsr=matrix(0,ll,1)\n",
    "for(i in 1:ll)\n",
    "    {\n",
    "    lgbclsetsr[i,]=which.max(lgbclsm[,i])\n",
    "}"
   ]
  },
  {
   "cell_type": "code",
   "execution_count": 40,
   "id": "b62c382e",
   "metadata": {},
   "outputs": [],
   "source": [
    "lgbclsm=matrix(lgbclsthetaf,5,ll)\n",
    "lgbclsthetafr=matrix(0,ll,1)\n",
    "for(i in 1:ll)\n",
    "    {\n",
    "    lgbclsthetafr[i,]=which.max(lgbclsm[,i])\n",
    "}"
   ]
  },
  {
   "cell_type": "code",
   "execution_count": 41,
   "id": "b8c6dbd2",
   "metadata": {},
   "outputs": [],
   "source": [
    "round10=function(x)\n",
    "    {\n",
    "    l=round(x)\n",
    "    for(i in 1:length(l))\n",
    "    {\n",
    "    if(l[i]>5)\n",
    "        {\n",
    "        l[i]=5\n",
    "    }\n",
    "    if(l[i]<1)\n",
    "    {\n",
    "        l[i]=1\n",
    "    }\n",
    "}\n",
    "    l\n",
    "}"
   ]
  },
  {
   "cell_type": "code",
   "execution_count": 42,
   "id": "fb0b589d",
   "metadata": {},
   "outputs": [],
   "source": [
    "ets_pr=matrix(0,ll,4)\n",
    "ets_pr[,1]=round10(xgbregets+1)\n",
    "ets_pr[,2]=xgbclsets+1\n",
    "ets_pr[,3]=round10(lgbregets+1)\n",
    "ets_pr[,4]=lgbclsetsr"
   ]
  },
  {
   "cell_type": "code",
   "execution_count": null,
   "id": "0a348e5f",
   "metadata": {
    "scrolled": true
   },
   "outputs": [],
   "source": []
  },
  {
   "cell_type": "code",
   "execution_count": 43,
   "id": "c1e2fb44",
   "metadata": {},
   "outputs": [],
   "source": [
    "thetaf_pr=matrix(0,ll,4)\n",
    "thetaf_pr[,1]=round10(xgbregthetaf+1)\n",
    "thetaf_pr[,2]=xgbclsthetaf+1\n",
    "thetaf_pr[,3]=round10(lgbregthetaf+1)\n",
    "thetaf_pr[,4]=lgbclsthetafr"
   ]
  },
  {
   "cell_type": "code",
   "execution_count": 44,
   "id": "2082231f",
   "metadata": {},
   "outputs": [],
   "source": [
    "meanpre=function(pred_array,opt_pr,h,testindex)\n",
    "    {\n",
    "    data_length=length(testindex)\n",
    "    meanpreh=matrix(0,data_length,h)\n",
    "    for (i in 1:data_length){\n",
    "    index=testindex[i]\n",
    "    loc=opt_pr[index]\n",
    "    predh=pred_array[index,loc,,]\n",
    "    predh=unique(predh)\n",
    "    meanpreh[i,]=apply(predh,2,mean)\n",
    "}\n",
    "    return(meanpreh)\n",
    "}"
   ]
  },
  {
   "cell_type": "code",
   "execution_count": 45,
   "id": "ce4a535c",
   "metadata": {},
   "outputs": [],
   "source": [
    "predres=function(pred_matrix,data,real_data,opt_pr,lengthmatrix,h,testindex)\n",
    "    {\n",
    "    data_length=length(testindex)\n",
    "    pred_res=matrix(0,data_length,6)\n",
    "    model=ets(data[[1]])\n",
    "    fore_l=forecast(model,h=h)\n",
    "    freq=frequency(data[[1]])\n",
    "    for (i in 1:data_length){\n",
    "    index=testindex[i]\n",
    "    loc=opt_pr[index]\n",
    "    start=lengthmatrix[i,loc]\n",
    "    y_all=data[[index]]\n",
    "    y=y_all[start:length(y_all)]\n",
    "    fore_l$x=ts(y,frequency=freq,end=end(y_all))\n",
    "    real=real_data[[index]]\n",
    "    fore_l$mean=ts(pred_matrix[i,],start=start(real),frequency=freq)\n",
    "    res=accuracy(fore_l,real)\n",
    "    pred_res[i,]=res[2,1:6]\n",
    "    }\n",
    "    return(pred_res)\n",
    "    }"
   ]
  },
  {
   "cell_type": "code",
   "execution_count": 46,
   "id": "69aa85c4",
   "metadata": {},
   "outputs": [],
   "source": [
    "testindex=c(1:ll)\n",
    "lengthtest=length5[testindex,]\n",
    "etsxgbcls=meanpre(predhets,ets_pr[,1],hh,testindex)\n",
    "etsxgbreg=meanpre(predhets,ets_pr[,2],hh,testindex)\n",
    "etslgbcls=meanpre(predhets,ets_pr[,3],hh,testindex)\n",
    "etslgbreg=meanpre(predhets,ets_pr[,4],hh,testindex)\n",
    "etsxgbclsres=predres(etsxgbcls,data_tstrain,y_real,ets_pr[,1],lengthtest,hh,testindex)\n",
    "etsxgbregres=predres(etsxgbreg,data_tstrain,y_real,ets_pr[,2],lengthtest,hh,testindex)\n",
    "etslgbclsres=predres(etslgbcls,data_tstrain,y_real,ets_pr[,3],lengthtest,hh,testindex)\n",
    "etslgbregres=predres(etslgbreg,data_tstrain,y_real,ets_pr[,4],lengthtest,hh,testindex)"
   ]
  },
  {
   "cell_type": "code",
   "execution_count": 47,
   "id": "a8a741bf",
   "metadata": {},
   "outputs": [],
   "source": [
    "thetafxgbcls=meanpre(predhthetaf,thetaf_pr[,1],hh,testindex)\n",
    "thetafxgbreg=meanpre(predhthetaf,thetaf_pr[,2],hh,testindex)\n",
    "thetaflgbcls=meanpre(predhthetaf,thetaf_pr[,3],hh,testindex)\n",
    "thetaflgbreg=meanpre(predhthetaf,thetaf_pr[,4],hh,testindex)\n",
    "thetafxgbclsres=predres(thetafxgbcls,data_tstrain,y_real,thetaf_pr[,1],lengthtest,hh,testindex)\n",
    "thetafxgbregres=predres(thetafxgbreg,data_tstrain,y_real,thetaf_pr[,2],lengthtest,hh,testindex)\n",
    "thetaflgbclsres=predres(thetaflgbcls,data_tstrain,y_real,thetaf_pr[,3],lengthtest,hh,testindex)\n",
    "thetaflgbregres=predres(thetaflgbreg,data_tstrain,y_real,thetaf_pr[,4],lengthtest,hh,testindex)"
   ]
  },
  {
   "cell_type": "code",
   "execution_count": 48,
   "id": "01191a35",
   "metadata": {},
   "outputs": [
    {
     "data": {
      "text/html": [
       "<style>\n",
       ".list-inline {list-style: none; margin:0; padding: 0}\n",
       ".list-inline>li {display: inline-block}\n",
       ".list-inline>li:not(:last-child)::after {content: \"\\00b7\"; padding: 0 .5ex}\n",
       "</style>\n",
       "<ol class=list-inline><li>516354920044.278</li><li>597683472840.32</li><li>527315794290.565</li><li>8.3901874762798</li><li>15.1125154889006</li><li>5.1076654153236</li></ol>\n"
      ],
      "text/latex": [
       "\\begin{enumerate*}\n",
       "\\item 516354920044.278\n",
       "\\item 597683472840.32\n",
       "\\item 527315794290.565\n",
       "\\item 8.3901874762798\n",
       "\\item 15.1125154889006\n",
       "\\item 5.1076654153236\n",
       "\\end{enumerate*}\n"
      ],
      "text/markdown": [
       "1. 516354920044.278\n",
       "2. 597683472840.32\n",
       "3. 527315794290.565\n",
       "4. 8.3901874762798\n",
       "5. 15.1125154889006\n",
       "6. 5.1076654153236\n",
       "\n",
       "\n"
      ],
      "text/plain": [
       "[1] 5.163549e+11 5.976835e+11 5.273158e+11 8.390187e+00 1.511252e+01\n",
       "[6] 5.107665e+00"
      ]
     },
     "metadata": {},
     "output_type": "display_data"
    },
    {
     "data": {
      "text/html": [
       "<style>\n",
       ".list-inline {list-style: none; margin:0; padding: 0}\n",
       ".list-inline>li {display: inline-block}\n",
       ".list-inline>li:not(:last-child)::after {content: \"\\00b7\"; padding: 0 .5ex}\n",
       "</style>\n",
       "<ol class=list-inline><li>327250970245.106</li><li>408416476305.75</li><li>355526704355.736</li><li>5.28813281246345</li><li>13.2790650745401</li><li>2.51233245775441</li></ol>\n"
      ],
      "text/latex": [
       "\\begin{enumerate*}\n",
       "\\item 327250970245.106\n",
       "\\item 408416476305.75\n",
       "\\item 355526704355.736\n",
       "\\item 5.28813281246345\n",
       "\\item 13.2790650745401\n",
       "\\item 2.51233245775441\n",
       "\\end{enumerate*}\n"
      ],
      "text/markdown": [
       "1. 327250970245.106\n",
       "2. 408416476305.75\n",
       "3. 355526704355.736\n",
       "4. 5.28813281246345\n",
       "5. 13.2790650745401\n",
       "6. 2.51233245775441\n",
       "\n",
       "\n"
      ],
      "text/plain": [
       "[1] 3.272510e+11 4.084165e+11 3.555267e+11 5.288133e+00 1.327907e+01\n",
       "[6] 2.512332e+00"
      ]
     },
     "metadata": {},
     "output_type": "display_data"
    },
    {
     "data": {
      "text/html": [
       "<style>\n",
       ".list-inline {list-style: none; margin:0; padding: 0}\n",
       ".list-inline>li {display: inline-block}\n",
       ".list-inline>li:not(:last-child)::after {content: \"\\00b7\"; padding: 0 .5ex}\n",
       "</style>\n",
       "<ol class=list-inline><li>319670803889.241</li><li>393664571079.256</li><li>338977436998.215</li><li>6.46329923439793</li><li>13.9921305971783</li><li>2.28043823593026</li></ol>\n"
      ],
      "text/latex": [
       "\\begin{enumerate*}\n",
       "\\item 319670803889.241\n",
       "\\item 393664571079.256\n",
       "\\item 338977436998.215\n",
       "\\item 6.46329923439793\n",
       "\\item 13.9921305971783\n",
       "\\item 2.28043823593026\n",
       "\\end{enumerate*}\n"
      ],
      "text/markdown": [
       "1. 319670803889.241\n",
       "2. 393664571079.256\n",
       "3. 338977436998.215\n",
       "4. 6.46329923439793\n",
       "5. 13.9921305971783\n",
       "6. 2.28043823593026\n",
       "\n",
       "\n"
      ],
      "text/plain": [
       "[1] 3.196708e+11 3.936646e+11 3.389774e+11 6.463299e+00 1.399213e+01\n",
       "[6] 2.280438e+00"
      ]
     },
     "metadata": {},
     "output_type": "display_data"
    },
    {
     "data": {
      "text/html": [
       "<style>\n",
       ".list-inline {list-style: none; margin:0; padding: 0}\n",
       ".list-inline>li {display: inline-block}\n",
       ".list-inline>li:not(:last-child)::after {content: \"\\00b7\"; padding: 0 .5ex}\n",
       "</style>\n",
       "<ol class=list-inline><li>309210770604.07</li><li>386992392612.672</li><li>334203635929.342</li><li>5.4451673504801</li><li>13.1936273881795</li><li>2.46268152627209</li></ol>\n"
      ],
      "text/latex": [
       "\\begin{enumerate*}\n",
       "\\item 309210770604.07\n",
       "\\item 386992392612.672\n",
       "\\item 334203635929.342\n",
       "\\item 5.4451673504801\n",
       "\\item 13.1936273881795\n",
       "\\item 2.46268152627209\n",
       "\\end{enumerate*}\n"
      ],
      "text/markdown": [
       "1. 309210770604.07\n",
       "2. 386992392612.672\n",
       "3. 334203635929.342\n",
       "4. 5.4451673504801\n",
       "5. 13.1936273881795\n",
       "6. 2.46268152627209\n",
       "\n",
       "\n"
      ],
      "text/plain": [
       "[1] 3.092108e+11 3.869924e+11 3.342036e+11 5.445167e+00 1.319363e+01\n",
       "[6] 2.462682e+00"
      ]
     },
     "metadata": {},
     "output_type": "display_data"
    },
    {
     "data": {
      "text/html": [
       "<style>\n",
       ".list-inline {list-style: none; margin:0; padding: 0}\n",
       ".list-inline>li {display: inline-block}\n",
       ".list-inline>li:not(:last-child)::after {content: \"\\00b7\"; padding: 0 .5ex}\n",
       "</style>\n",
       "<ol class=list-inline><li>436267153270.418</li><li>515287910938.806</li><li>450138945081.663</li><li>7.95086040973923</li><li>13.6860892934743</li><li>3.43811627630532</li></ol>\n"
      ],
      "text/latex": [
       "\\begin{enumerate*}\n",
       "\\item 436267153270.418\n",
       "\\item 515287910938.806\n",
       "\\item 450138945081.663\n",
       "\\item 7.95086040973923\n",
       "\\item 13.6860892934743\n",
       "\\item 3.43811627630532\n",
       "\\end{enumerate*}\n"
      ],
      "text/markdown": [
       "1. 436267153270.418\n",
       "2. 515287910938.806\n",
       "3. 450138945081.663\n",
       "4. 7.95086040973923\n",
       "5. 13.6860892934743\n",
       "6. 3.43811627630532\n",
       "\n",
       "\n"
      ],
      "text/plain": [
       "[1] 4.362672e+11 5.152879e+11 4.501389e+11 7.950860e+00 1.368609e+01\n",
       "[6] 3.438116e+00"
      ]
     },
     "metadata": {},
     "output_type": "display_data"
    }
   ],
   "source": [
    "apply(predets[,1,1,],2,mean)\n",
    "apply(etsxgbclsres,2,mean)\n",
    "apply(etsxgbregres,2,mean)\n",
    "apply(etslgbclsres,2,mean)\n",
    "apply(etslgbregres,2,mean)"
   ]
  },
  {
   "cell_type": "code",
   "execution_count": 49,
   "id": "6116d097",
   "metadata": {},
   "outputs": [
    {
     "data": {
      "text/html": [
       "<style>\n",
       ".list-inline {list-style: none; margin:0; padding: 0}\n",
       ".list-inline>li {display: inline-block}\n",
       ".list-inline>li:not(:last-child)::after {content: \"\\00b7\"; padding: 0 .5ex}\n",
       "</style>\n",
       "<ol class=list-inline><li>480637967692.039</li><li>563730205282.205</li><li>496342160615.166</li><li>8.08762544910266</li><li>13.4313325755852</li><li>5.16825394649554</li></ol>\n"
      ],
      "text/latex": [
       "\\begin{enumerate*}\n",
       "\\item 480637967692.039\n",
       "\\item 563730205282.205\n",
       "\\item 496342160615.166\n",
       "\\item 8.08762544910266\n",
       "\\item 13.4313325755852\n",
       "\\item 5.16825394649554\n",
       "\\end{enumerate*}\n"
      ],
      "text/markdown": [
       "1. 480637967692.039\n",
       "2. 563730205282.205\n",
       "3. 496342160615.166\n",
       "4. 8.08762544910266\n",
       "5. 13.4313325755852\n",
       "6. 5.16825394649554\n",
       "\n",
       "\n"
      ],
      "text/plain": [
       "[1] 4.806380e+11 5.637302e+11 4.963422e+11 8.087625e+00 1.343133e+01\n",
       "[6] 5.168254e+00"
      ]
     },
     "metadata": {},
     "output_type": "display_data"
    },
    {
     "data": {
      "text/html": [
       "<style>\n",
       ".list-inline {list-style: none; margin:0; padding: 0}\n",
       ".list-inline>li {display: inline-block}\n",
       ".list-inline>li:not(:last-child)::after {content: \"\\00b7\"; padding: 0 .5ex}\n",
       "</style>\n",
       "<ol class=list-inline><li>348934990676.394</li><li>433355806100.039</li><li>374795487825.367</li><li>4.30707093361076</li><li>11.5678583624865</li><li>2.11876185681447</li></ol>\n"
      ],
      "text/latex": [
       "\\begin{enumerate*}\n",
       "\\item 348934990676.394\n",
       "\\item 433355806100.039\n",
       "\\item 374795487825.367\n",
       "\\item 4.30707093361076\n",
       "\\item 11.5678583624865\n",
       "\\item 2.11876185681447\n",
       "\\end{enumerate*}\n"
      ],
      "text/markdown": [
       "1. 348934990676.394\n",
       "2. 433355806100.039\n",
       "3. 374795487825.367\n",
       "4. 4.30707093361076\n",
       "5. 11.5678583624865\n",
       "6. 2.11876185681447\n",
       "\n",
       "\n"
      ],
      "text/plain": [
       "[1] 3.489350e+11 4.333558e+11 3.747955e+11 4.307071e+00 1.156786e+01\n",
       "[6] 2.118762e+00"
      ]
     },
     "metadata": {},
     "output_type": "display_data"
    },
    {
     "data": {
      "text/html": [
       "<style>\n",
       ".list-inline {list-style: none; margin:0; padding: 0}\n",
       ".list-inline>li {display: inline-block}\n",
       ".list-inline>li:not(:last-child)::after {content: \"\\00b7\"; padding: 0 .5ex}\n",
       "</style>\n",
       "<ol class=list-inline><li>390503844670.16</li><li>480047567522.309</li><li>416786064498.36</li><li>6.32942570016483</li><li>13.3021002853974</li><li>2.00806230435294</li></ol>\n"
      ],
      "text/latex": [
       "\\begin{enumerate*}\n",
       "\\item 390503844670.16\n",
       "\\item 480047567522.309\n",
       "\\item 416786064498.36\n",
       "\\item 6.32942570016483\n",
       "\\item 13.3021002853974\n",
       "\\item 2.00806230435294\n",
       "\\end{enumerate*}\n"
      ],
      "text/markdown": [
       "1. 390503844670.16\n",
       "2. 480047567522.309\n",
       "3. 416786064498.36\n",
       "4. 6.32942570016483\n",
       "5. 13.3021002853974\n",
       "6. 2.00806230435294\n",
       "\n",
       "\n"
      ],
      "text/plain": [
       "[1] 3.905038e+11 4.800476e+11 4.167861e+11 6.329426e+00 1.330210e+01\n",
       "[6] 2.008062e+00"
      ]
     },
     "metadata": {},
     "output_type": "display_data"
    },
    {
     "data": {
      "text/html": [
       "<style>\n",
       ".list-inline {list-style: none; margin:0; padding: 0}\n",
       ".list-inline>li {display: inline-block}\n",
       ".list-inline>li:not(:last-child)::after {content: \"\\00b7\"; padding: 0 .5ex}\n",
       "</style>\n",
       "<ol class=list-inline><li>340188647901.088</li><li>423628568474.472</li><li>365913212053.711</li><li>4.06130354586088</li><li>11.3812405812741</li><li>2.10288527222689</li></ol>\n"
      ],
      "text/latex": [
       "\\begin{enumerate*}\n",
       "\\item 340188647901.088\n",
       "\\item 423628568474.472\n",
       "\\item 365913212053.711\n",
       "\\item 4.06130354586088\n",
       "\\item 11.3812405812741\n",
       "\\item 2.10288527222689\n",
       "\\end{enumerate*}\n"
      ],
      "text/markdown": [
       "1. 340188647901.088\n",
       "2. 423628568474.472\n",
       "3. 365913212053.711\n",
       "4. 4.06130354586088\n",
       "5. 11.3812405812741\n",
       "6. 2.10288527222689\n",
       "\n",
       "\n"
      ],
      "text/plain": [
       "[1] 3.401886e+11 4.236286e+11 3.659132e+11 4.061304e+00 1.138124e+01\n",
       "[6] 2.102885e+00"
      ]
     },
     "metadata": {},
     "output_type": "display_data"
    },
    {
     "data": {
      "text/html": [
       "<style>\n",
       ".list-inline {list-style: none; margin:0; padding: 0}\n",
       ".list-inline>li {display: inline-block}\n",
       ".list-inline>li:not(:last-child)::after {content: \"\\00b7\"; padding: 0 .5ex}\n",
       "</style>\n",
       "<ol class=list-inline><li>429398165188.749</li><li>512938712226.457</li><li>448964789338.747</li><li>6.48793609009705</li><li>12.7962098025827</li><li>3.41612760245509</li></ol>\n"
      ],
      "text/latex": [
       "\\begin{enumerate*}\n",
       "\\item 429398165188.749\n",
       "\\item 512938712226.457\n",
       "\\item 448964789338.747\n",
       "\\item 6.48793609009705\n",
       "\\item 12.7962098025827\n",
       "\\item 3.41612760245509\n",
       "\\end{enumerate*}\n"
      ],
      "text/markdown": [
       "1. 429398165188.749\n",
       "2. 512938712226.457\n",
       "3. 448964789338.747\n",
       "4. 6.48793609009705\n",
       "5. 12.7962098025827\n",
       "6. 3.41612760245509\n",
       "\n",
       "\n"
      ],
      "text/plain": [
       "[1] 4.293982e+11 5.129387e+11 4.489648e+11 6.487936e+00 1.279621e+01\n",
       "[6] 3.416128e+00"
      ]
     },
     "metadata": {},
     "output_type": "display_data"
    }
   ],
   "source": [
    "apply(predthetaf[,1,1,],2,mean)\n",
    "apply(thetafxgbclsres,2,mean)\n",
    "apply(thetafxgbregres,2,mean)\n",
    "apply(thetaflgbclsres,2,mean)\n",
    "apply(thetaflgbregres,2,mean)"
   ]
  },
  {
   "cell_type": "code",
   "execution_count": 50,
   "id": "a23a643f",
   "metadata": {},
   "outputs": [],
   "source": [
    "alltest=matrix(0,10,6)\n",
    "alltest[1,]=apply(predets[,1,1,],2,mean)\n",
    "alltest[2,]=apply(etsxgbclsres,2,mean)\n",
    "alltest[3,]=apply(etsxgbregres,2,mean)\n",
    "alltest[4,]=apply(etslgbclsres,2,mean)\n",
    "alltest[5,]=apply(etslgbregres,2,mean)\n",
    "\n",
    "alltest[6,]=apply(predthetaf[,1,1,],2,mean)\n",
    "alltest[7,]=apply(thetafxgbclsres,2,mean)\n",
    "alltest[8,]=apply(thetafxgbregres,2,mean)\n",
    "alltest[9,]=apply(thetaflgbclsres,2,mean)\n",
    "alltest[10,]=apply(thetaflgbregres,2,mean)"
   ]
  },
  {
   "cell_type": "code",
   "execution_count": 51,
   "id": "e6c72a1c",
   "metadata": {},
   "outputs": [],
   "source": [
    "write.csv(alltest,'GDP_M4.csv')"
   ]
  },
  {
   "cell_type": "code",
   "execution_count": null,
   "id": "a2333e85",
   "metadata": {},
   "outputs": [],
   "source": []
  },
  {
   "cell_type": "code",
   "execution_count": null,
   "id": "6be0aa17",
   "metadata": {},
   "outputs": [],
   "source": []
  }
 ],
 "metadata": {
  "kernelspec": {
   "display_name": "R",
   "language": "R",
   "name": "ir"
  },
  "language_info": {
   "codemirror_mode": "r",
   "file_extension": ".r",
   "mimetype": "text/x-r-source",
   "name": "R",
   "pygments_lexer": "r",
   "version": "4.1.2"
  }
 },
 "nbformat": 4,
 "nbformat_minor": 5
}
