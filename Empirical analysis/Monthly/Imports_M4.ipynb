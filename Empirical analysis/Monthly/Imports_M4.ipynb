{
 "cells": [
  {
   "cell_type": "code",
   "execution_count": 1,
   "id": "44b44666",
   "metadata": {
    "scrolled": false
   },
   "outputs": [
    {
     "name": "stderr",
     "output_type": "stream",
     "text": [
      "Registered S3 method overwritten by 'quantmod':\n",
      "  method            from\n",
      "  as.zoo.data.frame zoo \n",
      "\n",
      "\n",
      "Attaching package: ‘dplyr’\n",
      "\n",
      "\n",
      "The following objects are masked from ‘package:stats’:\n",
      "\n",
      "    filter, lag\n",
      "\n",
      "\n",
      "The following objects are masked from ‘package:base’:\n",
      "\n",
      "    intersect, setdiff, setequal, union\n",
      "\n",
      "\n"
     ]
    }
   ],
   "source": [
    "library(tsfeatures)\n",
    "library(imputeTS)\n",
    "library(forecast)\n",
    "library(dplyr)"
   ]
  },
  {
   "cell_type": "code",
   "execution_count": null,
   "id": "48f7fb81",
   "metadata": {},
   "outputs": [],
   "source": []
  },
  {
   "cell_type": "code",
   "execution_count": 2,
   "id": "b287d671",
   "metadata": {},
   "outputs": [],
   "source": [
    "data=read.csv('Imports.csv')"
   ]
  },
  {
   "cell_type": "code",
   "execution_count": 3,
   "id": "17b6b30a",
   "metadata": {},
   "outputs": [
    {
     "data": {
      "text/html": [
       "<table class=\"dataframe\">\n",
       "<caption>A data.frame: 6 × 47</caption>\n",
       "<thead>\n",
       "\t<tr><th></th><th scope=col>月份</th><th scope=col>日本</th><th scope=col>经合组织成员国</th><th scope=col>OECD成员国_欧洲</th><th scope=col>OECD和六个非成员经济体</th><th scope=col>主要亚洲五国.OECD.</th><th scope=col>瑞士</th><th scope=col>韩国</th><th scope=col>土耳其</th><th scope=col>比利时</th><th scope=col>⋯</th><th scope=col>中华人民共和国</th><th scope=col>南非</th><th scope=col>哥伦比亚</th><th scope=col>墨西哥</th><th scope=col>新西兰</th><th scope=col>以色列</th><th scope=col>哥斯达黎加</th><th scope=col>欧元区</th><th scope=col>俄罗斯</th><th scope=col>爱尔兰</th></tr>\n",
       "\t<tr><th></th><th scope=col>&lt;chr&gt;</th><th scope=col>&lt;dbl&gt;</th><th scope=col>&lt;dbl&gt;</th><th scope=col>&lt;dbl&gt;</th><th scope=col>&lt;dbl&gt;</th><th scope=col>&lt;dbl&gt;</th><th scope=col>&lt;dbl&gt;</th><th scope=col>&lt;dbl&gt;</th><th scope=col>&lt;dbl&gt;</th><th scope=col>&lt;dbl&gt;</th><th scope=col>⋯</th><th scope=col>&lt;dbl&gt;</th><th scope=col>&lt;dbl&gt;</th><th scope=col>&lt;dbl&gt;</th><th scope=col>&lt;dbl&gt;</th><th scope=col>&lt;dbl&gt;</th><th scope=col>&lt;dbl&gt;</th><th scope=col>&lt;dbl&gt;</th><th scope=col>&lt;dbl&gt;</th><th scope=col>&lt;dbl&gt;</th><th scope=col>&lt;dbl&gt;</th></tr>\n",
       "</thead>\n",
       "<tbody>\n",
       "\t<tr><th scope=row>1</th><td>1995-01</td><td>100.86</td><td>100.98</td><td>100.79</td><td>100.34</td><td>100.74</td><td>99.21</td><td>NA</td><td>NA</td><td>100.50</td><td>⋯</td><td>101.44</td><td>101.91</td><td>NA</td><td>NA</td><td>101.35</td><td>NA</td><td>NA</td><td>100.62</td><td>NA</td><td>102.04</td></tr>\n",
       "\t<tr><th scope=row>2</th><td>1995-02</td><td>100.60</td><td>100.85</td><td>100.73</td><td>100.26</td><td>100.78</td><td>98.84</td><td>NA</td><td>NA</td><td>100.42</td><td>⋯</td><td>101.95</td><td>101.79</td><td>NA</td><td>NA</td><td>101.32</td><td>NA</td><td>NA</td><td>100.56</td><td>NA</td><td>102.02</td></tr>\n",
       "\t<tr><th scope=row>3</th><td>1995-03</td><td>100.34</td><td>100.71</td><td>100.69</td><td>100.15</td><td>100.80</td><td>98.80</td><td>NA</td><td>NA</td><td>100.46</td><td>⋯</td><td>102.36</td><td>101.73</td><td>NA</td><td>NA</td><td>101.38</td><td>NA</td><td>NA</td><td>100.57</td><td>NA</td><td>101.89</td></tr>\n",
       "\t<tr><th scope=row>4</th><td>1995-04</td><td>100.14</td><td>100.66</td><td>100.75</td><td>100.11</td><td>100.79</td><td>98.97</td><td>NA</td><td>NA</td><td>100.47</td><td>⋯</td><td>102.63</td><td>101.73</td><td>NA</td><td>NA</td><td>101.55</td><td>NA</td><td>NA</td><td>100.67</td><td>NA</td><td>101.70</td></tr>\n",
       "\t<tr><th scope=row>5</th><td>1995-05</td><td>100.05</td><td>100.69</td><td>100.85</td><td>100.12</td><td>100.77</td><td>99.18</td><td>NA</td><td>NA</td><td>100.46</td><td>⋯</td><td>102.72</td><td>101.78</td><td>NA</td><td>NA</td><td>101.77</td><td>NA</td><td>NA</td><td>100.78</td><td>NA</td><td>101.67</td></tr>\n",
       "\t<tr><th scope=row>6</th><td>1995-06</td><td>100.04</td><td>100.78</td><td>100.97</td><td>100.18</td><td>100.73</td><td>99.33</td><td>NA</td><td>NA</td><td>100.44</td><td>⋯</td><td>102.63</td><td>101.83</td><td>NA</td><td>NA</td><td>101.94</td><td>NA</td><td>NA</td><td>100.80</td><td>NA</td><td>101.76</td></tr>\n",
       "</tbody>\n",
       "</table>\n"
      ],
      "text/latex": [
       "A data.frame: 6 × 47\n",
       "\\begin{tabular}{r|lllllllllllllllllllll}\n",
       "  & 月份 & 日本 & 经合组织成员国 & OECD成员国\\_欧洲 & OECD和六个非成员经济体 & 主要亚洲五国.OECD. & 瑞士 & 韩国 & 土耳其 & 比利时 & ⋯ & 中华人民共和国 & 南非 & 哥伦比亚 & 墨西哥 & 新西兰 & 以色列 & 哥斯达黎加 & 欧元区 & 俄罗斯 & 爱尔兰\\\\\n",
       "  & <chr> & <dbl> & <dbl> & <dbl> & <dbl> & <dbl> & <dbl> & <dbl> & <dbl> & <dbl> & ⋯ & <dbl> & <dbl> & <dbl> & <dbl> & <dbl> & <dbl> & <dbl> & <dbl> & <dbl> & <dbl>\\\\\n",
       "\\hline\n",
       "\t1 & 1995-01 & 100.86 & 100.98 & 100.79 & 100.34 & 100.74 & 99.21 & NA & NA & 100.50 & ⋯ & 101.44 & 101.91 & NA & NA & 101.35 & NA & NA & 100.62 & NA & 102.04\\\\\n",
       "\t2 & 1995-02 & 100.60 & 100.85 & 100.73 & 100.26 & 100.78 & 98.84 & NA & NA & 100.42 & ⋯ & 101.95 & 101.79 & NA & NA & 101.32 & NA & NA & 100.56 & NA & 102.02\\\\\n",
       "\t3 & 1995-03 & 100.34 & 100.71 & 100.69 & 100.15 & 100.80 & 98.80 & NA & NA & 100.46 & ⋯ & 102.36 & 101.73 & NA & NA & 101.38 & NA & NA & 100.57 & NA & 101.89\\\\\n",
       "\t4 & 1995-04 & 100.14 & 100.66 & 100.75 & 100.11 & 100.79 & 98.97 & NA & NA & 100.47 & ⋯ & 102.63 & 101.73 & NA & NA & 101.55 & NA & NA & 100.67 & NA & 101.70\\\\\n",
       "\t5 & 1995-05 & 100.05 & 100.69 & 100.85 & 100.12 & 100.77 & 99.18 & NA & NA & 100.46 & ⋯ & 102.72 & 101.78 & NA & NA & 101.77 & NA & NA & 100.78 & NA & 101.67\\\\\n",
       "\t6 & 1995-06 & 100.04 & 100.78 & 100.97 & 100.18 & 100.73 & 99.33 & NA & NA & 100.44 & ⋯ & 102.63 & 101.83 & NA & NA & 101.94 & NA & NA & 100.80 & NA & 101.76\\\\\n",
       "\\end{tabular}\n"
      ],
      "text/markdown": [
       "\n",
       "A data.frame: 6 × 47\n",
       "\n",
       "| <!--/--> | 月份 &lt;chr&gt; | 日本 &lt;dbl&gt; | 经合组织成员国 &lt;dbl&gt; | OECD成员国_欧洲 &lt;dbl&gt; | OECD和六个非成员经济体 &lt;dbl&gt; | 主要亚洲五国.OECD. &lt;dbl&gt; | 瑞士 &lt;dbl&gt; | 韩国 &lt;dbl&gt; | 土耳其 &lt;dbl&gt; | 比利时 &lt;dbl&gt; | ⋯ ⋯ | 中华人民共和国 &lt;dbl&gt; | 南非 &lt;dbl&gt; | 哥伦比亚 &lt;dbl&gt; | 墨西哥 &lt;dbl&gt; | 新西兰 &lt;dbl&gt; | 以色列 &lt;dbl&gt; | 哥斯达黎加 &lt;dbl&gt; | 欧元区 &lt;dbl&gt; | 俄罗斯 &lt;dbl&gt; | 爱尔兰 &lt;dbl&gt; |\n",
       "|---|---|---|---|---|---|---|---|---|---|---|---|---|---|---|---|---|---|---|---|---|---|\n",
       "| 1 | 1995-01 | 100.86 | 100.98 | 100.79 | 100.34 | 100.74 | 99.21 | NA | NA | 100.50 | ⋯ | 101.44 | 101.91 | NA | NA | 101.35 | NA | NA | 100.62 | NA | 102.04 |\n",
       "| 2 | 1995-02 | 100.60 | 100.85 | 100.73 | 100.26 | 100.78 | 98.84 | NA | NA | 100.42 | ⋯ | 101.95 | 101.79 | NA | NA | 101.32 | NA | NA | 100.56 | NA | 102.02 |\n",
       "| 3 | 1995-03 | 100.34 | 100.71 | 100.69 | 100.15 | 100.80 | 98.80 | NA | NA | 100.46 | ⋯ | 102.36 | 101.73 | NA | NA | 101.38 | NA | NA | 100.57 | NA | 101.89 |\n",
       "| 4 | 1995-04 | 100.14 | 100.66 | 100.75 | 100.11 | 100.79 | 98.97 | NA | NA | 100.47 | ⋯ | 102.63 | 101.73 | NA | NA | 101.55 | NA | NA | 100.67 | NA | 101.70 |\n",
       "| 5 | 1995-05 | 100.05 | 100.69 | 100.85 | 100.12 | 100.77 | 99.18 | NA | NA | 100.46 | ⋯ | 102.72 | 101.78 | NA | NA | 101.77 | NA | NA | 100.78 | NA | 101.67 |\n",
       "| 6 | 1995-06 | 100.04 | 100.78 | 100.97 | 100.18 | 100.73 | 99.33 | NA | NA | 100.44 | ⋯ | 102.63 | 101.83 | NA | NA | 101.94 | NA | NA | 100.80 | NA | 101.76 |\n",
       "\n"
      ],
      "text/plain": [
       "  月份    日本   经合组织成员国 OECD成员国_欧洲 OECD和六个非成员经济体\n",
       "1 1995-01 100.86 100.98         100.79          100.34                \n",
       "2 1995-02 100.60 100.85         100.73          100.26                \n",
       "3 1995-03 100.34 100.71         100.69          100.15                \n",
       "4 1995-04 100.14 100.66         100.75          100.11                \n",
       "5 1995-05 100.05 100.69         100.85          100.12                \n",
       "6 1995-06 100.04 100.78         100.97          100.18                \n",
       "  主要亚洲五国.OECD. 瑞士  韩国 土耳其 比利时 ⋯ 中华人民共和国 南非   哥伦比亚\n",
       "1 100.74             99.21 NA   NA     100.50 ⋯ 101.44         101.91 NA      \n",
       "2 100.78             98.84 NA   NA     100.42 ⋯ 101.95         101.79 NA      \n",
       "3 100.80             98.80 NA   NA     100.46 ⋯ 102.36         101.73 NA      \n",
       "4 100.79             98.97 NA   NA     100.47 ⋯ 102.63         101.73 NA      \n",
       "5 100.77             99.18 NA   NA     100.46 ⋯ 102.72         101.78 NA      \n",
       "6 100.73             99.33 NA   NA     100.44 ⋯ 102.63         101.83 NA      \n",
       "  墨西哥 新西兰 以色列 哥斯达黎加 欧元区 俄罗斯 爱尔兰\n",
       "1 NA     101.35 NA     NA         100.62 NA     102.04\n",
       "2 NA     101.32 NA     NA         100.56 NA     102.02\n",
       "3 NA     101.38 NA     NA         100.57 NA     101.89\n",
       "4 NA     101.55 NA     NA         100.67 NA     101.70\n",
       "5 NA     101.77 NA     NA         100.78 NA     101.67\n",
       "6 NA     101.94 NA     NA         100.80 NA     101.76"
      ]
     },
     "metadata": {},
     "output_type": "display_data"
    }
   ],
   "source": [
    "head(data)"
   ]
  },
  {
   "cell_type": "code",
   "execution_count": 4,
   "id": "e2f4015a",
   "metadata": {},
   "outputs": [
    {
     "data": {
      "text/html": [
       "<table class=\"dataframe\">\n",
       "<caption>A data.frame: 6 × 47</caption>\n",
       "<thead>\n",
       "\t<tr><th></th><th scope=col>月份</th><th scope=col>日本</th><th scope=col>经合组织成员国</th><th scope=col>OECD成员国_欧洲</th><th scope=col>OECD和六个非成员经济体</th><th scope=col>主要亚洲五国.OECD.</th><th scope=col>瑞士</th><th scope=col>韩国</th><th scope=col>土耳其</th><th scope=col>比利时</th><th scope=col>⋯</th><th scope=col>中华人民共和国</th><th scope=col>南非</th><th scope=col>哥伦比亚</th><th scope=col>墨西哥</th><th scope=col>新西兰</th><th scope=col>以色列</th><th scope=col>哥斯达黎加</th><th scope=col>欧元区</th><th scope=col>俄罗斯</th><th scope=col>爱尔兰</th></tr>\n",
       "\t<tr><th></th><th scope=col>&lt;chr&gt;</th><th scope=col>&lt;dbl&gt;</th><th scope=col>&lt;dbl&gt;</th><th scope=col>&lt;dbl&gt;</th><th scope=col>&lt;dbl&gt;</th><th scope=col>&lt;dbl&gt;</th><th scope=col>&lt;dbl&gt;</th><th scope=col>&lt;dbl&gt;</th><th scope=col>&lt;dbl&gt;</th><th scope=col>&lt;dbl&gt;</th><th scope=col>⋯</th><th scope=col>&lt;dbl&gt;</th><th scope=col>&lt;dbl&gt;</th><th scope=col>&lt;dbl&gt;</th><th scope=col>&lt;dbl&gt;</th><th scope=col>&lt;dbl&gt;</th><th scope=col>&lt;dbl&gt;</th><th scope=col>&lt;dbl&gt;</th><th scope=col>&lt;dbl&gt;</th><th scope=col>&lt;dbl&gt;</th><th scope=col>&lt;dbl&gt;</th></tr>\n",
       "</thead>\n",
       "<tbody>\n",
       "\t<tr><th scope=row>341</th><td>2023-05</td><td>98.40</td><td>98.30</td><td>98.63</td><td>97.17</td><td>95.11</td><td>96.91</td><td> 99.64</td><td>99.75</td><td>99.31</td><td>⋯</td><td>93.33</td><td>96.46</td><td>95.95</td><td>103.91</td><td>96.67</td><td>97.84</td><td>101.81</td><td>98.16</td><td>99.61</td><td>NA</td></tr>\n",
       "\t<tr><th scope=row>342</th><td>2023-06</td><td>98.53</td><td>98.49</td><td>98.73</td><td>97.21</td><td>94.89</td><td>96.99</td><td>100.02</td><td>98.74</td><td>99.40</td><td>⋯</td><td>92.96</td><td>96.54</td><td>96.52</td><td>104.36</td><td>96.79</td><td>97.71</td><td>102.00</td><td>98.39</td><td>   NA</td><td>NA</td></tr>\n",
       "\t<tr><th scope=row>343</th><td>2023-07</td><td>98.57</td><td>98.59</td><td>98.61</td><td>97.26</td><td>94.81</td><td>97.04</td><td>100.26</td><td>96.99</td><td>99.56</td><td>⋯</td><td>92.84</td><td>96.85</td><td>96.68</td><td>104.87</td><td>96.78</td><td>97.74</td><td>102.38</td><td>   NA</td><td>   NA</td><td>NA</td></tr>\n",
       "\t<tr><th scope=row>344</th><td>2023-08</td><td>98.48</td><td>98.50</td><td>98.36</td><td>97.22</td><td>94.82</td><td>96.93</td><td>100.24</td><td>95.26</td><td>99.63</td><td>⋯</td><td>92.88</td><td>97.28</td><td>96.64</td><td>105.27</td><td>96.70</td><td>97.62</td><td>102.82</td><td>   NA</td><td>   NA</td><td>NA</td></tr>\n",
       "\t<tr><th scope=row>345</th><td>2023-09</td><td>98.35</td><td>98.33</td><td>98.13</td><td>97.14</td><td>94.86</td><td>96.56</td><td> 99.99</td><td>94.77</td><td>99.60</td><td>⋯</td><td>93.00</td><td>97.76</td><td>96.59</td><td>105.55</td><td>96.58</td><td>   NA</td><td>    NA</td><td>   NA</td><td>   NA</td><td>NA</td></tr>\n",
       "\t<tr><th scope=row>346</th><td>2023-10</td><td>98.27</td><td>98.09</td><td>97.90</td><td>96.90</td><td>   NA</td><td>96.02</td><td> 99.69</td><td>94.95</td><td>99.55</td><td>⋯</td><td>   NA</td><td>   NA</td><td>   NA</td><td>    NA</td><td>   NA</td><td>   NA</td><td>    NA</td><td>   NA</td><td>   NA</td><td>NA</td></tr>\n",
       "</tbody>\n",
       "</table>\n"
      ],
      "text/latex": [
       "A data.frame: 6 × 47\n",
       "\\begin{tabular}{r|lllllllllllllllllllll}\n",
       "  & 月份 & 日本 & 经合组织成员国 & OECD成员国\\_欧洲 & OECD和六个非成员经济体 & 主要亚洲五国.OECD. & 瑞士 & 韩国 & 土耳其 & 比利时 & ⋯ & 中华人民共和国 & 南非 & 哥伦比亚 & 墨西哥 & 新西兰 & 以色列 & 哥斯达黎加 & 欧元区 & 俄罗斯 & 爱尔兰\\\\\n",
       "  & <chr> & <dbl> & <dbl> & <dbl> & <dbl> & <dbl> & <dbl> & <dbl> & <dbl> & <dbl> & ⋯ & <dbl> & <dbl> & <dbl> & <dbl> & <dbl> & <dbl> & <dbl> & <dbl> & <dbl> & <dbl>\\\\\n",
       "\\hline\n",
       "\t341 & 2023-05 & 98.40 & 98.30 & 98.63 & 97.17 & 95.11 & 96.91 &  99.64 & 99.75 & 99.31 & ⋯ & 93.33 & 96.46 & 95.95 & 103.91 & 96.67 & 97.84 & 101.81 & 98.16 & 99.61 & NA\\\\\n",
       "\t342 & 2023-06 & 98.53 & 98.49 & 98.73 & 97.21 & 94.89 & 96.99 & 100.02 & 98.74 & 99.40 & ⋯ & 92.96 & 96.54 & 96.52 & 104.36 & 96.79 & 97.71 & 102.00 & 98.39 &    NA & NA\\\\\n",
       "\t343 & 2023-07 & 98.57 & 98.59 & 98.61 & 97.26 & 94.81 & 97.04 & 100.26 & 96.99 & 99.56 & ⋯ & 92.84 & 96.85 & 96.68 & 104.87 & 96.78 & 97.74 & 102.38 &    NA &    NA & NA\\\\\n",
       "\t344 & 2023-08 & 98.48 & 98.50 & 98.36 & 97.22 & 94.82 & 96.93 & 100.24 & 95.26 & 99.63 & ⋯ & 92.88 & 97.28 & 96.64 & 105.27 & 96.70 & 97.62 & 102.82 &    NA &    NA & NA\\\\\n",
       "\t345 & 2023-09 & 98.35 & 98.33 & 98.13 & 97.14 & 94.86 & 96.56 &  99.99 & 94.77 & 99.60 & ⋯ & 93.00 & 97.76 & 96.59 & 105.55 & 96.58 &    NA &     NA &    NA &    NA & NA\\\\\n",
       "\t346 & 2023-10 & 98.27 & 98.09 & 97.90 & 96.90 &    NA & 96.02 &  99.69 & 94.95 & 99.55 & ⋯ &    NA &    NA &    NA &     NA &    NA &    NA &     NA &    NA &    NA & NA\\\\\n",
       "\\end{tabular}\n"
      ],
      "text/markdown": [
       "\n",
       "A data.frame: 6 × 47\n",
       "\n",
       "| <!--/--> | 月份 &lt;chr&gt; | 日本 &lt;dbl&gt; | 经合组织成员国 &lt;dbl&gt; | OECD成员国_欧洲 &lt;dbl&gt; | OECD和六个非成员经济体 &lt;dbl&gt; | 主要亚洲五国.OECD. &lt;dbl&gt; | 瑞士 &lt;dbl&gt; | 韩国 &lt;dbl&gt; | 土耳其 &lt;dbl&gt; | 比利时 &lt;dbl&gt; | ⋯ ⋯ | 中华人民共和国 &lt;dbl&gt; | 南非 &lt;dbl&gt; | 哥伦比亚 &lt;dbl&gt; | 墨西哥 &lt;dbl&gt; | 新西兰 &lt;dbl&gt; | 以色列 &lt;dbl&gt; | 哥斯达黎加 &lt;dbl&gt; | 欧元区 &lt;dbl&gt; | 俄罗斯 &lt;dbl&gt; | 爱尔兰 &lt;dbl&gt; |\n",
       "|---|---|---|---|---|---|---|---|---|---|---|---|---|---|---|---|---|---|---|---|---|---|\n",
       "| 341 | 2023-05 | 98.40 | 98.30 | 98.63 | 97.17 | 95.11 | 96.91 |  99.64 | 99.75 | 99.31 | ⋯ | 93.33 | 96.46 | 95.95 | 103.91 | 96.67 | 97.84 | 101.81 | 98.16 | 99.61 | NA |\n",
       "| 342 | 2023-06 | 98.53 | 98.49 | 98.73 | 97.21 | 94.89 | 96.99 | 100.02 | 98.74 | 99.40 | ⋯ | 92.96 | 96.54 | 96.52 | 104.36 | 96.79 | 97.71 | 102.00 | 98.39 |    NA | NA |\n",
       "| 343 | 2023-07 | 98.57 | 98.59 | 98.61 | 97.26 | 94.81 | 97.04 | 100.26 | 96.99 | 99.56 | ⋯ | 92.84 | 96.85 | 96.68 | 104.87 | 96.78 | 97.74 | 102.38 |    NA |    NA | NA |\n",
       "| 344 | 2023-08 | 98.48 | 98.50 | 98.36 | 97.22 | 94.82 | 96.93 | 100.24 | 95.26 | 99.63 | ⋯ | 92.88 | 97.28 | 96.64 | 105.27 | 96.70 | 97.62 | 102.82 |    NA |    NA | NA |\n",
       "| 345 | 2023-09 | 98.35 | 98.33 | 98.13 | 97.14 | 94.86 | 96.56 |  99.99 | 94.77 | 99.60 | ⋯ | 93.00 | 97.76 | 96.59 | 105.55 | 96.58 |    NA |     NA |    NA |    NA | NA |\n",
       "| 346 | 2023-10 | 98.27 | 98.09 | 97.90 | 96.90 |    NA | 96.02 |  99.69 | 94.95 | 99.55 | ⋯ |    NA |    NA |    NA |     NA |    NA |    NA |     NA |    NA |    NA | NA |\n",
       "\n"
      ],
      "text/plain": [
       "    月份    日本  经合组织成员国 OECD成员国_欧洲 OECD和六个非成员经济体\n",
       "341 2023-05 98.40 98.30          98.63           97.17                 \n",
       "342 2023-06 98.53 98.49          98.73           97.21                 \n",
       "343 2023-07 98.57 98.59          98.61           97.26                 \n",
       "344 2023-08 98.48 98.50          98.36           97.22                 \n",
       "345 2023-09 98.35 98.33          98.13           97.14                 \n",
       "346 2023-10 98.27 98.09          97.90           96.90                 \n",
       "    主要亚洲五国.OECD. 瑞士  韩国   土耳其 比利时 ⋯ 中华人民共和国 南非 \n",
       "341 95.11              96.91  99.64 99.75  99.31  ⋯ 93.33          96.46\n",
       "342 94.89              96.99 100.02 98.74  99.40  ⋯ 92.96          96.54\n",
       "343 94.81              97.04 100.26 96.99  99.56  ⋯ 92.84          96.85\n",
       "344 94.82              96.93 100.24 95.26  99.63  ⋯ 92.88          97.28\n",
       "345 94.86              96.56  99.99 94.77  99.60  ⋯ 93.00          97.76\n",
       "346    NA              96.02  99.69 94.95  99.55  ⋯    NA             NA\n",
       "    哥伦比亚 墨西哥 新西兰 以色列 哥斯达黎加 欧元区 俄罗斯 爱尔兰\n",
       "341 95.95    103.91 96.67  97.84  101.81     98.16  99.61  NA    \n",
       "342 96.52    104.36 96.79  97.71  102.00     98.39     NA  NA    \n",
       "343 96.68    104.87 96.78  97.74  102.38        NA     NA  NA    \n",
       "344 96.64    105.27 96.70  97.62  102.82        NA     NA  NA    \n",
       "345 96.59    105.55 96.58     NA      NA        NA     NA  NA    \n",
       "346    NA        NA    NA     NA      NA        NA     NA  NA    "
      ]
     },
     "metadata": {},
     "output_type": "display_data"
    }
   ],
   "source": [
    "tail(data)"
   ]
  },
  {
   "cell_type": "code",
   "execution_count": 5,
   "id": "13d56a12",
   "metadata": {},
   "outputs": [],
   "source": [
    "data=data[1:285,c(2:dim(data)[2])]"
   ]
  },
  {
   "cell_type": "code",
   "execution_count": null,
   "id": "932a3092",
   "metadata": {},
   "outputs": [],
   "source": []
  },
  {
   "cell_type": "code",
   "execution_count": 25,
   "id": "9f1a8f29",
   "metadata": {},
   "outputs": [
    {
     "data": {
      "text/html": [
       "<style>\n",
       ".list-inline {list-style: none; margin:0; padding: 0}\n",
       ".list-inline>li {display: inline-block}\n",
       ".list-inline>li:not(:last-child)::after {content: \"\\00b7\"; padding: 0 .5ex}\n",
       "</style>\n",
       "<ol class=list-inline><li>345</li><li>44</li></ol>\n"
      ],
      "text/latex": [
       "\\begin{enumerate*}\n",
       "\\item 345\n",
       "\\item 44\n",
       "\\end{enumerate*}\n"
      ],
      "text/markdown": [
       "1. 345\n",
       "2. 44\n",
       "\n",
       "\n"
      ],
      "text/plain": [
       "[1] 345  44"
      ]
     },
     "metadata": {},
     "output_type": "display_data"
    }
   ],
   "source": [
    "dim(data)"
   ]
  },
  {
   "cell_type": "code",
   "execution_count": 7,
   "id": "78dce697",
   "metadata": {},
   "outputs": [],
   "source": [
    "which_baddata=function(data){\n",
    "baddata=c()\n",
    "for(i in 1:dim(data)[2])\n",
    "{loc=min(which(is.na(data[,i])==FALSE))-1\n",
    "if((dim(data)[1]-loc)<40)\n",
    "    {\n",
    "    baddata=append(baddata,i)\n",
    "}\n",
    "if(sum(is.na(data[loc:dim(data)[1],i])==TRUE)>10)\n",
    " {\n",
    "     baddata=append(baddata,i)\n",
    " }\n",
    " if(sum(is.na(data[(dim(data)[1]-11):dim(data)[1],i])==TRUE)>3)\n",
    " {\n",
    "     baddata=append(baddata,i)\n",
    " }\n",
    "}\n",
    "baddata=unique(baddata)\n",
    "return(baddata)}"
   ]
  },
  {
   "cell_type": "code",
   "execution_count": 8,
   "id": "750cb9d1",
   "metadata": {},
   "outputs": [],
   "source": [
    "baddata=which_baddata(data)"
   ]
  },
  {
   "cell_type": "code",
   "execution_count": 9,
   "id": "10158836",
   "metadata": {},
   "outputs": [
    {
     "data": {
      "text/html": [
       "<style>\n",
       ".list-inline {list-style: none; margin:0; padding: 0}\n",
       ".list-inline>li {display: inline-block}\n",
       ".list-inline>li:not(:last-child)::after {content: \"\\00b7\"; padding: 0 .5ex}\n",
       "</style>\n",
       "<ol class=list-inline><li>45</li><li>46</li></ol>\n"
      ],
      "text/latex": [
       "\\begin{enumerate*}\n",
       "\\item 45\n",
       "\\item 46\n",
       "\\end{enumerate*}\n"
      ],
      "text/markdown": [
       "1. 45\n",
       "2. 46\n",
       "\n",
       "\n"
      ],
      "text/plain": [
       "[1] 45 46"
      ]
     },
     "metadata": {},
     "output_type": "display_data"
    }
   ],
   "source": [
    "baddata"
   ]
  },
  {
   "cell_type": "code",
   "execution_count": 10,
   "id": "6676f014",
   "metadata": {},
   "outputs": [],
   "source": [
    "data=data[,-1*baddata]"
   ]
  },
  {
   "cell_type": "code",
   "execution_count": null,
   "id": "d181bb65",
   "metadata": {},
   "outputs": [],
   "source": []
  },
  {
   "cell_type": "code",
   "execution_count": 11,
   "id": "4f579aab",
   "metadata": {
    "scrolled": true
   },
   "outputs": [
    {
     "data": {
      "text/html": [
       "<table class=\"dataframe\">\n",
       "<caption>A data.frame: 345 × 44</caption>\n",
       "<thead>\n",
       "\t<tr><th></th><th scope=col>日本</th><th scope=col>经合组织成员国</th><th scope=col>OECD成员国_欧洲</th><th scope=col>OECD和六个非成员经济体</th><th scope=col>主要亚洲五国.OECD.</th><th scope=col>瑞士</th><th scope=col>韩国</th><th scope=col>土耳其</th><th scope=col>比利时</th><th scope=col>丹麦</th><th scope=col>⋯</th><th scope=col>西方七国</th><th scope=col>印尼</th><th scope=col>中华人民共和国</th><th scope=col>南非</th><th scope=col>哥伦比亚</th><th scope=col>墨西哥</th><th scope=col>新西兰</th><th scope=col>以色列</th><th scope=col>哥斯达黎加</th><th scope=col>欧元区</th></tr>\n",
       "\t<tr><th></th><th scope=col>&lt;dbl&gt;</th><th scope=col>&lt;dbl&gt;</th><th scope=col>&lt;dbl&gt;</th><th scope=col>&lt;dbl&gt;</th><th scope=col>&lt;dbl&gt;</th><th scope=col>&lt;dbl&gt;</th><th scope=col>&lt;dbl&gt;</th><th scope=col>&lt;dbl&gt;</th><th scope=col>&lt;dbl&gt;</th><th scope=col>&lt;dbl&gt;</th><th scope=col>⋯</th><th scope=col>&lt;dbl&gt;</th><th scope=col>&lt;dbl&gt;</th><th scope=col>&lt;dbl&gt;</th><th scope=col>&lt;dbl&gt;</th><th scope=col>&lt;dbl&gt;</th><th scope=col>&lt;dbl&gt;</th><th scope=col>&lt;dbl&gt;</th><th scope=col>&lt;dbl&gt;</th><th scope=col>&lt;dbl&gt;</th><th scope=col>&lt;dbl&gt;</th></tr>\n",
       "</thead>\n",
       "<tbody>\n",
       "\t<tr><th scope=row>1</th><td>100.86</td><td>100.98</td><td>100.79</td><td>100.34</td><td>100.74</td><td>99.21</td><td>NA</td><td>NA</td><td>100.50</td><td>101.19</td><td>⋯</td><td>100.79</td><td>NA</td><td>101.44</td><td>101.91</td><td>NA</td><td>NA</td><td>101.35</td><td>NA</td><td>NA</td><td>100.62</td></tr>\n",
       "\t<tr><th scope=row>2</th><td>100.60</td><td>100.85</td><td>100.73</td><td>100.26</td><td>100.78</td><td>98.84</td><td>NA</td><td>NA</td><td>100.42</td><td>101.24</td><td>⋯</td><td>100.67</td><td>NA</td><td>101.95</td><td>101.79</td><td>NA</td><td>NA</td><td>101.32</td><td>NA</td><td>NA</td><td>100.56</td></tr>\n",
       "\t<tr><th scope=row>3</th><td>100.34</td><td>100.71</td><td>100.69</td><td>100.15</td><td>100.80</td><td>98.80</td><td>NA</td><td>NA</td><td>100.46</td><td>101.22</td><td>⋯</td><td>100.51</td><td>NA</td><td>102.36</td><td>101.73</td><td>NA</td><td>NA</td><td>101.38</td><td>NA</td><td>NA</td><td>100.57</td></tr>\n",
       "\t<tr><th scope=row>4</th><td>100.14</td><td>100.66</td><td>100.75</td><td>100.11</td><td>100.79</td><td>98.97</td><td>NA</td><td>NA</td><td>100.47</td><td>101.16</td><td>⋯</td><td>100.46</td><td>NA</td><td>102.63</td><td>101.73</td><td>NA</td><td>NA</td><td>101.55</td><td>NA</td><td>NA</td><td>100.67</td></tr>\n",
       "\t<tr><th scope=row>5</th><td>100.05</td><td>100.69</td><td>100.85</td><td>100.12</td><td>100.77</td><td>99.18</td><td>NA</td><td>NA</td><td>100.46</td><td>101.09</td><td>⋯</td><td>100.49</td><td>NA</td><td>102.72</td><td>101.78</td><td>NA</td><td>NA</td><td>101.77</td><td>NA</td><td>NA</td><td>100.78</td></tr>\n",
       "\t<tr><th scope=row>6</th><td>100.04</td><td>100.78</td><td>100.97</td><td>100.18</td><td>100.73</td><td>99.33</td><td>NA</td><td>NA</td><td>100.44</td><td>101.01</td><td>⋯</td><td>100.60</td><td>NA</td><td>102.63</td><td>101.83</td><td>NA</td><td>NA</td><td>101.94</td><td>NA</td><td>NA</td><td>100.80</td></tr>\n",
       "\t<tr><th scope=row>7</th><td>100.10</td><td>100.86</td><td>101.00</td><td>100.21</td><td>100.68</td><td>99.41</td><td>NA</td><td>NA</td><td>100.27</td><td>101.03</td><td>⋯</td><td>100.69</td><td>NA</td><td>102.40</td><td>101.89</td><td>NA</td><td>NA</td><td>102.02</td><td>NA</td><td>NA</td><td>100.72</td></tr>\n",
       "\t<tr><th scope=row>8</th><td>100.24</td><td>100.83</td><td>100.94</td><td>100.17</td><td>100.65</td><td>99.46</td><td>NA</td><td>NA</td><td> 99.91</td><td>101.13</td><td>⋯</td><td>100.66</td><td>NA</td><td>102.14</td><td>101.95</td><td>NA</td><td>NA</td><td>102.01</td><td>NA</td><td>NA</td><td>100.56</td></tr>\n",
       "\t<tr><th scope=row>9</th><td>100.41</td><td>100.70</td><td>100.80</td><td>100.03</td><td>100.66</td><td>99.47</td><td>NA</td><td>NA</td><td> 99.50</td><td>101.18</td><td>⋯</td><td>100.50</td><td>NA</td><td>101.93</td><td>102.03</td><td>NA</td><td>NA</td><td>101.93</td><td>NA</td><td>NA</td><td>100.34</td></tr>\n",
       "\t<tr><th scope=row>10</th><td>100.57</td><td>100.58</td><td>100.64</td><td> 99.93</td><td>100.71</td><td>99.42</td><td>NA</td><td>NA</td><td> 99.01</td><td>101.16</td><td>⋯</td><td>100.37</td><td>NA</td><td>101.81</td><td>102.13</td><td>NA</td><td>NA</td><td>101.81</td><td>NA</td><td>NA</td><td>100.10</td></tr>\n",
       "\t<tr><th scope=row>11</th><td>100.70</td><td>100.50</td><td>100.49</td><td> 99.86</td><td>100.79</td><td>99.27</td><td>NA</td><td>NA</td><td> 98.54</td><td>101.17</td><td>⋯</td><td>100.28</td><td>NA</td><td>101.81</td><td>102.21</td><td>NA</td><td>NA</td><td>101.71</td><td>NA</td><td>NA</td><td> 99.89</td></tr>\n",
       "\t<tr><th scope=row>12</th><td>100.80</td><td>100.48</td><td>100.36</td><td> 99.86</td><td>100.89</td><td>98.97</td><td>NA</td><td>NA</td><td> 98.35</td><td>101.09</td><td>⋯</td><td>100.25</td><td>NA</td><td>101.91</td><td>102.22</td><td>NA</td><td>NA</td><td>101.70</td><td>NA</td><td>NA</td><td> 99.67</td></tr>\n",
       "\t<tr><th scope=row>13</th><td>100.90</td><td>100.48</td><td>100.28</td><td> 99.88</td><td>101.00</td><td>98.59</td><td>NA</td><td>NA</td><td> 98.30</td><td>100.99</td><td>⋯</td><td>100.25</td><td>NA</td><td>102.05</td><td>102.11</td><td>NA</td><td>NA</td><td>101.85</td><td>NA</td><td>NA</td><td> 99.50</td></tr>\n",
       "\t<tr><th scope=row>14</th><td>100.99</td><td>100.52</td><td>100.23</td><td> 99.93</td><td>101.10</td><td>98.22</td><td>NA</td><td>NA</td><td> 98.36</td><td>100.78</td><td>⋯</td><td>100.30</td><td>NA</td><td>102.16</td><td>101.91</td><td>NA</td><td>NA</td><td>102.00</td><td>NA</td><td>NA</td><td> 99.41</td></tr>\n",
       "\t<tr><th scope=row>15</th><td>101.06</td><td>100.61</td><td>100.25</td><td>100.01</td><td>101.16</td><td>97.91</td><td>NA</td><td>NA</td><td> 98.51</td><td>100.66</td><td>⋯</td><td>100.41</td><td>NA</td><td>102.19</td><td>101.67</td><td>NA</td><td>NA</td><td>101.97</td><td>NA</td><td>NA</td><td> 99.40</td></tr>\n",
       "\t<tr><th scope=row>16</th><td>101.10</td><td>100.63</td><td>100.27</td><td>100.03</td><td>101.17</td><td>97.66</td><td>NA</td><td>NA</td><td> 98.66</td><td>100.61</td><td>⋯</td><td>100.45</td><td>NA</td><td>102.16</td><td>101.41</td><td>NA</td><td>NA</td><td>101.62</td><td>NA</td><td>NA</td><td> 99.40</td></tr>\n",
       "\t<tr><th scope=row>17</th><td>101.07</td><td>100.62</td><td>100.28</td><td>100.01</td><td>101.13</td><td>97.46</td><td>NA</td><td>NA</td><td> 98.69</td><td>100.50</td><td>⋯</td><td>100.44</td><td>NA</td><td>102.11</td><td>101.18</td><td>NA</td><td>NA</td><td>101.14</td><td>NA</td><td>NA</td><td> 99.43</td></tr>\n",
       "\t<tr><th scope=row>18</th><td>101.00</td><td>100.65</td><td>100.28</td><td>100.02</td><td>101.06</td><td>97.32</td><td>NA</td><td>NA</td><td> 98.75</td><td>100.41</td><td>⋯</td><td>100.48</td><td>NA</td><td>102.04</td><td>101.03</td><td>NA</td><td>NA</td><td>100.80</td><td>NA</td><td>NA</td><td> 99.44</td></tr>\n",
       "\t<tr><th scope=row>19</th><td>100.92</td><td>100.69</td><td>100.26</td><td>100.05</td><td>100.99</td><td>97.26</td><td>NA</td><td>NA</td><td> 98.90</td><td>100.43</td><td>⋯</td><td>100.54</td><td>NA</td><td>102.00</td><td>101.02</td><td>NA</td><td>NA</td><td>100.82</td><td>NA</td><td>NA</td><td> 99.42</td></tr>\n",
       "\t<tr><th scope=row>20</th><td>100.82</td><td>100.73</td><td>100.29</td><td>100.09</td><td>100.92</td><td>97.32</td><td>NA</td><td>NA</td><td> 99.14</td><td>100.47</td><td>⋯</td><td>100.58</td><td>NA</td><td>101.95</td><td>101.10</td><td>NA</td><td>NA</td><td>101.04</td><td>NA</td><td>NA</td><td> 99.43</td></tr>\n",
       "\t<tr><th scope=row>21</th><td>100.68</td><td>100.75</td><td>100.32</td><td>100.11</td><td>100.83</td><td>97.58</td><td>NA</td><td>NA</td><td> 99.30</td><td>100.66</td><td>⋯</td><td>100.59</td><td>NA</td><td>101.93</td><td>101.20</td><td>NA</td><td>NA</td><td>101.28</td><td>NA</td><td>NA</td><td> 99.42</td></tr>\n",
       "\t<tr><th scope=row>22</th><td>100.42</td><td>100.76</td><td>100.31</td><td>100.12</td><td>100.66</td><td>97.92</td><td>NA</td><td>NA</td><td> 99.35</td><td>100.85</td><td>⋯</td><td>100.57</td><td>NA</td><td>101.88</td><td>101.28</td><td>NA</td><td>NA</td><td>101.41</td><td>NA</td><td>NA</td><td> 99.38</td></tr>\n",
       "\t<tr><th scope=row>23</th><td> 99.99</td><td>100.74</td><td>100.33</td><td>100.10</td><td>100.34</td><td>98.22</td><td>NA</td><td>NA</td><td> 99.38</td><td>100.91</td><td>⋯</td><td>100.53</td><td>NA</td><td>101.72</td><td>101.32</td><td>NA</td><td>NA</td><td>101.43</td><td>NA</td><td>NA</td><td> 99.36</td></tr>\n",
       "\t<tr><th scope=row>24</th><td> 99.55</td><td>100.71</td><td>100.38</td><td>100.04</td><td> 99.91</td><td>98.39</td><td>NA</td><td>NA</td><td> 99.27</td><td>100.98</td><td>⋯</td><td>100.48</td><td>NA</td><td>101.29</td><td>101.29</td><td>NA</td><td>NA</td><td>101.36</td><td>NA</td><td>NA</td><td> 99.42</td></tr>\n",
       "\t<tr><th scope=row>25</th><td> 99.28</td><td>100.74</td><td>100.47</td><td>100.01</td><td> 99.45</td><td>98.48</td><td>NA</td><td>NA</td><td> 98.99</td><td>101.12</td><td>⋯</td><td>100.49</td><td>NA</td><td>100.58</td><td>101.15</td><td>NA</td><td>NA</td><td>101.20</td><td>NA</td><td>NA</td><td> 99.52</td></tr>\n",
       "\t<tr><th scope=row>26</th><td> 99.36</td><td>100.82</td><td>100.52</td><td>100.03</td><td> 99.28</td><td>98.55</td><td>NA</td><td>NA</td><td> 98.81</td><td>101.20</td><td>⋯</td><td>100.59</td><td>NA</td><td>100.08</td><td>101.00</td><td>NA</td><td>NA</td><td>100.99</td><td>NA</td><td>NA</td><td> 99.52</td></tr>\n",
       "\t<tr><th scope=row>27</th><td> 99.65</td><td>100.94</td><td>100.55</td><td>100.11</td><td> 99.34</td><td>98.65</td><td>NA</td><td>NA</td><td> 98.73</td><td>101.23</td><td>⋯</td><td>100.72</td><td>NA</td><td> 99.84</td><td>100.91</td><td>NA</td><td>NA</td><td>100.78</td><td>NA</td><td>NA</td><td> 99.53</td></tr>\n",
       "\t<tr><th scope=row>28</th><td> 99.96</td><td>101.09</td><td>100.63</td><td>100.23</td><td> 99.52</td><td>98.80</td><td>NA</td><td>NA</td><td> 98.76</td><td>101.12</td><td>⋯</td><td>100.89</td><td>NA</td><td> 99.84</td><td>100.95</td><td>NA</td><td>NA</td><td>100.59</td><td>NA</td><td>NA</td><td> 99.61</td></tr>\n",
       "\t<tr><th scope=row>29</th><td>100.17</td><td>101.26</td><td>100.78</td><td>100.37</td><td> 99.70</td><td>99.03</td><td>NA</td><td>NA</td><td> 98.92</td><td>100.95</td><td>⋯</td><td>101.09</td><td>NA</td><td> 99.98</td><td>101.03</td><td>NA</td><td>NA</td><td>100.42</td><td>NA</td><td>NA</td><td> 99.76</td></tr>\n",
       "\t<tr><th scope=row>30</th><td>100.25</td><td>101.42</td><td>100.94</td><td>100.51</td><td> 99.82</td><td>99.38</td><td>NA</td><td>NA</td><td> 99.14</td><td>101.01</td><td>⋯</td><td>101.25</td><td>NA</td><td>100.17</td><td>101.01</td><td>NA</td><td>NA</td><td>100.28</td><td>NA</td><td>NA</td><td> 99.97</td></tr>\n",
       "\t<tr><th scope=row>⋮</th><td>⋮</td><td>⋮</td><td>⋮</td><td>⋮</td><td>⋮</td><td>⋮</td><td>⋮</td><td>⋮</td><td>⋮</td><td>⋮</td><td>⋱</td><td>⋮</td><td>⋮</td><td>⋮</td><td>⋮</td><td>⋮</td><td>⋮</td><td>⋮</td><td>⋮</td><td>⋮</td><td>⋮</td></tr>\n",
       "\t<tr><th scope=row>316</th><td>98.21</td><td>100.04</td><td>100.37</td><td>100.68</td><td>102.12</td><td> 99.62</td><td>100.36</td><td>97.88</td><td>101.52</td><td>101.23</td><td>⋯</td><td> 99.99</td><td> 99.65</td><td>103.71</td><td>98.67</td><td>95.25</td><td>101.58</td><td>99.62</td><td>102.69</td><td> 97.96</td><td>100.57</td></tr>\n",
       "\t<tr><th scope=row>317</th><td>98.32</td><td>100.29</td><td>100.87</td><td>100.82</td><td>102.03</td><td>100.08</td><td>100.72</td><td>97.37</td><td>101.90</td><td>101.38</td><td>⋯</td><td>100.22</td><td> 99.77</td><td>103.51</td><td>98.50</td><td>95.11</td><td>102.31</td><td>99.66</td><td>102.87</td><td> 97.89</td><td>101.31</td></tr>\n",
       "\t<tr><th scope=row>318</th><td>98.55</td><td>100.45</td><td>101.23</td><td>100.86</td><td>101.87</td><td>100.66</td><td>100.89</td><td>97.34</td><td>102.15</td><td>101.45</td><td>⋯</td><td>100.33</td><td> 99.46</td><td>103.25</td><td>98.40</td><td>96.01</td><td>102.87</td><td>99.66</td><td>102.54</td><td> 98.17</td><td>101.86</td></tr>\n",
       "\t<tr><th scope=row>319</th><td>98.72</td><td>100.35</td><td>101.29</td><td>100.68</td><td>101.53</td><td>101.23</td><td>100.70</td><td>97.23</td><td>102.08</td><td>101.50</td><td>⋯</td><td>100.15</td><td> 98.82</td><td>102.81</td><td>98.44</td><td>97.27</td><td>103.05</td><td>99.57</td><td>101.81</td><td> 98.63</td><td>101.95</td></tr>\n",
       "\t<tr><th scope=row>320</th><td>98.83</td><td>100.10</td><td>101.15</td><td>100.47</td><td>101.44</td><td>101.63</td><td>100.56</td><td>97.04</td><td>101.77</td><td>101.57</td><td>⋯</td><td> 99.81</td><td> 98.71</td><td>102.69</td><td>98.56</td><td>98.14</td><td>102.98</td><td>99.42</td><td>101.01</td><td> 99.06</td><td>101.85</td></tr>\n",
       "\t<tr><th scope=row>321</th><td>98.98</td><td> 99.93</td><td>100.93</td><td>100.42</td><td>101.69</td><td>101.71</td><td>100.62</td><td>96.71</td><td>101.44</td><td>101.58</td><td>⋯</td><td> 99.60</td><td> 99.36</td><td>102.92</td><td>98.70</td><td>98.72</td><td>103.16</td><td>99.25</td><td>100.99</td><td> 99.29</td><td>101.72</td></tr>\n",
       "\t<tr><th scope=row>322</th><td>99.15</td><td> 99.75</td><td>100.56</td><td>100.35</td><td>101.92</td><td>101.59</td><td>100.79</td><td>95.96</td><td>100.97</td><td>101.21</td><td>⋯</td><td> 99.42</td><td>100.26</td><td>103.08</td><td>98.80</td><td>98.93</td><td>103.53</td><td>99.10</td><td>100.79</td><td> 99.41</td><td>101.41</td></tr>\n",
       "\t<tr><th scope=row>323</th><td>99.21</td><td> 99.52</td><td>100.13</td><td>100.25</td><td>102.09</td><td>101.37</td><td>100.84</td><td>95.04</td><td>100.54</td><td>100.70</td><td>⋯</td><td> 99.24</td><td>100.86</td><td>103.22</td><td>98.85</td><td>98.72</td><td>103.89</td><td>98.95</td><td>100.19</td><td> 99.56</td><td>100.98</td></tr>\n",
       "\t<tr><th scope=row>324</th><td>99.04</td><td> 99.28</td><td> 99.76</td><td>100.14</td><td>102.17</td><td>101.07</td><td>100.72</td><td>94.57</td><td>100.20</td><td>100.36</td><td>⋯</td><td> 99.03</td><td>101.07</td><td>103.36</td><td>98.84</td><td>98.11</td><td>103.57</td><td>98.77</td><td> 99.49</td><td> 99.82</td><td>100.57</td></tr>\n",
       "\t<tr><th scope=row>325</th><td>98.66</td><td> 98.95</td><td> 99.34</td><td> 99.88</td><td>101.99</td><td>100.68</td><td>100.61</td><td>94.63</td><td> 99.84</td><td> 99.99</td><td>⋯</td><td> 98.67</td><td>101.01</td><td>103.20</td><td>98.71</td><td>97.36</td><td>103.07</td><td>98.53</td><td> 98.66</td><td>100.11</td><td>100.09</td></tr>\n",
       "\t<tr><th scope=row>326</th><td>98.19</td><td> 98.48</td><td> 98.66</td><td> 99.27</td><td>101.05</td><td>100.09</td><td>100.54</td><td>94.58</td><td> 99.30</td><td> 99.31</td><td>⋯</td><td> 98.15</td><td>100.81</td><td>101.97</td><td>98.47</td><td>96.81</td><td>102.86</td><td>98.23</td><td> 98.25</td><td>100.30</td><td> 99.21</td></tr>\n",
       "\t<tr><th scope=row>327</th><td>97.74</td><td> 97.94</td><td> 97.67</td><td> 98.21</td><td> 99.07</td><td> 99.22</td><td>100.50</td><td>94.30</td><td> 98.55</td><td> 98.16</td><td>⋯</td><td> 97.60</td><td>100.76</td><td> 99.21</td><td>98.11</td><td>96.65</td><td>102.94</td><td>97.85</td><td> 98.22</td><td>100.27</td><td> 97.83</td></tr>\n",
       "\t<tr><th scope=row>328</th><td>97.50</td><td> 97.54</td><td> 96.93</td><td> 97.04</td><td> 96.57</td><td> 98.21</td><td>100.38</td><td>93.64</td><td> 98.23</td><td> 97.24</td><td>⋯</td><td> 97.22</td><td>101.01</td><td> 95.62</td><td>97.58</td><td>96.91</td><td>103.01</td><td>97.38</td><td> 98.41</td><td>100.11</td><td> 96.96</td></tr>\n",
       "\t<tr><th scope=row>329</th><td>97.38</td><td> 97.16</td><td> 96.49</td><td> 96.31</td><td> 95.21</td><td> 97.23</td><td> 99.99</td><td>93.13</td><td> 98.16</td><td> 96.72</td><td>⋯</td><td> 96.83</td><td>101.44</td><td> 93.65</td><td>97.04</td><td>97.57</td><td>102.77</td><td>96.94</td><td> 98.39</td><td> 99.92</td><td> 96.48</td></tr>\n",
       "\t<tr><th scope=row>330</th><td>97.22</td><td> 96.79</td><td> 96.14</td><td> 95.96</td><td> 94.76</td><td> 96.41</td><td> 99.29</td><td>92.94</td><td> 98.11</td><td> 96.45</td><td>⋯</td><td> 96.47</td><td>101.63</td><td> 93.07</td><td>96.67</td><td>98.33</td><td>102.14</td><td>96.70</td><td> 97.76</td><td> 99.77</td><td> 96.03</td></tr>\n",
       "\t<tr><th scope=row>331</th><td>97.09</td><td> 96.58</td><td> 95.89</td><td> 95.84</td><td> 94.62</td><td> 95.73</td><td> 98.58</td><td>93.51</td><td> 97.93</td><td> 96.36</td><td>⋯</td><td> 96.32</td><td>101.57</td><td> 92.97</td><td>96.65</td><td>98.40</td><td>101.40</td><td>96.79</td><td> 97.32</td><td> 99.71</td><td> 95.62</td></tr>\n",
       "\t<tr><th scope=row>332</th><td>97.09</td><td> 96.59</td><td> 95.76</td><td> 95.88</td><td> 94.57</td><td> 95.19</td><td> 98.34</td><td>94.39</td><td> 97.58</td><td> 96.27</td><td>⋯</td><td> 96.37</td><td>101.42</td><td> 92.94</td><td>96.89</td><td>98.21</td><td>100.98</td><td>97.01</td><td> 97.43</td><td> 99.81</td><td> 95.42</td></tr>\n",
       "\t<tr><th scope=row>333</th><td>97.00</td><td> 96.61</td><td> 95.68</td><td> 95.91</td><td> 94.52</td><td> 94.83</td><td> 98.32</td><td>95.13</td><td> 97.11</td><td> 95.94</td><td>⋯</td><td> 96.40</td><td>101.22</td><td> 92.92</td><td>97.32</td><td>97.50</td><td>100.96</td><td>97.10</td><td> 97.64</td><td>100.14</td><td> 95.26</td></tr>\n",
       "\t<tr><th scope=row>334</th><td>96.89</td><td> 96.71</td><td> 95.86</td><td> 95.97</td><td> 94.47</td><td> 94.67</td><td> 98.25</td><td>95.77</td><td> 97.11</td><td> 95.78</td><td>⋯</td><td> 96.49</td><td>101.15</td><td> 92.89</td><td>97.88</td><td>96.62</td><td>101.24</td><td>96.90</td><td> 98.07</td><td>100.61</td><td> 95.50</td></tr>\n",
       "\t<tr><th scope=row>335</th><td>96.85</td><td> 96.89</td><td> 96.25</td><td> 96.13</td><td> 94.56</td><td> 94.78</td><td> 98.21</td><td>96.14</td><td> 97.59</td><td> 96.11</td><td>⋯</td><td> 96.64</td><td>101.15</td><td> 93.04</td><td>98.38</td><td>95.93</td><td>101.80</td><td>96.53</td><td> 98.42</td><td>101.13</td><td> 96.08</td></tr>\n",
       "\t<tr><th scope=row>336</th><td>96.94</td><td> 97.16</td><td> 96.67</td><td> 96.45</td><td> 94.98</td><td> 95.26</td><td> 98.32</td><td>96.45</td><td> 98.23</td><td> 96.58</td><td>⋯</td><td> 96.89</td><td>101.22</td><td> 93.59</td><td>98.57</td><td>95.55</td><td>102.50</td><td>96.22</td><td> 98.30</td><td>101.62</td><td> 96.66</td></tr>\n",
       "\t<tr><th scope=row>337</th><td>97.10</td><td> 97.47</td><td> 97.07</td><td> 96.84</td><td> 95.52</td><td> 95.90</td><td> 98.44</td><td>97.05</td><td> 98.79</td><td> 97.05</td><td>⋯</td><td> 97.16</td><td>101.32</td><td> 94.33</td><td>98.21</td><td>95.20</td><td>103.20</td><td>96.10</td><td> 98.03</td><td>102.01</td><td> 97.14</td></tr>\n",
       "\t<tr><th scope=row>338</th><td>97.36</td><td> 97.72</td><td> 97.47</td><td> 97.15</td><td> 95.93</td><td> 96.45</td><td> 98.57</td><td>97.79</td><td> 99.16</td><td> 97.41</td><td>⋯</td><td> 97.38</td><td>101.41</td><td> 94.83</td><td>97.57</td><td>95.05</td><td>103.59</td><td>96.15</td><td> 98.01</td><td>102.20</td><td> 97.49</td></tr>\n",
       "\t<tr><th scope=row>339</th><td>97.76</td><td> 97.90</td><td> 97.85</td><td> 97.23</td><td> 95.90</td><td> 96.73</td><td> 98.82</td><td>98.52</td><td> 99.30</td><td> 97.77</td><td>⋯</td><td> 97.52</td><td>101.52</td><td> 94.66</td><td>96.96</td><td>95.08</td><td>103.66</td><td>96.29</td><td> 97.91</td><td>102.10</td><td> 97.72</td></tr>\n",
       "\t<tr><th scope=row>340</th><td>98.14</td><td> 98.11</td><td> 98.29</td><td> 97.18</td><td> 95.44</td><td> 96.84</td><td> 99.21</td><td>99.47</td><td> 99.35</td><td> 98.19</td><td>⋯</td><td> 97.66</td><td>101.64</td><td> 93.89</td><td>96.60</td><td>95.37</td><td>103.68</td><td>96.48</td><td> 97.88</td><td>101.90</td><td> 97.95</td></tr>\n",
       "\t<tr><th scope=row>341</th><td>98.40</td><td> 98.30</td><td> 98.63</td><td> 97.17</td><td> 95.11</td><td> 96.91</td><td> 99.64</td><td>99.75</td><td> 99.31</td><td> 98.59</td><td>⋯</td><td> 97.80</td><td>101.72</td><td> 93.33</td><td>96.46</td><td>95.95</td><td>103.91</td><td>96.67</td><td> 97.84</td><td>101.81</td><td> 98.16</td></tr>\n",
       "\t<tr><th scope=row>342</th><td>98.53</td><td> 98.49</td><td> 98.73</td><td> 97.21</td><td> 94.89</td><td> 96.99</td><td>100.02</td><td>98.74</td><td> 99.40</td><td> 98.85</td><td>⋯</td><td> 98.02</td><td>101.69</td><td> 92.96</td><td>96.54</td><td>96.52</td><td>104.36</td><td>96.79</td><td> 97.71</td><td>102.00</td><td> 98.39</td></tr>\n",
       "\t<tr><th scope=row>343</th><td>98.57</td><td> 98.59</td><td> 98.61</td><td> 97.26</td><td> 94.81</td><td> 97.04</td><td>100.26</td><td>96.99</td><td> 99.56</td><td> 98.91</td><td>⋯</td><td> 98.20</td><td>101.59</td><td> 92.84</td><td>96.85</td><td>96.68</td><td>104.87</td><td>96.78</td><td> 97.74</td><td>102.38</td><td>    NA</td></tr>\n",
       "\t<tr><th scope=row>344</th><td>98.48</td><td> 98.50</td><td> 98.36</td><td> 97.22</td><td> 94.82</td><td> 96.93</td><td>100.24</td><td>95.26</td><td> 99.63</td><td> 98.82</td><td>⋯</td><td> 98.20</td><td>101.50</td><td> 92.88</td><td>97.28</td><td>96.64</td><td>105.27</td><td>96.70</td><td> 97.62</td><td>102.82</td><td>    NA</td></tr>\n",
       "\t<tr><th scope=row>345</th><td>98.35</td><td> 98.33</td><td> 98.13</td><td> 97.14</td><td> 94.86</td><td> 96.56</td><td> 99.99</td><td>94.77</td><td> 99.60</td><td> 98.66</td><td>⋯</td><td> 98.04</td><td>101.36</td><td> 93.00</td><td>97.76</td><td>96.59</td><td>105.55</td><td>96.58</td><td>    NA</td><td>    NA</td><td>    NA</td></tr>\n",
       "</tbody>\n",
       "</table>\n"
      ],
      "text/latex": [
       "A data.frame: 345 × 44\n",
       "\\begin{tabular}{r|lllllllllllllllllllll}\n",
       "  & 日本 & 经合组织成员国 & OECD成员国\\_欧洲 & OECD和六个非成员经济体 & 主要亚洲五国.OECD. & 瑞士 & 韩国 & 土耳其 & 比利时 & 丹麦 & ⋯ & 西方七国 & 印尼 & 中华人民共和国 & 南非 & 哥伦比亚 & 墨西哥 & 新西兰 & 以色列 & 哥斯达黎加 & 欧元区\\\\\n",
       "  & <dbl> & <dbl> & <dbl> & <dbl> & <dbl> & <dbl> & <dbl> & <dbl> & <dbl> & <dbl> & ⋯ & <dbl> & <dbl> & <dbl> & <dbl> & <dbl> & <dbl> & <dbl> & <dbl> & <dbl> & <dbl>\\\\\n",
       "\\hline\n",
       "\t1 & 100.86 & 100.98 & 100.79 & 100.34 & 100.74 & 99.21 & NA & NA & 100.50 & 101.19 & ⋯ & 100.79 & NA & 101.44 & 101.91 & NA & NA & 101.35 & NA & NA & 100.62\\\\\n",
       "\t2 & 100.60 & 100.85 & 100.73 & 100.26 & 100.78 & 98.84 & NA & NA & 100.42 & 101.24 & ⋯ & 100.67 & NA & 101.95 & 101.79 & NA & NA & 101.32 & NA & NA & 100.56\\\\\n",
       "\t3 & 100.34 & 100.71 & 100.69 & 100.15 & 100.80 & 98.80 & NA & NA & 100.46 & 101.22 & ⋯ & 100.51 & NA & 102.36 & 101.73 & NA & NA & 101.38 & NA & NA & 100.57\\\\\n",
       "\t4 & 100.14 & 100.66 & 100.75 & 100.11 & 100.79 & 98.97 & NA & NA & 100.47 & 101.16 & ⋯ & 100.46 & NA & 102.63 & 101.73 & NA & NA & 101.55 & NA & NA & 100.67\\\\\n",
       "\t5 & 100.05 & 100.69 & 100.85 & 100.12 & 100.77 & 99.18 & NA & NA & 100.46 & 101.09 & ⋯ & 100.49 & NA & 102.72 & 101.78 & NA & NA & 101.77 & NA & NA & 100.78\\\\\n",
       "\t6 & 100.04 & 100.78 & 100.97 & 100.18 & 100.73 & 99.33 & NA & NA & 100.44 & 101.01 & ⋯ & 100.60 & NA & 102.63 & 101.83 & NA & NA & 101.94 & NA & NA & 100.80\\\\\n",
       "\t7 & 100.10 & 100.86 & 101.00 & 100.21 & 100.68 & 99.41 & NA & NA & 100.27 & 101.03 & ⋯ & 100.69 & NA & 102.40 & 101.89 & NA & NA & 102.02 & NA & NA & 100.72\\\\\n",
       "\t8 & 100.24 & 100.83 & 100.94 & 100.17 & 100.65 & 99.46 & NA & NA &  99.91 & 101.13 & ⋯ & 100.66 & NA & 102.14 & 101.95 & NA & NA & 102.01 & NA & NA & 100.56\\\\\n",
       "\t9 & 100.41 & 100.70 & 100.80 & 100.03 & 100.66 & 99.47 & NA & NA &  99.50 & 101.18 & ⋯ & 100.50 & NA & 101.93 & 102.03 & NA & NA & 101.93 & NA & NA & 100.34\\\\\n",
       "\t10 & 100.57 & 100.58 & 100.64 &  99.93 & 100.71 & 99.42 & NA & NA &  99.01 & 101.16 & ⋯ & 100.37 & NA & 101.81 & 102.13 & NA & NA & 101.81 & NA & NA & 100.10\\\\\n",
       "\t11 & 100.70 & 100.50 & 100.49 &  99.86 & 100.79 & 99.27 & NA & NA &  98.54 & 101.17 & ⋯ & 100.28 & NA & 101.81 & 102.21 & NA & NA & 101.71 & NA & NA &  99.89\\\\\n",
       "\t12 & 100.80 & 100.48 & 100.36 &  99.86 & 100.89 & 98.97 & NA & NA &  98.35 & 101.09 & ⋯ & 100.25 & NA & 101.91 & 102.22 & NA & NA & 101.70 & NA & NA &  99.67\\\\\n",
       "\t13 & 100.90 & 100.48 & 100.28 &  99.88 & 101.00 & 98.59 & NA & NA &  98.30 & 100.99 & ⋯ & 100.25 & NA & 102.05 & 102.11 & NA & NA & 101.85 & NA & NA &  99.50\\\\\n",
       "\t14 & 100.99 & 100.52 & 100.23 &  99.93 & 101.10 & 98.22 & NA & NA &  98.36 & 100.78 & ⋯ & 100.30 & NA & 102.16 & 101.91 & NA & NA & 102.00 & NA & NA &  99.41\\\\\n",
       "\t15 & 101.06 & 100.61 & 100.25 & 100.01 & 101.16 & 97.91 & NA & NA &  98.51 & 100.66 & ⋯ & 100.41 & NA & 102.19 & 101.67 & NA & NA & 101.97 & NA & NA &  99.40\\\\\n",
       "\t16 & 101.10 & 100.63 & 100.27 & 100.03 & 101.17 & 97.66 & NA & NA &  98.66 & 100.61 & ⋯ & 100.45 & NA & 102.16 & 101.41 & NA & NA & 101.62 & NA & NA &  99.40\\\\\n",
       "\t17 & 101.07 & 100.62 & 100.28 & 100.01 & 101.13 & 97.46 & NA & NA &  98.69 & 100.50 & ⋯ & 100.44 & NA & 102.11 & 101.18 & NA & NA & 101.14 & NA & NA &  99.43\\\\\n",
       "\t18 & 101.00 & 100.65 & 100.28 & 100.02 & 101.06 & 97.32 & NA & NA &  98.75 & 100.41 & ⋯ & 100.48 & NA & 102.04 & 101.03 & NA & NA & 100.80 & NA & NA &  99.44\\\\\n",
       "\t19 & 100.92 & 100.69 & 100.26 & 100.05 & 100.99 & 97.26 & NA & NA &  98.90 & 100.43 & ⋯ & 100.54 & NA & 102.00 & 101.02 & NA & NA & 100.82 & NA & NA &  99.42\\\\\n",
       "\t20 & 100.82 & 100.73 & 100.29 & 100.09 & 100.92 & 97.32 & NA & NA &  99.14 & 100.47 & ⋯ & 100.58 & NA & 101.95 & 101.10 & NA & NA & 101.04 & NA & NA &  99.43\\\\\n",
       "\t21 & 100.68 & 100.75 & 100.32 & 100.11 & 100.83 & 97.58 & NA & NA &  99.30 & 100.66 & ⋯ & 100.59 & NA & 101.93 & 101.20 & NA & NA & 101.28 & NA & NA &  99.42\\\\\n",
       "\t22 & 100.42 & 100.76 & 100.31 & 100.12 & 100.66 & 97.92 & NA & NA &  99.35 & 100.85 & ⋯ & 100.57 & NA & 101.88 & 101.28 & NA & NA & 101.41 & NA & NA &  99.38\\\\\n",
       "\t23 &  99.99 & 100.74 & 100.33 & 100.10 & 100.34 & 98.22 & NA & NA &  99.38 & 100.91 & ⋯ & 100.53 & NA & 101.72 & 101.32 & NA & NA & 101.43 & NA & NA &  99.36\\\\\n",
       "\t24 &  99.55 & 100.71 & 100.38 & 100.04 &  99.91 & 98.39 & NA & NA &  99.27 & 100.98 & ⋯ & 100.48 & NA & 101.29 & 101.29 & NA & NA & 101.36 & NA & NA &  99.42\\\\\n",
       "\t25 &  99.28 & 100.74 & 100.47 & 100.01 &  99.45 & 98.48 & NA & NA &  98.99 & 101.12 & ⋯ & 100.49 & NA & 100.58 & 101.15 & NA & NA & 101.20 & NA & NA &  99.52\\\\\n",
       "\t26 &  99.36 & 100.82 & 100.52 & 100.03 &  99.28 & 98.55 & NA & NA &  98.81 & 101.20 & ⋯ & 100.59 & NA & 100.08 & 101.00 & NA & NA & 100.99 & NA & NA &  99.52\\\\\n",
       "\t27 &  99.65 & 100.94 & 100.55 & 100.11 &  99.34 & 98.65 & NA & NA &  98.73 & 101.23 & ⋯ & 100.72 & NA &  99.84 & 100.91 & NA & NA & 100.78 & NA & NA &  99.53\\\\\n",
       "\t28 &  99.96 & 101.09 & 100.63 & 100.23 &  99.52 & 98.80 & NA & NA &  98.76 & 101.12 & ⋯ & 100.89 & NA &  99.84 & 100.95 & NA & NA & 100.59 & NA & NA &  99.61\\\\\n",
       "\t29 & 100.17 & 101.26 & 100.78 & 100.37 &  99.70 & 99.03 & NA & NA &  98.92 & 100.95 & ⋯ & 101.09 & NA &  99.98 & 101.03 & NA & NA & 100.42 & NA & NA &  99.76\\\\\n",
       "\t30 & 100.25 & 101.42 & 100.94 & 100.51 &  99.82 & 99.38 & NA & NA &  99.14 & 101.01 & ⋯ & 101.25 & NA & 100.17 & 101.01 & NA & NA & 100.28 & NA & NA &  99.97\\\\\n",
       "\t⋮ & ⋮ & ⋮ & ⋮ & ⋮ & ⋮ & ⋮ & ⋮ & ⋮ & ⋮ & ⋮ & ⋱ & ⋮ & ⋮ & ⋮ & ⋮ & ⋮ & ⋮ & ⋮ & ⋮ & ⋮ & ⋮\\\\\n",
       "\t316 & 98.21 & 100.04 & 100.37 & 100.68 & 102.12 &  99.62 & 100.36 & 97.88 & 101.52 & 101.23 & ⋯ &  99.99 &  99.65 & 103.71 & 98.67 & 95.25 & 101.58 & 99.62 & 102.69 &  97.96 & 100.57\\\\\n",
       "\t317 & 98.32 & 100.29 & 100.87 & 100.82 & 102.03 & 100.08 & 100.72 & 97.37 & 101.90 & 101.38 & ⋯ & 100.22 &  99.77 & 103.51 & 98.50 & 95.11 & 102.31 & 99.66 & 102.87 &  97.89 & 101.31\\\\\n",
       "\t318 & 98.55 & 100.45 & 101.23 & 100.86 & 101.87 & 100.66 & 100.89 & 97.34 & 102.15 & 101.45 & ⋯ & 100.33 &  99.46 & 103.25 & 98.40 & 96.01 & 102.87 & 99.66 & 102.54 &  98.17 & 101.86\\\\\n",
       "\t319 & 98.72 & 100.35 & 101.29 & 100.68 & 101.53 & 101.23 & 100.70 & 97.23 & 102.08 & 101.50 & ⋯ & 100.15 &  98.82 & 102.81 & 98.44 & 97.27 & 103.05 & 99.57 & 101.81 &  98.63 & 101.95\\\\\n",
       "\t320 & 98.83 & 100.10 & 101.15 & 100.47 & 101.44 & 101.63 & 100.56 & 97.04 & 101.77 & 101.57 & ⋯ &  99.81 &  98.71 & 102.69 & 98.56 & 98.14 & 102.98 & 99.42 & 101.01 &  99.06 & 101.85\\\\\n",
       "\t321 & 98.98 &  99.93 & 100.93 & 100.42 & 101.69 & 101.71 & 100.62 & 96.71 & 101.44 & 101.58 & ⋯ &  99.60 &  99.36 & 102.92 & 98.70 & 98.72 & 103.16 & 99.25 & 100.99 &  99.29 & 101.72\\\\\n",
       "\t322 & 99.15 &  99.75 & 100.56 & 100.35 & 101.92 & 101.59 & 100.79 & 95.96 & 100.97 & 101.21 & ⋯ &  99.42 & 100.26 & 103.08 & 98.80 & 98.93 & 103.53 & 99.10 & 100.79 &  99.41 & 101.41\\\\\n",
       "\t323 & 99.21 &  99.52 & 100.13 & 100.25 & 102.09 & 101.37 & 100.84 & 95.04 & 100.54 & 100.70 & ⋯ &  99.24 & 100.86 & 103.22 & 98.85 & 98.72 & 103.89 & 98.95 & 100.19 &  99.56 & 100.98\\\\\n",
       "\t324 & 99.04 &  99.28 &  99.76 & 100.14 & 102.17 & 101.07 & 100.72 & 94.57 & 100.20 & 100.36 & ⋯ &  99.03 & 101.07 & 103.36 & 98.84 & 98.11 & 103.57 & 98.77 &  99.49 &  99.82 & 100.57\\\\\n",
       "\t325 & 98.66 &  98.95 &  99.34 &  99.88 & 101.99 & 100.68 & 100.61 & 94.63 &  99.84 &  99.99 & ⋯ &  98.67 & 101.01 & 103.20 & 98.71 & 97.36 & 103.07 & 98.53 &  98.66 & 100.11 & 100.09\\\\\n",
       "\t326 & 98.19 &  98.48 &  98.66 &  99.27 & 101.05 & 100.09 & 100.54 & 94.58 &  99.30 &  99.31 & ⋯ &  98.15 & 100.81 & 101.97 & 98.47 & 96.81 & 102.86 & 98.23 &  98.25 & 100.30 &  99.21\\\\\n",
       "\t327 & 97.74 &  97.94 &  97.67 &  98.21 &  99.07 &  99.22 & 100.50 & 94.30 &  98.55 &  98.16 & ⋯ &  97.60 & 100.76 &  99.21 & 98.11 & 96.65 & 102.94 & 97.85 &  98.22 & 100.27 &  97.83\\\\\n",
       "\t328 & 97.50 &  97.54 &  96.93 &  97.04 &  96.57 &  98.21 & 100.38 & 93.64 &  98.23 &  97.24 & ⋯ &  97.22 & 101.01 &  95.62 & 97.58 & 96.91 & 103.01 & 97.38 &  98.41 & 100.11 &  96.96\\\\\n",
       "\t329 & 97.38 &  97.16 &  96.49 &  96.31 &  95.21 &  97.23 &  99.99 & 93.13 &  98.16 &  96.72 & ⋯ &  96.83 & 101.44 &  93.65 & 97.04 & 97.57 & 102.77 & 96.94 &  98.39 &  99.92 &  96.48\\\\\n",
       "\t330 & 97.22 &  96.79 &  96.14 &  95.96 &  94.76 &  96.41 &  99.29 & 92.94 &  98.11 &  96.45 & ⋯ &  96.47 & 101.63 &  93.07 & 96.67 & 98.33 & 102.14 & 96.70 &  97.76 &  99.77 &  96.03\\\\\n",
       "\t331 & 97.09 &  96.58 &  95.89 &  95.84 &  94.62 &  95.73 &  98.58 & 93.51 &  97.93 &  96.36 & ⋯ &  96.32 & 101.57 &  92.97 & 96.65 & 98.40 & 101.40 & 96.79 &  97.32 &  99.71 &  95.62\\\\\n",
       "\t332 & 97.09 &  96.59 &  95.76 &  95.88 &  94.57 &  95.19 &  98.34 & 94.39 &  97.58 &  96.27 & ⋯ &  96.37 & 101.42 &  92.94 & 96.89 & 98.21 & 100.98 & 97.01 &  97.43 &  99.81 &  95.42\\\\\n",
       "\t333 & 97.00 &  96.61 &  95.68 &  95.91 &  94.52 &  94.83 &  98.32 & 95.13 &  97.11 &  95.94 & ⋯ &  96.40 & 101.22 &  92.92 & 97.32 & 97.50 & 100.96 & 97.10 &  97.64 & 100.14 &  95.26\\\\\n",
       "\t334 & 96.89 &  96.71 &  95.86 &  95.97 &  94.47 &  94.67 &  98.25 & 95.77 &  97.11 &  95.78 & ⋯ &  96.49 & 101.15 &  92.89 & 97.88 & 96.62 & 101.24 & 96.90 &  98.07 & 100.61 &  95.50\\\\\n",
       "\t335 & 96.85 &  96.89 &  96.25 &  96.13 &  94.56 &  94.78 &  98.21 & 96.14 &  97.59 &  96.11 & ⋯ &  96.64 & 101.15 &  93.04 & 98.38 & 95.93 & 101.80 & 96.53 &  98.42 & 101.13 &  96.08\\\\\n",
       "\t336 & 96.94 &  97.16 &  96.67 &  96.45 &  94.98 &  95.26 &  98.32 & 96.45 &  98.23 &  96.58 & ⋯ &  96.89 & 101.22 &  93.59 & 98.57 & 95.55 & 102.50 & 96.22 &  98.30 & 101.62 &  96.66\\\\\n",
       "\t337 & 97.10 &  97.47 &  97.07 &  96.84 &  95.52 &  95.90 &  98.44 & 97.05 &  98.79 &  97.05 & ⋯ &  97.16 & 101.32 &  94.33 & 98.21 & 95.20 & 103.20 & 96.10 &  98.03 & 102.01 &  97.14\\\\\n",
       "\t338 & 97.36 &  97.72 &  97.47 &  97.15 &  95.93 &  96.45 &  98.57 & 97.79 &  99.16 &  97.41 & ⋯ &  97.38 & 101.41 &  94.83 & 97.57 & 95.05 & 103.59 & 96.15 &  98.01 & 102.20 &  97.49\\\\\n",
       "\t339 & 97.76 &  97.90 &  97.85 &  97.23 &  95.90 &  96.73 &  98.82 & 98.52 &  99.30 &  97.77 & ⋯ &  97.52 & 101.52 &  94.66 & 96.96 & 95.08 & 103.66 & 96.29 &  97.91 & 102.10 &  97.72\\\\\n",
       "\t340 & 98.14 &  98.11 &  98.29 &  97.18 &  95.44 &  96.84 &  99.21 & 99.47 &  99.35 &  98.19 & ⋯ &  97.66 & 101.64 &  93.89 & 96.60 & 95.37 & 103.68 & 96.48 &  97.88 & 101.90 &  97.95\\\\\n",
       "\t341 & 98.40 &  98.30 &  98.63 &  97.17 &  95.11 &  96.91 &  99.64 & 99.75 &  99.31 &  98.59 & ⋯ &  97.80 & 101.72 &  93.33 & 96.46 & 95.95 & 103.91 & 96.67 &  97.84 & 101.81 &  98.16\\\\\n",
       "\t342 & 98.53 &  98.49 &  98.73 &  97.21 &  94.89 &  96.99 & 100.02 & 98.74 &  99.40 &  98.85 & ⋯ &  98.02 & 101.69 &  92.96 & 96.54 & 96.52 & 104.36 & 96.79 &  97.71 & 102.00 &  98.39\\\\\n",
       "\t343 & 98.57 &  98.59 &  98.61 &  97.26 &  94.81 &  97.04 & 100.26 & 96.99 &  99.56 &  98.91 & ⋯ &  98.20 & 101.59 &  92.84 & 96.85 & 96.68 & 104.87 & 96.78 &  97.74 & 102.38 &     NA\\\\\n",
       "\t344 & 98.48 &  98.50 &  98.36 &  97.22 &  94.82 &  96.93 & 100.24 & 95.26 &  99.63 &  98.82 & ⋯ &  98.20 & 101.50 &  92.88 & 97.28 & 96.64 & 105.27 & 96.70 &  97.62 & 102.82 &     NA\\\\\n",
       "\t345 & 98.35 &  98.33 &  98.13 &  97.14 &  94.86 &  96.56 &  99.99 & 94.77 &  99.60 &  98.66 & ⋯ &  98.04 & 101.36 &  93.00 & 97.76 & 96.59 & 105.55 & 96.58 &     NA &     NA &     NA\\\\\n",
       "\\end{tabular}\n"
      ],
      "text/markdown": [
       "\n",
       "A data.frame: 345 × 44\n",
       "\n",
       "| <!--/--> | 日本 &lt;dbl&gt; | 经合组织成员国 &lt;dbl&gt; | OECD成员国_欧洲 &lt;dbl&gt; | OECD和六个非成员经济体 &lt;dbl&gt; | 主要亚洲五国.OECD. &lt;dbl&gt; | 瑞士 &lt;dbl&gt; | 韩国 &lt;dbl&gt; | 土耳其 &lt;dbl&gt; | 比利时 &lt;dbl&gt; | 丹麦 &lt;dbl&gt; | ⋯ ⋯ | 西方七国 &lt;dbl&gt; | 印尼 &lt;dbl&gt; | 中华人民共和国 &lt;dbl&gt; | 南非 &lt;dbl&gt; | 哥伦比亚 &lt;dbl&gt; | 墨西哥 &lt;dbl&gt; | 新西兰 &lt;dbl&gt; | 以色列 &lt;dbl&gt; | 哥斯达黎加 &lt;dbl&gt; | 欧元区 &lt;dbl&gt; |\n",
       "|---|---|---|---|---|---|---|---|---|---|---|---|---|---|---|---|---|---|---|---|---|---|\n",
       "| 1 | 100.86 | 100.98 | 100.79 | 100.34 | 100.74 | 99.21 | NA | NA | 100.50 | 101.19 | ⋯ | 100.79 | NA | 101.44 | 101.91 | NA | NA | 101.35 | NA | NA | 100.62 |\n",
       "| 2 | 100.60 | 100.85 | 100.73 | 100.26 | 100.78 | 98.84 | NA | NA | 100.42 | 101.24 | ⋯ | 100.67 | NA | 101.95 | 101.79 | NA | NA | 101.32 | NA | NA | 100.56 |\n",
       "| 3 | 100.34 | 100.71 | 100.69 | 100.15 | 100.80 | 98.80 | NA | NA | 100.46 | 101.22 | ⋯ | 100.51 | NA | 102.36 | 101.73 | NA | NA | 101.38 | NA | NA | 100.57 |\n",
       "| 4 | 100.14 | 100.66 | 100.75 | 100.11 | 100.79 | 98.97 | NA | NA | 100.47 | 101.16 | ⋯ | 100.46 | NA | 102.63 | 101.73 | NA | NA | 101.55 | NA | NA | 100.67 |\n",
       "| 5 | 100.05 | 100.69 | 100.85 | 100.12 | 100.77 | 99.18 | NA | NA | 100.46 | 101.09 | ⋯ | 100.49 | NA | 102.72 | 101.78 | NA | NA | 101.77 | NA | NA | 100.78 |\n",
       "| 6 | 100.04 | 100.78 | 100.97 | 100.18 | 100.73 | 99.33 | NA | NA | 100.44 | 101.01 | ⋯ | 100.60 | NA | 102.63 | 101.83 | NA | NA | 101.94 | NA | NA | 100.80 |\n",
       "| 7 | 100.10 | 100.86 | 101.00 | 100.21 | 100.68 | 99.41 | NA | NA | 100.27 | 101.03 | ⋯ | 100.69 | NA | 102.40 | 101.89 | NA | NA | 102.02 | NA | NA | 100.72 |\n",
       "| 8 | 100.24 | 100.83 | 100.94 | 100.17 | 100.65 | 99.46 | NA | NA |  99.91 | 101.13 | ⋯ | 100.66 | NA | 102.14 | 101.95 | NA | NA | 102.01 | NA | NA | 100.56 |\n",
       "| 9 | 100.41 | 100.70 | 100.80 | 100.03 | 100.66 | 99.47 | NA | NA |  99.50 | 101.18 | ⋯ | 100.50 | NA | 101.93 | 102.03 | NA | NA | 101.93 | NA | NA | 100.34 |\n",
       "| 10 | 100.57 | 100.58 | 100.64 |  99.93 | 100.71 | 99.42 | NA | NA |  99.01 | 101.16 | ⋯ | 100.37 | NA | 101.81 | 102.13 | NA | NA | 101.81 | NA | NA | 100.10 |\n",
       "| 11 | 100.70 | 100.50 | 100.49 |  99.86 | 100.79 | 99.27 | NA | NA |  98.54 | 101.17 | ⋯ | 100.28 | NA | 101.81 | 102.21 | NA | NA | 101.71 | NA | NA |  99.89 |\n",
       "| 12 | 100.80 | 100.48 | 100.36 |  99.86 | 100.89 | 98.97 | NA | NA |  98.35 | 101.09 | ⋯ | 100.25 | NA | 101.91 | 102.22 | NA | NA | 101.70 | NA | NA |  99.67 |\n",
       "| 13 | 100.90 | 100.48 | 100.28 |  99.88 | 101.00 | 98.59 | NA | NA |  98.30 | 100.99 | ⋯ | 100.25 | NA | 102.05 | 102.11 | NA | NA | 101.85 | NA | NA |  99.50 |\n",
       "| 14 | 100.99 | 100.52 | 100.23 |  99.93 | 101.10 | 98.22 | NA | NA |  98.36 | 100.78 | ⋯ | 100.30 | NA | 102.16 | 101.91 | NA | NA | 102.00 | NA | NA |  99.41 |\n",
       "| 15 | 101.06 | 100.61 | 100.25 | 100.01 | 101.16 | 97.91 | NA | NA |  98.51 | 100.66 | ⋯ | 100.41 | NA | 102.19 | 101.67 | NA | NA | 101.97 | NA | NA |  99.40 |\n",
       "| 16 | 101.10 | 100.63 | 100.27 | 100.03 | 101.17 | 97.66 | NA | NA |  98.66 | 100.61 | ⋯ | 100.45 | NA | 102.16 | 101.41 | NA | NA | 101.62 | NA | NA |  99.40 |\n",
       "| 17 | 101.07 | 100.62 | 100.28 | 100.01 | 101.13 | 97.46 | NA | NA |  98.69 | 100.50 | ⋯ | 100.44 | NA | 102.11 | 101.18 | NA | NA | 101.14 | NA | NA |  99.43 |\n",
       "| 18 | 101.00 | 100.65 | 100.28 | 100.02 | 101.06 | 97.32 | NA | NA |  98.75 | 100.41 | ⋯ | 100.48 | NA | 102.04 | 101.03 | NA | NA | 100.80 | NA | NA |  99.44 |\n",
       "| 19 | 100.92 | 100.69 | 100.26 | 100.05 | 100.99 | 97.26 | NA | NA |  98.90 | 100.43 | ⋯ | 100.54 | NA | 102.00 | 101.02 | NA | NA | 100.82 | NA | NA |  99.42 |\n",
       "| 20 | 100.82 | 100.73 | 100.29 | 100.09 | 100.92 | 97.32 | NA | NA |  99.14 | 100.47 | ⋯ | 100.58 | NA | 101.95 | 101.10 | NA | NA | 101.04 | NA | NA |  99.43 |\n",
       "| 21 | 100.68 | 100.75 | 100.32 | 100.11 | 100.83 | 97.58 | NA | NA |  99.30 | 100.66 | ⋯ | 100.59 | NA | 101.93 | 101.20 | NA | NA | 101.28 | NA | NA |  99.42 |\n",
       "| 22 | 100.42 | 100.76 | 100.31 | 100.12 | 100.66 | 97.92 | NA | NA |  99.35 | 100.85 | ⋯ | 100.57 | NA | 101.88 | 101.28 | NA | NA | 101.41 | NA | NA |  99.38 |\n",
       "| 23 |  99.99 | 100.74 | 100.33 | 100.10 | 100.34 | 98.22 | NA | NA |  99.38 | 100.91 | ⋯ | 100.53 | NA | 101.72 | 101.32 | NA | NA | 101.43 | NA | NA |  99.36 |\n",
       "| 24 |  99.55 | 100.71 | 100.38 | 100.04 |  99.91 | 98.39 | NA | NA |  99.27 | 100.98 | ⋯ | 100.48 | NA | 101.29 | 101.29 | NA | NA | 101.36 | NA | NA |  99.42 |\n",
       "| 25 |  99.28 | 100.74 | 100.47 | 100.01 |  99.45 | 98.48 | NA | NA |  98.99 | 101.12 | ⋯ | 100.49 | NA | 100.58 | 101.15 | NA | NA | 101.20 | NA | NA |  99.52 |\n",
       "| 26 |  99.36 | 100.82 | 100.52 | 100.03 |  99.28 | 98.55 | NA | NA |  98.81 | 101.20 | ⋯ | 100.59 | NA | 100.08 | 101.00 | NA | NA | 100.99 | NA | NA |  99.52 |\n",
       "| 27 |  99.65 | 100.94 | 100.55 | 100.11 |  99.34 | 98.65 | NA | NA |  98.73 | 101.23 | ⋯ | 100.72 | NA |  99.84 | 100.91 | NA | NA | 100.78 | NA | NA |  99.53 |\n",
       "| 28 |  99.96 | 101.09 | 100.63 | 100.23 |  99.52 | 98.80 | NA | NA |  98.76 | 101.12 | ⋯ | 100.89 | NA |  99.84 | 100.95 | NA | NA | 100.59 | NA | NA |  99.61 |\n",
       "| 29 | 100.17 | 101.26 | 100.78 | 100.37 |  99.70 | 99.03 | NA | NA |  98.92 | 100.95 | ⋯ | 101.09 | NA |  99.98 | 101.03 | NA | NA | 100.42 | NA | NA |  99.76 |\n",
       "| 30 | 100.25 | 101.42 | 100.94 | 100.51 |  99.82 | 99.38 | NA | NA |  99.14 | 101.01 | ⋯ | 101.25 | NA | 100.17 | 101.01 | NA | NA | 100.28 | NA | NA |  99.97 |\n",
       "| ⋮ | ⋮ | ⋮ | ⋮ | ⋮ | ⋮ | ⋮ | ⋮ | ⋮ | ⋮ | ⋮ | ⋱ | ⋮ | ⋮ | ⋮ | ⋮ | ⋮ | ⋮ | ⋮ | ⋮ | ⋮ | ⋮ |\n",
       "| 316 | 98.21 | 100.04 | 100.37 | 100.68 | 102.12 |  99.62 | 100.36 | 97.88 | 101.52 | 101.23 | ⋯ |  99.99 |  99.65 | 103.71 | 98.67 | 95.25 | 101.58 | 99.62 | 102.69 |  97.96 | 100.57 |\n",
       "| 317 | 98.32 | 100.29 | 100.87 | 100.82 | 102.03 | 100.08 | 100.72 | 97.37 | 101.90 | 101.38 | ⋯ | 100.22 |  99.77 | 103.51 | 98.50 | 95.11 | 102.31 | 99.66 | 102.87 |  97.89 | 101.31 |\n",
       "| 318 | 98.55 | 100.45 | 101.23 | 100.86 | 101.87 | 100.66 | 100.89 | 97.34 | 102.15 | 101.45 | ⋯ | 100.33 |  99.46 | 103.25 | 98.40 | 96.01 | 102.87 | 99.66 | 102.54 |  98.17 | 101.86 |\n",
       "| 319 | 98.72 | 100.35 | 101.29 | 100.68 | 101.53 | 101.23 | 100.70 | 97.23 | 102.08 | 101.50 | ⋯ | 100.15 |  98.82 | 102.81 | 98.44 | 97.27 | 103.05 | 99.57 | 101.81 |  98.63 | 101.95 |\n",
       "| 320 | 98.83 | 100.10 | 101.15 | 100.47 | 101.44 | 101.63 | 100.56 | 97.04 | 101.77 | 101.57 | ⋯ |  99.81 |  98.71 | 102.69 | 98.56 | 98.14 | 102.98 | 99.42 | 101.01 |  99.06 | 101.85 |\n",
       "| 321 | 98.98 |  99.93 | 100.93 | 100.42 | 101.69 | 101.71 | 100.62 | 96.71 | 101.44 | 101.58 | ⋯ |  99.60 |  99.36 | 102.92 | 98.70 | 98.72 | 103.16 | 99.25 | 100.99 |  99.29 | 101.72 |\n",
       "| 322 | 99.15 |  99.75 | 100.56 | 100.35 | 101.92 | 101.59 | 100.79 | 95.96 | 100.97 | 101.21 | ⋯ |  99.42 | 100.26 | 103.08 | 98.80 | 98.93 | 103.53 | 99.10 | 100.79 |  99.41 | 101.41 |\n",
       "| 323 | 99.21 |  99.52 | 100.13 | 100.25 | 102.09 | 101.37 | 100.84 | 95.04 | 100.54 | 100.70 | ⋯ |  99.24 | 100.86 | 103.22 | 98.85 | 98.72 | 103.89 | 98.95 | 100.19 |  99.56 | 100.98 |\n",
       "| 324 | 99.04 |  99.28 |  99.76 | 100.14 | 102.17 | 101.07 | 100.72 | 94.57 | 100.20 | 100.36 | ⋯ |  99.03 | 101.07 | 103.36 | 98.84 | 98.11 | 103.57 | 98.77 |  99.49 |  99.82 | 100.57 |\n",
       "| 325 | 98.66 |  98.95 |  99.34 |  99.88 | 101.99 | 100.68 | 100.61 | 94.63 |  99.84 |  99.99 | ⋯ |  98.67 | 101.01 | 103.20 | 98.71 | 97.36 | 103.07 | 98.53 |  98.66 | 100.11 | 100.09 |\n",
       "| 326 | 98.19 |  98.48 |  98.66 |  99.27 | 101.05 | 100.09 | 100.54 | 94.58 |  99.30 |  99.31 | ⋯ |  98.15 | 100.81 | 101.97 | 98.47 | 96.81 | 102.86 | 98.23 |  98.25 | 100.30 |  99.21 |\n",
       "| 327 | 97.74 |  97.94 |  97.67 |  98.21 |  99.07 |  99.22 | 100.50 | 94.30 |  98.55 |  98.16 | ⋯ |  97.60 | 100.76 |  99.21 | 98.11 | 96.65 | 102.94 | 97.85 |  98.22 | 100.27 |  97.83 |\n",
       "| 328 | 97.50 |  97.54 |  96.93 |  97.04 |  96.57 |  98.21 | 100.38 | 93.64 |  98.23 |  97.24 | ⋯ |  97.22 | 101.01 |  95.62 | 97.58 | 96.91 | 103.01 | 97.38 |  98.41 | 100.11 |  96.96 |\n",
       "| 329 | 97.38 |  97.16 |  96.49 |  96.31 |  95.21 |  97.23 |  99.99 | 93.13 |  98.16 |  96.72 | ⋯ |  96.83 | 101.44 |  93.65 | 97.04 | 97.57 | 102.77 | 96.94 |  98.39 |  99.92 |  96.48 |\n",
       "| 330 | 97.22 |  96.79 |  96.14 |  95.96 |  94.76 |  96.41 |  99.29 | 92.94 |  98.11 |  96.45 | ⋯ |  96.47 | 101.63 |  93.07 | 96.67 | 98.33 | 102.14 | 96.70 |  97.76 |  99.77 |  96.03 |\n",
       "| 331 | 97.09 |  96.58 |  95.89 |  95.84 |  94.62 |  95.73 |  98.58 | 93.51 |  97.93 |  96.36 | ⋯ |  96.32 | 101.57 |  92.97 | 96.65 | 98.40 | 101.40 | 96.79 |  97.32 |  99.71 |  95.62 |\n",
       "| 332 | 97.09 |  96.59 |  95.76 |  95.88 |  94.57 |  95.19 |  98.34 | 94.39 |  97.58 |  96.27 | ⋯ |  96.37 | 101.42 |  92.94 | 96.89 | 98.21 | 100.98 | 97.01 |  97.43 |  99.81 |  95.42 |\n",
       "| 333 | 97.00 |  96.61 |  95.68 |  95.91 |  94.52 |  94.83 |  98.32 | 95.13 |  97.11 |  95.94 | ⋯ |  96.40 | 101.22 |  92.92 | 97.32 | 97.50 | 100.96 | 97.10 |  97.64 | 100.14 |  95.26 |\n",
       "| 334 | 96.89 |  96.71 |  95.86 |  95.97 |  94.47 |  94.67 |  98.25 | 95.77 |  97.11 |  95.78 | ⋯ |  96.49 | 101.15 |  92.89 | 97.88 | 96.62 | 101.24 | 96.90 |  98.07 | 100.61 |  95.50 |\n",
       "| 335 | 96.85 |  96.89 |  96.25 |  96.13 |  94.56 |  94.78 |  98.21 | 96.14 |  97.59 |  96.11 | ⋯ |  96.64 | 101.15 |  93.04 | 98.38 | 95.93 | 101.80 | 96.53 |  98.42 | 101.13 |  96.08 |\n",
       "| 336 | 96.94 |  97.16 |  96.67 |  96.45 |  94.98 |  95.26 |  98.32 | 96.45 |  98.23 |  96.58 | ⋯ |  96.89 | 101.22 |  93.59 | 98.57 | 95.55 | 102.50 | 96.22 |  98.30 | 101.62 |  96.66 |\n",
       "| 337 | 97.10 |  97.47 |  97.07 |  96.84 |  95.52 |  95.90 |  98.44 | 97.05 |  98.79 |  97.05 | ⋯ |  97.16 | 101.32 |  94.33 | 98.21 | 95.20 | 103.20 | 96.10 |  98.03 | 102.01 |  97.14 |\n",
       "| 338 | 97.36 |  97.72 |  97.47 |  97.15 |  95.93 |  96.45 |  98.57 | 97.79 |  99.16 |  97.41 | ⋯ |  97.38 | 101.41 |  94.83 | 97.57 | 95.05 | 103.59 | 96.15 |  98.01 | 102.20 |  97.49 |\n",
       "| 339 | 97.76 |  97.90 |  97.85 |  97.23 |  95.90 |  96.73 |  98.82 | 98.52 |  99.30 |  97.77 | ⋯ |  97.52 | 101.52 |  94.66 | 96.96 | 95.08 | 103.66 | 96.29 |  97.91 | 102.10 |  97.72 |\n",
       "| 340 | 98.14 |  98.11 |  98.29 |  97.18 |  95.44 |  96.84 |  99.21 | 99.47 |  99.35 |  98.19 | ⋯ |  97.66 | 101.64 |  93.89 | 96.60 | 95.37 | 103.68 | 96.48 |  97.88 | 101.90 |  97.95 |\n",
       "| 341 | 98.40 |  98.30 |  98.63 |  97.17 |  95.11 |  96.91 |  99.64 | 99.75 |  99.31 |  98.59 | ⋯ |  97.80 | 101.72 |  93.33 | 96.46 | 95.95 | 103.91 | 96.67 |  97.84 | 101.81 |  98.16 |\n",
       "| 342 | 98.53 |  98.49 |  98.73 |  97.21 |  94.89 |  96.99 | 100.02 | 98.74 |  99.40 |  98.85 | ⋯ |  98.02 | 101.69 |  92.96 | 96.54 | 96.52 | 104.36 | 96.79 |  97.71 | 102.00 |  98.39 |\n",
       "| 343 | 98.57 |  98.59 |  98.61 |  97.26 |  94.81 |  97.04 | 100.26 | 96.99 |  99.56 |  98.91 | ⋯ |  98.20 | 101.59 |  92.84 | 96.85 | 96.68 | 104.87 | 96.78 |  97.74 | 102.38 |     NA |\n",
       "| 344 | 98.48 |  98.50 |  98.36 |  97.22 |  94.82 |  96.93 | 100.24 | 95.26 |  99.63 |  98.82 | ⋯ |  98.20 | 101.50 |  92.88 | 97.28 | 96.64 | 105.27 | 96.70 |  97.62 | 102.82 |     NA |\n",
       "| 345 | 98.35 |  98.33 |  98.13 |  97.14 |  94.86 |  96.56 |  99.99 | 94.77 |  99.60 |  98.66 | ⋯ |  98.04 | 101.36 |  93.00 | 97.76 | 96.59 | 105.55 | 96.58 |     NA |     NA |     NA |\n",
       "\n"
      ],
      "text/plain": [
       "    日本   经合组织成员国 OECD成员国_欧洲 OECD和六个非成员经济体\n",
       "1   100.86 100.98         100.79          100.34                \n",
       "2   100.60 100.85         100.73          100.26                \n",
       "3   100.34 100.71         100.69          100.15                \n",
       "4   100.14 100.66         100.75          100.11                \n",
       "5   100.05 100.69         100.85          100.12                \n",
       "6   100.04 100.78         100.97          100.18                \n",
       "7   100.10 100.86         101.00          100.21                \n",
       "8   100.24 100.83         100.94          100.17                \n",
       "9   100.41 100.70         100.80          100.03                \n",
       "10  100.57 100.58         100.64           99.93                \n",
       "11  100.70 100.50         100.49           99.86                \n",
       "12  100.80 100.48         100.36           99.86                \n",
       "13  100.90 100.48         100.28           99.88                \n",
       "14  100.99 100.52         100.23           99.93                \n",
       "15  101.06 100.61         100.25          100.01                \n",
       "16  101.10 100.63         100.27          100.03                \n",
       "17  101.07 100.62         100.28          100.01                \n",
       "18  101.00 100.65         100.28          100.02                \n",
       "19  100.92 100.69         100.26          100.05                \n",
       "20  100.82 100.73         100.29          100.09                \n",
       "21  100.68 100.75         100.32          100.11                \n",
       "22  100.42 100.76         100.31          100.12                \n",
       "23   99.99 100.74         100.33          100.10                \n",
       "24   99.55 100.71         100.38          100.04                \n",
       "25   99.28 100.74         100.47          100.01                \n",
       "26   99.36 100.82         100.52          100.03                \n",
       "27   99.65 100.94         100.55          100.11                \n",
       "28   99.96 101.09         100.63          100.23                \n",
       "29  100.17 101.26         100.78          100.37                \n",
       "30  100.25 101.42         100.94          100.51                \n",
       "⋮   ⋮      ⋮              ⋮               ⋮                     \n",
       "316 98.21  100.04         100.37          100.68                \n",
       "317 98.32  100.29         100.87          100.82                \n",
       "318 98.55  100.45         101.23          100.86                \n",
       "319 98.72  100.35         101.29          100.68                \n",
       "320 98.83  100.10         101.15          100.47                \n",
       "321 98.98   99.93         100.93          100.42                \n",
       "322 99.15   99.75         100.56          100.35                \n",
       "323 99.21   99.52         100.13          100.25                \n",
       "324 99.04   99.28          99.76          100.14                \n",
       "325 98.66   98.95          99.34           99.88                \n",
       "326 98.19   98.48          98.66           99.27                \n",
       "327 97.74   97.94          97.67           98.21                \n",
       "328 97.50   97.54          96.93           97.04                \n",
       "329 97.38   97.16          96.49           96.31                \n",
       "330 97.22   96.79          96.14           95.96                \n",
       "331 97.09   96.58          95.89           95.84                \n",
       "332 97.09   96.59          95.76           95.88                \n",
       "333 97.00   96.61          95.68           95.91                \n",
       "334 96.89   96.71          95.86           95.97                \n",
       "335 96.85   96.89          96.25           96.13                \n",
       "336 96.94   97.16          96.67           96.45                \n",
       "337 97.10   97.47          97.07           96.84                \n",
       "338 97.36   97.72          97.47           97.15                \n",
       "339 97.76   97.90          97.85           97.23                \n",
       "340 98.14   98.11          98.29           97.18                \n",
       "341 98.40   98.30          98.63           97.17                \n",
       "342 98.53   98.49          98.73           97.21                \n",
       "343 98.57   98.59          98.61           97.26                \n",
       "344 98.48   98.50          98.36           97.22                \n",
       "345 98.35   98.33          98.13           97.14                \n",
       "    主要亚洲五国.OECD. 瑞士   韩国   土耳其 比利时 丹麦   ⋯ 西方七国 印尼  \n",
       "1   100.74             99.21  NA     NA     100.50 101.19 ⋯ 100.79   NA    \n",
       "2   100.78             98.84  NA     NA     100.42 101.24 ⋯ 100.67   NA    \n",
       "3   100.80             98.80  NA     NA     100.46 101.22 ⋯ 100.51   NA    \n",
       "4   100.79             98.97  NA     NA     100.47 101.16 ⋯ 100.46   NA    \n",
       "5   100.77             99.18  NA     NA     100.46 101.09 ⋯ 100.49   NA    \n",
       "6   100.73             99.33  NA     NA     100.44 101.01 ⋯ 100.60   NA    \n",
       "7   100.68             99.41  NA     NA     100.27 101.03 ⋯ 100.69   NA    \n",
       "8   100.65             99.46  NA     NA      99.91 101.13 ⋯ 100.66   NA    \n",
       "9   100.66             99.47  NA     NA      99.50 101.18 ⋯ 100.50   NA    \n",
       "10  100.71             99.42  NA     NA      99.01 101.16 ⋯ 100.37   NA    \n",
       "11  100.79             99.27  NA     NA      98.54 101.17 ⋯ 100.28   NA    \n",
       "12  100.89             98.97  NA     NA      98.35 101.09 ⋯ 100.25   NA    \n",
       "13  101.00             98.59  NA     NA      98.30 100.99 ⋯ 100.25   NA    \n",
       "14  101.10             98.22  NA     NA      98.36 100.78 ⋯ 100.30   NA    \n",
       "15  101.16             97.91  NA     NA      98.51 100.66 ⋯ 100.41   NA    \n",
       "16  101.17             97.66  NA     NA      98.66 100.61 ⋯ 100.45   NA    \n",
       "17  101.13             97.46  NA     NA      98.69 100.50 ⋯ 100.44   NA    \n",
       "18  101.06             97.32  NA     NA      98.75 100.41 ⋯ 100.48   NA    \n",
       "19  100.99             97.26  NA     NA      98.90 100.43 ⋯ 100.54   NA    \n",
       "20  100.92             97.32  NA     NA      99.14 100.47 ⋯ 100.58   NA    \n",
       "21  100.83             97.58  NA     NA      99.30 100.66 ⋯ 100.59   NA    \n",
       "22  100.66             97.92  NA     NA      99.35 100.85 ⋯ 100.57   NA    \n",
       "23  100.34             98.22  NA     NA      99.38 100.91 ⋯ 100.53   NA    \n",
       "24   99.91             98.39  NA     NA      99.27 100.98 ⋯ 100.48   NA    \n",
       "25   99.45             98.48  NA     NA      98.99 101.12 ⋯ 100.49   NA    \n",
       "26   99.28             98.55  NA     NA      98.81 101.20 ⋯ 100.59   NA    \n",
       "27   99.34             98.65  NA     NA      98.73 101.23 ⋯ 100.72   NA    \n",
       "28   99.52             98.80  NA     NA      98.76 101.12 ⋯ 100.89   NA    \n",
       "29   99.70             99.03  NA     NA      98.92 100.95 ⋯ 101.09   NA    \n",
       "30   99.82             99.38  NA     NA      99.14 101.01 ⋯ 101.25   NA    \n",
       "⋮   ⋮                  ⋮      ⋮      ⋮      ⋮      ⋮      ⋱ ⋮        ⋮     \n",
       "316 102.12              99.62 100.36 97.88  101.52 101.23 ⋯  99.99    99.65\n",
       "317 102.03             100.08 100.72 97.37  101.90 101.38 ⋯ 100.22    99.77\n",
       "318 101.87             100.66 100.89 97.34  102.15 101.45 ⋯ 100.33    99.46\n",
       "319 101.53             101.23 100.70 97.23  102.08 101.50 ⋯ 100.15    98.82\n",
       "320 101.44             101.63 100.56 97.04  101.77 101.57 ⋯  99.81    98.71\n",
       "321 101.69             101.71 100.62 96.71  101.44 101.58 ⋯  99.60    99.36\n",
       "322 101.92             101.59 100.79 95.96  100.97 101.21 ⋯  99.42   100.26\n",
       "323 102.09             101.37 100.84 95.04  100.54 100.70 ⋯  99.24   100.86\n",
       "324 102.17             101.07 100.72 94.57  100.20 100.36 ⋯  99.03   101.07\n",
       "325 101.99             100.68 100.61 94.63   99.84  99.99 ⋯  98.67   101.01\n",
       "326 101.05             100.09 100.54 94.58   99.30  99.31 ⋯  98.15   100.81\n",
       "327  99.07              99.22 100.50 94.30   98.55  98.16 ⋯  97.60   100.76\n",
       "328  96.57              98.21 100.38 93.64   98.23  97.24 ⋯  97.22   101.01\n",
       "329  95.21              97.23  99.99 93.13   98.16  96.72 ⋯  96.83   101.44\n",
       "330  94.76              96.41  99.29 92.94   98.11  96.45 ⋯  96.47   101.63\n",
       "331  94.62              95.73  98.58 93.51   97.93  96.36 ⋯  96.32   101.57\n",
       "332  94.57              95.19  98.34 94.39   97.58  96.27 ⋯  96.37   101.42\n",
       "333  94.52              94.83  98.32 95.13   97.11  95.94 ⋯  96.40   101.22\n",
       "334  94.47              94.67  98.25 95.77   97.11  95.78 ⋯  96.49   101.15\n",
       "335  94.56              94.78  98.21 96.14   97.59  96.11 ⋯  96.64   101.15\n",
       "336  94.98              95.26  98.32 96.45   98.23  96.58 ⋯  96.89   101.22\n",
       "337  95.52              95.90  98.44 97.05   98.79  97.05 ⋯  97.16   101.32\n",
       "338  95.93              96.45  98.57 97.79   99.16  97.41 ⋯  97.38   101.41\n",
       "339  95.90              96.73  98.82 98.52   99.30  97.77 ⋯  97.52   101.52\n",
       "340  95.44              96.84  99.21 99.47   99.35  98.19 ⋯  97.66   101.64\n",
       "341  95.11              96.91  99.64 99.75   99.31  98.59 ⋯  97.80   101.72\n",
       "342  94.89              96.99 100.02 98.74   99.40  98.85 ⋯  98.02   101.69\n",
       "343  94.81              97.04 100.26 96.99   99.56  98.91 ⋯  98.20   101.59\n",
       "344  94.82              96.93 100.24 95.26   99.63  98.82 ⋯  98.20   101.50\n",
       "345  94.86              96.56  99.99 94.77   99.60  98.66 ⋯  98.04   101.36\n",
       "    中华人民共和国 南非   哥伦比亚 墨西哥 新西兰 以色列 哥斯达黎加 欧元区\n",
       "1   101.44         101.91 NA       NA     101.35 NA     NA         100.62\n",
       "2   101.95         101.79 NA       NA     101.32 NA     NA         100.56\n",
       "3   102.36         101.73 NA       NA     101.38 NA     NA         100.57\n",
       "4   102.63         101.73 NA       NA     101.55 NA     NA         100.67\n",
       "5   102.72         101.78 NA       NA     101.77 NA     NA         100.78\n",
       "6   102.63         101.83 NA       NA     101.94 NA     NA         100.80\n",
       "7   102.40         101.89 NA       NA     102.02 NA     NA         100.72\n",
       "8   102.14         101.95 NA       NA     102.01 NA     NA         100.56\n",
       "9   101.93         102.03 NA       NA     101.93 NA     NA         100.34\n",
       "10  101.81         102.13 NA       NA     101.81 NA     NA         100.10\n",
       "11  101.81         102.21 NA       NA     101.71 NA     NA          99.89\n",
       "12  101.91         102.22 NA       NA     101.70 NA     NA          99.67\n",
       "13  102.05         102.11 NA       NA     101.85 NA     NA          99.50\n",
       "14  102.16         101.91 NA       NA     102.00 NA     NA          99.41\n",
       "15  102.19         101.67 NA       NA     101.97 NA     NA          99.40\n",
       "16  102.16         101.41 NA       NA     101.62 NA     NA          99.40\n",
       "17  102.11         101.18 NA       NA     101.14 NA     NA          99.43\n",
       "18  102.04         101.03 NA       NA     100.80 NA     NA          99.44\n",
       "19  102.00         101.02 NA       NA     100.82 NA     NA          99.42\n",
       "20  101.95         101.10 NA       NA     101.04 NA     NA          99.43\n",
       "21  101.93         101.20 NA       NA     101.28 NA     NA          99.42\n",
       "22  101.88         101.28 NA       NA     101.41 NA     NA          99.38\n",
       "23  101.72         101.32 NA       NA     101.43 NA     NA          99.36\n",
       "24  101.29         101.29 NA       NA     101.36 NA     NA          99.42\n",
       "25  100.58         101.15 NA       NA     101.20 NA     NA          99.52\n",
       "26  100.08         101.00 NA       NA     100.99 NA     NA          99.52\n",
       "27   99.84         100.91 NA       NA     100.78 NA     NA          99.53\n",
       "28   99.84         100.95 NA       NA     100.59 NA     NA          99.61\n",
       "29   99.98         101.03 NA       NA     100.42 NA     NA          99.76\n",
       "30  100.17         101.01 NA       NA     100.28 NA     NA          99.97\n",
       "⋮   ⋮              ⋮      ⋮        ⋮      ⋮      ⋮      ⋮          ⋮     \n",
       "316 103.71         98.67  95.25    101.58 99.62  102.69  97.96     100.57\n",
       "317 103.51         98.50  95.11    102.31 99.66  102.87  97.89     101.31\n",
       "318 103.25         98.40  96.01    102.87 99.66  102.54  98.17     101.86\n",
       "319 102.81         98.44  97.27    103.05 99.57  101.81  98.63     101.95\n",
       "320 102.69         98.56  98.14    102.98 99.42  101.01  99.06     101.85\n",
       "321 102.92         98.70  98.72    103.16 99.25  100.99  99.29     101.72\n",
       "322 103.08         98.80  98.93    103.53 99.10  100.79  99.41     101.41\n",
       "323 103.22         98.85  98.72    103.89 98.95  100.19  99.56     100.98\n",
       "324 103.36         98.84  98.11    103.57 98.77   99.49  99.82     100.57\n",
       "325 103.20         98.71  97.36    103.07 98.53   98.66 100.11     100.09\n",
       "326 101.97         98.47  96.81    102.86 98.23   98.25 100.30      99.21\n",
       "327  99.21         98.11  96.65    102.94 97.85   98.22 100.27      97.83\n",
       "328  95.62         97.58  96.91    103.01 97.38   98.41 100.11      96.96\n",
       "329  93.65         97.04  97.57    102.77 96.94   98.39  99.92      96.48\n",
       "330  93.07         96.67  98.33    102.14 96.70   97.76  99.77      96.03\n",
       "331  92.97         96.65  98.40    101.40 96.79   97.32  99.71      95.62\n",
       "332  92.94         96.89  98.21    100.98 97.01   97.43  99.81      95.42\n",
       "333  92.92         97.32  97.50    100.96 97.10   97.64 100.14      95.26\n",
       "334  92.89         97.88  96.62    101.24 96.90   98.07 100.61      95.50\n",
       "335  93.04         98.38  95.93    101.80 96.53   98.42 101.13      96.08\n",
       "336  93.59         98.57  95.55    102.50 96.22   98.30 101.62      96.66\n",
       "337  94.33         98.21  95.20    103.20 96.10   98.03 102.01      97.14\n",
       "338  94.83         97.57  95.05    103.59 96.15   98.01 102.20      97.49\n",
       "339  94.66         96.96  95.08    103.66 96.29   97.91 102.10      97.72\n",
       "340  93.89         96.60  95.37    103.68 96.48   97.88 101.90      97.95\n",
       "341  93.33         96.46  95.95    103.91 96.67   97.84 101.81      98.16\n",
       "342  92.96         96.54  96.52    104.36 96.79   97.71 102.00      98.39\n",
       "343  92.84         96.85  96.68    104.87 96.78   97.74 102.38         NA\n",
       "344  92.88         97.28  96.64    105.27 96.70   97.62 102.82         NA\n",
       "345  93.00         97.76  96.59    105.55 96.58      NA     NA         NA"
      ]
     },
     "metadata": {},
     "output_type": "display_data"
    }
   ],
   "source": [
    "data"
   ]
  },
  {
   "cell_type": "code",
   "execution_count": 52,
   "id": "3f28e3c6",
   "metadata": {},
   "outputs": [],
   "source": [
    "freq=12\n",
    "ll=dim(data)[2]\n",
    "hh=12\n",
    "start=c(2000,1)\n",
    "m=5\n",
    "n=4"
   ]
  },
  {
   "cell_type": "code",
   "execution_count": 53,
   "id": "0b4979f5",
   "metadata": {},
   "outputs": [],
   "source": [
    "process_data <- function(data, start, freq, hh, ll) {\n",
    "  data_ts <- list()\n",
    "  data_tstrain <- list()\n",
    "  data_features <- NULL\n",
    "  \n",
    "  for (i in 1:ll) {\n",
    "    # 寻找第一个非NA值的位置\n",
    "    loc <- min(which(is.na(data[, i]) == FALSE)) - 1\n",
    "    zc <- loc %/% freq\n",
    "    yu <- loc %% freq\n",
    "    \n",
    "    # 提取子序列\n",
    "    x <- data[(loc + 1):dim(data)[1], i]\n",
    "    \n",
    "    # 检测并处理NA值\n",
    "    r <- which(is.na(x) == TRUE)\n",
    "    if (length(r) != 0) {\n",
    "      x <- na_kalman(x) # 假设na_kalman是一个处理NA值的函数\n",
    "    }\n",
    "    \n",
    "    # 创建时间序列对象\n",
    "    da <- ts(x[1:(length(x) - hh)], start = c(start[1] + zc, start[2] + yu), frequency = freq)\n",
    "    da1 <- ts(x, start = c(start[1] + zc, start[2] + yu), frequency = freq)\n",
    "    \n",
    "    # 保存时间序列对象\n",
    "    data_ts[[i]] <- da1\n",
    "    data_tstrain[[i]] <- da\n",
    "    \n",
    "    # 提取时间序列特征\n",
    "    f <- tsfeatures(da)\n",
    "    if (is.null(data_features)) {\n",
    "      data_features <- f\n",
    "    } else {\n",
    "      data_features <- rbind(data_features, f)\n",
    "    }\n",
    "  }\n",
    "  \n",
    "  # 函数返回一个列表，包含处理后的时间序列和特征\n",
    "  list(time_series = data_ts, time_series_train = data_tstrain, features = data_features)\n",
    "}\n"
   ]
  },
  {
   "cell_type": "code",
   "execution_count": 54,
   "id": "358c2538",
   "metadata": {},
   "outputs": [],
   "source": [
    "processed_data <- process_data(data, start = c(1995, 1), freq, hh, ll)"
   ]
  },
  {
   "cell_type": "code",
   "execution_count": 55,
   "id": "f85c803b",
   "metadata": {},
   "outputs": [],
   "source": [
    "data_ts=processed_data$time_series\n",
    "data_tstrain=processed_data$time_series_train\n",
    "data_features=processed_data$features"
   ]
  },
  {
   "cell_type": "code",
   "execution_count": null,
   "id": "9cca0a63",
   "metadata": {},
   "outputs": [],
   "source": []
  },
  {
   "cell_type": "code",
   "execution_count": 56,
   "id": "d35a9716",
   "metadata": {},
   "outputs": [
    {
     "data": {
      "text/html": [
       "<table class=\"dataframe\">\n",
       "<caption>A tibble: 6 × 20</caption>\n",
       "<thead>\n",
       "\t<tr><th scope=col>frequency</th><th scope=col>nperiods</th><th scope=col>seasonal_period</th><th scope=col>trend</th><th scope=col>spike</th><th scope=col>linearity</th><th scope=col>curvature</th><th scope=col>e_acf1</th><th scope=col>e_acf10</th><th scope=col>seasonal_strength</th><th scope=col>peak</th><th scope=col>trough</th><th scope=col>entropy</th><th scope=col>x_acf1</th><th scope=col>x_acf10</th><th scope=col>diff1_acf1</th><th scope=col>diff1_acf10</th><th scope=col>diff2_acf1</th><th scope=col>diff2_acf10</th><th scope=col>seas_acf1</th></tr>\n",
       "\t<tr><th scope=col>&lt;dbl&gt;</th><th scope=col>&lt;dbl&gt;</th><th scope=col>&lt;dbl&gt;</th><th scope=col>&lt;dbl&gt;</th><th scope=col>&lt;dbl&gt;</th><th scope=col>&lt;dbl&gt;</th><th scope=col>&lt;dbl&gt;</th><th scope=col>&lt;dbl&gt;</th><th scope=col>&lt;dbl&gt;</th><th scope=col>&lt;dbl&gt;</th><th scope=col>&lt;dbl&gt;</th><th scope=col>&lt;dbl&gt;</th><th scope=col>&lt;dbl&gt;</th><th scope=col>&lt;dbl&gt;</th><th scope=col>&lt;dbl&gt;</th><th scope=col>&lt;dbl&gt;</th><th scope=col>&lt;dbl&gt;</th><th scope=col>&lt;dbl&gt;</th><th scope=col>&lt;dbl&gt;</th><th scope=col>&lt;dbl&gt;</th></tr>\n",
       "</thead>\n",
       "<tbody>\n",
       "\t<tr><td>12</td><td>1</td><td>12</td><td>0.9414541</td><td>1.469496e-07</td><td>-4.148065</td><td>-3.765981</td><td>0.8454210</td><td>1.159314</td><td>0.12604369</td><td>12</td><td>5</td><td>0.5977804</td><td>0.9774598</td><td>5.517595</td><td>0.8238031</td><td>0.9675078</td><td>0.5318010</td><td>0.9109732</td><td>0.3526531</td></tr>\n",
       "\t<tr><td>12</td><td>1</td><td>12</td><td>0.9630601</td><td>8.844036e-08</td><td>-8.774571</td><td> 2.937463</td><td>0.8582569</td><td>1.183075</td><td>0.09641165</td><td> 1</td><td>5</td><td>0.5427694</td><td>0.9757847</td><td>6.052019</td><td>0.8190963</td><td>0.9426224</td><td>0.4867796</td><td>0.6482644</td><td>0.5042263</td></tr>\n",
       "\t<tr><td>12</td><td>1</td><td>12</td><td>0.9656192</td><td>5.579385e-08</td><td>-8.151818</td><td> 1.956549</td><td>0.8807846</td><td>1.410732</td><td>0.10045470</td><td> 9</td><td>4</td><td>0.5458390</td><td>0.9712250</td><td>5.603514</td><td>0.8506849</td><td>1.2190287</td><td>0.4892918</td><td>0.5528145</td><td>0.4555680</td></tr>\n",
       "\t<tr><td>12</td><td>1</td><td>12</td><td>0.9531315</td><td>1.222234e-07</td><td>-3.941638</td><td> 1.944559</td><td>0.8604031</td><td>1.131996</td><td>0.24430725</td><td> 1</td><td>5</td><td>0.5882649</td><td>0.9620671</td><td>4.573657</td><td>0.8462332</td><td>1.0444014</td><td>0.5709416</td><td>0.8613847</td><td>0.3172945</td></tr>\n",
       "\t<tr><td>12</td><td>1</td><td>12</td><td>0.9492339</td><td>1.599164e-07</td><td> 3.179791</td><td> 5.670570</td><td>0.8527939</td><td>1.177701</td><td>0.39023178</td><td> 1</td><td>6</td><td>0.6173344</td><td>0.9634733</td><td>4.700404</td><td>0.8277382</td><td>1.0134493</td><td>0.5072502</td><td>0.6229488</td><td>0.4188087</td></tr>\n",
       "\t<tr><td>12</td><td>1</td><td>12</td><td>0.9320480</td><td>1.708380e-07</td><td>-2.018620</td><td>-6.632152</td><td>0.8763513</td><td>1.222079</td><td>0.25096789</td><td>11</td><td>5</td><td>0.6383962</td><td>0.9543605</td><td>3.877693</td><td>0.8660764</td><td>1.1364421</td><td>0.6677847</td><td>0.9972327</td><td>0.1575627</td></tr>\n",
       "</tbody>\n",
       "</table>\n"
      ],
      "text/latex": [
       "A tibble: 6 × 20\n",
       "\\begin{tabular}{llllllllllllllllllll}\n",
       " frequency & nperiods & seasonal\\_period & trend & spike & linearity & curvature & e\\_acf1 & e\\_acf10 & seasonal\\_strength & peak & trough & entropy & x\\_acf1 & x\\_acf10 & diff1\\_acf1 & diff1\\_acf10 & diff2\\_acf1 & diff2\\_acf10 & seas\\_acf1\\\\\n",
       " <dbl> & <dbl> & <dbl> & <dbl> & <dbl> & <dbl> & <dbl> & <dbl> & <dbl> & <dbl> & <dbl> & <dbl> & <dbl> & <dbl> & <dbl> & <dbl> & <dbl> & <dbl> & <dbl> & <dbl>\\\\\n",
       "\\hline\n",
       "\t 12 & 1 & 12 & 0.9414541 & 1.469496e-07 & -4.148065 & -3.765981 & 0.8454210 & 1.159314 & 0.12604369 & 12 & 5 & 0.5977804 & 0.9774598 & 5.517595 & 0.8238031 & 0.9675078 & 0.5318010 & 0.9109732 & 0.3526531\\\\\n",
       "\t 12 & 1 & 12 & 0.9630601 & 8.844036e-08 & -8.774571 &  2.937463 & 0.8582569 & 1.183075 & 0.09641165 &  1 & 5 & 0.5427694 & 0.9757847 & 6.052019 & 0.8190963 & 0.9426224 & 0.4867796 & 0.6482644 & 0.5042263\\\\\n",
       "\t 12 & 1 & 12 & 0.9656192 & 5.579385e-08 & -8.151818 &  1.956549 & 0.8807846 & 1.410732 & 0.10045470 &  9 & 4 & 0.5458390 & 0.9712250 & 5.603514 & 0.8506849 & 1.2190287 & 0.4892918 & 0.5528145 & 0.4555680\\\\\n",
       "\t 12 & 1 & 12 & 0.9531315 & 1.222234e-07 & -3.941638 &  1.944559 & 0.8604031 & 1.131996 & 0.24430725 &  1 & 5 & 0.5882649 & 0.9620671 & 4.573657 & 0.8462332 & 1.0444014 & 0.5709416 & 0.8613847 & 0.3172945\\\\\n",
       "\t 12 & 1 & 12 & 0.9492339 & 1.599164e-07 &  3.179791 &  5.670570 & 0.8527939 & 1.177701 & 0.39023178 &  1 & 6 & 0.6173344 & 0.9634733 & 4.700404 & 0.8277382 & 1.0134493 & 0.5072502 & 0.6229488 & 0.4188087\\\\\n",
       "\t 12 & 1 & 12 & 0.9320480 & 1.708380e-07 & -2.018620 & -6.632152 & 0.8763513 & 1.222079 & 0.25096789 & 11 & 5 & 0.6383962 & 0.9543605 & 3.877693 & 0.8660764 & 1.1364421 & 0.6677847 & 0.9972327 & 0.1575627\\\\\n",
       "\\end{tabular}\n"
      ],
      "text/markdown": [
       "\n",
       "A tibble: 6 × 20\n",
       "\n",
       "| frequency &lt;dbl&gt; | nperiods &lt;dbl&gt; | seasonal_period &lt;dbl&gt; | trend &lt;dbl&gt; | spike &lt;dbl&gt; | linearity &lt;dbl&gt; | curvature &lt;dbl&gt; | e_acf1 &lt;dbl&gt; | e_acf10 &lt;dbl&gt; | seasonal_strength &lt;dbl&gt; | peak &lt;dbl&gt; | trough &lt;dbl&gt; | entropy &lt;dbl&gt; | x_acf1 &lt;dbl&gt; | x_acf10 &lt;dbl&gt; | diff1_acf1 &lt;dbl&gt; | diff1_acf10 &lt;dbl&gt; | diff2_acf1 &lt;dbl&gt; | diff2_acf10 &lt;dbl&gt; | seas_acf1 &lt;dbl&gt; |\n",
       "|---|---|---|---|---|---|---|---|---|---|---|---|---|---|---|---|---|---|---|---|\n",
       "| 12 | 1 | 12 | 0.9414541 | 1.469496e-07 | -4.148065 | -3.765981 | 0.8454210 | 1.159314 | 0.12604369 | 12 | 5 | 0.5977804 | 0.9774598 | 5.517595 | 0.8238031 | 0.9675078 | 0.5318010 | 0.9109732 | 0.3526531 |\n",
       "| 12 | 1 | 12 | 0.9630601 | 8.844036e-08 | -8.774571 |  2.937463 | 0.8582569 | 1.183075 | 0.09641165 |  1 | 5 | 0.5427694 | 0.9757847 | 6.052019 | 0.8190963 | 0.9426224 | 0.4867796 | 0.6482644 | 0.5042263 |\n",
       "| 12 | 1 | 12 | 0.9656192 | 5.579385e-08 | -8.151818 |  1.956549 | 0.8807846 | 1.410732 | 0.10045470 |  9 | 4 | 0.5458390 | 0.9712250 | 5.603514 | 0.8506849 | 1.2190287 | 0.4892918 | 0.5528145 | 0.4555680 |\n",
       "| 12 | 1 | 12 | 0.9531315 | 1.222234e-07 | -3.941638 |  1.944559 | 0.8604031 | 1.131996 | 0.24430725 |  1 | 5 | 0.5882649 | 0.9620671 | 4.573657 | 0.8462332 | 1.0444014 | 0.5709416 | 0.8613847 | 0.3172945 |\n",
       "| 12 | 1 | 12 | 0.9492339 | 1.599164e-07 |  3.179791 |  5.670570 | 0.8527939 | 1.177701 | 0.39023178 |  1 | 6 | 0.6173344 | 0.9634733 | 4.700404 | 0.8277382 | 1.0134493 | 0.5072502 | 0.6229488 | 0.4188087 |\n",
       "| 12 | 1 | 12 | 0.9320480 | 1.708380e-07 | -2.018620 | -6.632152 | 0.8763513 | 1.222079 | 0.25096789 | 11 | 5 | 0.6383962 | 0.9543605 | 3.877693 | 0.8660764 | 1.1364421 | 0.6677847 | 0.9972327 | 0.1575627 |\n",
       "\n"
      ],
      "text/plain": [
       "  frequency nperiods seasonal_period trend     spike        linearity curvature\n",
       "1 12        1        12              0.9414541 1.469496e-07 -4.148065 -3.765981\n",
       "2 12        1        12              0.9630601 8.844036e-08 -8.774571  2.937463\n",
       "3 12        1        12              0.9656192 5.579385e-08 -8.151818  1.956549\n",
       "4 12        1        12              0.9531315 1.222234e-07 -3.941638  1.944559\n",
       "5 12        1        12              0.9492339 1.599164e-07  3.179791  5.670570\n",
       "6 12        1        12              0.9320480 1.708380e-07 -2.018620 -6.632152\n",
       "  e_acf1    e_acf10  seasonal_strength peak trough entropy   x_acf1    x_acf10 \n",
       "1 0.8454210 1.159314 0.12604369        12   5      0.5977804 0.9774598 5.517595\n",
       "2 0.8582569 1.183075 0.09641165         1   5      0.5427694 0.9757847 6.052019\n",
       "3 0.8807846 1.410732 0.10045470         9   4      0.5458390 0.9712250 5.603514\n",
       "4 0.8604031 1.131996 0.24430725         1   5      0.5882649 0.9620671 4.573657\n",
       "5 0.8527939 1.177701 0.39023178         1   6      0.6173344 0.9634733 4.700404\n",
       "6 0.8763513 1.222079 0.25096789        11   5      0.6383962 0.9543605 3.877693\n",
       "  diff1_acf1 diff1_acf10 diff2_acf1 diff2_acf10 seas_acf1\n",
       "1 0.8238031  0.9675078   0.5318010  0.9109732   0.3526531\n",
       "2 0.8190963  0.9426224   0.4867796  0.6482644   0.5042263\n",
       "3 0.8506849  1.2190287   0.4892918  0.5528145   0.4555680\n",
       "4 0.8462332  1.0444014   0.5709416  0.8613847   0.3172945\n",
       "5 0.8277382  1.0134493   0.5072502  0.6229488   0.4188087\n",
       "6 0.8660764  1.1364421   0.6677847  0.9972327   0.1575627"
      ]
     },
     "metadata": {},
     "output_type": "display_data"
    }
   ],
   "source": [
    "head(data_features)"
   ]
  },
  {
   "cell_type": "code",
   "execution_count": 57,
   "id": "e1ffd85e",
   "metadata": {},
   "outputs": [],
   "source": [
    "length=matrix(0,ll,1)\n",
    "for( i in 1:ll)\n",
    "    {\n",
    "    length[i,1]=length(data_tstrain[[i]])\n",
    "}"
   ]
  },
  {
   "cell_type": "code",
   "execution_count": 58,
   "id": "8d68c1e4",
   "metadata": {},
   "outputs": [],
   "source": [
    "data_features=cbind(data_features,length)"
   ]
  },
  {
   "cell_type": "code",
   "execution_count": null,
   "id": "53921725",
   "metadata": {},
   "outputs": [],
   "source": []
  },
  {
   "cell_type": "code",
   "execution_count": 59,
   "id": "53ca3e5f",
   "metadata": {},
   "outputs": [
    {
     "data": {
      "text/html": [
       "<table class=\"dataframe\">\n",
       "<caption>A data.frame: 6 × 21</caption>\n",
       "<thead>\n",
       "\t<tr><th></th><th scope=col>frequency</th><th scope=col>nperiods</th><th scope=col>seasonal_period</th><th scope=col>trend</th><th scope=col>spike</th><th scope=col>linearity</th><th scope=col>curvature</th><th scope=col>e_acf1</th><th scope=col>e_acf10</th><th scope=col>seasonal_strength</th><th scope=col>⋯</th><th scope=col>trough</th><th scope=col>entropy</th><th scope=col>x_acf1</th><th scope=col>x_acf10</th><th scope=col>diff1_acf1</th><th scope=col>diff1_acf10</th><th scope=col>diff2_acf1</th><th scope=col>diff2_acf10</th><th scope=col>seas_acf1</th><th scope=col>length</th></tr>\n",
       "\t<tr><th></th><th scope=col>&lt;dbl&gt;</th><th scope=col>&lt;dbl&gt;</th><th scope=col>&lt;dbl&gt;</th><th scope=col>&lt;dbl&gt;</th><th scope=col>&lt;dbl&gt;</th><th scope=col>&lt;dbl&gt;</th><th scope=col>&lt;dbl&gt;</th><th scope=col>&lt;dbl&gt;</th><th scope=col>&lt;dbl&gt;</th><th scope=col>&lt;dbl&gt;</th><th scope=col>⋯</th><th scope=col>&lt;dbl&gt;</th><th scope=col>&lt;dbl&gt;</th><th scope=col>&lt;dbl&gt;</th><th scope=col>&lt;dbl&gt;</th><th scope=col>&lt;dbl&gt;</th><th scope=col>&lt;dbl&gt;</th><th scope=col>&lt;dbl&gt;</th><th scope=col>&lt;dbl&gt;</th><th scope=col>&lt;dbl&gt;</th><th scope=col>&lt;dbl&gt;</th></tr>\n",
       "</thead>\n",
       "<tbody>\n",
       "\t<tr><th scope=row>1</th><td>12</td><td>1</td><td>12</td><td>0.9414541</td><td>1.469496e-07</td><td>-4.148065</td><td>-3.765981</td><td>0.8454210</td><td>1.159314</td><td>0.12604369</td><td>⋯</td><td>5</td><td>0.5977804</td><td>0.9774598</td><td>5.517595</td><td>0.8238031</td><td>0.9675078</td><td>0.5318010</td><td>0.9109732</td><td>0.3526531</td><td>333</td></tr>\n",
       "\t<tr><th scope=row>2</th><td>12</td><td>1</td><td>12</td><td>0.9630601</td><td>8.844036e-08</td><td>-8.774571</td><td> 2.937463</td><td>0.8582569</td><td>1.183075</td><td>0.09641165</td><td>⋯</td><td>5</td><td>0.5427694</td><td>0.9757847</td><td>6.052019</td><td>0.8190963</td><td>0.9426224</td><td>0.4867796</td><td>0.6482644</td><td>0.5042263</td><td>333</td></tr>\n",
       "\t<tr><th scope=row>3</th><td>12</td><td>1</td><td>12</td><td>0.9656192</td><td>5.579385e-08</td><td>-8.151818</td><td> 1.956549</td><td>0.8807846</td><td>1.410732</td><td>0.10045470</td><td>⋯</td><td>4</td><td>0.5458390</td><td>0.9712250</td><td>5.603514</td><td>0.8506849</td><td>1.2190287</td><td>0.4892918</td><td>0.5528145</td><td>0.4555680</td><td>333</td></tr>\n",
       "\t<tr><th scope=row>4</th><td>12</td><td>1</td><td>12</td><td>0.9531315</td><td>1.222234e-07</td><td>-3.941638</td><td> 1.944559</td><td>0.8604031</td><td>1.131996</td><td>0.24430725</td><td>⋯</td><td>5</td><td>0.5882649</td><td>0.9620671</td><td>4.573657</td><td>0.8462332</td><td>1.0444014</td><td>0.5709416</td><td>0.8613847</td><td>0.3172945</td><td>333</td></tr>\n",
       "\t<tr><th scope=row>5</th><td>12</td><td>1</td><td>12</td><td>0.9492339</td><td>1.599164e-07</td><td> 3.179791</td><td> 5.670570</td><td>0.8527939</td><td>1.177701</td><td>0.39023178</td><td>⋯</td><td>6</td><td>0.6173344</td><td>0.9634733</td><td>4.700404</td><td>0.8277382</td><td>1.0134493</td><td>0.5072502</td><td>0.6229488</td><td>0.4188087</td><td>333</td></tr>\n",
       "\t<tr><th scope=row>6</th><td>12</td><td>1</td><td>12</td><td>0.9320480</td><td>1.708380e-07</td><td>-2.018620</td><td>-6.632152</td><td>0.8763513</td><td>1.222079</td><td>0.25096789</td><td>⋯</td><td>5</td><td>0.6383962</td><td>0.9543605</td><td>3.877693</td><td>0.8660764</td><td>1.1364421</td><td>0.6677847</td><td>0.9972327</td><td>0.1575627</td><td>333</td></tr>\n",
       "</tbody>\n",
       "</table>\n"
      ],
      "text/latex": [
       "A data.frame: 6 × 21\n",
       "\\begin{tabular}{r|lllllllllllllllllllll}\n",
       "  & frequency & nperiods & seasonal\\_period & trend & spike & linearity & curvature & e\\_acf1 & e\\_acf10 & seasonal\\_strength & ⋯ & trough & entropy & x\\_acf1 & x\\_acf10 & diff1\\_acf1 & diff1\\_acf10 & diff2\\_acf1 & diff2\\_acf10 & seas\\_acf1 & length\\\\\n",
       "  & <dbl> & <dbl> & <dbl> & <dbl> & <dbl> & <dbl> & <dbl> & <dbl> & <dbl> & <dbl> & ⋯ & <dbl> & <dbl> & <dbl> & <dbl> & <dbl> & <dbl> & <dbl> & <dbl> & <dbl> & <dbl>\\\\\n",
       "\\hline\n",
       "\t1 & 12 & 1 & 12 & 0.9414541 & 1.469496e-07 & -4.148065 & -3.765981 & 0.8454210 & 1.159314 & 0.12604369 & ⋯ & 5 & 0.5977804 & 0.9774598 & 5.517595 & 0.8238031 & 0.9675078 & 0.5318010 & 0.9109732 & 0.3526531 & 333\\\\\n",
       "\t2 & 12 & 1 & 12 & 0.9630601 & 8.844036e-08 & -8.774571 &  2.937463 & 0.8582569 & 1.183075 & 0.09641165 & ⋯ & 5 & 0.5427694 & 0.9757847 & 6.052019 & 0.8190963 & 0.9426224 & 0.4867796 & 0.6482644 & 0.5042263 & 333\\\\\n",
       "\t3 & 12 & 1 & 12 & 0.9656192 & 5.579385e-08 & -8.151818 &  1.956549 & 0.8807846 & 1.410732 & 0.10045470 & ⋯ & 4 & 0.5458390 & 0.9712250 & 5.603514 & 0.8506849 & 1.2190287 & 0.4892918 & 0.5528145 & 0.4555680 & 333\\\\\n",
       "\t4 & 12 & 1 & 12 & 0.9531315 & 1.222234e-07 & -3.941638 &  1.944559 & 0.8604031 & 1.131996 & 0.24430725 & ⋯ & 5 & 0.5882649 & 0.9620671 & 4.573657 & 0.8462332 & 1.0444014 & 0.5709416 & 0.8613847 & 0.3172945 & 333\\\\\n",
       "\t5 & 12 & 1 & 12 & 0.9492339 & 1.599164e-07 &  3.179791 &  5.670570 & 0.8527939 & 1.177701 & 0.39023178 & ⋯ & 6 & 0.6173344 & 0.9634733 & 4.700404 & 0.8277382 & 1.0134493 & 0.5072502 & 0.6229488 & 0.4188087 & 333\\\\\n",
       "\t6 & 12 & 1 & 12 & 0.9320480 & 1.708380e-07 & -2.018620 & -6.632152 & 0.8763513 & 1.222079 & 0.25096789 & ⋯ & 5 & 0.6383962 & 0.9543605 & 3.877693 & 0.8660764 & 1.1364421 & 0.6677847 & 0.9972327 & 0.1575627 & 333\\\\\n",
       "\\end{tabular}\n"
      ],
      "text/markdown": [
       "\n",
       "A data.frame: 6 × 21\n",
       "\n",
       "| <!--/--> | frequency &lt;dbl&gt; | nperiods &lt;dbl&gt; | seasonal_period &lt;dbl&gt; | trend &lt;dbl&gt; | spike &lt;dbl&gt; | linearity &lt;dbl&gt; | curvature &lt;dbl&gt; | e_acf1 &lt;dbl&gt; | e_acf10 &lt;dbl&gt; | seasonal_strength &lt;dbl&gt; | ⋯ ⋯ | trough &lt;dbl&gt; | entropy &lt;dbl&gt; | x_acf1 &lt;dbl&gt; | x_acf10 &lt;dbl&gt; | diff1_acf1 &lt;dbl&gt; | diff1_acf10 &lt;dbl&gt; | diff2_acf1 &lt;dbl&gt; | diff2_acf10 &lt;dbl&gt; | seas_acf1 &lt;dbl&gt; | length &lt;dbl&gt; |\n",
       "|---|---|---|---|---|---|---|---|---|---|---|---|---|---|---|---|---|---|---|---|---|---|\n",
       "| 1 | 12 | 1 | 12 | 0.9414541 | 1.469496e-07 | -4.148065 | -3.765981 | 0.8454210 | 1.159314 | 0.12604369 | ⋯ | 5 | 0.5977804 | 0.9774598 | 5.517595 | 0.8238031 | 0.9675078 | 0.5318010 | 0.9109732 | 0.3526531 | 333 |\n",
       "| 2 | 12 | 1 | 12 | 0.9630601 | 8.844036e-08 | -8.774571 |  2.937463 | 0.8582569 | 1.183075 | 0.09641165 | ⋯ | 5 | 0.5427694 | 0.9757847 | 6.052019 | 0.8190963 | 0.9426224 | 0.4867796 | 0.6482644 | 0.5042263 | 333 |\n",
       "| 3 | 12 | 1 | 12 | 0.9656192 | 5.579385e-08 | -8.151818 |  1.956549 | 0.8807846 | 1.410732 | 0.10045470 | ⋯ | 4 | 0.5458390 | 0.9712250 | 5.603514 | 0.8506849 | 1.2190287 | 0.4892918 | 0.5528145 | 0.4555680 | 333 |\n",
       "| 4 | 12 | 1 | 12 | 0.9531315 | 1.222234e-07 | -3.941638 |  1.944559 | 0.8604031 | 1.131996 | 0.24430725 | ⋯ | 5 | 0.5882649 | 0.9620671 | 4.573657 | 0.8462332 | 1.0444014 | 0.5709416 | 0.8613847 | 0.3172945 | 333 |\n",
       "| 5 | 12 | 1 | 12 | 0.9492339 | 1.599164e-07 |  3.179791 |  5.670570 | 0.8527939 | 1.177701 | 0.39023178 | ⋯ | 6 | 0.6173344 | 0.9634733 | 4.700404 | 0.8277382 | 1.0134493 | 0.5072502 | 0.6229488 | 0.4188087 | 333 |\n",
       "| 6 | 12 | 1 | 12 | 0.9320480 | 1.708380e-07 | -2.018620 | -6.632152 | 0.8763513 | 1.222079 | 0.25096789 | ⋯ | 5 | 0.6383962 | 0.9543605 | 3.877693 | 0.8660764 | 1.1364421 | 0.6677847 | 0.9972327 | 0.1575627 | 333 |\n",
       "\n"
      ],
      "text/plain": [
       "  frequency nperiods seasonal_period trend     spike        linearity curvature\n",
       "1 12        1        12              0.9414541 1.469496e-07 -4.148065 -3.765981\n",
       "2 12        1        12              0.9630601 8.844036e-08 -8.774571  2.937463\n",
       "3 12        1        12              0.9656192 5.579385e-08 -8.151818  1.956549\n",
       "4 12        1        12              0.9531315 1.222234e-07 -3.941638  1.944559\n",
       "5 12        1        12              0.9492339 1.599164e-07  3.179791  5.670570\n",
       "6 12        1        12              0.9320480 1.708380e-07 -2.018620 -6.632152\n",
       "  e_acf1    e_acf10  seasonal_strength ⋯ trough entropy   x_acf1    x_acf10 \n",
       "1 0.8454210 1.159314 0.12604369        ⋯ 5      0.5977804 0.9774598 5.517595\n",
       "2 0.8582569 1.183075 0.09641165        ⋯ 5      0.5427694 0.9757847 6.052019\n",
       "3 0.8807846 1.410732 0.10045470        ⋯ 4      0.5458390 0.9712250 5.603514\n",
       "4 0.8604031 1.131996 0.24430725        ⋯ 5      0.5882649 0.9620671 4.573657\n",
       "5 0.8527939 1.177701 0.39023178        ⋯ 6      0.6173344 0.9634733 4.700404\n",
       "6 0.8763513 1.222079 0.25096789        ⋯ 5      0.6383962 0.9543605 3.877693\n",
       "  diff1_acf1 diff1_acf10 diff2_acf1 diff2_acf10 seas_acf1 length\n",
       "1 0.8238031  0.9675078   0.5318010  0.9109732   0.3526531 333   \n",
       "2 0.8190963  0.9426224   0.4867796  0.6482644   0.5042263 333   \n",
       "3 0.8506849  1.2190287   0.4892918  0.5528145   0.4555680 333   \n",
       "4 0.8462332  1.0444014   0.5709416  0.8613847   0.3172945 333   \n",
       "5 0.8277382  1.0134493   0.5072502  0.6229488   0.4188087 333   \n",
       "6 0.8660764  1.1364421   0.6677847  0.9972327   0.1575627 333   "
      ]
     },
     "metadata": {},
     "output_type": "display_data"
    }
   ],
   "source": [
    "head(data_features)"
   ]
  },
  {
   "cell_type": "code",
   "execution_count": null,
   "id": "844bdb39",
   "metadata": {},
   "outputs": [],
   "source": []
  },
  {
   "cell_type": "code",
   "execution_count": null,
   "id": "3f87372e",
   "metadata": {},
   "outputs": [],
   "source": []
  },
  {
   "cell_type": "code",
   "execution_count": null,
   "id": "d802af79",
   "metadata": {
    "scrolled": true
   },
   "outputs": [],
   "source": []
  },
  {
   "cell_type": "code",
   "execution_count": null,
   "id": "c8e6fabc",
   "metadata": {},
   "outputs": [],
   "source": []
  },
  {
   "cell_type": "code",
   "execution_count": null,
   "id": "2bf60ea1",
   "metadata": {},
   "outputs": [],
   "source": []
  },
  {
   "cell_type": "code",
   "execution_count": 20,
   "id": "ef92371f",
   "metadata": {},
   "outputs": [],
   "source": [
    "f1=function(x){\n",
    "    if( x%%1>=0.5)\n",
    "        {\n",
    "        return(as.integer(x)+1)\n",
    "    }\n",
    "    else{return(as.integer(x))}\n",
    "}"
   ]
  },
  {
   "cell_type": "code",
   "execution_count": 21,
   "id": "ccdaa415",
   "metadata": {},
   "outputs": [],
   "source": [
    "forecast_and_evaluate <- function(data_ts, data_tstrain, m,n,hh, ll) {\n",
    "  predets <- array(0, dim = c(ll, m, n, 6))\n",
    "  predhets <- array(0, dim = c(ll, m, n, hh))\n",
    "  predthetaf <- array(0, dim = c(ll, m, n, 6))\n",
    "  predhthetaf <- array(0, dim = c(ll, m, n, hh))\n",
    "  yreal <- list()\n",
    "  \n",
    "  for (k in 1:ll) {\n",
    "    y <- data_tstrain[[k]]\n",
    "    yall <- data_ts[[k]]\n",
    "    y_pred <- ts(yall[(length(yall) - hh + 1):length(yall)], end = end(yall), frequency = frequency(yall))\n",
    "    y_l=length(y)\n",
    "    loc = 1:length(y)\n",
    "    loc_m = as.integer(loc*m/length(y))\n",
    "    filt_d = data.frame(y,loc_m)\n",
    "    filt_0=filter(filt_d ,loc_m==0)\n",
    "    m_l=count(filt_0)\n",
    "    n_l=m_l/n\n",
    "    m_l=as.integer(m_l)\n",
    "    n_l=as.numeric(n_l)\n",
    "    \n",
    "    yreal[[k]] <- y_pred\n",
    "    \n",
    "    for (i in 0:(m - 1)) {\n",
    "      for (j in 0:(n-1)) {\n",
    "        Y <- ts(y[round((i*m_l+j*n_l)+1):y_l], end = end(y), frequency = frequency(yall))\n",
    "        M <- ets(Y)\n",
    "        pd <- forecast(M, h = hh)\n",
    "        predhets[k, (i + 1), (j + 1), ] <- pd$mean\n",
    "        predets[k, (i + 1), (j + 1), ] <- accuracy(pd, y_pred)[2, 1:6]\n",
    "        \n",
    "        M <- thetaf(Y, h = hh)\n",
    "        pd <- forecast(M, h = hh)\n",
    "        predhthetaf[k, (i + 1), (j + 1), ] <- pd$mean\n",
    "        predthetaf[k, (i + 1), (j + 1), ] <- accuracy(pd, y_pred)[2, 1:6]\n",
    "      }\n",
    "    }\n",
    "  }\n",
    "  \n",
    "  list(\n",
    "    pred_ets = list(predhets = predhets, predets = predets),\n",
    "    pred_thetaf = list(predhthetaf = predhthetaf, predthetaf = predthetaf),\n",
    "    y_real = yreal\n",
    "  )\n",
    "}"
   ]
  },
  {
   "cell_type": "code",
   "execution_count": 22,
   "id": "eeb332c3",
   "metadata": {},
   "outputs": [],
   "source": [
    "forecast_list=forecast_and_evaluate(data_ts, data_tstrain, m,n,hh, ll)"
   ]
  },
  {
   "cell_type": "code",
   "execution_count": 23,
   "id": "f2f97521",
   "metadata": {},
   "outputs": [],
   "source": [
    "predhets=forecast_list$pred_ets$predhets\n",
    "predets=forecast_list$pred_ets$predets\n",
    "predhthetaf=forecast_list$pred_thetaf$predhthetaf\n",
    "predthetaf=forecast_list$pred_thetaf$predthetaf\n",
    "y_real=forecast_list$y_real"
   ]
  },
  {
   "cell_type": "code",
   "execution_count": 24,
   "id": "6693a728",
   "metadata": {},
   "outputs": [],
   "source": [
    "length5=matrix(0,ll,m)\n",
    "for(k in 1:ll)\n",
    "{\n",
    "y = data_tstrain[[k]]\n",
    "y_l=length(y)\n",
    "loc = 1:length(y)\n",
    "loc_m = as.integer(loc*m/length(y))\n",
    "filt_d = data.frame(y,loc_m)\n",
    "filt_0=filter(filt_d ,loc_m==0)\n",
    "m_l=count(filt_0)\n",
    "m_l=as.integer(m_l)\n",
    "length5[k,]=c(0,1*m_l,2*m_l,3*m_l,4*m_l)\n",
    "    }"
   ]
  },
  {
   "cell_type": "code",
   "execution_count": null,
   "id": "aae36a99",
   "metadata": {},
   "outputs": [],
   "source": []
  },
  {
   "cell_type": "markdown",
   "id": "242ab822",
   "metadata": {},
   "source": [
    "### 进行数据模拟"
   ]
  },
  {
   "cell_type": "markdown",
   "id": "d929e8e9",
   "metadata": {},
   "source": [
    "### 训练数据特征提取"
   ]
  },
  {
   "cell_type": "code",
   "execution_count": 26,
   "id": "2932818b",
   "metadata": {},
   "outputs": [
    {
     "name": "stderr",
     "output_type": "stream",
     "text": [
      "\n",
      "Attaching package: ‘xgboost’\n",
      "\n",
      "\n",
      "The following object is masked from ‘package:dplyr’:\n",
      "\n",
      "    slice\n",
      "\n",
      "\n",
      "\n",
      "Attaching package: ‘lightgbm’\n",
      "\n",
      "\n",
      "The following object is masked from ‘package:xgboost’:\n",
      "\n",
      "    slice\n",
      "\n",
      "\n",
      "The following object is masked from ‘package:dplyr’:\n",
      "\n",
      "    slice\n",
      "\n",
      "\n"
     ]
    }
   ],
   "source": [
    "library(\"xgboost\")\n",
    "library(\"Matrix\")\n",
    "library('Ckmeans.1d.dp')\n",
    "library(lightgbm)"
   ]
  },
  {
   "cell_type": "code",
   "execution_count": 28,
   "id": "51b41e59",
   "metadata": {},
   "outputs": [],
   "source": [
    "library(lightgbm)"
   ]
  },
  {
   "cell_type": "code",
   "execution_count": 47,
   "id": "1d91b849",
   "metadata": {},
   "outputs": [],
   "source": [
    "etsxgbreg <- readRDS(\"etsxgbreg.rds\")\n",
    "etsxgbcls <- readRDS(\"etsxgbcls.rds\")\n",
    "etslgbreg <- readRDS(\"etslgbreg.rds\")\n",
    "etslgbcls <- readRDS(\"etslgbcls.rds\")"
   ]
  },
  {
   "cell_type": "code",
   "execution_count": 48,
   "id": "c8e750c2",
   "metadata": {},
   "outputs": [],
   "source": [
    "thetafxgbreg <- readRDS(\"thetafxgbreg.rds\")\n",
    "thetafxgbcls <- readRDS(\"thetafxgbcls.rds\")\n",
    "thetaflgbreg <- readRDS(\"thetaflgbreg.rds\")\n",
    "thetaflgbcls <- readRDS(\"thetaflgbcls.rds\")"
   ]
  },
  {
   "cell_type": "code",
   "execution_count": null,
   "id": "dfca634a",
   "metadata": {},
   "outputs": [],
   "source": []
  },
  {
   "cell_type": "code",
   "execution_count": null,
   "id": "35a2f70c",
   "metadata": {},
   "outputs": [],
   "source": []
  },
  {
   "cell_type": "code",
   "execution_count": 38,
   "id": "47699d9e",
   "metadata": {},
   "outputs": [],
   "source": [
    "meanunique=function(x)\n",
    "    {\n",
    "    mean(unique(x))\n",
    "}"
   ]
  },
  {
   "cell_type": "code",
   "execution_count": 39,
   "id": "50237fea",
   "metadata": {},
   "outputs": [],
   "source": [
    "whichmin<-function(x){\n",
    "    minx=min(x[x>0])\n",
    "    loc=which(x==minx)[1]-1\n",
    "    loc\n",
    "}"
   ]
  },
  {
   "cell_type": "code",
   "execution_count": 40,
   "id": "3d0c5902",
   "metadata": {},
   "outputs": [],
   "source": [
    "realbest_construct<-function(MASE)\n",
    "    {\n",
    "realbestmean=matrix(0,dim(MASE)[1],1)\n",
    "for(i in seq(1,dim(MASE)[1]))\n",
    "    {\n",
    "    count=MASE[i,,]\n",
    "    line=apply(count,1,meanunique)\n",
    "    if (max(line,na.rm = TRUE)==0){\n",
    "        realbestmean[i,]=0\n",
    "        }\n",
    "    else\n",
    "        {\n",
    "        line[is.na(line)]=100 \n",
    "        realbestmean[i,]= whichmin(line)\n",
    "    }\n",
    "    }\n",
    "    return(realbestmean)\n",
    "    }\n",
    "    "
   ]
  },
  {
   "cell_type": "code",
   "execution_count": null,
   "id": "cbe49228",
   "metadata": {
    "scrolled": true
   },
   "outputs": [],
   "source": []
  },
  {
   "cell_type": "code",
   "execution_count": 49,
   "id": "62ad5dc3",
   "metadata": {},
   "outputs": [
    {
     "data": {
      "text/plain": [
       "LightGBM Model\n",
       "(Booster handle is invalid)"
      ]
     },
     "metadata": {},
     "output_type": "display_data"
    }
   ],
   "source": [
    "etslgbreg"
   ]
  },
  {
   "cell_type": "code",
   "execution_count": 45,
   "id": "489cbecc",
   "metadata": {
    "scrolled": true
   },
   "outputs": [
    {
     "data": {
      "text/plain": [
       "##### xgb.Booster\n",
       "raw: 1.5 Mb \n",
       "call:\n",
       "  xgb.train(params = params, data = dtrain, nrounds = nrounds, \n",
       "    watchlist = watchlist, verbose = verbose, print_every_n = print_every_n, \n",
       "    early_stopping_rounds = early_stopping_rounds, maximize = maximize, \n",
       "    save_period = save_period, save_name = save_name, xgb_model = xgb_model, \n",
       "    callbacks = callbacks, objective = \"multi:softmax\", num_class = 5)\n",
       "params (as set within xgb.train):\n",
       "  objective = \"multi:softmax\", num_class = \"5\", silent = \"1\"\n",
       "xgb.attributes:\n",
       "  niter\n",
       "callbacks:\n",
       "  cb.print.evaluation(period = print_every_n)\n",
       "  cb.evaluation.log()\n",
       "  cb.save.model(save_period = save_period, save_name = save_name)\n",
       "niter: 100\n",
       "evaluation_log:\n",
       "     iter train_merror\n",
       "    <num>        <num>\n",
       "        1     0.561750\n",
       "        2     0.552521\n",
       "---                   \n",
       "       99     0.326021\n",
       "      100     0.324354"
      ]
     },
     "metadata": {},
     "output_type": "display_data"
    }
   ],
   "source": [
    "etsxgbcls"
   ]
  },
  {
   "cell_type": "markdown",
   "id": "76218c34",
   "metadata": {},
   "source": [
    "## 预测与输出误差"
   ]
  },
  {
   "cell_type": "code",
   "execution_count": 60,
   "id": "e7a8f319",
   "metadata": {},
   "outputs": [],
   "source": [
    "alldatalgb <- lgb.Dataset(data = as.matrix(data_features))\n",
    "alldataxgb <- xgb.DMatrix(data = as.matrix(data_features))"
   ]
  },
  {
   "cell_type": "code",
   "execution_count": 61,
   "id": "7409a638",
   "metadata": {},
   "outputs": [],
   "source": [
    "xgbregets=predict(etsxgbreg,alldataxgb)\n",
    "xgbclsets=predict(etsxgbcls,alldataxgb)\n",
    "lgbregets=predict(etslgbreg,as.matrix(data_features))\n",
    "lgbclsets=predict(etslgbcls,as.matrix(data_features))"
   ]
  },
  {
   "cell_type": "code",
   "execution_count": 62,
   "id": "6c6aca26",
   "metadata": {},
   "outputs": [],
   "source": [
    "xgbregthetaf=predict(thetafxgbreg,alldataxgb)\n",
    "xgbclsthetaf=predict(thetafxgbcls,alldataxgb)\n",
    "lgbregthetaf=predict(thetaflgbreg,as.matrix(data_features))\n",
    "lgbclsthetaf=predict(thetaflgbcls,as.matrix(data_features))"
   ]
  },
  {
   "cell_type": "code",
   "execution_count": 63,
   "id": "7dd31c3c",
   "metadata": {},
   "outputs": [],
   "source": [
    "lgbclsm=matrix(lgbclsets,5,ll)\n",
    "lgbclsetsr=matrix(0,ll,1)\n",
    "for(i in 1:ll)\n",
    "    {\n",
    "    lgbclsetsr[i,]=which.max(lgbclsm[,i])\n",
    "}"
   ]
  },
  {
   "cell_type": "code",
   "execution_count": 64,
   "id": "b62c382e",
   "metadata": {},
   "outputs": [],
   "source": [
    "lgbclsm=matrix(lgbclsthetaf,5,ll)\n",
    "lgbclsthetafr=matrix(0,ll,1)\n",
    "for(i in 1:ll)\n",
    "    {\n",
    "    lgbclsthetafr[i,]=which.max(lgbclsm[,i])\n",
    "}"
   ]
  },
  {
   "cell_type": "code",
   "execution_count": 65,
   "id": "b8c6dbd2",
   "metadata": {},
   "outputs": [],
   "source": [
    "round10=function(x)\n",
    "    {\n",
    "    l=round(x)\n",
    "    for(i in 1:length(l))\n",
    "    {\n",
    "    if(l[i]>5)\n",
    "        {\n",
    "        l[i]=5\n",
    "    }\n",
    "    if(l[i]<1)\n",
    "    {\n",
    "        l[i]=1\n",
    "    }\n",
    "}\n",
    "    l\n",
    "}"
   ]
  },
  {
   "cell_type": "code",
   "execution_count": 66,
   "id": "fb0b589d",
   "metadata": {},
   "outputs": [],
   "source": [
    "ets_pr=matrix(0,ll,4)\n",
    "ets_pr[,1]=round10(xgbregets+1)\n",
    "ets_pr[,2]=xgbclsets+1\n",
    "ets_pr[,3]=round10(lgbregets+1)\n",
    "ets_pr[,4]=lgbclsetsr"
   ]
  },
  {
   "cell_type": "code",
   "execution_count": null,
   "id": "0a348e5f",
   "metadata": {
    "scrolled": true
   },
   "outputs": [],
   "source": []
  },
  {
   "cell_type": "code",
   "execution_count": 67,
   "id": "c1e2fb44",
   "metadata": {},
   "outputs": [],
   "source": [
    "thetaf_pr=matrix(0,ll,4)\n",
    "thetaf_pr[,1]=round10(xgbregthetaf+1)\n",
    "thetaf_pr[,2]=xgbclsthetaf+1\n",
    "thetaf_pr[,3]=round10(lgbregthetaf+1)\n",
    "thetaf_pr[,4]=lgbclsthetafr"
   ]
  },
  {
   "cell_type": "code",
   "execution_count": 68,
   "id": "2082231f",
   "metadata": {},
   "outputs": [],
   "source": [
    "meanpre=function(pred_array,opt_pr,h,testindex)\n",
    "    {\n",
    "    data_length=length(testindex)\n",
    "    meanpreh=matrix(0,data_length,h)\n",
    "    for (i in 1:data_length){\n",
    "    index=testindex[i]\n",
    "    loc=opt_pr[index]\n",
    "    predh=pred_array[index,loc,,]\n",
    "    predh=unique(predh)\n",
    "    meanpreh[i,]=apply(predh,2,mean)\n",
    "}\n",
    "    return(meanpreh)\n",
    "}"
   ]
  },
  {
   "cell_type": "code",
   "execution_count": 69,
   "id": "ce4a535c",
   "metadata": {},
   "outputs": [],
   "source": [
    "predres=function(pred_matrix,data,real_data,opt_pr,lengthmatrix,h,testindex)\n",
    "    {\n",
    "    data_length=length(testindex)\n",
    "    pred_res=matrix(0,data_length,6)\n",
    "    model=ets(data[[1]])\n",
    "    fore_l=forecast(model,h=h)\n",
    "    freq=frequency(data[[1]])\n",
    "    for (i in 1:data_length){\n",
    "    index=testindex[i]\n",
    "    loc=opt_pr[index]\n",
    "    start=lengthmatrix[i,loc]\n",
    "    y_all=data[[index]]\n",
    "    y=y_all[start:length(y_all)]\n",
    "    fore_l$x=ts(y,frequency=freq,end=end(y_all))\n",
    "    real=real_data[[index]]\n",
    "    fore_l$mean=ts(pred_matrix[i,],start=start(real),frequency=freq)\n",
    "    res=accuracy(fore_l,real)\n",
    "    pred_res[i,]=res[2,1:6]\n",
    "    }\n",
    "    return(pred_res)\n",
    "    }"
   ]
  },
  {
   "cell_type": "code",
   "execution_count": 70,
   "id": "69aa85c4",
   "metadata": {},
   "outputs": [],
   "source": [
    "testindex=c(1:ll)\n",
    "lengthtest=length5[testindex,]\n",
    "etsxgbcls=meanpre(predhets,ets_pr[,1],hh,testindex)\n",
    "etsxgbreg=meanpre(predhets,ets_pr[,2],hh,testindex)\n",
    "etslgbcls=meanpre(predhets,ets_pr[,3],hh,testindex)\n",
    "etslgbreg=meanpre(predhets,ets_pr[,4],hh,testindex)\n",
    "etsxgbclsres=predres(etsxgbcls,data_tstrain,y_real,ets_pr[,1],lengthtest,hh,testindex)\n",
    "etsxgbregres=predres(etsxgbreg,data_tstrain,y_real,ets_pr[,2],lengthtest,hh,testindex)\n",
    "etslgbclsres=predres(etslgbcls,data_tstrain,y_real,ets_pr[,3],lengthtest,hh,testindex)\n",
    "etslgbregres=predres(etslgbreg,data_tstrain,y_real,ets_pr[,4],lengthtest,hh,testindex)"
   ]
  },
  {
   "cell_type": "code",
   "execution_count": 71,
   "id": "a8a741bf",
   "metadata": {},
   "outputs": [],
   "source": [
    "thetafxgbcls=meanpre(predhthetaf,thetaf_pr[,1],hh,testindex)\n",
    "thetafxgbreg=meanpre(predhthetaf,thetaf_pr[,2],hh,testindex)\n",
    "thetaflgbcls=meanpre(predhthetaf,thetaf_pr[,3],hh,testindex)\n",
    "thetaflgbreg=meanpre(predhthetaf,thetaf_pr[,4],hh,testindex)\n",
    "thetafxgbclsres=predres(thetafxgbcls,data_tstrain,y_real,thetaf_pr[,1],lengthtest,hh,testindex)\n",
    "thetafxgbregres=predres(thetafxgbreg,data_tstrain,y_real,thetaf_pr[,2],lengthtest,hh,testindex)\n",
    "thetaflgbclsres=predres(thetaflgbcls,data_tstrain,y_real,thetaf_pr[,3],lengthtest,hh,testindex)\n",
    "thetaflgbregres=predres(thetaflgbreg,data_tstrain,y_real,thetaf_pr[,4],lengthtest,hh,testindex)"
   ]
  },
  {
   "cell_type": "code",
   "execution_count": 72,
   "id": "01191a35",
   "metadata": {},
   "outputs": [
    {
     "data": {
      "text/html": [
       "<style>\n",
       ".list-inline {list-style: none; margin:0; padding: 0}\n",
       ".list-inline>li {display: inline-block}\n",
       ".list-inline>li:not(:last-child)::after {content: \"\\00b7\"; padding: 0 .5ex}\n",
       "</style>\n",
       "<ol class=list-inline><li>1.72462664848902</li><li>2.21238152789548</li><li>1.95747263880141</li><li>1.75836360292446</li><li>1.99853623847232</li><li>1.56542355169424</li></ol>\n"
      ],
      "text/latex": [
       "\\begin{enumerate*}\n",
       "\\item 1.72462664848902\n",
       "\\item 2.21238152789548\n",
       "\\item 1.95747263880141\n",
       "\\item 1.75836360292446\n",
       "\\item 1.99853623847232\n",
       "\\item 1.56542355169424\n",
       "\\end{enumerate*}\n"
      ],
      "text/markdown": [
       "1. 1.72462664848902\n",
       "2. 2.21238152789548\n",
       "3. 1.95747263880141\n",
       "4. 1.75836360292446\n",
       "5. 1.99853623847232\n",
       "6. 1.56542355169424\n",
       "\n",
       "\n"
      ],
      "text/plain": [
       "[1] 1.724627 2.212382 1.957473 1.758364 1.998536 1.565424"
      ]
     },
     "metadata": {},
     "output_type": "display_data"
    },
    {
     "data": {
      "text/html": [
       "<style>\n",
       ".list-inline {list-style: none; margin:0; padding: 0}\n",
       ".list-inline>li {display: inline-block}\n",
       ".list-inline>li:not(:last-child)::after {content: \"\\00b7\"; padding: 0 .5ex}\n",
       "</style>\n",
       "<ol class=list-inline><li>1.69134417802393</li><li>2.31898151453494</li><li>2.04076351795842</li><li>1.72687777791615</li><li>2.0850289987083</li><li>1.51686008367682</li></ol>\n"
      ],
      "text/latex": [
       "\\begin{enumerate*}\n",
       "\\item 1.69134417802393\n",
       "\\item 2.31898151453494\n",
       "\\item 2.04076351795842\n",
       "\\item 1.72687777791615\n",
       "\\item 2.0850289987083\n",
       "\\item 1.51686008367682\n",
       "\\end{enumerate*}\n"
      ],
      "text/markdown": [
       "1. 1.69134417802393\n",
       "2. 2.31898151453494\n",
       "3. 2.04076351795842\n",
       "4. 1.72687777791615\n",
       "5. 2.0850289987083\n",
       "6. 1.51686008367682\n",
       "\n",
       "\n"
      ],
      "text/plain": [
       "[1] 1.691344 2.318982 2.040764 1.726878 2.085029 1.516860"
      ]
     },
     "metadata": {},
     "output_type": "display_data"
    },
    {
     "data": {
      "text/html": [
       "<style>\n",
       ".list-inline {list-style: none; margin:0; padding: 0}\n",
       ".list-inline>li {display: inline-block}\n",
       ".list-inline>li:not(:last-child)::after {content: \"\\00b7\"; padding: 0 .5ex}\n",
       "</style>\n",
       "<ol class=list-inline><li>1.7317423319577</li><li>2.3142137730085</li><li>2.03291579872625</li><li>1.76766029564918</li><li>2.07761110961672</li><li>1.54527436525182</li></ol>\n"
      ],
      "text/latex": [
       "\\begin{enumerate*}\n",
       "\\item 1.7317423319577\n",
       "\\item 2.3142137730085\n",
       "\\item 2.03291579872625\n",
       "\\item 1.76766029564918\n",
       "\\item 2.07761110961672\n",
       "\\item 1.54527436525182\n",
       "\\end{enumerate*}\n"
      ],
      "text/markdown": [
       "1. 1.7317423319577\n",
       "2. 2.3142137730085\n",
       "3. 2.03291579872625\n",
       "4. 1.76766029564918\n",
       "5. 2.07761110961672\n",
       "6. 1.54527436525182\n",
       "\n",
       "\n"
      ],
      "text/plain": [
       "[1] 1.731742 2.314214 2.032916 1.767660 2.077611 1.545274"
      ]
     },
     "metadata": {},
     "output_type": "display_data"
    },
    {
     "data": {
      "text/html": [
       "<style>\n",
       ".list-inline {list-style: none; margin:0; padding: 0}\n",
       ".list-inline>li {display: inline-block}\n",
       ".list-inline>li:not(:last-child)::after {content: \"\\00b7\"; padding: 0 .5ex}\n",
       "</style>\n",
       "<ol class=list-inline><li>1.6960219382975</li><li>2.29001982191222</li><li>2.01420380944946</li><li>1.73115518599594</li><li>2.05847480437148</li><li>1.50893432815842</li></ol>\n"
      ],
      "text/latex": [
       "\\begin{enumerate*}\n",
       "\\item 1.6960219382975\n",
       "\\item 2.29001982191222\n",
       "\\item 2.01420380944946\n",
       "\\item 1.73115518599594\n",
       "\\item 2.05847480437148\n",
       "\\item 1.50893432815842\n",
       "\\end{enumerate*}\n"
      ],
      "text/markdown": [
       "1. 1.6960219382975\n",
       "2. 2.29001982191222\n",
       "3. 2.01420380944946\n",
       "4. 1.73115518599594\n",
       "5. 2.05847480437148\n",
       "6. 1.50893432815842\n",
       "\n",
       "\n"
      ],
      "text/plain": [
       "[1] 1.696022 2.290020 2.014204 1.731155 2.058475 1.508934"
      ]
     },
     "metadata": {},
     "output_type": "display_data"
    },
    {
     "data": {
      "text/html": [
       "<style>\n",
       ".list-inline {list-style: none; margin:0; padding: 0}\n",
       ".list-inline>li {display: inline-block}\n",
       ".list-inline>li:not(:last-child)::after {content: \"\\00b7\"; padding: 0 .5ex}\n",
       "</style>\n",
       "<ol class=list-inline><li>1.81473200716498</li><li>2.37599854064042</li><li>2.09287408349893</li><li>1.85267949621105</li><li>2.13863914440807</li><li>1.50467926923416</li></ol>\n"
      ],
      "text/latex": [
       "\\begin{enumerate*}\n",
       "\\item 1.81473200716498\n",
       "\\item 2.37599854064042\n",
       "\\item 2.09287408349893\n",
       "\\item 1.85267949621105\n",
       "\\item 2.13863914440807\n",
       "\\item 1.50467926923416\n",
       "\\end{enumerate*}\n"
      ],
      "text/markdown": [
       "1. 1.81473200716498\n",
       "2. 2.37599854064042\n",
       "3. 2.09287408349893\n",
       "4. 1.85267949621105\n",
       "5. 2.13863914440807\n",
       "6. 1.50467926923416\n",
       "\n",
       "\n"
      ],
      "text/plain": [
       "[1] 1.814732 2.375999 2.092874 1.852679 2.138639 1.504679"
      ]
     },
     "metadata": {},
     "output_type": "display_data"
    }
   ],
   "source": [
    "apply(predets[,1,1,],2,mean)\n",
    "apply(etsxgbclsres,2,mean)\n",
    "apply(etsxgbregres,2,mean)\n",
    "apply(etslgbclsres,2,mean)\n",
    "apply(etslgbregres,2,mean)"
   ]
  },
  {
   "cell_type": "code",
   "execution_count": 73,
   "id": "6116d097",
   "metadata": {},
   "outputs": [
    {
     "data": {
      "text/html": [
       "<style>\n",
       ".list-inline {list-style: none; margin:0; padding: 0}\n",
       ".list-inline>li {display: inline-block}\n",
       ".list-inline>li:not(:last-child)::after {content: \"\\00b7\"; padding: 0 .5ex}\n",
       "</style>\n",
       "<ol class=list-inline><li>1.38874020681622</li><li>1.74314646664019</li><li>1.52950933810344</li><li>1.41095150698503</li><li>1.55760250265489</li><li>1.18609633104208</li></ol>\n"
      ],
      "text/latex": [
       "\\begin{enumerate*}\n",
       "\\item 1.38874020681622\n",
       "\\item 1.74314646664019\n",
       "\\item 1.52950933810344\n",
       "\\item 1.41095150698503\n",
       "\\item 1.55760250265489\n",
       "\\item 1.18609633104208\n",
       "\\end{enumerate*}\n"
      ],
      "text/markdown": [
       "1. 1.38874020681622\n",
       "2. 1.74314646664019\n",
       "3. 1.52950933810344\n",
       "4. 1.41095150698503\n",
       "5. 1.55760250265489\n",
       "6. 1.18609633104208\n",
       "\n",
       "\n"
      ],
      "text/plain": [
       "[1] 1.388740 1.743146 1.529509 1.410952 1.557603 1.186096"
      ]
     },
     "metadata": {},
     "output_type": "display_data"
    },
    {
     "data": {
      "text/html": [
       "<style>\n",
       ".list-inline {list-style: none; margin:0; padding: 0}\n",
       ".list-inline>li {display: inline-block}\n",
       ".list-inline>li:not(:last-child)::after {content: \"\\00b7\"; padding: 0 .5ex}\n",
       "</style>\n",
       "<ol class=list-inline><li>1.375817995848</li><li>1.71531292788382</li><li>1.50015533328623</li><li>1.39794596704712</li><li>1.52763408879436</li><li>1.07813105173521</li></ol>\n"
      ],
      "text/latex": [
       "\\begin{enumerate*}\n",
       "\\item 1.375817995848\n",
       "\\item 1.71531292788382\n",
       "\\item 1.50015533328623\n",
       "\\item 1.39794596704712\n",
       "\\item 1.52763408879436\n",
       "\\item 1.07813105173521\n",
       "\\end{enumerate*}\n"
      ],
      "text/markdown": [
       "1. 1.375817995848\n",
       "2. 1.71531292788382\n",
       "3. 1.50015533328623\n",
       "4. 1.39794596704712\n",
       "5. 1.52763408879436\n",
       "6. 1.07813105173521\n",
       "\n",
       "\n"
      ],
      "text/plain": [
       "[1] 1.375818 1.715313 1.500155 1.397946 1.527634 1.078131"
      ]
     },
     "metadata": {},
     "output_type": "display_data"
    },
    {
     "data": {
      "text/html": [
       "<style>\n",
       ".list-inline {list-style: none; margin:0; padding: 0}\n",
       ".list-inline>li {display: inline-block}\n",
       ".list-inline>li:not(:last-child)::after {content: \"\\00b7\"; padding: 0 .5ex}\n",
       "</style>\n",
       "<ol class=list-inline><li>1.39453701817704</li><li>1.7509281003171</li><li>1.53237315538356</li><li>1.41696291833807</li><li>1.56056013060157</li><li>1.17104614740576</li></ol>\n"
      ],
      "text/latex": [
       "\\begin{enumerate*}\n",
       "\\item 1.39453701817704\n",
       "\\item 1.7509281003171\n",
       "\\item 1.53237315538356\n",
       "\\item 1.41696291833807\n",
       "\\item 1.56056013060157\n",
       "\\item 1.17104614740576\n",
       "\\end{enumerate*}\n"
      ],
      "text/markdown": [
       "1. 1.39453701817704\n",
       "2. 1.7509281003171\n",
       "3. 1.53237315538356\n",
       "4. 1.41696291833807\n",
       "5. 1.56056013060157\n",
       "6. 1.17104614740576\n",
       "\n",
       "\n"
      ],
      "text/plain": [
       "[1] 1.394537 1.750928 1.532373 1.416963 1.560560 1.171046"
      ]
     },
     "metadata": {},
     "output_type": "display_data"
    },
    {
     "data": {
      "text/html": [
       "<style>\n",
       ".list-inline {list-style: none; margin:0; padding: 0}\n",
       ".list-inline>li {display: inline-block}\n",
       ".list-inline>li:not(:last-child)::after {content: \"\\00b7\"; padding: 0 .5ex}\n",
       "</style>\n",
       "<ol class=list-inline><li>1.38449734566676</li><li>1.72339974600461</li><li>1.50795691999854</li><li>1.40670154029767</li><li>1.53557229651476</li><li>1.11183448229042</li></ol>\n"
      ],
      "text/latex": [
       "\\begin{enumerate*}\n",
       "\\item 1.38449734566676\n",
       "\\item 1.72339974600461\n",
       "\\item 1.50795691999854\n",
       "\\item 1.40670154029767\n",
       "\\item 1.53557229651476\n",
       "\\item 1.11183448229042\n",
       "\\end{enumerate*}\n"
      ],
      "text/markdown": [
       "1. 1.38449734566676\n",
       "2. 1.72339974600461\n",
       "3. 1.50795691999854\n",
       "4. 1.40670154029767\n",
       "5. 1.53557229651476\n",
       "6. 1.11183448229042\n",
       "\n",
       "\n"
      ],
      "text/plain": [
       "[1] 1.384497 1.723400 1.507957 1.406702 1.535572 1.111834"
      ]
     },
     "metadata": {},
     "output_type": "display_data"
    },
    {
     "data": {
      "text/html": [
       "<style>\n",
       ".list-inline {list-style: none; margin:0; padding: 0}\n",
       ".list-inline>li {display: inline-block}\n",
       ".list-inline>li:not(:last-child)::after {content: \"\\00b7\"; padding: 0 .5ex}\n",
       "</style>\n",
       "<ol class=list-inline><li>1.46548912459571</li><li>1.8041561325505</li><li>1.58409476382688</li><li>1.48966201400278</li><li>1.61341350300478</li><li>1.12301008645439</li></ol>\n"
      ],
      "text/latex": [
       "\\begin{enumerate*}\n",
       "\\item 1.46548912459571\n",
       "\\item 1.8041561325505\n",
       "\\item 1.58409476382688\n",
       "\\item 1.48966201400278\n",
       "\\item 1.61341350300478\n",
       "\\item 1.12301008645439\n",
       "\\end{enumerate*}\n"
      ],
      "text/markdown": [
       "1. 1.46548912459571\n",
       "2. 1.8041561325505\n",
       "3. 1.58409476382688\n",
       "4. 1.48966201400278\n",
       "5. 1.61341350300478\n",
       "6. 1.12301008645439\n",
       "\n",
       "\n"
      ],
      "text/plain": [
       "[1] 1.465489 1.804156 1.584095 1.489662 1.613414 1.123010"
      ]
     },
     "metadata": {},
     "output_type": "display_data"
    }
   ],
   "source": [
    "apply(predthetaf[,1,1,],2,mean)\n",
    "apply(thetafxgbclsres,2,mean)\n",
    "apply(thetafxgbregres,2,mean)\n",
    "apply(thetaflgbclsres,2,mean)\n",
    "apply(thetaflgbregres,2,mean)"
   ]
  },
  {
   "cell_type": "code",
   "execution_count": 75,
   "id": "a23a643f",
   "metadata": {},
   "outputs": [],
   "source": [
    "alltest=matrix(0,10,6)\n",
    "alltest[1,]=apply(predets[,1,1,],2,mean)\n",
    "alltest[2,]=apply(etsxgbclsres,2,mean)\n",
    "alltest[3,]=apply(etsxgbregres,2,mean)\n",
    "alltest[4,]=apply(etslgbclsres,2,mean)\n",
    "alltest[5,]=apply(etslgbregres,2,mean)\n",
    "\n",
    "alltest[6,]=apply(predthetaf[,1,1,],2,mean)\n",
    "alltest[7,]=apply(thetafxgbclsres,2,mean)\n",
    "alltest[8,]=apply(thetafxgbregres,2,mean)\n",
    "alltest[9,]=apply(thetaflgbclsres,2,mean)\n",
    "alltest[10,]=apply(thetaflgbregres,2,mean)"
   ]
  },
  {
   "cell_type": "code",
   "execution_count": 77,
   "id": "e6c72a1c",
   "metadata": {},
   "outputs": [],
   "source": [
    "write.csv(alltest,'Imports_M4_12.csv')"
   ]
  },
  {
   "cell_type": "code",
   "execution_count": null,
   "id": "a2333e85",
   "metadata": {},
   "outputs": [],
   "source": []
  },
  {
   "cell_type": "code",
   "execution_count": null,
   "id": "6be0aa17",
   "metadata": {},
   "outputs": [],
   "source": []
  }
 ],
 "metadata": {
  "kernelspec": {
   "display_name": "R",
   "language": "R",
   "name": "ir"
  },
  "language_info": {
   "codemirror_mode": "r",
   "file_extension": ".r",
   "mimetype": "text/x-r-source",
   "name": "R",
   "pygments_lexer": "r",
   "version": "4.1.2"
  }
 },
 "nbformat": 4,
 "nbformat_minor": 5
}
